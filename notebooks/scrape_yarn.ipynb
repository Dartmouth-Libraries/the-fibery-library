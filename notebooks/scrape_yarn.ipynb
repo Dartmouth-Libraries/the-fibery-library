{
 "cells": [
  {
   "cell_type": "code",
   "execution_count": 19,
   "metadata": {},
   "outputs": [],
   "source": [
    "import pickle\n",
    "\n",
    "from bs4 import BeautifulSoup\n",
    "import numpy as np\n",
    "import requests\n",
    "import skimage"
   ]
  },
  {
   "cell_type": "code",
   "execution_count": 20,
   "metadata": {},
   "outputs": [],
   "source": [
    "page = requests.get('https://www.knitpicks.com/yarn/palette/c/5420132')\n",
    "soup = BeautifulSoup(page.text)"
   ]
  },
  {
   "cell_type": "code",
   "execution_count": 21,
   "metadata": {},
   "outputs": [],
   "source": [
    "def download_image(url):\n",
    "    return skimage.io.imread(url)\n",
    "\n",
    "\n",
    "def get_hex(image):\n",
    "    pass\n",
    "\n",
    "def rgb_to_hex(r, g, b):\n",
    "    return f'#{int(r):02x}{int(g):02x}{int(b):02x}'"
   ]
  },
  {
   "cell_type": "code",
   "execution_count": 24,
   "metadata": {},
   "outputs": [],
   "source": [
    "colors = dict()\n",
    "for img in soup.find('div', {'class': 'cozy-buy-grid'}).find_all('img'):\n",
    "    if img['alt'] == 'SALE' or img['src'].endswith('svg'):\n",
    "        continue\n",
    "    \n",
    "    color_name = img['alt']\n",
    "    image = download_image(img['src'])\n",
    "    color_code = rgb_to_hex(np.median(image[:, :, 0]), np.median(image[:, :, 1]), np.median(image[:, :, 2]))\n",
    "    colors[color_name.strip().lower()] = color_code\n",
    "    "
   ]
  },
  {
   "cell_type": "code",
   "execution_count": 25,
   "metadata": {},
   "outputs": [],
   "source": [
    "with open('../res/yarn_colors.pickle', 'wb') as f:\n",
    "    pickle.dump(colors, f, protocol=pickle.HIGHEST_PROTOCOL)"
   ]
  },
  {
   "cell_type": "code",
   "execution_count": null,
   "metadata": {},
   "outputs": [],
   "source": []
  }
 ],
 "metadata": {
  "kernelspec": {
   "display_name": "Python 3",
   "language": "python",
   "name": "python3"
  },
  "language_info": {
   "codemirror_mode": {
    "name": "ipython",
    "version": 3
   },
   "file_extension": ".py",
   "mimetype": "text/x-python",
   "name": "python",
   "nbconvert_exporter": "python",
   "pygments_lexer": "ipython3",
   "version": "3.10.8"
  },
  "orig_nbformat": 4,
  "vscode": {
   "interpreter": {
    "hash": "aee8b7b246df8f9039afb4144a1f6fd8d2ca17a180786b69acc140d282b71a49"
   }
  }
 },
 "nbformat": 4,
 "nbformat_minor": 2
}
