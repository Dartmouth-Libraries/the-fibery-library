{
 "cells": [
  {
   "attachments": {},
   "cell_type": "markdown",
   "metadata": {},
   "source": [
    "# Library Collection Data"
   ]
  },
  {
   "cell_type": "code",
   "execution_count": null,
   "metadata": {},
   "outputs": [],
   "source": [
    "import pandas as pd\n",
    "\n",
    "collection = pd.read_csv('data/dartmouth-library-collection-lcc.csv',)\n",
    "collection.rename(columns={' COUNT(Physical Item Id)': 'n_titles', \n",
    "                           'Permanent LC Classification Code': 'lcc'},\n",
    "                  inplace=True)\n",
    "collection.drop(columns=['Library Name (Active)'], inplace=True)\n",
    "collection"
   ]
  },
  {
   "cell_type": "code",
   "execution_count": null,
   "metadata": {},
   "outputs": [],
   "source": [
    "collection['main_class'] = collection.lcc.apply(lambda x: x[0] if isinstance(x, str) else None)\n",
    "collection['subclass'] = collection.lcc.apply(lambda x: x[1] if isinstance(x, str) and len(x) > 1 else '_')\n",
    "collection['subsubclass'] = collection.lcc.apply(lambda x: x[2] if isinstance(x, str) and len(x) > 2 else '_')\n",
    "collection.dropna(subset=['main_class', 'subclass'], inplace=True)\n",
    "\n",
    "collection.loc[collection['lcc'] == 'Unknown', ['main_class', 'subclass', 'subsubclass']] = ['Unknown', '_', '_']\n",
    "collection"
   ]
  },
  {
   "cell_type": "code",
   "execution_count": null,
   "metadata": {},
   "outputs": [],
   "source": [
    "import plotly.express as px\n",
    "fig = px.treemap(collection, \n",
    "                 path=['main_class', 'subclass', 'subsubclass'], \n",
    "                 values='n_titles',\n",
    "                )\n",
    "fig.show()"
   ]
  },
  {
   "cell_type": "code",
   "execution_count": null,
   "metadata": {},
   "outputs": [],
   "source": [
    "collection.groupby(by=['main_class', 'subclass']).n_titles.sum().unstack().plot.bar(stacked=True, legend=False)"
   ]
  },
  {
   "cell_type": "code",
   "execution_count": null,
   "metadata": {},
   "outputs": [],
   "source": [
    "import colorsys\n",
    "\n",
    "import matplotlib.colors\n",
    "\n",
    "base_color = {\n",
    "    '_': \"#000000\",\n",
    "    'A': \"#E5F5F9\",\n",
    "    'B': \"#1D91C0\",\n",
    "    'C': \"#67001F\",\n",
    "    'D': \"#F7FCFD\",\n",
    "    'E': \"#CB181D\",\n",
    "    'F': \"#78C679\",\n",
    "    'G': \"#F46D43\",\n",
    "    'H': \"#A6CEE3\",\n",
    "    'I': \"#FD8D3C\",\n",
    "    'J': \"#A6D854\",\n",
    "    'K': \"#D4B9DA\",\n",
    "    'L': \"#6A51A3\",\n",
    "    'M': \"#7F0000\",\n",
    "    'N': \"#D9D9D9\",\n",
    "    'O': \"#FFF7BC\",\n",
    "    'P': \"#000000\",\n",
    "    'Q': \"#F0F0F0\",\n",
    "    'R': \"#C7EAE5\",\n",
    "    'S': \"#003C30\",\n",
    "    'T': \"#F16913\",\n",
    "    'U': \"#FFF7FB\",\n",
    "    'V': \"#8C6BB1\",\n",
    "    'W': \"#C7E9B4\",\n",
    "    'X': \"#762A83\",\n",
    "    'Y': \"#FC9272\",\n",
    "    'Z': \"#AE017E\"\n",
    "}\n",
    "\n",
    "def get_shade(idx):\n",
    "    base, shade = idx.split('-')\n",
    "    h, s, v = colorsys.rgb_to_hsv(*matplotlib.colors.to_rgb(base_color[base]))\n",
    "    v += (ord(shade)-65) * .03\n",
    "    v = max(0, v)\n",
    "    v = min(1, v)\n",
    "    return colorsys.hsv_to_rgb(h, s, v)\n",
    "\n",
    "\n",
    "colors = [get_shade(col) for _, col in collection.columns] "
   ]
  },
  {
   "cell_type": "code",
   "execution_count": null,
   "metadata": {},
   "outputs": [],
   "source": [
    "collection.plot.bar(stacked=True, color=colors, legend=False)"
   ]
  },
  {
   "cell_type": "code",
   "execution_count": null,
   "metadata": {},
   "outputs": [],
   "source": []
  },
  {
   "cell_type": "code",
   "execution_count": null,
   "metadata": {},
   "outputs": [],
   "source": []
  }
 ],
 "metadata": {
  "kernelspec": {
   "display_name": "Python 3",
   "language": "python",
   "name": "python3"
  },
  "language_info": {
   "codemirror_mode": {
    "name": "ipython",
    "version": 3
   },
   "file_extension": ".py",
   "mimetype": "text/x-python",
   "name": "python",
   "nbconvert_exporter": "python",
   "pygments_lexer": "ipython3",
   "version": "3.10.8 (v3.10.8:aaaf517424, Oct 11 2022, 10:14:40) [Clang 13.0.0 (clang-1300.0.29.30)]"
  },
  "orig_nbformat": 4,
  "vscode": {
   "interpreter": {
    "hash": "aee8b7b246df8f9039afb4144a1f6fd8d2ca17a180786b69acc140d282b71a49"
   }
  }
 },
 "nbformat": 4,
 "nbformat_minor": 2
}
