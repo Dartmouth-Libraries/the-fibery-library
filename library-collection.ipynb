{
 "cells": [
  {
   "attachments": {},
   "cell_type": "markdown",
   "metadata": {},
   "source": [
    "# Library Collection Data"
   ]
  },
  {
   "cell_type": "code",
   "execution_count": 49,
   "metadata": {},
   "outputs": [],
   "source": [
    "import pandas as pd\n",
    "\n",
    "collection = pd.read_csv('data/dartmouth-library-collection.csv', na_values='Unknown', dtype=str).dropna(subset='Dewey Classification Top Line')\n",
    "collection['Num of Titles (Active)'] = collection['Num of Titles (Active)'].astype('int')"
   ]
  },
  {
   "cell_type": "code",
   "execution_count": null,
   "metadata": {},
   "outputs": [],
   "source": []
  },
  {
   "cell_type": "code",
   "execution_count": 50,
   "metadata": {},
   "outputs": [
    {
     "data": {
      "text/html": [
       "<div>\n",
       "<style scoped>\n",
       "    .dataframe tbody tr th:only-of-type {\n",
       "        vertical-align: middle;\n",
       "    }\n",
       "\n",
       "    .dataframe tbody tr th {\n",
       "        vertical-align: top;\n",
       "    }\n",
       "\n",
       "    .dataframe thead th {\n",
       "        text-align: right;\n",
       "    }\n",
       "</style>\n",
       "<table border=\"1\" class=\"dataframe\">\n",
       "  <thead>\n",
       "    <tr style=\"text-align: right;\">\n",
       "      <th></th>\n",
       "      <th>Dewey Classification Top Line</th>\n",
       "      <th>Num of Titles (Active)</th>\n",
       "      <th>top</th>\n",
       "      <th>mid</th>\n",
       "      <th>bot</th>\n",
       "    </tr>\n",
       "  </thead>\n",
       "  <tbody>\n",
       "    <tr>\n",
       "      <th>0</th>\n",
       "      <td>000</td>\n",
       "      <td>62</td>\n",
       "      <td>0</td>\n",
       "      <td>0</td>\n",
       "      <td>0</td>\n",
       "    </tr>\n",
       "    <tr>\n",
       "      <th>1</th>\n",
       "      <td>001</td>\n",
       "      <td>1637</td>\n",
       "      <td>0</td>\n",
       "      <td>0</td>\n",
       "      <td>1</td>\n",
       "    </tr>\n",
       "    <tr>\n",
       "      <th>2</th>\n",
       "      <td>002</td>\n",
       "      <td>177</td>\n",
       "      <td>0</td>\n",
       "      <td>0</td>\n",
       "      <td>2</td>\n",
       "    </tr>\n",
       "    <tr>\n",
       "      <th>3</th>\n",
       "      <td>003</td>\n",
       "      <td>981</td>\n",
       "      <td>0</td>\n",
       "      <td>0</td>\n",
       "      <td>3</td>\n",
       "    </tr>\n",
       "    <tr>\n",
       "      <th>4</th>\n",
       "      <td>004</td>\n",
       "      <td>10376</td>\n",
       "      <td>0</td>\n",
       "      <td>0</td>\n",
       "      <td>4</td>\n",
       "    </tr>\n",
       "    <tr>\n",
       "      <th>...</th>\n",
       "      <td>...</td>\n",
       "      <td>...</td>\n",
       "      <td>...</td>\n",
       "      <td>...</td>\n",
       "      <td>...</td>\n",
       "    </tr>\n",
       "    <tr>\n",
       "      <th>972</th>\n",
       "      <td>995</td>\n",
       "      <td>65</td>\n",
       "      <td>9</td>\n",
       "      <td>9</td>\n",
       "      <td>5</td>\n",
       "    </tr>\n",
       "    <tr>\n",
       "      <th>973</th>\n",
       "      <td>996</td>\n",
       "      <td>150</td>\n",
       "      <td>9</td>\n",
       "      <td>9</td>\n",
       "      <td>6</td>\n",
       "    </tr>\n",
       "    <tr>\n",
       "      <th>974</th>\n",
       "      <td>997</td>\n",
       "      <td>7</td>\n",
       "      <td>9</td>\n",
       "      <td>9</td>\n",
       "      <td>7</td>\n",
       "    </tr>\n",
       "    <tr>\n",
       "      <th>975</th>\n",
       "      <td>998</td>\n",
       "      <td>14</td>\n",
       "      <td>9</td>\n",
       "      <td>9</td>\n",
       "      <td>8</td>\n",
       "    </tr>\n",
       "    <tr>\n",
       "      <th>976</th>\n",
       "      <td>999</td>\n",
       "      <td>2</td>\n",
       "      <td>9</td>\n",
       "      <td>9</td>\n",
       "      <td>9</td>\n",
       "    </tr>\n",
       "  </tbody>\n",
       "</table>\n",
       "<p>977 rows × 5 columns</p>\n",
       "</div>"
      ],
      "text/plain": [
       "    Dewey Classification Top Line  Num of Titles (Active) top mid bot\n",
       "0                             000                      62   0   0   0\n",
       "1                             001                    1637   0   0   1\n",
       "2                             002                     177   0   0   2\n",
       "3                             003                     981   0   0   3\n",
       "4                             004                   10376   0   0   4\n",
       "..                            ...                     ...  ..  ..  ..\n",
       "972                           995                      65   9   9   5\n",
       "973                           996                     150   9   9   6\n",
       "974                           997                       7   9   9   7\n",
       "975                           998                      14   9   9   8\n",
       "976                           999                       2   9   9   9\n",
       "\n",
       "[977 rows x 5 columns]"
      ]
     },
     "execution_count": 50,
     "metadata": {},
     "output_type": "execute_result"
    }
   ],
   "source": [
    "items_per_dewey = collection.groupby('Dewey Classification Top Line').sum(numeric_only=True)\n",
    "items_per_dewey.reset_index(inplace=True)\n",
    "items_per_dewey['top'] = items_per_dewey['Dewey Classification Top Line'].apply(lambda x: x[0])\n",
    "items_per_dewey['mid'] = items_per_dewey['Dewey Classification Top Line'].apply(lambda x: x[1])\n",
    "items_per_dewey['bot'] = items_per_dewey['Dewey Classification Top Line'].apply(lambda x: x[2])\n",
    "items_per_dewey"
   ]
  },
  {
   "cell_type": "code",
   "execution_count": 51,
   "metadata": {},
   "outputs": [
    {
     "data": {
      "application/vnd.plotly.v1+json": {
       "config": {
        "plotlyServerURL": "https://plot.ly"
       },
       "data": [
        {
         "branchvalues": "total",
         "domain": {
          "x": [
           0,
           1
          ],
          "y": [
           0,
           1
          ]
         },
         "hovertemplate": "labels=%{label}<br>Num of Titles (Active)=%{value}<br>parent=%{parent}<br>id=%{id}<extra></extra>",
         "ids": [
          "0/0",
          "1/0",
          "2/0",
          "3/0",
          "4/0",
          "5/0",
          "6/0",
          "7/0",
          "8/0",
          "9/0",
          "0/1",
          "1/1",
          "2/1",
          "3/1",
          "4/1",
          "5/1",
          "6/1",
          "7/1",
          "8/1",
          "9/1",
          "0/2",
          "1/2",
          "2/2",
          "3/2",
          "4/2",
          "5/2",
          "6/2",
          "7/2",
          "8/2",
          "9/2",
          "0/3",
          "1/3",
          "2/3",
          "3/3",
          "4/3",
          "5/3",
          "6/3",
          "7/3",
          "8/3",
          "9/3",
          "0/4",
          "1/4",
          "2/4",
          "3/4",
          "4/4",
          "5/4",
          "6/4",
          "7/4",
          "8/4",
          "9/4",
          "0/5",
          "1/5",
          "2/5",
          "3/5",
          "4/5",
          "5/5",
          "6/5",
          "7/5",
          "8/5",
          "9/5",
          "0/6",
          "1/6",
          "2/6",
          "3/6",
          "4/6",
          "5/6",
          "6/6",
          "7/6",
          "8/6",
          "9/6",
          "0/7",
          "1/7",
          "2/7",
          "3/7",
          "4/7",
          "5/7",
          "6/7",
          "7/7",
          "8/7",
          "9/7",
          "0/8",
          "1/8",
          "2/8",
          "3/8",
          "4/8",
          "5/8",
          "6/8",
          "7/8",
          "8/8",
          "9/8",
          "0/9",
          "1/9",
          "2/9",
          "3/9",
          "4/9",
          "5/9",
          "6/9",
          "7/9",
          "8/9",
          "9/9",
          "0",
          "1",
          "2",
          "3",
          "4",
          "5",
          "6",
          "7",
          "8",
          "9"
         ],
         "labels": [
          "0",
          "0",
          "0",
          "0",
          "0",
          "0",
          "0",
          "0",
          "0",
          "0",
          "1",
          "1",
          "1",
          "1",
          "1",
          "1",
          "1",
          "1",
          "1",
          "1",
          "2",
          "2",
          "2",
          "2",
          "2",
          "2",
          "2",
          "2",
          "2",
          "2",
          "3",
          "3",
          "3",
          "3",
          "3",
          "3",
          "3",
          "3",
          "3",
          "3",
          "4",
          "4",
          "4",
          "4",
          "4",
          "4",
          "4",
          "4",
          "4",
          "4",
          "5",
          "5",
          "5",
          "5",
          "5",
          "5",
          "5",
          "5",
          "5",
          "5",
          "6",
          "6",
          "6",
          "6",
          "6",
          "6",
          "6",
          "6",
          "6",
          "6",
          "7",
          "7",
          "7",
          "7",
          "7",
          "7",
          "7",
          "7",
          "7",
          "7",
          "8",
          "8",
          "8",
          "8",
          "8",
          "8",
          "8",
          "8",
          "8",
          "8",
          "9",
          "9",
          "9",
          "9",
          "9",
          "9",
          "9",
          "9",
          "9",
          "9",
          "0",
          "1",
          "2",
          "3",
          "4",
          "5",
          "6",
          "7",
          "8",
          "9"
         ],
         "name": "",
         "parents": [
          "0",
          "1",
          "2",
          "3",
          "4",
          "5",
          "6",
          "7",
          "8",
          "9",
          "0",
          "1",
          "2",
          "3",
          "4",
          "5",
          "6",
          "7",
          "8",
          "9",
          "0",
          "1",
          "2",
          "3",
          "4",
          "5",
          "6",
          "7",
          "8",
          "9",
          "0",
          "1",
          "2",
          "3",
          "4",
          "5",
          "6",
          "7",
          "8",
          "9",
          "0",
          "1",
          "2",
          "3",
          "4",
          "5",
          "6",
          "7",
          "8",
          "9",
          "0",
          "1",
          "2",
          "3",
          "4",
          "5",
          "6",
          "7",
          "8",
          "9",
          "0",
          "1",
          "2",
          "3",
          "4",
          "5",
          "6",
          "7",
          "8",
          "9",
          "0",
          "1",
          "2",
          "3",
          "4",
          "5",
          "6",
          "7",
          "8",
          "9",
          "0",
          "1",
          "2",
          "3",
          "4",
          "5",
          "6",
          "7",
          "8",
          "9",
          "0",
          "1",
          "2",
          "3",
          "4",
          "5",
          "6",
          "7",
          "8",
          "9",
          "",
          "",
          "",
          "",
          "",
          "",
          "",
          "",
          "",
          ""
         ],
         "type": "treemap",
         "values": [
          38644,
          851,
          2356,
          39973,
          2442,
          2721,
          573,
          6419,
          8672,
          2532,
          1421,
          1577,
          705,
          144,
          4905,
          10735,
          28542,
          481,
          14896,
          2948,
          3066,
          2945,
          4404,
          21596,
          1723,
          2862,
          24965,
          3108,
          10763,
          1118,
          88,
          656,
          3523,
          37504,
          1589,
          10370,
          3464,
          824,
          4335,
          4156,
          1,
          1026,
          1274,
          20058,
          655,
          8163,
          1536,
          2310,
          3387,
          11415,
          611,
          6390,
          624,
          7419,
          167,
          3622,
          17844,
          1437,
          927,
          5204,
          424,
          432,
          2819,
          20600,
          496,
          383,
          4181,
          247,
          5050,
          1402,
          5422,
          4199,
          2524,
          14203,
          194,
          7309,
          1135,
          2190,
          1234,
          15511,
          227,
          1989,
          2294,
          4525,
          340,
          1090,
          883,
          6527,
          1645,
          1571,
          152,
          4736,
          5823,
          2482,
          2420,
          3044,
          724,
          11557,
          3949,
          444,
          50056,
          24801,
          26346,
          168504,
          14931,
          50299,
          83847,
          35100,
          54858,
          46301
         ]
        }
       ],
       "layout": {
        "legend": {
         "tracegroupgap": 0
        },
        "margin": {
         "t": 60
        },
        "template": {
         "data": {
          "bar": [
           {
            "error_x": {
             "color": "#2a3f5f"
            },
            "error_y": {
             "color": "#2a3f5f"
            },
            "marker": {
             "line": {
              "color": "#E5ECF6",
              "width": 0.5
             },
             "pattern": {
              "fillmode": "overlay",
              "size": 10,
              "solidity": 0.2
             }
            },
            "type": "bar"
           }
          ],
          "barpolar": [
           {
            "marker": {
             "line": {
              "color": "#E5ECF6",
              "width": 0.5
             },
             "pattern": {
              "fillmode": "overlay",
              "size": 10,
              "solidity": 0.2
             }
            },
            "type": "barpolar"
           }
          ],
          "carpet": [
           {
            "aaxis": {
             "endlinecolor": "#2a3f5f",
             "gridcolor": "white",
             "linecolor": "white",
             "minorgridcolor": "white",
             "startlinecolor": "#2a3f5f"
            },
            "baxis": {
             "endlinecolor": "#2a3f5f",
             "gridcolor": "white",
             "linecolor": "white",
             "minorgridcolor": "white",
             "startlinecolor": "#2a3f5f"
            },
            "type": "carpet"
           }
          ],
          "choropleth": [
           {
            "colorbar": {
             "outlinewidth": 0,
             "ticks": ""
            },
            "type": "choropleth"
           }
          ],
          "contour": [
           {
            "colorbar": {
             "outlinewidth": 0,
             "ticks": ""
            },
            "colorscale": [
             [
              0,
              "#0d0887"
             ],
             [
              0.1111111111111111,
              "#46039f"
             ],
             [
              0.2222222222222222,
              "#7201a8"
             ],
             [
              0.3333333333333333,
              "#9c179e"
             ],
             [
              0.4444444444444444,
              "#bd3786"
             ],
             [
              0.5555555555555556,
              "#d8576b"
             ],
             [
              0.6666666666666666,
              "#ed7953"
             ],
             [
              0.7777777777777778,
              "#fb9f3a"
             ],
             [
              0.8888888888888888,
              "#fdca26"
             ],
             [
              1,
              "#f0f921"
             ]
            ],
            "type": "contour"
           }
          ],
          "contourcarpet": [
           {
            "colorbar": {
             "outlinewidth": 0,
             "ticks": ""
            },
            "type": "contourcarpet"
           }
          ],
          "heatmap": [
           {
            "colorbar": {
             "outlinewidth": 0,
             "ticks": ""
            },
            "colorscale": [
             [
              0,
              "#0d0887"
             ],
             [
              0.1111111111111111,
              "#46039f"
             ],
             [
              0.2222222222222222,
              "#7201a8"
             ],
             [
              0.3333333333333333,
              "#9c179e"
             ],
             [
              0.4444444444444444,
              "#bd3786"
             ],
             [
              0.5555555555555556,
              "#d8576b"
             ],
             [
              0.6666666666666666,
              "#ed7953"
             ],
             [
              0.7777777777777778,
              "#fb9f3a"
             ],
             [
              0.8888888888888888,
              "#fdca26"
             ],
             [
              1,
              "#f0f921"
             ]
            ],
            "type": "heatmap"
           }
          ],
          "heatmapgl": [
           {
            "colorbar": {
             "outlinewidth": 0,
             "ticks": ""
            },
            "colorscale": [
             [
              0,
              "#0d0887"
             ],
             [
              0.1111111111111111,
              "#46039f"
             ],
             [
              0.2222222222222222,
              "#7201a8"
             ],
             [
              0.3333333333333333,
              "#9c179e"
             ],
             [
              0.4444444444444444,
              "#bd3786"
             ],
             [
              0.5555555555555556,
              "#d8576b"
             ],
             [
              0.6666666666666666,
              "#ed7953"
             ],
             [
              0.7777777777777778,
              "#fb9f3a"
             ],
             [
              0.8888888888888888,
              "#fdca26"
             ],
             [
              1,
              "#f0f921"
             ]
            ],
            "type": "heatmapgl"
           }
          ],
          "histogram": [
           {
            "marker": {
             "pattern": {
              "fillmode": "overlay",
              "size": 10,
              "solidity": 0.2
             }
            },
            "type": "histogram"
           }
          ],
          "histogram2d": [
           {
            "colorbar": {
             "outlinewidth": 0,
             "ticks": ""
            },
            "colorscale": [
             [
              0,
              "#0d0887"
             ],
             [
              0.1111111111111111,
              "#46039f"
             ],
             [
              0.2222222222222222,
              "#7201a8"
             ],
             [
              0.3333333333333333,
              "#9c179e"
             ],
             [
              0.4444444444444444,
              "#bd3786"
             ],
             [
              0.5555555555555556,
              "#d8576b"
             ],
             [
              0.6666666666666666,
              "#ed7953"
             ],
             [
              0.7777777777777778,
              "#fb9f3a"
             ],
             [
              0.8888888888888888,
              "#fdca26"
             ],
             [
              1,
              "#f0f921"
             ]
            ],
            "type": "histogram2d"
           }
          ],
          "histogram2dcontour": [
           {
            "colorbar": {
             "outlinewidth": 0,
             "ticks": ""
            },
            "colorscale": [
             [
              0,
              "#0d0887"
             ],
             [
              0.1111111111111111,
              "#46039f"
             ],
             [
              0.2222222222222222,
              "#7201a8"
             ],
             [
              0.3333333333333333,
              "#9c179e"
             ],
             [
              0.4444444444444444,
              "#bd3786"
             ],
             [
              0.5555555555555556,
              "#d8576b"
             ],
             [
              0.6666666666666666,
              "#ed7953"
             ],
             [
              0.7777777777777778,
              "#fb9f3a"
             ],
             [
              0.8888888888888888,
              "#fdca26"
             ],
             [
              1,
              "#f0f921"
             ]
            ],
            "type": "histogram2dcontour"
           }
          ],
          "mesh3d": [
           {
            "colorbar": {
             "outlinewidth": 0,
             "ticks": ""
            },
            "type": "mesh3d"
           }
          ],
          "parcoords": [
           {
            "line": {
             "colorbar": {
              "outlinewidth": 0,
              "ticks": ""
             }
            },
            "type": "parcoords"
           }
          ],
          "pie": [
           {
            "automargin": true,
            "type": "pie"
           }
          ],
          "scatter": [
           {
            "fillpattern": {
             "fillmode": "overlay",
             "size": 10,
             "solidity": 0.2
            },
            "type": "scatter"
           }
          ],
          "scatter3d": [
           {
            "line": {
             "colorbar": {
              "outlinewidth": 0,
              "ticks": ""
             }
            },
            "marker": {
             "colorbar": {
              "outlinewidth": 0,
              "ticks": ""
             }
            },
            "type": "scatter3d"
           }
          ],
          "scattercarpet": [
           {
            "marker": {
             "colorbar": {
              "outlinewidth": 0,
              "ticks": ""
             }
            },
            "type": "scattercarpet"
           }
          ],
          "scattergeo": [
           {
            "marker": {
             "colorbar": {
              "outlinewidth": 0,
              "ticks": ""
             }
            },
            "type": "scattergeo"
           }
          ],
          "scattergl": [
           {
            "marker": {
             "colorbar": {
              "outlinewidth": 0,
              "ticks": ""
             }
            },
            "type": "scattergl"
           }
          ],
          "scattermapbox": [
           {
            "marker": {
             "colorbar": {
              "outlinewidth": 0,
              "ticks": ""
             }
            },
            "type": "scattermapbox"
           }
          ],
          "scatterpolar": [
           {
            "marker": {
             "colorbar": {
              "outlinewidth": 0,
              "ticks": ""
             }
            },
            "type": "scatterpolar"
           }
          ],
          "scatterpolargl": [
           {
            "marker": {
             "colorbar": {
              "outlinewidth": 0,
              "ticks": ""
             }
            },
            "type": "scatterpolargl"
           }
          ],
          "scatterternary": [
           {
            "marker": {
             "colorbar": {
              "outlinewidth": 0,
              "ticks": ""
             }
            },
            "type": "scatterternary"
           }
          ],
          "surface": [
           {
            "colorbar": {
             "outlinewidth": 0,
             "ticks": ""
            },
            "colorscale": [
             [
              0,
              "#0d0887"
             ],
             [
              0.1111111111111111,
              "#46039f"
             ],
             [
              0.2222222222222222,
              "#7201a8"
             ],
             [
              0.3333333333333333,
              "#9c179e"
             ],
             [
              0.4444444444444444,
              "#bd3786"
             ],
             [
              0.5555555555555556,
              "#d8576b"
             ],
             [
              0.6666666666666666,
              "#ed7953"
             ],
             [
              0.7777777777777778,
              "#fb9f3a"
             ],
             [
              0.8888888888888888,
              "#fdca26"
             ],
             [
              1,
              "#f0f921"
             ]
            ],
            "type": "surface"
           }
          ],
          "table": [
           {
            "cells": {
             "fill": {
              "color": "#EBF0F8"
             },
             "line": {
              "color": "white"
             }
            },
            "header": {
             "fill": {
              "color": "#C8D4E3"
             },
             "line": {
              "color": "white"
             }
            },
            "type": "table"
           }
          ]
         },
         "layout": {
          "annotationdefaults": {
           "arrowcolor": "#2a3f5f",
           "arrowhead": 0,
           "arrowwidth": 1
          },
          "autotypenumbers": "strict",
          "coloraxis": {
           "colorbar": {
            "outlinewidth": 0,
            "ticks": ""
           }
          },
          "colorscale": {
           "diverging": [
            [
             0,
             "#8e0152"
            ],
            [
             0.1,
             "#c51b7d"
            ],
            [
             0.2,
             "#de77ae"
            ],
            [
             0.3,
             "#f1b6da"
            ],
            [
             0.4,
             "#fde0ef"
            ],
            [
             0.5,
             "#f7f7f7"
            ],
            [
             0.6,
             "#e6f5d0"
            ],
            [
             0.7,
             "#b8e186"
            ],
            [
             0.8,
             "#7fbc41"
            ],
            [
             0.9,
             "#4d9221"
            ],
            [
             1,
             "#276419"
            ]
           ],
           "sequential": [
            [
             0,
             "#0d0887"
            ],
            [
             0.1111111111111111,
             "#46039f"
            ],
            [
             0.2222222222222222,
             "#7201a8"
            ],
            [
             0.3333333333333333,
             "#9c179e"
            ],
            [
             0.4444444444444444,
             "#bd3786"
            ],
            [
             0.5555555555555556,
             "#d8576b"
            ],
            [
             0.6666666666666666,
             "#ed7953"
            ],
            [
             0.7777777777777778,
             "#fb9f3a"
            ],
            [
             0.8888888888888888,
             "#fdca26"
            ],
            [
             1,
             "#f0f921"
            ]
           ],
           "sequentialminus": [
            [
             0,
             "#0d0887"
            ],
            [
             0.1111111111111111,
             "#46039f"
            ],
            [
             0.2222222222222222,
             "#7201a8"
            ],
            [
             0.3333333333333333,
             "#9c179e"
            ],
            [
             0.4444444444444444,
             "#bd3786"
            ],
            [
             0.5555555555555556,
             "#d8576b"
            ],
            [
             0.6666666666666666,
             "#ed7953"
            ],
            [
             0.7777777777777778,
             "#fb9f3a"
            ],
            [
             0.8888888888888888,
             "#fdca26"
            ],
            [
             1,
             "#f0f921"
            ]
           ]
          },
          "colorway": [
           "#636efa",
           "#EF553B",
           "#00cc96",
           "#ab63fa",
           "#FFA15A",
           "#19d3f3",
           "#FF6692",
           "#B6E880",
           "#FF97FF",
           "#FECB52"
          ],
          "font": {
           "color": "#2a3f5f"
          },
          "geo": {
           "bgcolor": "white",
           "lakecolor": "white",
           "landcolor": "#E5ECF6",
           "showlakes": true,
           "showland": true,
           "subunitcolor": "white"
          },
          "hoverlabel": {
           "align": "left"
          },
          "hovermode": "closest",
          "mapbox": {
           "style": "light"
          },
          "paper_bgcolor": "white",
          "plot_bgcolor": "#E5ECF6",
          "polar": {
           "angularaxis": {
            "gridcolor": "white",
            "linecolor": "white",
            "ticks": ""
           },
           "bgcolor": "#E5ECF6",
           "radialaxis": {
            "gridcolor": "white",
            "linecolor": "white",
            "ticks": ""
           }
          },
          "scene": {
           "xaxis": {
            "backgroundcolor": "#E5ECF6",
            "gridcolor": "white",
            "gridwidth": 2,
            "linecolor": "white",
            "showbackground": true,
            "ticks": "",
            "zerolinecolor": "white"
           },
           "yaxis": {
            "backgroundcolor": "#E5ECF6",
            "gridcolor": "white",
            "gridwidth": 2,
            "linecolor": "white",
            "showbackground": true,
            "ticks": "",
            "zerolinecolor": "white"
           },
           "zaxis": {
            "backgroundcolor": "#E5ECF6",
            "gridcolor": "white",
            "gridwidth": 2,
            "linecolor": "white",
            "showbackground": true,
            "ticks": "",
            "zerolinecolor": "white"
           }
          },
          "shapedefaults": {
           "line": {
            "color": "#2a3f5f"
           }
          },
          "ternary": {
           "aaxis": {
            "gridcolor": "white",
            "linecolor": "white",
            "ticks": ""
           },
           "baxis": {
            "gridcolor": "white",
            "linecolor": "white",
            "ticks": ""
           },
           "bgcolor": "#E5ECF6",
           "caxis": {
            "gridcolor": "white",
            "linecolor": "white",
            "ticks": ""
           }
          },
          "title": {
           "x": 0.05
          },
          "xaxis": {
           "automargin": true,
           "gridcolor": "white",
           "linecolor": "white",
           "ticks": "",
           "title": {
            "standoff": 15
           },
           "zerolinecolor": "white",
           "zerolinewidth": 2
          },
          "yaxis": {
           "automargin": true,
           "gridcolor": "white",
           "linecolor": "white",
           "ticks": "",
           "title": {
            "standoff": 15
           },
           "zerolinecolor": "white",
           "zerolinewidth": 2
          }
         }
        }
       }
      }
     },
     "metadata": {},
     "output_type": "display_data"
    }
   ],
   "source": [
    "import plotly.express as px\n",
    "fig = px.treemap(items_per_dewey, \n",
    "                 path=['top', 'mid'], \n",
    "                 values='Num of Titles (Active)',\n",
    "                )\n",
    "fig.show()"
   ]
  },
  {
   "cell_type": "code",
   "execution_count": 52,
   "metadata": {},
   "outputs": [
    {
     "data": {
      "text/plain": [
       "<AxesSubplot: xlabel='top'>"
      ]
     },
     "execution_count": 52,
     "metadata": {},
     "output_type": "execute_result"
    },
    {
     "data": {
      "image/svg+xml": "<?xml version=\"1.0\" encoding=\"utf-8\" standalone=\"no\"?>\n<!DOCTYPE svg PUBLIC \"-//W3C//DTD SVG 1.1//EN\"\n  \"http://www.w3.org/Graphics/SVG/1.1/DTD/svg11.dtd\">\n<svg xmlns:xlink=\"http://www.w3.org/1999/xlink\" width=\"416.695pt\" height=\"307.552625pt\" viewBox=\"0 0 416.695 307.552625\" xmlns=\"http://www.w3.org/2000/svg\" version=\"1.1\">\n <metadata>\n  <rdf:RDF xmlns:dc=\"http://purl.org/dc/elements/1.1/\" xmlns:cc=\"http://creativecommons.org/ns#\" xmlns:rdf=\"http://www.w3.org/1999/02/22-rdf-syntax-ns#\">\n   <cc:Work>\n    <dc:type rdf:resource=\"http://purl.org/dc/dcmitype/StillImage\"/>\n    <dc:date>2023-01-06T16:39:03.726172</dc:date>\n    <dc:format>image/svg+xml</dc:format>\n    <dc:creator>\n     <cc:Agent>\n      <dc:title>Matplotlib v3.6.0, https://matplotlib.org/</dc:title>\n     </cc:Agent>\n    </dc:creator>\n   </cc:Work>\n  </rdf:RDF>\n </metadata>\n <defs>\n  <style type=\"text/css\">*{stroke-linejoin: round; stroke-linecap: butt}</style>\n </defs>\n <g id=\"figure_1\">\n  <g id=\"patch_1\">\n   <path d=\"M 0 307.552625 \nL 416.695 307.552625 \nL 416.695 0 \nL 0 0 \nz\n\" style=\"fill: #ffffff\"/>\n  </g>\n  <g id=\"axes_1\">\n   <g id=\"patch_2\">\n    <path d=\"M 52.375 273.312 \nL 409.495 273.312 \nL 409.495 7.2 \nL 52.375 7.2 \nz\n\" style=\"fill: #ffffff\"/>\n   </g>\n   <g id=\"patch_3\">\n    <path d=\"M 61.303 273.312 \nL 79.159 273.312 \nL 79.159 215.189134 \nL 61.303 215.189134 \nz\n\" clip-path=\"url(#pd1c02ddd6c)\" style=\"fill: #1f77b4\"/>\n   </g>\n   <g id=\"patch_4\">\n    <path d=\"M 97.015 273.312 \nL 114.871 273.312 \nL 114.871 272.032046 \nL 97.015 272.032046 \nz\n\" clip-path=\"url(#pd1c02ddd6c)\" style=\"fill: #1f77b4\"/>\n   </g>\n   <g id=\"patch_5\">\n    <path d=\"M 132.727 273.312 \nL 150.583 273.312 \nL 150.583 269.768436 \nL 132.727 269.768436 \nz\n\" clip-path=\"url(#pd1c02ddd6c)\" style=\"fill: #1f77b4\"/>\n   </g>\n   <g id=\"patch_6\">\n    <path d=\"M 168.439 273.312 \nL 186.295 273.312 \nL 186.295 213.19024 \nL 168.439 213.19024 \nz\n\" clip-path=\"url(#pd1c02ddd6c)\" style=\"fill: #1f77b4\"/>\n   </g>\n   <g id=\"patch_7\">\n    <path d=\"M 204.151 273.312 \nL 222.007 273.312 \nL 222.007 269.639087 \nL 204.151 269.639087 \nz\n\" clip-path=\"url(#pd1c02ddd6c)\" style=\"fill: #1f77b4\"/>\n   </g>\n   <g id=\"patch_8\">\n    <path d=\"M 239.863 273.312 \nL 257.719 273.312 \nL 257.719 269.219455 \nL 239.863 269.219455 \nz\n\" clip-path=\"url(#pd1c02ddd6c)\" style=\"fill: #1f77b4\"/>\n   </g>\n   <g id=\"patch_9\">\n    <path d=\"M 275.575 273.312 \nL 293.431 273.312 \nL 293.431 272.450174 \nL 275.575 272.450174 \nz\n\" clip-path=\"url(#pd1c02ddd6c)\" style=\"fill: #1f77b4\"/>\n   </g>\n   <g id=\"patch_10\">\n    <path d=\"M 311.287 273.312 \nL 329.143 273.312 \nL 329.143 263.657444 \nL 311.287 263.657444 \nz\n\" clip-path=\"url(#pd1c02ddd6c)\" style=\"fill: #1f77b4\"/>\n   </g>\n   <g id=\"patch_11\">\n    <path d=\"M 346.999 273.312 \nL 364.855 273.312 \nL 364.855 260.268798 \nL 346.999 260.268798 \nz\n\" clip-path=\"url(#pd1c02ddd6c)\" style=\"fill: #1f77b4\"/>\n   </g>\n   <g id=\"patch_12\">\n    <path d=\"M 382.711 273.312 \nL 400.567 273.312 \nL 400.567 269.503722 \nL 382.711 269.503722 \nz\n\" clip-path=\"url(#pd1c02ddd6c)\" style=\"fill: #1f77b4\"/>\n   </g>\n   <g id=\"patch_13\">\n    <path d=\"M 61.303 215.189134 \nL 79.159 215.189134 \nL 79.159 213.051866 \nL 61.303 213.051866 \nz\n\" clip-path=\"url(#pd1c02ddd6c)\" style=\"fill: #ff7f0e\"/>\n   </g>\n   <g id=\"patch_14\">\n    <path d=\"M 97.015 272.032046 \nL 114.871 272.032046 \nL 114.871 269.660144 \nL 97.015 269.660144 \nz\n\" clip-path=\"url(#pd1c02ddd6c)\" style=\"fill: #ff7f0e\"/>\n   </g>\n   <g id=\"patch_15\">\n    <path d=\"M 132.727 269.768436 \nL 150.583 269.768436 \nL 150.583 268.708075 \nL 132.727 268.708075 \nz\n\" clip-path=\"url(#pd1c02ddd6c)\" style=\"fill: #ff7f0e\"/>\n   </g>\n   <g id=\"patch_16\">\n    <path d=\"M 168.439 213.19024 \nL 186.295 213.19024 \nL 186.295 212.973655 \nL 168.439 212.973655 \nz\n\" clip-path=\"url(#pd1c02ddd6c)\" style=\"fill: #ff7f0e\"/>\n   </g>\n   <g id=\"patch_17\">\n    <path d=\"M 204.151 269.639087 \nL 222.007 269.639087 \nL 222.007 262.261677 \nL 204.151 262.261677 \nz\n\" clip-path=\"url(#pd1c02ddd6c)\" style=\"fill: #ff7f0e\"/>\n   </g>\n   <g id=\"patch_18\">\n    <path d=\"M 239.863 269.219455 \nL 257.719 269.219455 \nL 257.719 253.073379 \nL 239.863 253.073379 \nz\n\" clip-path=\"url(#pd1c02ddd6c)\" style=\"fill: #ff7f0e\"/>\n   </g>\n   <g id=\"patch_19\">\n    <path d=\"M 275.575 272.450174 \nL 293.431 272.450174 \nL 293.431 229.521315 \nL 275.575 229.521315 \nz\n\" clip-path=\"url(#pd1c02ddd6c)\" style=\"fill: #ff7f0e\"/>\n   </g>\n   <g id=\"patch_20\">\n    <path d=\"M 311.287 263.657444 \nL 329.143 263.657444 \nL 329.143 262.933991 \nL 311.287 262.933991 \nz\n\" clip-path=\"url(#pd1c02ddd6c)\" style=\"fill: #ff7f0e\"/>\n   </g>\n   <g id=\"patch_21\">\n    <path d=\"M 346.999 260.268798 \nL 364.855 260.268798 \nL 364.855 237.864332 \nL 346.999 237.864332 \nz\n\" clip-path=\"url(#pd1c02ddd6c)\" style=\"fill: #ff7f0e\"/>\n   </g>\n   <g id=\"patch_22\">\n    <path d=\"M 382.711 269.503722 \nL 400.567 269.503722 \nL 400.567 265.069755 \nL 382.711 265.069755 \nz\n\" clip-path=\"url(#pd1c02ddd6c)\" style=\"fill: #ff7f0e\"/>\n   </g>\n   <g id=\"patch_23\">\n    <path d=\"M 61.303 213.051866 \nL 79.159 213.051866 \nL 79.159 208.44042 \nL 61.303 208.44042 \nz\n\" clip-path=\"url(#pd1c02ddd6c)\" style=\"fill: #2ca02c\"/>\n   </g>\n   <g id=\"patch_24\">\n    <path d=\"M 97.015 269.660144 \nL 114.871 269.660144 \nL 114.871 265.23069 \nL 97.015 265.23069 \nz\n\" clip-path=\"url(#pd1c02ddd6c)\" style=\"fill: #2ca02c\"/>\n   </g>\n   <g id=\"patch_25\">\n    <path d=\"M 132.727 268.708075 \nL 150.583 268.708075 \nL 150.583 262.084198 \nL 132.727 262.084198 \nz\n\" clip-path=\"url(#pd1c02ddd6c)\" style=\"fill: #2ca02c\"/>\n   </g>\n   <g id=\"patch_26\">\n    <path d=\"M 168.439 212.973655 \nL 186.295 212.973655 \nL 186.295 180.491991 \nL 168.439 180.491991 \nz\n\" clip-path=\"url(#pd1c02ddd6c)\" style=\"fill: #2ca02c\"/>\n   </g>\n   <g id=\"patch_27\">\n    <path d=\"M 204.151 262.261677 \nL 222.007 262.261677 \nL 222.007 259.670183 \nL 204.151 259.670183 \nz\n\" clip-path=\"url(#pd1c02ddd6c)\" style=\"fill: #2ca02c\"/>\n   </g>\n   <g id=\"patch_28\">\n    <path d=\"M 239.863 253.073379 \nL 257.719 253.073379 \nL 257.719 248.768761 \nL 239.863 248.768761 \nz\n\" clip-path=\"url(#pd1c02ddd6c)\" style=\"fill: #2ca02c\"/>\n   </g>\n   <g id=\"patch_29\">\n    <path d=\"M 275.575 229.521315 \nL 293.431 229.521315 \nL 293.431 191.972476 \nL 275.575 191.972476 \nz\n\" clip-path=\"url(#pd1c02ddd6c)\" style=\"fill: #2ca02c\"/>\n   </g>\n   <g id=\"patch_30\">\n    <path d=\"M 311.287 262.933991 \nL 329.143 262.933991 \nL 329.143 258.259375 \nL 311.287 258.259375 \nz\n\" clip-path=\"url(#pd1c02ddd6c)\" style=\"fill: #2ca02c\"/>\n   </g>\n   <g id=\"patch_31\">\n    <path d=\"M 346.999 237.864332 \nL 364.855 237.864332 \nL 364.855 221.676142 \nL 346.999 221.676142 \nz\n\" clip-path=\"url(#pd1c02ddd6c)\" style=\"fill: #2ca02c\"/>\n   </g>\n   <g id=\"patch_32\">\n    <path d=\"M 382.711 265.069755 \nL 400.567 265.069755 \nL 400.567 263.388217 \nL 382.711 263.388217 \nz\n\" clip-path=\"url(#pd1c02ddd6c)\" style=\"fill: #2ca02c\"/>\n   </g>\n   <g id=\"patch_33\">\n    <path d=\"M 61.303 208.44042 \nL 79.159 208.44042 \nL 79.159 208.308063 \nL 61.303 208.308063 \nz\n\" clip-path=\"url(#pd1c02ddd6c)\" style=\"fill: #d62728\"/>\n   </g>\n   <g id=\"patch_34\">\n    <path d=\"M 97.015 265.23069 \nL 114.871 265.23069 \nL 114.871 264.244027 \nL 97.015 264.244027 \nz\n\" clip-path=\"url(#pd1c02ddd6c)\" style=\"fill: #d62728\"/>\n   </g>\n   <g id=\"patch_35\">\n    <path d=\"M 132.727 262.084198 \nL 150.583 262.084198 \nL 150.583 256.785397 \nL 132.727 256.785397 \nz\n\" clip-path=\"url(#pd1c02ddd6c)\" style=\"fill: #d62728\"/>\n   </g>\n   <g id=\"patch_36\">\n    <path d=\"M 168.439 180.491991 \nL 186.295 180.491991 \nL 186.295 124.083753 \nL 168.439 124.083753 \nz\n\" clip-path=\"url(#pd1c02ddd6c)\" style=\"fill: #d62728\"/>\n   </g>\n   <g id=\"patch_37\">\n    <path d=\"M 204.151 259.670183 \nL 222.007 259.670183 \nL 222.007 257.280232 \nL 204.151 257.280232 \nz\n\" clip-path=\"url(#pd1c02ddd6c)\" style=\"fill: #d62728\"/>\n   </g>\n   <g id=\"patch_38\">\n    <path d=\"M 239.863 248.768761 \nL 257.719 248.768761 \nL 257.719 233.171667 \nL 239.863 233.171667 \nz\n\" clip-path=\"url(#pd1c02ddd6c)\" style=\"fill: #d62728\"/>\n   </g>\n   <g id=\"patch_39\">\n    <path d=\"M 275.575 191.972476 \nL 293.431 191.972476 \nL 293.431 186.762414 \nL 275.575 186.762414 \nz\n\" clip-path=\"url(#pd1c02ddd6c)\" style=\"fill: #d62728\"/>\n   </g>\n   <g id=\"patch_40\">\n    <path d=\"M 311.287 258.259375 \nL 329.143 258.259375 \nL 329.143 257.02003 \nL 311.287 257.02003 \nz\n\" clip-path=\"url(#pd1c02ddd6c)\" style=\"fill: #d62728\"/>\n   </g>\n   <g id=\"patch_41\">\n    <path d=\"M 346.999 221.676142 \nL 364.855 221.676142 \nL 364.855 215.156045 \nL 346.999 215.156045 \nz\n\" clip-path=\"url(#pd1c02ddd6c)\" style=\"fill: #d62728\"/>\n   </g>\n   <g id=\"patch_42\">\n    <path d=\"M 382.711 263.388217 \nL 400.567 263.388217 \nL 400.567 257.137347 \nL 382.711 257.137347 \nz\n\" clip-path=\"url(#pd1c02ddd6c)\" style=\"fill: #d62728\"/>\n   </g>\n   <g id=\"patch_43\">\n    <path d=\"M 61.303 208.308063 \nL 79.159 208.308063 \nL 79.159 208.306559 \nL 61.303 208.306559 \nz\n\" clip-path=\"url(#pd1c02ddd6c)\" style=\"fill: #9467bd\"/>\n   </g>\n   <g id=\"patch_44\">\n    <path d=\"M 97.015 264.244027 \nL 114.871 264.244027 \nL 114.871 262.700862 \nL 97.015 262.700862 \nz\n\" clip-path=\"url(#pd1c02ddd6c)\" style=\"fill: #9467bd\"/>\n   </g>\n   <g id=\"patch_45\">\n    <path d=\"M 132.727 256.785397 \nL 150.583 256.785397 \nL 150.583 254.869225 \nL 132.727 254.869225 \nz\n\" clip-path=\"url(#pd1c02ddd6c)\" style=\"fill: #9467bd\"/>\n   </g>\n   <g id=\"patch_46\">\n    <path d=\"M 168.439 124.083753 \nL 186.295 124.083753 \nL 186.295 93.915333 \nL 168.439 93.915333 \nz\n\" clip-path=\"url(#pd1c02ddd6c)\" style=\"fill: #9467bd\"/>\n   </g>\n   <g id=\"patch_47\">\n    <path d=\"M 204.151 257.280232 \nL 222.007 257.280232 \nL 222.007 256.295074 \nL 204.151 256.295074 \nz\n\" clip-path=\"url(#pd1c02ddd6c)\" style=\"fill: #9467bd\"/>\n   </g>\n   <g id=\"patch_48\">\n    <path d=\"M 239.863 233.171667 \nL 257.719 233.171667 \nL 257.719 220.894031 \nL 239.863 220.894031 \nz\n\" clip-path=\"url(#pd1c02ddd6c)\" style=\"fill: #9467bd\"/>\n   </g>\n   <g id=\"patch_49\">\n    <path d=\"M 275.575 186.762414 \nL 293.431 186.762414 \nL 293.431 184.452179 \nL 275.575 184.452179 \nz\n\" clip-path=\"url(#pd1c02ddd6c)\" style=\"fill: #9467bd\"/>\n   </g>\n   <g id=\"patch_50\">\n    <path d=\"M 311.287 257.02003 \nL 329.143 257.02003 \nL 329.143 253.545653 \nL 311.287 253.545653 \nz\n\" clip-path=\"url(#pd1c02ddd6c)\" style=\"fill: #9467bd\"/>\n   </g>\n   <g id=\"patch_51\">\n    <path d=\"M 346.999 215.156045 \nL 364.855 215.156045 \nL 364.855 210.061796 \nL 346.999 210.061796 \nz\n\" clip-path=\"url(#pd1c02ddd6c)\" style=\"fill: #9467bd\"/>\n   </g>\n   <g id=\"patch_52\">\n    <path d=\"M 382.711 257.137347 \nL 400.567 257.137347 \nL 400.567 239.96851 \nL 382.711 239.96851 \nz\n\" clip-path=\"url(#pd1c02ddd6c)\" style=\"fill: #9467bd\"/>\n   </g>\n   <g id=\"patch_53\">\n    <path d=\"M 61.303 208.306559 \nL 79.159 208.306559 \nL 79.159 207.387579 \nL 61.303 207.387579 \nz\n\" clip-path=\"url(#pd1c02ddd6c)\" style=\"fill: #8c564b\"/>\n   </g>\n   <g id=\"patch_54\">\n    <path d=\"M 97.015 262.700862 \nL 114.871 262.700862 \nL 114.871 253.089923 \nL 97.015 253.089923 \nz\n\" clip-path=\"url(#pd1c02ddd6c)\" style=\"fill: #8c564b\"/>\n   </g>\n   <g id=\"patch_55\">\n    <path d=\"M 132.727 254.869225 \nL 150.583 254.869225 \nL 150.583 253.930692 \nL 132.727 253.930692 \nz\n\" clip-path=\"url(#pd1c02ddd6c)\" style=\"fill: #8c564b\"/>\n   </g>\n   <g id=\"patch_56\">\n    <path d=\"M 168.439 93.915333 \nL 186.295 93.915333 \nL 186.295 82.756717 \nL 168.439 82.756717 \nz\n\" clip-path=\"url(#pd1c02ddd6c)\" style=\"fill: #8c564b\"/>\n   </g>\n   <g id=\"patch_57\">\n    <path d=\"M 204.151 256.295074 \nL 222.007 256.295074 \nL 222.007 256.043896 \nL 204.151 256.043896 \nz\n\" clip-path=\"url(#pd1c02ddd6c)\" style=\"fill: #8c564b\"/>\n   </g>\n   <g id=\"patch_58\">\n    <path d=\"M 239.863 220.894031 \nL 257.719 220.894031 \nL 257.719 215.446328 \nL 239.863 215.446328 \nz\n\" clip-path=\"url(#pd1c02ddd6c)\" style=\"fill: #8c564b\"/>\n   </g>\n   <g id=\"patch_59\">\n    <path d=\"M 275.575 184.452179 \nL 293.431 184.452179 \nL 293.431 157.613746 \nL 275.575 157.613746 \nz\n\" clip-path=\"url(#pd1c02ddd6c)\" style=\"fill: #8c564b\"/>\n   </g>\n   <g id=\"patch_60\">\n    <path d=\"M 311.287 253.545653 \nL 329.143 253.545653 \nL 329.143 251.38432 \nL 311.287 251.38432 \nz\n\" clip-path=\"url(#pd1c02ddd6c)\" style=\"fill: #8c564b\"/>\n   </g>\n   <g id=\"patch_61\">\n    <path d=\"M 346.999 210.061796 \nL 364.855 210.061796 \nL 364.855 208.667533 \nL 346.999 208.667533 \nz\n\" clip-path=\"url(#pd1c02ddd6c)\" style=\"fill: #8c564b\"/>\n   </g>\n   <g id=\"patch_62\">\n    <path d=\"M 382.711 239.96851 \nL 400.567 239.96851 \nL 400.567 232.141386 \nL 382.711 232.141386 \nz\n\" clip-path=\"url(#pd1c02ddd6c)\" style=\"fill: #8c564b\"/>\n   </g>\n   <g id=\"patch_63\">\n    <path d=\"M 61.303 207.387579 \nL 79.159 207.387579 \nL 79.159 206.749858 \nL 61.303 206.749858 \nz\n\" clip-path=\"url(#pd1c02ddd6c)\" style=\"fill: #e377c2\"/>\n   </g>\n   <g id=\"patch_64\">\n    <path d=\"M 97.015 253.089923 \nL 114.871 253.089923 \nL 114.871 252.44017 \nL 97.015 252.44017 \nz\n\" clip-path=\"url(#pd1c02ddd6c)\" style=\"fill: #e377c2\"/>\n   </g>\n   <g id=\"patch_65\">\n    <path d=\"M 132.727 253.930692 \nL 150.583 253.930692 \nL 150.583 249.690749 \nL 132.727 249.690749 \nz\n\" clip-path=\"url(#pd1c02ddd6c)\" style=\"fill: #e377c2\"/>\n   </g>\n   <g id=\"patch_66\">\n    <path d=\"M 168.439 82.756717 \nL 186.295 82.756717 \nL 186.295 51.773097 \nL 168.439 51.773097 \nz\n\" clip-path=\"url(#pd1c02ddd6c)\" style=\"fill: #e377c2\"/>\n   </g>\n   <g id=\"patch_67\">\n    <path d=\"M 204.151 256.043896 \nL 222.007 256.043896 \nL 222.007 255.297882 \nL 204.151 255.297882 \nz\n\" clip-path=\"url(#pd1c02ddd6c)\" style=\"fill: #e377c2\"/>\n   </g>\n   <g id=\"patch_68\">\n    <path d=\"M 239.863 215.446328 \nL 257.719 215.446328 \nL 257.719 214.870274 \nL 239.863 214.870274 \nz\n\" clip-path=\"url(#pd1c02ddd6c)\" style=\"fill: #e377c2\"/>\n   </g>\n   <g id=\"patch_69\">\n    <path d=\"M 275.575 157.613746 \nL 293.431 157.613746 \nL 293.431 151.325274 \nL 275.575 151.325274 \nz\n\" clip-path=\"url(#pd1c02ddd6c)\" style=\"fill: #e377c2\"/>\n   </g>\n   <g id=\"patch_70\">\n    <path d=\"M 311.287 251.38432 \nL 329.143 251.38432 \nL 329.143 251.012818 \nL 311.287 251.012818 \nz\n\" clip-path=\"url(#pd1c02ddd6c)\" style=\"fill: #e377c2\"/>\n   </g>\n   <g id=\"patch_71\">\n    <path d=\"M 346.999 208.667533 \nL 364.855 208.667533 \nL 364.855 201.072034 \nL 346.999 201.072034 \nz\n\" clip-path=\"url(#pd1c02ddd6c)\" style=\"fill: #e377c2\"/>\n   </g>\n   <g id=\"patch_72\">\n    <path d=\"M 382.711 232.141386 \nL 400.567 232.141386 \nL 400.567 230.032695 \nL 382.711 230.032695 \nz\n\" clip-path=\"url(#pd1c02ddd6c)\" style=\"fill: #e377c2\"/>\n   </g>\n   <g id=\"patch_73\">\n    <path d=\"M 61.303 206.749858 \nL 79.159 206.749858 \nL 79.159 198.594849 \nL 61.303 198.594849 \nz\n\" clip-path=\"url(#pd1c02ddd6c)\" style=\"fill: #7f7f7f\"/>\n   </g>\n   <g id=\"patch_74\">\n    <path d=\"M 97.015 252.44017 \nL 114.871 252.44017 \nL 114.871 246.124625 \nL 97.015 246.124625 \nz\n\" clip-path=\"url(#pd1c02ddd6c)\" style=\"fill: #7f7f7f\"/>\n   </g>\n   <g id=\"patch_75\">\n    <path d=\"M 132.727 249.690749 \nL 150.583 249.690749 \nL 150.583 245.894504 \nL 132.727 245.894504 \nz\n\" clip-path=\"url(#pd1c02ddd6c)\" style=\"fill: #7f7f7f\"/>\n   </g>\n   <g id=\"patch_76\">\n    <path d=\"M 168.439 51.773097 \nL 186.295 51.773097 \nL 186.295 30.410943 \nL 168.439 30.410943 \nz\n\" clip-path=\"url(#pd1c02ddd6c)\" style=\"fill: #7f7f7f\"/>\n   </g>\n   <g id=\"patch_77\">\n    <path d=\"M 204.151 255.297882 \nL 222.007 255.297882 \nL 222.007 255.006095 \nL 204.151 255.006095 \nz\n\" clip-path=\"url(#pd1c02ddd6c)\" style=\"fill: #7f7f7f\"/>\n   </g>\n   <g id=\"patch_78\">\n    <path d=\"M 239.863 214.870274 \nL 257.719 214.870274 \nL 257.719 203.877105 \nL 239.863 203.877105 \nz\n\" clip-path=\"url(#pd1c02ddd6c)\" style=\"fill: #7f7f7f\"/>\n   </g>\n   <g id=\"patch_79\">\n    <path d=\"M 275.575 151.325274 \nL 293.431 151.325274 \nL 293.431 149.618167 \nL 275.575 149.618167 \nz\n\" clip-path=\"url(#pd1c02ddd6c)\" style=\"fill: #7f7f7f\"/>\n   </g>\n   <g id=\"patch_80\">\n    <path d=\"M 311.287 251.012818 \nL 329.143 251.012818 \nL 329.143 247.718928 \nL 311.287 247.718928 \nz\n\" clip-path=\"url(#pd1c02ddd6c)\" style=\"fill: #7f7f7f\"/>\n   </g>\n   <g id=\"patch_81\">\n    <path d=\"M 346.999 201.072034 \nL 364.855 201.072034 \nL 364.855 199.216025 \nL 346.999 199.216025 \nz\n\" clip-path=\"url(#pd1c02ddd6c)\" style=\"fill: #7f7f7f\"/>\n   </g>\n   <g id=\"patch_82\">\n    <path d=\"M 382.711 230.032695 \nL 400.567 230.032695 \nL 400.567 206.703232 \nL 382.711 206.703232 \nz\n\" clip-path=\"url(#pd1c02ddd6c)\" style=\"fill: #7f7f7f\"/>\n   </g>\n   <g id=\"patch_83\">\n    <path d=\"M 61.303 198.594849 \nL 79.159 198.594849 \nL 79.159 198.253427 \nL 61.303 198.253427 \nz\n\" clip-path=\"url(#pd1c02ddd6c)\" style=\"fill: #bcbd22\"/>\n   </g>\n   <g id=\"patch_84\">\n    <path d=\"M 97.015 246.124625 \nL 114.871 246.124625 \nL 114.871 243.133051 \nL 97.015 243.133051 \nz\n\" clip-path=\"url(#pd1c02ddd6c)\" style=\"fill: #bcbd22\"/>\n   </g>\n   <g id=\"patch_85\">\n    <path d=\"M 132.727 245.894504 \nL 150.583 245.894504 \nL 150.583 242.444192 \nL 132.727 242.444192 \nz\n\" clip-path=\"url(#pd1c02ddd6c)\" style=\"fill: #bcbd22\"/>\n   </g>\n   <g id=\"patch_86\">\n    <path d=\"M 168.439 30.410943 \nL 186.295 30.410943 \nL 186.295 23.605075 \nL 168.439 23.605075 \nz\n\" clip-path=\"url(#pd1c02ddd6c)\" style=\"fill: #bcbd22\"/>\n   </g>\n   <g id=\"patch_87\">\n    <path d=\"M 204.151 255.006095 \nL 222.007 255.006095 \nL 222.007 254.494715 \nL 204.151 254.494715 \nz\n\" clip-path=\"url(#pd1c02ddd6c)\" style=\"fill: #bcbd22\"/>\n   </g>\n   <g id=\"patch_88\">\n    <path d=\"M 239.863 203.877105 \nL 257.719 203.877105 \nL 257.719 202.23768 \nL 239.863 202.23768 \nz\n\" clip-path=\"url(#pd1c02ddd6c)\" style=\"fill: #bcbd22\"/>\n   </g>\n   <g id=\"patch_89\">\n    <path d=\"M 275.575 149.618167 \nL 293.431 149.618167 \nL 293.431 148.290083 \nL 275.575 148.290083 \nz\n\" clip-path=\"url(#pd1c02ddd6c)\" style=\"fill: #bcbd22\"/>\n   </g>\n   <g id=\"patch_90\">\n    <path d=\"M 311.287 247.718928 \nL 329.143 247.718928 \nL 329.143 237.901933 \nL 311.287 237.901933 \nz\n\" clip-path=\"url(#pd1c02ddd6c)\" style=\"fill: #bcbd22\"/>\n   </g>\n   <g id=\"patch_91\">\n    <path d=\"M 346.999 199.216025 \nL 364.855 199.216025 \nL 364.855 196.741848 \nL 346.999 196.741848 \nz\n\" clip-path=\"url(#pd1c02ddd6c)\" style=\"fill: #bcbd22\"/>\n   </g>\n   <g id=\"patch_92\">\n    <path d=\"M 382.711 206.703232 \nL 400.567 206.703232 \nL 400.567 204.340355 \nL 382.711 204.340355 \nz\n\" clip-path=\"url(#pd1c02ddd6c)\" style=\"fill: #bcbd22\"/>\n   </g>\n   <g id=\"patch_93\">\n    <path d=\"M 61.303 198.253427 \nL 79.159 198.253427 \nL 79.159 198.02481 \nL 61.303 198.02481 \nz\n\" clip-path=\"url(#pd1c02ddd6c)\" style=\"fill: #17becf\"/>\n   </g>\n   <g id=\"patch_94\">\n    <path d=\"M 97.015 243.133051 \nL 114.871 243.133051 \nL 114.871 236.009827 \nL 97.015 236.009827 \nz\n\" clip-path=\"url(#pd1c02ddd6c)\" style=\"fill: #17becf\"/>\n   </g>\n   <g id=\"patch_95\">\n    <path d=\"M 132.727 242.444192 \nL 150.583 242.444192 \nL 150.583 233.686055 \nL 132.727 233.686055 \nz\n\" clip-path=\"url(#pd1c02ddd6c)\" style=\"fill: #17becf\"/>\n   </g>\n   <g id=\"patch_96\">\n    <path d=\"M 168.439 23.605075 \nL 186.295 23.605075 \nL 186.295 19.872 \nL 168.439 19.872 \nz\n\" clip-path=\"url(#pd1c02ddd6c)\" style=\"fill: #17becf\"/>\n   </g>\n   <g id=\"patch_97\">\n    <path d=\"M 204.151 254.494715 \nL 222.007 254.494715 \nL 222.007 250.854891 \nL 204.151 250.854891 \nz\n\" clip-path=\"url(#pd1c02ddd6c)\" style=\"fill: #17becf\"/>\n   </g>\n   <g id=\"patch_98\">\n    <path d=\"M 239.863 202.23768 \nL 257.719 202.23768 \nL 257.719 197.659324 \nL 239.863 197.659324 \nz\n\" clip-path=\"url(#pd1c02ddd6c)\" style=\"fill: #17becf\"/>\n   </g>\n   <g id=\"patch_99\">\n    <path d=\"M 275.575 148.290083 \nL 293.431 148.290083 \nL 293.431 147.201144 \nL 275.575 147.201144 \nz\n\" clip-path=\"url(#pd1c02ddd6c)\" style=\"fill: #17becf\"/>\n   </g>\n   <g id=\"patch_100\">\n    <path d=\"M 311.287 237.901933 \nL 329.143 237.901933 \nL 329.143 220.51952 \nL 311.287 220.51952 \nz\n\" clip-path=\"url(#pd1c02ddd6c)\" style=\"fill: #17becf\"/>\n   </g>\n   <g id=\"patch_101\">\n    <path d=\"M 346.999 196.741848 \nL 364.855 196.741848 \nL 364.855 190.802318 \nL 346.999 190.802318 \nz\n\" clip-path=\"url(#pd1c02ddd6c)\" style=\"fill: #17becf\"/>\n   </g>\n   <g id=\"patch_102\">\n    <path d=\"M 382.711 204.340355 \nL 400.567 204.340355 \nL 400.567 203.672553 \nL 382.711 203.672553 \nz\n\" clip-path=\"url(#pd1c02ddd6c)\" style=\"fill: #17becf\"/>\n   </g>\n   <g id=\"matplotlib.axis_1\">\n    <g id=\"xtick_1\">\n     <g id=\"line2d_1\">\n      <defs>\n       <path id=\"mf3a2c059b3\" d=\"M 0 0 \nL 0 3.5 \n\" style=\"stroke: #000000; stroke-width: 0.8\"/>\n      </defs>\n      <g>\n       <use xlink:href=\"#mf3a2c059b3\" x=\"70.231\" y=\"273.312\" style=\"stroke: #000000; stroke-width: 0.8\"/>\n      </g>\n     </g>\n     <g id=\"text_1\">\n      <!-- 0 -->\n      <g transform=\"translate(72.990375 286.6745) rotate(-90) scale(0.1 -0.1)\">\n       <defs>\n        <path id=\"DejaVuSans-30\" d=\"M 2034 4250 \nQ 1547 4250 1301 3770 \nQ 1056 3291 1056 2328 \nQ 1056 1369 1301 889 \nQ 1547 409 2034 409 \nQ 2525 409 2770 889 \nQ 3016 1369 3016 2328 \nQ 3016 3291 2770 3770 \nQ 2525 4250 2034 4250 \nz\nM 2034 4750 \nQ 2819 4750 3233 4129 \nQ 3647 3509 3647 2328 \nQ 3647 1150 3233 529 \nQ 2819 -91 2034 -91 \nQ 1250 -91 836 529 \nQ 422 1150 422 2328 \nQ 422 3509 836 4129 \nQ 1250 4750 2034 4750 \nz\n\" transform=\"scale(0.015625)\"/>\n       </defs>\n       <use xlink:href=\"#DejaVuSans-30\"/>\n      </g>\n     </g>\n    </g>\n    <g id=\"xtick_2\">\n     <g id=\"line2d_2\">\n      <g>\n       <use xlink:href=\"#mf3a2c059b3\" x=\"105.943\" y=\"273.312\" style=\"stroke: #000000; stroke-width: 0.8\"/>\n      </g>\n     </g>\n     <g id=\"text_2\">\n      <!-- 1 -->\n      <g transform=\"translate(108.702375 286.6745) rotate(-90) scale(0.1 -0.1)\">\n       <defs>\n        <path id=\"DejaVuSans-31\" d=\"M 794 531 \nL 1825 531 \nL 1825 4091 \nL 703 3866 \nL 703 4441 \nL 1819 4666 \nL 2450 4666 \nL 2450 531 \nL 3481 531 \nL 3481 0 \nL 794 0 \nL 794 531 \nz\n\" transform=\"scale(0.015625)\"/>\n       </defs>\n       <use xlink:href=\"#DejaVuSans-31\"/>\n      </g>\n     </g>\n    </g>\n    <g id=\"xtick_3\">\n     <g id=\"line2d_3\">\n      <g>\n       <use xlink:href=\"#mf3a2c059b3\" x=\"141.655\" y=\"273.312\" style=\"stroke: #000000; stroke-width: 0.8\"/>\n      </g>\n     </g>\n     <g id=\"text_3\">\n      <!-- 2 -->\n      <g transform=\"translate(144.414375 286.6745) rotate(-90) scale(0.1 -0.1)\">\n       <defs>\n        <path id=\"DejaVuSans-32\" d=\"M 1228 531 \nL 3431 531 \nL 3431 0 \nL 469 0 \nL 469 531 \nQ 828 903 1448 1529 \nQ 2069 2156 2228 2338 \nQ 2531 2678 2651 2914 \nQ 2772 3150 2772 3378 \nQ 2772 3750 2511 3984 \nQ 2250 4219 1831 4219 \nQ 1534 4219 1204 4116 \nQ 875 4013 500 3803 \nL 500 4441 \nQ 881 4594 1212 4672 \nQ 1544 4750 1819 4750 \nQ 2544 4750 2975 4387 \nQ 3406 4025 3406 3419 \nQ 3406 3131 3298 2873 \nQ 3191 2616 2906 2266 \nQ 2828 2175 2409 1742 \nQ 1991 1309 1228 531 \nz\n\" transform=\"scale(0.015625)\"/>\n       </defs>\n       <use xlink:href=\"#DejaVuSans-32\"/>\n      </g>\n     </g>\n    </g>\n    <g id=\"xtick_4\">\n     <g id=\"line2d_4\">\n      <g>\n       <use xlink:href=\"#mf3a2c059b3\" x=\"177.367\" y=\"273.312\" style=\"stroke: #000000; stroke-width: 0.8\"/>\n      </g>\n     </g>\n     <g id=\"text_4\">\n      <!-- 3 -->\n      <g transform=\"translate(180.126375 286.6745) rotate(-90) scale(0.1 -0.1)\">\n       <defs>\n        <path id=\"DejaVuSans-33\" d=\"M 2597 2516 \nQ 3050 2419 3304 2112 \nQ 3559 1806 3559 1356 \nQ 3559 666 3084 287 \nQ 2609 -91 1734 -91 \nQ 1441 -91 1130 -33 \nQ 819 25 488 141 \nL 488 750 \nQ 750 597 1062 519 \nQ 1375 441 1716 441 \nQ 2309 441 2620 675 \nQ 2931 909 2931 1356 \nQ 2931 1769 2642 2001 \nQ 2353 2234 1838 2234 \nL 1294 2234 \nL 1294 2753 \nL 1863 2753 \nQ 2328 2753 2575 2939 \nQ 2822 3125 2822 3475 \nQ 2822 3834 2567 4026 \nQ 2313 4219 1838 4219 \nQ 1578 4219 1281 4162 \nQ 984 4106 628 3988 \nL 628 4550 \nQ 988 4650 1302 4700 \nQ 1616 4750 1894 4750 \nQ 2613 4750 3031 4423 \nQ 3450 4097 3450 3541 \nQ 3450 3153 3228 2886 \nQ 3006 2619 2597 2516 \nz\n\" transform=\"scale(0.015625)\"/>\n       </defs>\n       <use xlink:href=\"#DejaVuSans-33\"/>\n      </g>\n     </g>\n    </g>\n    <g id=\"xtick_5\">\n     <g id=\"line2d_5\">\n      <g>\n       <use xlink:href=\"#mf3a2c059b3\" x=\"213.079\" y=\"273.312\" style=\"stroke: #000000; stroke-width: 0.8\"/>\n      </g>\n     </g>\n     <g id=\"text_5\">\n      <!-- 4 -->\n      <g transform=\"translate(215.838375 286.6745) rotate(-90) scale(0.1 -0.1)\">\n       <defs>\n        <path id=\"DejaVuSans-34\" d=\"M 2419 4116 \nL 825 1625 \nL 2419 1625 \nL 2419 4116 \nz\nM 2253 4666 \nL 3047 4666 \nL 3047 1625 \nL 3713 1625 \nL 3713 1100 \nL 3047 1100 \nL 3047 0 \nL 2419 0 \nL 2419 1100 \nL 313 1100 \nL 313 1709 \nL 2253 4666 \nz\n\" transform=\"scale(0.015625)\"/>\n       </defs>\n       <use xlink:href=\"#DejaVuSans-34\"/>\n      </g>\n     </g>\n    </g>\n    <g id=\"xtick_6\">\n     <g id=\"line2d_6\">\n      <g>\n       <use xlink:href=\"#mf3a2c059b3\" x=\"248.791\" y=\"273.312\" style=\"stroke: #000000; stroke-width: 0.8\"/>\n      </g>\n     </g>\n     <g id=\"text_6\">\n      <!-- 5 -->\n      <g transform=\"translate(251.550375 286.6745) rotate(-90) scale(0.1 -0.1)\">\n       <defs>\n        <path id=\"DejaVuSans-35\" d=\"M 691 4666 \nL 3169 4666 \nL 3169 4134 \nL 1269 4134 \nL 1269 2991 \nQ 1406 3038 1543 3061 \nQ 1681 3084 1819 3084 \nQ 2600 3084 3056 2656 \nQ 3513 2228 3513 1497 \nQ 3513 744 3044 326 \nQ 2575 -91 1722 -91 \nQ 1428 -91 1123 -41 \nQ 819 9 494 109 \nL 494 744 \nQ 775 591 1075 516 \nQ 1375 441 1709 441 \nQ 2250 441 2565 725 \nQ 2881 1009 2881 1497 \nQ 2881 1984 2565 2268 \nQ 2250 2553 1709 2553 \nQ 1456 2553 1204 2497 \nQ 953 2441 691 2322 \nL 691 4666 \nz\n\" transform=\"scale(0.015625)\"/>\n       </defs>\n       <use xlink:href=\"#DejaVuSans-35\"/>\n      </g>\n     </g>\n    </g>\n    <g id=\"xtick_7\">\n     <g id=\"line2d_7\">\n      <g>\n       <use xlink:href=\"#mf3a2c059b3\" x=\"284.503\" y=\"273.312\" style=\"stroke: #000000; stroke-width: 0.8\"/>\n      </g>\n     </g>\n     <g id=\"text_7\">\n      <!-- 6 -->\n      <g transform=\"translate(287.262375 286.6745) rotate(-90) scale(0.1 -0.1)\">\n       <defs>\n        <path id=\"DejaVuSans-36\" d=\"M 2113 2584 \nQ 1688 2584 1439 2293 \nQ 1191 2003 1191 1497 \nQ 1191 994 1439 701 \nQ 1688 409 2113 409 \nQ 2538 409 2786 701 \nQ 3034 994 3034 1497 \nQ 3034 2003 2786 2293 \nQ 2538 2584 2113 2584 \nz\nM 3366 4563 \nL 3366 3988 \nQ 3128 4100 2886 4159 \nQ 2644 4219 2406 4219 \nQ 1781 4219 1451 3797 \nQ 1122 3375 1075 2522 \nQ 1259 2794 1537 2939 \nQ 1816 3084 2150 3084 \nQ 2853 3084 3261 2657 \nQ 3669 2231 3669 1497 \nQ 3669 778 3244 343 \nQ 2819 -91 2113 -91 \nQ 1303 -91 875 529 \nQ 447 1150 447 2328 \nQ 447 3434 972 4092 \nQ 1497 4750 2381 4750 \nQ 2619 4750 2861 4703 \nQ 3103 4656 3366 4563 \nz\n\" transform=\"scale(0.015625)\"/>\n       </defs>\n       <use xlink:href=\"#DejaVuSans-36\"/>\n      </g>\n     </g>\n    </g>\n    <g id=\"xtick_8\">\n     <g id=\"line2d_8\">\n      <g>\n       <use xlink:href=\"#mf3a2c059b3\" x=\"320.215\" y=\"273.312\" style=\"stroke: #000000; stroke-width: 0.8\"/>\n      </g>\n     </g>\n     <g id=\"text_8\">\n      <!-- 7 -->\n      <g transform=\"translate(322.974375 286.6745) rotate(-90) scale(0.1 -0.1)\">\n       <defs>\n        <path id=\"DejaVuSans-37\" d=\"M 525 4666 \nL 3525 4666 \nL 3525 4397 \nL 1831 0 \nL 1172 0 \nL 2766 4134 \nL 525 4134 \nL 525 4666 \nz\n\" transform=\"scale(0.015625)\"/>\n       </defs>\n       <use xlink:href=\"#DejaVuSans-37\"/>\n      </g>\n     </g>\n    </g>\n    <g id=\"xtick_9\">\n     <g id=\"line2d_9\">\n      <g>\n       <use xlink:href=\"#mf3a2c059b3\" x=\"355.927\" y=\"273.312\" style=\"stroke: #000000; stroke-width: 0.8\"/>\n      </g>\n     </g>\n     <g id=\"text_9\">\n      <!-- 8 -->\n      <g transform=\"translate(358.686375 286.6745) rotate(-90) scale(0.1 -0.1)\">\n       <defs>\n        <path id=\"DejaVuSans-38\" d=\"M 2034 2216 \nQ 1584 2216 1326 1975 \nQ 1069 1734 1069 1313 \nQ 1069 891 1326 650 \nQ 1584 409 2034 409 \nQ 2484 409 2743 651 \nQ 3003 894 3003 1313 \nQ 3003 1734 2745 1975 \nQ 2488 2216 2034 2216 \nz\nM 1403 2484 \nQ 997 2584 770 2862 \nQ 544 3141 544 3541 \nQ 544 4100 942 4425 \nQ 1341 4750 2034 4750 \nQ 2731 4750 3128 4425 \nQ 3525 4100 3525 3541 \nQ 3525 3141 3298 2862 \nQ 3072 2584 2669 2484 \nQ 3125 2378 3379 2068 \nQ 3634 1759 3634 1313 \nQ 3634 634 3220 271 \nQ 2806 -91 2034 -91 \nQ 1263 -91 848 271 \nQ 434 634 434 1313 \nQ 434 1759 690 2068 \nQ 947 2378 1403 2484 \nz\nM 1172 3481 \nQ 1172 3119 1398 2916 \nQ 1625 2713 2034 2713 \nQ 2441 2713 2670 2916 \nQ 2900 3119 2900 3481 \nQ 2900 3844 2670 4047 \nQ 2441 4250 2034 4250 \nQ 1625 4250 1398 4047 \nQ 1172 3844 1172 3481 \nz\n\" transform=\"scale(0.015625)\"/>\n       </defs>\n       <use xlink:href=\"#DejaVuSans-38\"/>\n      </g>\n     </g>\n    </g>\n    <g id=\"xtick_10\">\n     <g id=\"line2d_10\">\n      <g>\n       <use xlink:href=\"#mf3a2c059b3\" x=\"391.639\" y=\"273.312\" style=\"stroke: #000000; stroke-width: 0.8\"/>\n      </g>\n     </g>\n     <g id=\"text_10\">\n      <!-- 9 -->\n      <g transform=\"translate(394.398375 286.6745) rotate(-90) scale(0.1 -0.1)\">\n       <defs>\n        <path id=\"DejaVuSans-39\" d=\"M 703 97 \nL 703 672 \nQ 941 559 1184 500 \nQ 1428 441 1663 441 \nQ 2288 441 2617 861 \nQ 2947 1281 2994 2138 \nQ 2813 1869 2534 1725 \nQ 2256 1581 1919 1581 \nQ 1219 1581 811 2004 \nQ 403 2428 403 3163 \nQ 403 3881 828 4315 \nQ 1253 4750 1959 4750 \nQ 2769 4750 3195 4129 \nQ 3622 3509 3622 2328 \nQ 3622 1225 3098 567 \nQ 2575 -91 1691 -91 \nQ 1453 -91 1209 -44 \nQ 966 3 703 97 \nz\nM 1959 2075 \nQ 2384 2075 2632 2365 \nQ 2881 2656 2881 3163 \nQ 2881 3666 2632 3958 \nQ 2384 4250 1959 4250 \nQ 1534 4250 1286 3958 \nQ 1038 3666 1038 3163 \nQ 1038 2656 1286 2365 \nQ 1534 2075 1959 2075 \nz\n\" transform=\"scale(0.015625)\"/>\n       </defs>\n       <use xlink:href=\"#DejaVuSans-39\"/>\n      </g>\n     </g>\n    </g>\n    <g id=\"text_11\">\n     <!-- top -->\n     <g transform=\"translate(222.74125 298.272937) scale(0.1 -0.1)\">\n      <defs>\n       <path id=\"DejaVuSans-74\" d=\"M 1172 4494 \nL 1172 3500 \nL 2356 3500 \nL 2356 3053 \nL 1172 3053 \nL 1172 1153 \nQ 1172 725 1289 603 \nQ 1406 481 1766 481 \nL 2356 481 \nL 2356 0 \nL 1766 0 \nQ 1100 0 847 248 \nQ 594 497 594 1153 \nL 594 3053 \nL 172 3053 \nL 172 3500 \nL 594 3500 \nL 594 4494 \nL 1172 4494 \nz\n\" transform=\"scale(0.015625)\"/>\n       <path id=\"DejaVuSans-6f\" d=\"M 1959 3097 \nQ 1497 3097 1228 2736 \nQ 959 2375 959 1747 \nQ 959 1119 1226 758 \nQ 1494 397 1959 397 \nQ 2419 397 2687 759 \nQ 2956 1122 2956 1747 \nQ 2956 2369 2687 2733 \nQ 2419 3097 1959 3097 \nz\nM 1959 3584 \nQ 2709 3584 3137 3096 \nQ 3566 2609 3566 1747 \nQ 3566 888 3137 398 \nQ 2709 -91 1959 -91 \nQ 1206 -91 779 398 \nQ 353 888 353 1747 \nQ 353 2609 779 3096 \nQ 1206 3584 1959 3584 \nz\n\" transform=\"scale(0.015625)\"/>\n       <path id=\"DejaVuSans-70\" d=\"M 1159 525 \nL 1159 -1331 \nL 581 -1331 \nL 581 3500 \nL 1159 3500 \nL 1159 2969 \nQ 1341 3281 1617 3432 \nQ 1894 3584 2278 3584 \nQ 2916 3584 3314 3078 \nQ 3713 2572 3713 1747 \nQ 3713 922 3314 415 \nQ 2916 -91 2278 -91 \nQ 1894 -91 1617 61 \nQ 1341 213 1159 525 \nz\nM 3116 1747 \nQ 3116 2381 2855 2742 \nQ 2594 3103 2138 3103 \nQ 1681 3103 1420 2742 \nQ 1159 2381 1159 1747 \nQ 1159 1113 1420 752 \nQ 1681 391 2138 391 \nQ 2594 391 2855 752 \nQ 3116 1113 3116 1747 \nz\n\" transform=\"scale(0.015625)\"/>\n      </defs>\n      <use xlink:href=\"#DejaVuSans-74\"/>\n      <use xlink:href=\"#DejaVuSans-6f\" x=\"39.208984\"/>\n      <use xlink:href=\"#DejaVuSans-70\" x=\"100.390625\"/>\n     </g>\n    </g>\n   </g>\n   <g id=\"matplotlib.axis_2\">\n    <g id=\"ytick_1\">\n     <g id=\"line2d_11\">\n      <defs>\n       <path id=\"m6bce2006a9\" d=\"M 0 0 \nL -3.5 0 \n\" style=\"stroke: #000000; stroke-width: 0.8\"/>\n      </defs>\n      <g>\n       <use xlink:href=\"#m6bce2006a9\" x=\"52.375\" y=\"273.312\" style=\"stroke: #000000; stroke-width: 0.8\"/>\n      </g>\n     </g>\n     <g id=\"text_12\">\n      <!-- 0 -->\n      <g transform=\"translate(39.0125 277.111219) scale(0.1 -0.1)\">\n       <use xlink:href=\"#DejaVuSans-30\"/>\n      </g>\n     </g>\n    </g>\n    <g id=\"ytick_2\">\n     <g id=\"line2d_12\">\n      <g>\n       <use xlink:href=\"#m6bce2006a9\" x=\"52.375\" y=\"243.230815\" style=\"stroke: #000000; stroke-width: 0.8\"/>\n      </g>\n     </g>\n     <g id=\"text_13\">\n      <!-- 20000 -->\n      <g transform=\"translate(13.5625 247.030034) scale(0.1 -0.1)\">\n       <use xlink:href=\"#DejaVuSans-32\"/>\n       <use xlink:href=\"#DejaVuSans-30\" x=\"63.623047\"/>\n       <use xlink:href=\"#DejaVuSans-30\" x=\"127.246094\"/>\n       <use xlink:href=\"#DejaVuSans-30\" x=\"190.869141\"/>\n       <use xlink:href=\"#DejaVuSans-30\" x=\"254.492188\"/>\n      </g>\n     </g>\n    </g>\n    <g id=\"ytick_3\">\n     <g id=\"line2d_13\">\n      <g>\n       <use xlink:href=\"#m6bce2006a9\" x=\"52.375\" y=\"213.14963\" style=\"stroke: #000000; stroke-width: 0.8\"/>\n      </g>\n     </g>\n     <g id=\"text_14\">\n      <!-- 40000 -->\n      <g transform=\"translate(13.5625 216.948849) scale(0.1 -0.1)\">\n       <use xlink:href=\"#DejaVuSans-34\"/>\n       <use xlink:href=\"#DejaVuSans-30\" x=\"63.623047\"/>\n       <use xlink:href=\"#DejaVuSans-30\" x=\"127.246094\"/>\n       <use xlink:href=\"#DejaVuSans-30\" x=\"190.869141\"/>\n       <use xlink:href=\"#DejaVuSans-30\" x=\"254.492188\"/>\n      </g>\n     </g>\n    </g>\n    <g id=\"ytick_4\">\n     <g id=\"line2d_14\">\n      <g>\n       <use xlink:href=\"#m6bce2006a9\" x=\"52.375\" y=\"183.068445\" style=\"stroke: #000000; stroke-width: 0.8\"/>\n      </g>\n     </g>\n     <g id=\"text_15\">\n      <!-- 60000 -->\n      <g transform=\"translate(13.5625 186.867664) scale(0.1 -0.1)\">\n       <use xlink:href=\"#DejaVuSans-36\"/>\n       <use xlink:href=\"#DejaVuSans-30\" x=\"63.623047\"/>\n       <use xlink:href=\"#DejaVuSans-30\" x=\"127.246094\"/>\n       <use xlink:href=\"#DejaVuSans-30\" x=\"190.869141\"/>\n       <use xlink:href=\"#DejaVuSans-30\" x=\"254.492188\"/>\n      </g>\n     </g>\n    </g>\n    <g id=\"ytick_5\">\n     <g id=\"line2d_15\">\n      <g>\n       <use xlink:href=\"#m6bce2006a9\" x=\"52.375\" y=\"152.98726\" style=\"stroke: #000000; stroke-width: 0.8\"/>\n      </g>\n     </g>\n     <g id=\"text_16\">\n      <!-- 80000 -->\n      <g transform=\"translate(13.5625 156.786479) scale(0.1 -0.1)\">\n       <use xlink:href=\"#DejaVuSans-38\"/>\n       <use xlink:href=\"#DejaVuSans-30\" x=\"63.623047\"/>\n       <use xlink:href=\"#DejaVuSans-30\" x=\"127.246094\"/>\n       <use xlink:href=\"#DejaVuSans-30\" x=\"190.869141\"/>\n       <use xlink:href=\"#DejaVuSans-30\" x=\"254.492188\"/>\n      </g>\n     </g>\n    </g>\n    <g id=\"ytick_6\">\n     <g id=\"line2d_16\">\n      <g>\n       <use xlink:href=\"#m6bce2006a9\" x=\"52.375\" y=\"122.906075\" style=\"stroke: #000000; stroke-width: 0.8\"/>\n      </g>\n     </g>\n     <g id=\"text_17\">\n      <!-- 100000 -->\n      <g transform=\"translate(7.2 126.705294) scale(0.1 -0.1)\">\n       <use xlink:href=\"#DejaVuSans-31\"/>\n       <use xlink:href=\"#DejaVuSans-30\" x=\"63.623047\"/>\n       <use xlink:href=\"#DejaVuSans-30\" x=\"127.246094\"/>\n       <use xlink:href=\"#DejaVuSans-30\" x=\"190.869141\"/>\n       <use xlink:href=\"#DejaVuSans-30\" x=\"254.492188\"/>\n       <use xlink:href=\"#DejaVuSans-30\" x=\"318.115234\"/>\n      </g>\n     </g>\n    </g>\n    <g id=\"ytick_7\">\n     <g id=\"line2d_17\">\n      <g>\n       <use xlink:href=\"#m6bce2006a9\" x=\"52.375\" y=\"92.82489\" style=\"stroke: #000000; stroke-width: 0.8\"/>\n      </g>\n     </g>\n     <g id=\"text_18\">\n      <!-- 120000 -->\n      <g transform=\"translate(7.2 96.624109) scale(0.1 -0.1)\">\n       <use xlink:href=\"#DejaVuSans-31\"/>\n       <use xlink:href=\"#DejaVuSans-32\" x=\"63.623047\"/>\n       <use xlink:href=\"#DejaVuSans-30\" x=\"127.246094\"/>\n       <use xlink:href=\"#DejaVuSans-30\" x=\"190.869141\"/>\n       <use xlink:href=\"#DejaVuSans-30\" x=\"254.492188\"/>\n       <use xlink:href=\"#DejaVuSans-30\" x=\"318.115234\"/>\n      </g>\n     </g>\n    </g>\n    <g id=\"ytick_8\">\n     <g id=\"line2d_18\">\n      <g>\n       <use xlink:href=\"#m6bce2006a9\" x=\"52.375\" y=\"62.743705\" style=\"stroke: #000000; stroke-width: 0.8\"/>\n      </g>\n     </g>\n     <g id=\"text_19\">\n      <!-- 140000 -->\n      <g transform=\"translate(7.2 66.542924) scale(0.1 -0.1)\">\n       <use xlink:href=\"#DejaVuSans-31\"/>\n       <use xlink:href=\"#DejaVuSans-34\" x=\"63.623047\"/>\n       <use xlink:href=\"#DejaVuSans-30\" x=\"127.246094\"/>\n       <use xlink:href=\"#DejaVuSans-30\" x=\"190.869141\"/>\n       <use xlink:href=\"#DejaVuSans-30\" x=\"254.492188\"/>\n       <use xlink:href=\"#DejaVuSans-30\" x=\"318.115234\"/>\n      </g>\n     </g>\n    </g>\n    <g id=\"ytick_9\">\n     <g id=\"line2d_19\">\n      <g>\n       <use xlink:href=\"#m6bce2006a9\" x=\"52.375\" y=\"32.66252\" style=\"stroke: #000000; stroke-width: 0.8\"/>\n      </g>\n     </g>\n     <g id=\"text_20\">\n      <!-- 160000 -->\n      <g transform=\"translate(7.2 36.461739) scale(0.1 -0.1)\">\n       <use xlink:href=\"#DejaVuSans-31\"/>\n       <use xlink:href=\"#DejaVuSans-36\" x=\"63.623047\"/>\n       <use xlink:href=\"#DejaVuSans-30\" x=\"127.246094\"/>\n       <use xlink:href=\"#DejaVuSans-30\" x=\"190.869141\"/>\n       <use xlink:href=\"#DejaVuSans-30\" x=\"254.492188\"/>\n       <use xlink:href=\"#DejaVuSans-30\" x=\"318.115234\"/>\n      </g>\n     </g>\n    </g>\n   </g>\n   <g id=\"patch_103\">\n    <path d=\"M 52.375 273.312 \nL 52.375 7.2 \n\" style=\"fill: none; stroke: #000000; stroke-width: 0.8; stroke-linejoin: miter; stroke-linecap: square\"/>\n   </g>\n   <g id=\"patch_104\">\n    <path d=\"M 409.495 273.312 \nL 409.495 7.2 \n\" style=\"fill: none; stroke: #000000; stroke-width: 0.8; stroke-linejoin: miter; stroke-linecap: square\"/>\n   </g>\n   <g id=\"patch_105\">\n    <path d=\"M 52.375 273.312 \nL 409.495 273.312 \n\" style=\"fill: none; stroke: #000000; stroke-width: 0.8; stroke-linejoin: miter; stroke-linecap: square\"/>\n   </g>\n   <g id=\"patch_106\">\n    <path d=\"M 52.375 7.2 \nL 409.495 7.2 \n\" style=\"fill: none; stroke: #000000; stroke-width: 0.8; stroke-linejoin: miter; stroke-linecap: square\"/>\n   </g>\n  </g>\n </g>\n <defs>\n  <clipPath id=\"pd1c02ddd6c\">\n   <rect x=\"52.375\" y=\"7.2\" width=\"357.12\" height=\"266.112\"/>\n  </clipPath>\n </defs>\n</svg>\n",
      "text/plain": [
       "<Figure size 640x480 with 1 Axes>"
      ]
     },
     "metadata": {},
     "output_type": "display_data"
    }
   ],
   "source": [
    "items_per_dewey.drop(columns=['Dewey Classification Top Line', 'bot']).groupby(['top', 'mid']).sum().unstack().plot.bar(stacked=True, legend=False)"
   ]
  },
  {
   "cell_type": "code",
   "execution_count": 53,
   "metadata": {},
   "outputs": [],
   "source": [
    "items_per_dewey = items_per_dewey.drop(columns=['Dewey Classification Top Line'])\n",
    "items_per_dewey['mid-bot'] = items_per_dewey.mid + '-' + items_per_dewey.bot"
   ]
  },
  {
   "cell_type": "code",
   "execution_count": 54,
   "metadata": {},
   "outputs": [
    {
     "data": {
      "text/html": [
       "<div>\n",
       "<style scoped>\n",
       "    .dataframe tbody tr th:only-of-type {\n",
       "        vertical-align: middle;\n",
       "    }\n",
       "\n",
       "    .dataframe tbody tr th {\n",
       "        vertical-align: top;\n",
       "    }\n",
       "\n",
       "    .dataframe thead tr th {\n",
       "        text-align: left;\n",
       "    }\n",
       "\n",
       "    .dataframe thead tr:last-of-type th {\n",
       "        text-align: right;\n",
       "    }\n",
       "</style>\n",
       "<table border=\"1\" class=\"dataframe\">\n",
       "  <thead>\n",
       "    <tr>\n",
       "      <th></th>\n",
       "      <th colspan=\"21\" halign=\"left\">Num of Titles (Active)</th>\n",
       "    </tr>\n",
       "    <tr>\n",
       "      <th>mid-bot</th>\n",
       "      <th>0-0</th>\n",
       "      <th>0-1</th>\n",
       "      <th>0-2</th>\n",
       "      <th>0-3</th>\n",
       "      <th>0-4</th>\n",
       "      <th>0-5</th>\n",
       "      <th>0-6</th>\n",
       "      <th>0-7</th>\n",
       "      <th>0-8</th>\n",
       "      <th>0-9</th>\n",
       "      <th>...</th>\n",
       "      <th>9-0</th>\n",
       "      <th>9-1</th>\n",
       "      <th>9-2</th>\n",
       "      <th>9-3</th>\n",
       "      <th>9-4</th>\n",
       "      <th>9-5</th>\n",
       "      <th>9-6</th>\n",
       "      <th>9-7</th>\n",
       "      <th>9-8</th>\n",
       "      <th>9-9</th>\n",
       "    </tr>\n",
       "    <tr>\n",
       "      <th>top</th>\n",
       "      <th></th>\n",
       "      <th></th>\n",
       "      <th></th>\n",
       "      <th></th>\n",
       "      <th></th>\n",
       "      <th></th>\n",
       "      <th></th>\n",
       "      <th></th>\n",
       "      <th></th>\n",
       "      <th></th>\n",
       "      <th></th>\n",
       "      <th></th>\n",
       "      <th></th>\n",
       "      <th></th>\n",
       "      <th></th>\n",
       "      <th></th>\n",
       "      <th></th>\n",
       "      <th></th>\n",
       "      <th></th>\n",
       "      <th></th>\n",
       "      <th></th>\n",
       "    </tr>\n",
       "  </thead>\n",
       "  <tbody>\n",
       "    <tr>\n",
       "      <th>0</th>\n",
       "      <td>62.0</td>\n",
       "      <td>1637.0</td>\n",
       "      <td>177.0</td>\n",
       "      <td>981.0</td>\n",
       "      <td>10376.0</td>\n",
       "      <td>16646.0</td>\n",
       "      <td>8763.0</td>\n",
       "      <td>2.0</td>\n",
       "      <td>0.0</td>\n",
       "      <td>0.0</td>\n",
       "      <td>...</td>\n",
       "      <td>11.0</td>\n",
       "      <td>108.0</td>\n",
       "      <td>2.0</td>\n",
       "      <td>2.0</td>\n",
       "      <td>7.0</td>\n",
       "      <td>NaN</td>\n",
       "      <td>8.0</td>\n",
       "      <td>2.0</td>\n",
       "      <td>11.0</td>\n",
       "      <td>1.0</td>\n",
       "    </tr>\n",
       "    <tr>\n",
       "      <th>1</th>\n",
       "      <td>566.0</td>\n",
       "      <td>63.0</td>\n",
       "      <td>4.0</td>\n",
       "      <td>21.0</td>\n",
       "      <td>10.0</td>\n",
       "      <td>73.0</td>\n",
       "      <td>1.0</td>\n",
       "      <td>31.0</td>\n",
       "      <td>25.0</td>\n",
       "      <td>57.0</td>\n",
       "      <td>...</td>\n",
       "      <td>512.0</td>\n",
       "      <td>486.0</td>\n",
       "      <td>555.0</td>\n",
       "      <td>1549.0</td>\n",
       "      <td>965.0</td>\n",
       "      <td>105.0</td>\n",
       "      <td>66.0</td>\n",
       "      <td>28.0</td>\n",
       "      <td>169.0</td>\n",
       "      <td>301.0</td>\n",
       "    </tr>\n",
       "    <tr>\n",
       "      <th>2</th>\n",
       "      <td>1042.0</td>\n",
       "      <td>644.0</td>\n",
       "      <td>161.0</td>\n",
       "      <td>130.0</td>\n",
       "      <td>181.0</td>\n",
       "      <td>75.0</td>\n",
       "      <td>29.0</td>\n",
       "      <td>36.0</td>\n",
       "      <td>38.0</td>\n",
       "      <td>20.0</td>\n",
       "      <td>...</td>\n",
       "      <td>83.0</td>\n",
       "      <td>408.0</td>\n",
       "      <td>256.0</td>\n",
       "      <td>22.0</td>\n",
       "      <td>1290.0</td>\n",
       "      <td>32.0</td>\n",
       "      <td>1569.0</td>\n",
       "      <td>1425.0</td>\n",
       "      <td>1.0</td>\n",
       "      <td>737.0</td>\n",
       "    </tr>\n",
       "    <tr>\n",
       "      <th>3</th>\n",
       "      <td>1497.0</td>\n",
       "      <td>2299.0</td>\n",
       "      <td>4044.0</td>\n",
       "      <td>4731.0</td>\n",
       "      <td>2211.0</td>\n",
       "      <td>12136.0</td>\n",
       "      <td>10165.0</td>\n",
       "      <td>2655.0</td>\n",
       "      <td>33.0</td>\n",
       "      <td>202.0</td>\n",
       "      <td>...</td>\n",
       "      <td>74.0</td>\n",
       "      <td>284.0</td>\n",
       "      <td>137.0</td>\n",
       "      <td>136.0</td>\n",
       "      <td>608.0</td>\n",
       "      <td>70.0</td>\n",
       "      <td>9.0</td>\n",
       "      <td>2.0</td>\n",
       "      <td>1159.0</td>\n",
       "      <td>3.0</td>\n",
       "    </tr>\n",
       "    <tr>\n",
       "      <th>4</th>\n",
       "      <td>298.0</td>\n",
       "      <td>1759.0</td>\n",
       "      <td>7.0</td>\n",
       "      <td>3.0</td>\n",
       "      <td>114.0</td>\n",
       "      <td>48.0</td>\n",
       "      <td>3.0</td>\n",
       "      <td>63.0</td>\n",
       "      <td>43.0</td>\n",
       "      <td>104.0</td>\n",
       "      <td>...</td>\n",
       "      <td>26.0</td>\n",
       "      <td>492.0</td>\n",
       "      <td>479.0</td>\n",
       "      <td>107.0</td>\n",
       "      <td>123.0</td>\n",
       "      <td>532.0</td>\n",
       "      <td>125.0</td>\n",
       "      <td>215.0</td>\n",
       "      <td>62.0</td>\n",
       "      <td>259.0</td>\n",
       "    </tr>\n",
       "    <tr>\n",
       "      <th>5</th>\n",
       "      <td>486.0</td>\n",
       "      <td>481.0</td>\n",
       "      <td>218.0</td>\n",
       "      <td>19.0</td>\n",
       "      <td>2.0</td>\n",
       "      <td>116.0</td>\n",
       "      <td>66.0</td>\n",
       "      <td>479.0</td>\n",
       "      <td>438.0</td>\n",
       "      <td>416.0</td>\n",
       "      <td>...</td>\n",
       "      <td>205.0</td>\n",
       "      <td>524.0</td>\n",
       "      <td>49.0</td>\n",
       "      <td>26.0</td>\n",
       "      <td>57.0</td>\n",
       "      <td>516.0</td>\n",
       "      <td>33.0</td>\n",
       "      <td>353.0</td>\n",
       "      <td>521.0</td>\n",
       "      <td>760.0</td>\n",
       "    </tr>\n",
       "    <tr>\n",
       "      <th>6</th>\n",
       "      <td>158.0</td>\n",
       "      <td>84.0</td>\n",
       "      <td>18.0</td>\n",
       "      <td>1.0</td>\n",
       "      <td>72.0</td>\n",
       "      <td>24.0</td>\n",
       "      <td>5.0</td>\n",
       "      <td>98.0</td>\n",
       "      <td>28.0</td>\n",
       "      <td>85.0</td>\n",
       "      <td>...</td>\n",
       "      <td>272.0</td>\n",
       "      <td>69.0</td>\n",
       "      <td>28.0</td>\n",
       "      <td>116.0</td>\n",
       "      <td>20.0</td>\n",
       "      <td>14.0</td>\n",
       "      <td>69.0</td>\n",
       "      <td>126.0</td>\n",
       "      <td>10.0</td>\n",
       "      <td>NaN</td>\n",
       "    </tr>\n",
       "    <tr>\n",
       "      <th>7</th>\n",
       "      <td>2095.0</td>\n",
       "      <td>735.0</td>\n",
       "      <td>86.0</td>\n",
       "      <td>10.0</td>\n",
       "      <td>630.0</td>\n",
       "      <td>68.0</td>\n",
       "      <td>37.0</td>\n",
       "      <td>188.0</td>\n",
       "      <td>171.0</td>\n",
       "      <td>2399.0</td>\n",
       "      <td>...</td>\n",
       "      <td>169.0</td>\n",
       "      <td>6236.0</td>\n",
       "      <td>1953.0</td>\n",
       "      <td>291.0</td>\n",
       "      <td>777.0</td>\n",
       "      <td>33.0</td>\n",
       "      <td>1841.0</td>\n",
       "      <td>99.0</td>\n",
       "      <td>40.0</td>\n",
       "      <td>118.0</td>\n",
       "    </tr>\n",
       "    <tr>\n",
       "      <th>8</th>\n",
       "      <td>274.0</td>\n",
       "      <td>803.0</td>\n",
       "      <td>20.0</td>\n",
       "      <td>14.0</td>\n",
       "      <td>7.0</td>\n",
       "      <td>25.0</td>\n",
       "      <td>7.0</td>\n",
       "      <td>38.0</td>\n",
       "      <td>3172.0</td>\n",
       "      <td>4312.0</td>\n",
       "      <td>...</td>\n",
       "      <td>21.0</td>\n",
       "      <td>1625.0</td>\n",
       "      <td>632.0</td>\n",
       "      <td>29.0</td>\n",
       "      <td>144.0</td>\n",
       "      <td>1322.0</td>\n",
       "      <td>36.0</td>\n",
       "      <td>57.0</td>\n",
       "      <td>7.0</td>\n",
       "      <td>76.0</td>\n",
       "    </tr>\n",
       "    <tr>\n",
       "      <th>9</th>\n",
       "      <td>228.0</td>\n",
       "      <td>287.0</td>\n",
       "      <td>12.0</td>\n",
       "      <td>13.0</td>\n",
       "      <td>31.0</td>\n",
       "      <td>47.0</td>\n",
       "      <td>2.0</td>\n",
       "      <td>450.0</td>\n",
       "      <td>16.0</td>\n",
       "      <td>1446.0</td>\n",
       "      <td>...</td>\n",
       "      <td>8.0</td>\n",
       "      <td>9.0</td>\n",
       "      <td>2.0</td>\n",
       "      <td>47.0</td>\n",
       "      <td>140.0</td>\n",
       "      <td>65.0</td>\n",
       "      <td>150.0</td>\n",
       "      <td>7.0</td>\n",
       "      <td>14.0</td>\n",
       "      <td>2.0</td>\n",
       "    </tr>\n",
       "  </tbody>\n",
       "</table>\n",
       "<p>10 rows × 100 columns</p>\n",
       "</div>"
      ],
      "text/plain": [
       "        Num of Titles (Active)                                            \\\n",
       "mid-bot                    0-0     0-1     0-2     0-3      0-4      0-5   \n",
       "top                                                                        \n",
       "0                         62.0  1637.0   177.0   981.0  10376.0  16646.0   \n",
       "1                        566.0    63.0     4.0    21.0     10.0     73.0   \n",
       "2                       1042.0   644.0   161.0   130.0    181.0     75.0   \n",
       "3                       1497.0  2299.0  4044.0  4731.0   2211.0  12136.0   \n",
       "4                        298.0  1759.0     7.0     3.0    114.0     48.0   \n",
       "5                        486.0   481.0   218.0    19.0      2.0    116.0   \n",
       "6                        158.0    84.0    18.0     1.0     72.0     24.0   \n",
       "7                       2095.0   735.0    86.0    10.0    630.0     68.0   \n",
       "8                        274.0   803.0    20.0    14.0      7.0     25.0   \n",
       "9                        228.0   287.0    12.0    13.0     31.0     47.0   \n",
       "\n",
       "                                          ...                                 \\\n",
       "mid-bot      0-6     0-7     0-8     0-9  ...    9-0     9-1     9-2     9-3   \n",
       "top                                       ...                                  \n",
       "0         8763.0     2.0     0.0     0.0  ...   11.0   108.0     2.0     2.0   \n",
       "1            1.0    31.0    25.0    57.0  ...  512.0   486.0   555.0  1549.0   \n",
       "2           29.0    36.0    38.0    20.0  ...   83.0   408.0   256.0    22.0   \n",
       "3        10165.0  2655.0    33.0   202.0  ...   74.0   284.0   137.0   136.0   \n",
       "4            3.0    63.0    43.0   104.0  ...   26.0   492.0   479.0   107.0   \n",
       "5           66.0   479.0   438.0   416.0  ...  205.0   524.0    49.0    26.0   \n",
       "6            5.0    98.0    28.0    85.0  ...  272.0    69.0    28.0   116.0   \n",
       "7           37.0   188.0   171.0  2399.0  ...  169.0  6236.0  1953.0   291.0   \n",
       "8            7.0    38.0  3172.0  4312.0  ...   21.0  1625.0   632.0    29.0   \n",
       "9            2.0   450.0    16.0  1446.0  ...    8.0     9.0     2.0    47.0   \n",
       "\n",
       "                                                        \n",
       "mid-bot     9-4     9-5     9-6     9-7     9-8    9-9  \n",
       "top                                                     \n",
       "0           7.0     NaN     8.0     2.0    11.0    1.0  \n",
       "1         965.0   105.0    66.0    28.0   169.0  301.0  \n",
       "2        1290.0    32.0  1569.0  1425.0     1.0  737.0  \n",
       "3         608.0    70.0     9.0     2.0  1159.0    3.0  \n",
       "4         123.0   532.0   125.0   215.0    62.0  259.0  \n",
       "5          57.0   516.0    33.0   353.0   521.0  760.0  \n",
       "6          20.0    14.0    69.0   126.0    10.0    NaN  \n",
       "7         777.0    33.0  1841.0    99.0    40.0  118.0  \n",
       "8         144.0  1322.0    36.0    57.0     7.0   76.0  \n",
       "9         140.0    65.0   150.0     7.0    14.0    2.0  \n",
       "\n",
       "[10 rows x 100 columns]"
      ]
     },
     "execution_count": 54,
     "metadata": {},
     "output_type": "execute_result"
    }
   ],
   "source": [
    "items_per_dewey = items_per_dewey.drop(columns=['mid', 'bot']).groupby(by=['top', 'mid-bot']).sum().unstack()\n",
    "items_per_dewey"
   ]
  },
  {
   "cell_type": "code",
   "execution_count": 80,
   "metadata": {},
   "outputs": [],
   "source": [
    "import colorsys\n",
    "\n",
    "import matplotlib.colors\n",
    "\n",
    "base_color = {\n",
    "\"0\": \"#9e0142\",\n",
    "\"1\": \"#d53e4f\",\n",
    "\"2\": \"#f46d43\",\n",
    "\"3\": \"#fdae61\",\n",
    "\"4\": \"#fee08b\",\n",
    "\"5\": \"#e6f598\",\n",
    "\"6\": \"#abdda4\",\n",
    "\"7\": \"#66c2a5\",\n",
    "\"8\": \"#3288bd\",\n",
    "\"9\": \"#5e4fa2\",\n",
    "}\n",
    "\n",
    "def get_shade(idx):\n",
    "    base, shade = idx.split('-')\n",
    "    h, s, v = colorsys.rgb_to_hsv(*matplotlib.colors.to_rgb(base_color[base]))\n",
    "    v -= int(shade) * .03\n",
    "    return colorsys.hsv_to_rgb(h, s, v)\n",
    "\n",
    "\n",
    "colors = [get_shade(col) for _, col in items_per_dewey.columns] "
   ]
  },
  {
   "cell_type": "code",
   "execution_count": 81,
   "metadata": {},
   "outputs": [
    {
     "data": {
      "text/plain": [
       "<AxesSubplot: xlabel='top'>"
      ]
     },
     "execution_count": 81,
     "metadata": {},
     "output_type": "execute_result"
    },
    {
     "data": {
      "image/svg+xml": "<?xml version=\"1.0\" encoding=\"utf-8\" standalone=\"no\"?>\n<!DOCTYPE svg PUBLIC \"-//W3C//DTD SVG 1.1//EN\"\n  \"http://www.w3.org/Graphics/SVG/1.1/DTD/svg11.dtd\">\n<svg xmlns:xlink=\"http://www.w3.org/1999/xlink\" width=\"416.695pt\" height=\"307.552625pt\" viewBox=\"0 0 416.695 307.552625\" xmlns=\"http://www.w3.org/2000/svg\" version=\"1.1\">\n <metadata>\n  <rdf:RDF xmlns:dc=\"http://purl.org/dc/elements/1.1/\" xmlns:cc=\"http://creativecommons.org/ns#\" xmlns:rdf=\"http://www.w3.org/1999/02/22-rdf-syntax-ns#\">\n   <cc:Work>\n    <dc:type rdf:resource=\"http://purl.org/dc/dcmitype/StillImage\"/>\n    <dc:date>2023-01-06T16:55:23.753322</dc:date>\n    <dc:format>image/svg+xml</dc:format>\n    <dc:creator>\n     <cc:Agent>\n      <dc:title>Matplotlib v3.6.0, https://matplotlib.org/</dc:title>\n     </cc:Agent>\n    </dc:creator>\n   </cc:Work>\n  </rdf:RDF>\n </metadata>\n <defs>\n  <style type=\"text/css\">*{stroke-linejoin: round; stroke-linecap: butt}</style>\n </defs>\n <g id=\"figure_1\">\n  <g id=\"patch_1\">\n   <path d=\"M 0 307.552625 \nL 416.695 307.552625 \nL 416.695 0 \nL 0 0 \nz\n\" style=\"fill: #ffffff\"/>\n  </g>\n  <g id=\"axes_1\">\n   <g id=\"patch_2\">\n    <path d=\"M 52.375 273.312 \nL 409.495 273.312 \nL 409.495 7.2 \nL 52.375 7.2 \nz\n\" style=\"fill: #ffffff\"/>\n   </g>\n   <g id=\"patch_3\">\n    <path d=\"M 61.303 273.312 \nL 79.159 273.312 \nL 79.159 273.218748 \nL 61.303 273.218748 \nz\n\" clip-path=\"url(#p45a725a746)\" style=\"fill: #9e0142\"/>\n   </g>\n   <g id=\"patch_4\">\n    <path d=\"M 97.015 273.312 \nL 114.871 273.312 \nL 114.871 272.460702 \nL 97.015 272.460702 \nz\n\" clip-path=\"url(#p45a725a746)\" style=\"fill: #9e0142\"/>\n   </g>\n   <g id=\"patch_5\">\n    <path d=\"M 132.727 273.312 \nL 150.583 273.312 \nL 150.583 271.74477 \nL 132.727 271.74477 \nz\n\" clip-path=\"url(#p45a725a746)\" style=\"fill: #9e0142\"/>\n   </g>\n   <g id=\"patch_6\">\n    <path d=\"M 168.439 273.312 \nL 186.295 273.312 \nL 186.295 271.060423 \nL 168.439 271.060423 \nz\n\" clip-path=\"url(#p45a725a746)\" style=\"fill: #9e0142\"/>\n   </g>\n   <g id=\"patch_7\">\n    <path d=\"M 204.151 273.312 \nL 222.007 273.312 \nL 222.007 272.86379 \nL 204.151 272.86379 \nz\n\" clip-path=\"url(#p45a725a746)\" style=\"fill: #9e0142\"/>\n   </g>\n   <g id=\"patch_8\">\n    <path d=\"M 239.863 273.312 \nL 257.719 273.312 \nL 257.719 272.581027 \nL 239.863 272.581027 \nz\n\" clip-path=\"url(#p45a725a746)\" style=\"fill: #9e0142\"/>\n   </g>\n   <g id=\"patch_9\">\n    <path d=\"M 275.575 273.312 \nL 293.431 273.312 \nL 293.431 273.074359 \nL 275.575 273.074359 \nz\n\" clip-path=\"url(#p45a725a746)\" style=\"fill: #9e0142\"/>\n   </g>\n   <g id=\"patch_10\">\n    <path d=\"M 311.287 273.312 \nL 329.143 273.312 \nL 329.143 270.160996 \nL 311.287 270.160996 \nz\n\" clip-path=\"url(#p45a725a746)\" style=\"fill: #9e0142\"/>\n   </g>\n   <g id=\"patch_11\">\n    <path d=\"M 346.999 273.312 \nL 364.855 273.312 \nL 364.855 272.899888 \nL 346.999 272.899888 \nz\n\" clip-path=\"url(#p45a725a746)\" style=\"fill: #9e0142\"/>\n   </g>\n   <g id=\"patch_12\">\n    <path d=\"M 382.711 273.312 \nL 400.567 273.312 \nL 400.567 272.969074 \nL 382.711 272.969074 \nz\n\" clip-path=\"url(#p45a725a746)\" style=\"fill: #9e0142\"/>\n   </g>\n   <g id=\"patch_13\">\n    <path d=\"M 61.303 273.218748 \nL 79.159 273.218748 \nL 79.159 270.756603 \nL 61.303 270.756603 \nz\n\" clip-path=\"url(#p45a725a746)\" style=\"fill: #96013f\"/>\n   </g>\n   <g id=\"patch_14\">\n    <path d=\"M 97.015 272.460702 \nL 114.871 272.460702 \nL 114.871 272.365947 \nL 97.015 272.365947 \nz\n\" clip-path=\"url(#p45a725a746)\" style=\"fill: #96013f\"/>\n   </g>\n   <g id=\"patch_15\">\n    <path d=\"M 132.727 271.74477 \nL 150.583 271.74477 \nL 150.583 270.776156 \nL 132.727 270.776156 \nz\n\" clip-path=\"url(#p45a725a746)\" style=\"fill: #96013f\"/>\n   </g>\n   <g id=\"patch_16\">\n    <path d=\"M 168.439 271.060423 \nL 186.295 271.060423 \nL 186.295 267.602591 \nL 168.439 267.602591 \nz\n\" clip-path=\"url(#p45a725a746)\" style=\"fill: #96013f\"/>\n   </g>\n   <g id=\"patch_17\">\n    <path d=\"M 204.151 272.86379 \nL 222.007 272.86379 \nL 222.007 270.21815 \nL 204.151 270.21815 \nz\n\" clip-path=\"url(#p45a725a746)\" style=\"fill: #96013f\"/>\n   </g>\n   <g id=\"patch_18\">\n    <path d=\"M 239.863 272.581027 \nL 257.719 272.581027 \nL 257.719 271.857575 \nL 239.863 271.857575 \nz\n\" clip-path=\"url(#p45a725a746)\" style=\"fill: #96013f\"/>\n   </g>\n   <g id=\"patch_19\">\n    <path d=\"M 275.575 273.074359 \nL 293.431 273.074359 \nL 293.431 272.948018 \nL 275.575 272.948018 \nz\n\" clip-path=\"url(#p45a725a746)\" style=\"fill: #96013f\"/>\n   </g>\n   <g id=\"patch_20\">\n    <path d=\"M 311.287 270.160996 \nL 329.143 270.160996 \nL 329.143 269.055512 \nL 311.287 269.055512 \nz\n\" clip-path=\"url(#p45a725a746)\" style=\"fill: #96013f\"/>\n   </g>\n   <g id=\"patch_21\">\n    <path d=\"M 346.999 272.899888 \nL 364.855 272.899888 \nL 364.855 271.692128 \nL 346.999 271.692128 \nz\n\" clip-path=\"url(#p45a725a746)\" style=\"fill: #96013f\"/>\n   </g>\n   <g id=\"patch_22\">\n    <path d=\"M 382.711 272.969074 \nL 400.567 272.969074 \nL 400.567 272.537409 \nL 382.711 272.537409 \nz\n\" clip-path=\"url(#p45a725a746)\" style=\"fill: #96013f\"/>\n   </g>\n   <g id=\"patch_23\">\n    <path d=\"M 61.303 270.756603 \nL 79.159 270.756603 \nL 79.159 270.490385 \nL 61.303 270.490385 \nz\n\" clip-path=\"url(#p45a725a746)\" style=\"fill: #8f013c\"/>\n   </g>\n   <g id=\"patch_24\">\n    <path d=\"M 97.015 272.365947 \nL 114.871 272.365947 \nL 114.871 272.35993 \nL 97.015 272.35993 \nz\n\" clip-path=\"url(#p45a725a746)\" style=\"fill: #8f013c\"/>\n   </g>\n   <g id=\"patch_25\">\n    <path d=\"M 132.727 270.776156 \nL 150.583 270.776156 \nL 150.583 270.534003 \nL 132.727 270.534003 \nz\n\" clip-path=\"url(#p45a725a746)\" style=\"fill: #8f013c\"/>\n   </g>\n   <g id=\"patch_26\">\n    <path d=\"M 168.439 267.602591 \nL 186.295 267.602591 \nL 186.295 261.520175 \nL 168.439 261.520175 \nz\n\" clip-path=\"url(#p45a725a746)\" style=\"fill: #8f013c\"/>\n   </g>\n   <g id=\"patch_27\">\n    <path d=\"M 204.151 270.21815 \nL 222.007 270.21815 \nL 222.007 270.207622 \nL 204.151 270.207622 \nz\n\" clip-path=\"url(#p45a725a746)\" style=\"fill: #8f013c\"/>\n   </g>\n   <g id=\"patch_28\">\n    <path d=\"M 239.863 271.857575 \nL 257.719 271.857575 \nL 257.719 271.52969 \nL 239.863 271.52969 \nz\n\" clip-path=\"url(#p45a725a746)\" style=\"fill: #8f013c\"/>\n   </g>\n   <g id=\"patch_29\">\n    <path d=\"M 275.575 272.948018 \nL 293.431 272.948018 \nL 293.431 272.920945 \nL 275.575 272.920945 \nz\n\" clip-path=\"url(#p45a725a746)\" style=\"fill: #8f013c\"/>\n   </g>\n   <g id=\"patch_30\">\n    <path d=\"M 311.287 269.055512 \nL 329.143 269.055512 \nL 329.143 268.926163 \nL 311.287 268.926163 \nz\n\" clip-path=\"url(#p45a725a746)\" style=\"fill: #8f013c\"/>\n   </g>\n   <g id=\"patch_31\">\n    <path d=\"M 346.999 271.692128 \nL 364.855 271.692128 \nL 364.855 271.662047 \nL 346.999 271.662047 \nz\n\" clip-path=\"url(#p45a725a746)\" style=\"fill: #8f013c\"/>\n   </g>\n   <g id=\"patch_32\">\n    <path d=\"M 382.711 272.537409 \nL 400.567 272.537409 \nL 400.567 272.519361 \nL 382.711 272.519361 \nz\n\" clip-path=\"url(#p45a725a746)\" style=\"fill: #8f013c\"/>\n   </g>\n   <g id=\"patch_33\">\n    <path d=\"M 61.303 270.490385 \nL 79.159 270.490385 \nL 79.159 269.014903 \nL 61.303 269.014903 \nz\n\" clip-path=\"url(#p45a725a746)\" style=\"fill: #870138\"/>\n   </g>\n   <g id=\"patch_34\">\n    <path d=\"M 97.015 272.35993 \nL 114.871 272.35993 \nL 114.871 272.328345 \nL 97.015 272.328345 \nz\n\" clip-path=\"url(#p45a725a746)\" style=\"fill: #870138\"/>\n   </g>\n   <g id=\"patch_35\">\n    <path d=\"M 132.727 270.534003 \nL 150.583 270.534003 \nL 150.583 270.338475 \nL 132.727 270.338475 \nz\n\" clip-path=\"url(#p45a725a746)\" style=\"fill: #870138\"/>\n   </g>\n   <g id=\"patch_36\">\n    <path d=\"M 168.439 261.520175 \nL 186.295 261.520175 \nL 186.295 254.404471 \nL 168.439 254.404471 \nz\n\" clip-path=\"url(#p45a725a746)\" style=\"fill: #870138\"/>\n   </g>\n   <g id=\"patch_37\">\n    <path d=\"M 204.151 270.207622 \nL 222.007 270.207622 \nL 222.007 270.20311 \nL 204.151 270.20311 \nz\n\" clip-path=\"url(#p45a725a746)\" style=\"fill: #870138\"/>\n   </g>\n   <g id=\"patch_38\">\n    <path d=\"M 239.863 271.52969 \nL 257.719 271.52969 \nL 257.719 271.501113 \nL 239.863 271.501113 \nz\n\" clip-path=\"url(#p45a725a746)\" style=\"fill: #870138\"/>\n   </g>\n   <g id=\"patch_39\">\n    <path d=\"M 275.575 272.920945 \nL 293.431 272.920945 \nL 293.431 272.919441 \nL 275.575 272.919441 \nz\n\" clip-path=\"url(#p45a725a746)\" style=\"fill: #870138\"/>\n   </g>\n   <g id=\"patch_40\">\n    <path d=\"M 311.287 268.926163 \nL 329.143 268.926163 \nL 329.143 268.911123 \nL 311.287 268.911123 \nz\n\" clip-path=\"url(#p45a725a746)\" style=\"fill: #870138\"/>\n   </g>\n   <g id=\"patch_41\">\n    <path d=\"M 346.999 271.662047 \nL 364.855 271.662047 \nL 364.855 271.64099 \nL 346.999 271.64099 \nz\n\" clip-path=\"url(#p45a725a746)\" style=\"fill: #870138\"/>\n   </g>\n   <g id=\"patch_42\">\n    <path d=\"M 382.711 272.519361 \nL 400.567 272.519361 \nL 400.567 272.499808 \nL 382.711 272.499808 \nz\n\" clip-path=\"url(#p45a725a746)\" style=\"fill: #870138\"/>\n   </g>\n   <g id=\"patch_43\">\n    <path d=\"M 61.303 269.014903 \nL 79.159 269.014903 \nL 79.159 253.408784 \nL 61.303 253.408784 \nz\n\" clip-path=\"url(#p45a725a746)\" style=\"fill: #7f0135\"/>\n   </g>\n   <g id=\"patch_44\">\n    <path d=\"M 97.015 272.328345 \nL 114.871 272.328345 \nL 114.871 272.313305 \nL 97.015 272.313305 \nz\n\" clip-path=\"url(#p45a725a746)\" style=\"fill: #7f0135\"/>\n   </g>\n   <g id=\"patch_45\">\n    <path d=\"M 132.727 270.338475 \nL 150.583 270.338475 \nL 150.583 270.06624 \nL 132.727 270.06624 \nz\n\" clip-path=\"url(#p45a725a746)\" style=\"fill: #7f0135\"/>\n   </g>\n   <g id=\"patch_46\">\n    <path d=\"M 168.439 254.404471 \nL 186.295 254.404471 \nL 186.295 251.078996 \nL 168.439 251.078996 \nz\n\" clip-path=\"url(#p45a725a746)\" style=\"fill: #7f0135\"/>\n   </g>\n   <g id=\"patch_47\">\n    <path d=\"M 204.151 270.20311 \nL 222.007 270.20311 \nL 222.007 270.031647 \nL 204.151 270.031647 \nz\n\" clip-path=\"url(#p45a725a746)\" style=\"fill: #7f0135\"/>\n   </g>\n   <g id=\"patch_48\">\n    <path d=\"M 239.863 271.501113 \nL 257.719 271.501113 \nL 257.719 271.498105 \nL 239.863 271.498105 \nz\n\" clip-path=\"url(#p45a725a746)\" style=\"fill: #7f0135\"/>\n   </g>\n   <g id=\"patch_49\">\n    <path d=\"M 275.575 272.919441 \nL 293.431 272.919441 \nL 293.431 272.811148 \nL 275.575 272.811148 \nz\n\" clip-path=\"url(#p45a725a746)\" style=\"fill: #7f0135\"/>\n   </g>\n   <g id=\"patch_50\">\n    <path d=\"M 311.287 268.911123 \nL 329.143 268.911123 \nL 329.143 267.963565 \nL 311.287 267.963565 \nz\n\" clip-path=\"url(#p45a725a746)\" style=\"fill: #7f0135\"/>\n   </g>\n   <g id=\"patch_51\">\n    <path d=\"M 346.999 271.64099 \nL 364.855 271.64099 \nL 364.855 271.630462 \nL 346.999 271.630462 \nz\n\" clip-path=\"url(#p45a725a746)\" style=\"fill: #7f0135\"/>\n   </g>\n   <g id=\"patch_52\">\n    <path d=\"M 382.711 272.499808 \nL 400.567 272.499808 \nL 400.567 272.453182 \nL 382.711 272.453182 \nz\n\" clip-path=\"url(#p45a725a746)\" style=\"fill: #7f0135\"/>\n   </g>\n   <g id=\"patch_53\">\n    <path d=\"M 61.303 253.408784 \nL 79.159 253.408784 \nL 79.159 228.372214 \nL 61.303 228.372214 \nz\n\" clip-path=\"url(#p45a725a746)\" style=\"fill: #780132\"/>\n   </g>\n   <g id=\"patch_54\">\n    <path d=\"M 97.015 272.313305 \nL 114.871 272.313305 \nL 114.871 272.203508 \nL 97.015 272.203508 \nz\n\" clip-path=\"url(#p45a725a746)\" style=\"fill: #780132\"/>\n   </g>\n   <g id=\"patch_55\">\n    <path d=\"M 132.727 270.06624 \nL 150.583 270.06624 \nL 150.583 269.953436 \nL 132.727 269.953436 \nz\n\" clip-path=\"url(#p45a725a746)\" style=\"fill: #780132\"/>\n   </g>\n   <g id=\"patch_56\">\n    <path d=\"M 168.439 251.078996 \nL 186.295 251.078996 \nL 186.295 232.825733 \nL 168.439 232.825733 \nz\n\" clip-path=\"url(#p45a725a746)\" style=\"fill: #780132\"/>\n   </g>\n   <g id=\"patch_57\">\n    <path d=\"M 204.151 270.031647 \nL 222.007 270.031647 \nL 222.007 269.959452 \nL 204.151 269.959452 \nz\n\" clip-path=\"url(#p45a725a746)\" style=\"fill: #780132\"/>\n   </g>\n   <g id=\"patch_58\">\n    <path d=\"M 239.863 271.498105 \nL 257.719 271.498105 \nL 257.719 271.323634 \nL 239.863 271.323634 \nz\n\" clip-path=\"url(#p45a725a746)\" style=\"fill: #780132\"/>\n   </g>\n   <g id=\"patch_59\">\n    <path d=\"M 275.575 272.811148 \nL 293.431 272.811148 \nL 293.431 272.775051 \nL 275.575 272.775051 \nz\n\" clip-path=\"url(#p45a725a746)\" style=\"fill: #780132\"/>\n   </g>\n   <g id=\"patch_60\">\n    <path d=\"M 311.287 267.963565 \nL 329.143 267.963565 \nL 329.143 267.861289 \nL 311.287 267.861289 \nz\n\" clip-path=\"url(#p45a725a746)\" style=\"fill: #780132\"/>\n   </g>\n   <g id=\"patch_61\">\n    <path d=\"M 346.999 271.630462 \nL 364.855 271.630462 \nL 364.855 271.59286 \nL 346.999 271.59286 \nz\n\" clip-path=\"url(#p45a725a746)\" style=\"fill: #780132\"/>\n   </g>\n   <g id=\"patch_62\">\n    <path d=\"M 382.711 272.453182 \nL 400.567 272.453182 \nL 400.567 272.382491 \nL 382.711 272.382491 \nz\n\" clip-path=\"url(#p45a725a746)\" style=\"fill: #780132\"/>\n   </g>\n   <g id=\"patch_63\">\n    <path d=\"M 61.303 228.372214 \nL 79.159 228.372214 \nL 79.159 215.192142 \nL 61.303 215.192142 \nz\n\" clip-path=\"url(#p45a725a746)\" style=\"fill: #70012f\"/>\n   </g>\n   <g id=\"patch_64\">\n    <path d=\"M 97.015 272.203508 \nL 114.871 272.203508 \nL 114.871 272.202004 \nL 97.015 272.202004 \nz\n\" clip-path=\"url(#p45a725a746)\" style=\"fill: #70012f\"/>\n   </g>\n   <g id=\"patch_65\">\n    <path d=\"M 132.727 269.953436 \nL 150.583 269.953436 \nL 150.583 269.909818 \nL 132.727 269.909818 \nz\n\" clip-path=\"url(#p45a725a746)\" style=\"fill: #70012f\"/>\n   </g>\n   <g id=\"patch_66\">\n    <path d=\"M 168.439 232.825733 \nL 186.295 232.825733 \nL 186.295 217.536971 \nL 168.439 217.536971 \nz\n\" clip-path=\"url(#p45a725a746)\" style=\"fill: #70012f\"/>\n   </g>\n   <g id=\"patch_67\">\n    <path d=\"M 204.151 269.959452 \nL 222.007 269.959452 \nL 222.007 269.95494 \nL 204.151 269.95494 \nz\n\" clip-path=\"url(#p45a725a746)\" style=\"fill: #70012f\"/>\n   </g>\n   <g id=\"patch_68\">\n    <path d=\"M 239.863 271.323634 \nL 257.719 271.323634 \nL 257.719 271.224366 \nL 239.863 271.224366 \nz\n\" clip-path=\"url(#p45a725a746)\" style=\"fill: #70012f\"/>\n   </g>\n   <g id=\"patch_69\">\n    <path d=\"M 275.575 272.775051 \nL 293.431 272.775051 \nL 293.431 272.767531 \nL 275.575 272.767531 \nz\n\" clip-path=\"url(#p45a725a746)\" style=\"fill: #70012f\"/>\n   </g>\n   <g id=\"patch_70\">\n    <path d=\"M 311.287 267.861289 \nL 329.143 267.861289 \nL 329.143 267.805639 \nL 311.287 267.805639 \nz\n\" clip-path=\"url(#p45a725a746)\" style=\"fill: #70012f\"/>\n   </g>\n   <g id=\"patch_71\">\n    <path d=\"M 346.999 271.59286 \nL 364.855 271.59286 \nL 364.855 271.582332 \nL 346.999 271.582332 \nz\n\" clip-path=\"url(#p45a725a746)\" style=\"fill: #70012f\"/>\n   </g>\n   <g id=\"patch_72\">\n    <path d=\"M 382.711 272.382491 \nL 400.567 272.382491 \nL 400.567 272.379483 \nL 382.711 272.379483 \nz\n\" clip-path=\"url(#p45a725a746)\" style=\"fill: #70012f\"/>\n   </g>\n   <g id=\"patch_73\">\n    <path d=\"M 61.303 215.192142 \nL 79.159 215.192142 \nL 79.159 215.189134 \nL 61.303 215.189134 \nz\n\" clip-path=\"url(#p45a725a746)\" style=\"fill: #68012c\"/>\n   </g>\n   <g id=\"patch_74\">\n    <path d=\"M 97.015 272.202004 \nL 114.871 272.202004 \nL 114.871 272.155378 \nL 97.015 272.155378 \nz\n\" clip-path=\"url(#p45a725a746)\" style=\"fill: #68012c\"/>\n   </g>\n   <g id=\"patch_75\">\n    <path d=\"M 132.727 269.909818 \nL 150.583 269.909818 \nL 150.583 269.855672 \nL 132.727 269.855672 \nz\n\" clip-path=\"url(#p45a725a746)\" style=\"fill: #68012c\"/>\n   </g>\n   <g id=\"patch_76\">\n    <path d=\"M 168.439 217.536971 \nL 186.295 217.536971 \nL 186.295 213.543693 \nL 168.439 213.543693 \nz\n\" clip-path=\"url(#p45a725a746)\" style=\"fill: #68012c\"/>\n   </g>\n   <g id=\"patch_77\">\n    <path d=\"M 204.151 269.95494 \nL 222.007 269.95494 \nL 222.007 269.860184 \nL 204.151 269.860184 \nz\n\" clip-path=\"url(#p45a725a746)\" style=\"fill: #68012c\"/>\n   </g>\n   <g id=\"patch_78\">\n    <path d=\"M 239.863 271.224366 \nL 257.719 271.224366 \nL 257.719 270.503921 \nL 239.863 270.503921 \nz\n\" clip-path=\"url(#p45a725a746)\" style=\"fill: #68012c\"/>\n   </g>\n   <g id=\"patch_79\">\n    <path d=\"M 275.575 272.767531 \nL 293.431 272.767531 \nL 293.431 272.620133 \nL 275.575 272.620133 \nz\n\" clip-path=\"url(#p45a725a746)\" style=\"fill: #68012c\"/>\n   </g>\n   <g id=\"patch_80\">\n    <path d=\"M 311.287 267.805639 \nL 329.143 267.805639 \nL 329.143 267.522876 \nL 311.287 267.522876 \nz\n\" clip-path=\"url(#p45a725a746)\" style=\"fill: #68012c\"/>\n   </g>\n   <g id=\"patch_81\">\n    <path d=\"M 346.999 271.582332 \nL 364.855 271.582332 \nL 364.855 271.525178 \nL 346.999 271.525178 \nz\n\" clip-path=\"url(#p45a725a746)\" style=\"fill: #68012c\"/>\n   </g>\n   <g id=\"patch_82\">\n    <path d=\"M 382.711 272.379483 \nL 400.567 272.379483 \nL 400.567 271.702657 \nL 382.711 271.702657 \nz\n\" clip-path=\"url(#p45a725a746)\" style=\"fill: #68012c\"/>\n   </g>\n   <g id=\"patch_83\">\n    <path d=\"M 61.303 273.312 \nL 79.159 273.312 \nL 79.159 273.312 \nL 61.303 273.312 \nz\n\" clip-path=\"url(#p45a725a746)\" style=\"fill: #610128\"/>\n   </g>\n   <g id=\"patch_84\">\n    <path d=\"M 97.015 272.155378 \nL 114.871 272.155378 \nL 114.871 272.117777 \nL 97.015 272.117777 \nz\n\" clip-path=\"url(#p45a725a746)\" style=\"fill: #610128\"/>\n   </g>\n   <g id=\"patch_85\">\n    <path d=\"M 132.727 269.855672 \nL 150.583 269.855672 \nL 150.583 269.798518 \nL 132.727 269.798518 \nz\n\" clip-path=\"url(#p45a725a746)\" style=\"fill: #610128\"/>\n   </g>\n   <g id=\"patch_86\">\n    <path d=\"M 168.439 213.543693 \nL 186.295 213.543693 \nL 186.295 213.49406 \nL 168.439 213.49406 \nz\n\" clip-path=\"url(#p45a725a746)\" style=\"fill: #610128\"/>\n   </g>\n   <g id=\"patch_87\">\n    <path d=\"M 204.151 269.860184 \nL 222.007 269.860184 \nL 222.007 269.795509 \nL 204.151 269.795509 \nz\n\" clip-path=\"url(#p45a725a746)\" style=\"fill: #610128\"/>\n   </g>\n   <g id=\"patch_88\">\n    <path d=\"M 239.863 270.503921 \nL 257.719 270.503921 \nL 257.719 269.845143 \nL 239.863 269.845143 \nz\n\" clip-path=\"url(#p45a725a746)\" style=\"fill: #610128\"/>\n   </g>\n   <g id=\"patch_89\">\n    <path d=\"M 275.575 272.620133 \nL 293.431 272.620133 \nL 293.431 272.578019 \nL 275.575 272.578019 \nz\n\" clip-path=\"url(#p45a725a746)\" style=\"fill: #610128\"/>\n   </g>\n   <g id=\"patch_90\">\n    <path d=\"M 311.287 267.522876 \nL 329.143 267.522876 \nL 329.143 267.265682 \nL 311.287 267.265682 \nz\n\" clip-path=\"url(#p45a725a746)\" style=\"fill: #610128\"/>\n   </g>\n   <g id=\"patch_91\">\n    <path d=\"M 346.999 271.525178 \nL 364.855 271.525178 \nL 364.855 266.754302 \nL 346.999 266.754302 \nz\n\" clip-path=\"url(#p45a725a746)\" style=\"fill: #610128\"/>\n   </g>\n   <g id=\"patch_92\">\n    <path d=\"M 382.711 271.702657 \nL 400.567 271.702657 \nL 400.567 271.678592 \nL 382.711 271.678592 \nz\n\" clip-path=\"url(#p45a725a746)\" style=\"fill: #610128\"/>\n   </g>\n   <g id=\"patch_93\">\n    <path d=\"M 61.303 273.312 \nL 79.159 273.312 \nL 79.159 273.312 \nL 61.303 273.312 \nz\n\" clip-path=\"url(#p45a725a746)\" style=\"fill: #590125\"/>\n   </g>\n   <g id=\"patch_94\">\n    <path d=\"M 97.015 272.117777 \nL 114.871 272.117777 \nL 114.871 272.032046 \nL 97.015 272.032046 \nz\n\" clip-path=\"url(#p45a725a746)\" style=\"fill: #590125\"/>\n   </g>\n   <g id=\"patch_95\">\n    <path d=\"M 132.727 269.798518 \nL 150.583 269.798518 \nL 150.583 269.768436 \nL 132.727 269.768436 \nz\n\" clip-path=\"url(#p45a725a746)\" style=\"fill: #590125\"/>\n   </g>\n   <g id=\"patch_96\">\n    <path d=\"M 168.439 213.49406 \nL 186.295 213.49406 \nL 186.295 213.19024 \nL 168.439 213.19024 \nz\n\" clip-path=\"url(#p45a725a746)\" style=\"fill: #590125\"/>\n   </g>\n   <g id=\"patch_97\">\n    <path d=\"M 204.151 269.795509 \nL 222.007 269.795509 \nL 222.007 269.639087 \nL 204.151 269.639087 \nz\n\" clip-path=\"url(#p45a725a746)\" style=\"fill: #590125\"/>\n   </g>\n   <g id=\"patch_98\">\n    <path d=\"M 239.863 269.845143 \nL 257.719 269.845143 \nL 257.719 269.219455 \nL 239.863 269.219455 \nz\n\" clip-path=\"url(#p45a725a746)\" style=\"fill: #590125\"/>\n   </g>\n   <g id=\"patch_99\">\n    <path d=\"M 275.575 272.578019 \nL 293.431 272.578019 \nL 293.431 272.450174 \nL 275.575 272.450174 \nz\n\" clip-path=\"url(#p45a725a746)\" style=\"fill: #590125\"/>\n   </g>\n   <g id=\"patch_100\">\n    <path d=\"M 311.287 267.265682 \nL 329.143 267.265682 \nL 329.143 263.657444 \nL 311.287 263.657444 \nz\n\" clip-path=\"url(#p45a725a746)\" style=\"fill: #590125\"/>\n   </g>\n   <g id=\"patch_101\">\n    <path d=\"M 346.999 266.754302 \nL 364.855 266.754302 \nL 364.855 260.268798 \nL 346.999 260.268798 \nz\n\" clip-path=\"url(#p45a725a746)\" style=\"fill: #590125\"/>\n   </g>\n   <g id=\"patch_102\">\n    <path d=\"M 382.711 271.678592 \nL 400.567 271.678592 \nL 400.567 269.503722 \nL 382.711 269.503722 \nz\n\" clip-path=\"url(#p45a725a746)\" style=\"fill: #590125\"/>\n   </g>\n   <g id=\"patch_103\">\n    <path d=\"M 61.303 215.189134 \nL 79.159 215.189134 \nL 79.159 215.116939 \nL 61.303 215.116939 \nz\n\" clip-path=\"url(#p45a725a746)\" style=\"fill: #d53e4f\"/>\n   </g>\n   <g id=\"patch_104\">\n    <path d=\"M 97.015 272.032046 \nL 114.871 272.032046 \nL 114.871 271.558267 \nL 97.015 271.558267 \nz\n\" clip-path=\"url(#p45a725a746)\" style=\"fill: #d53e4f\"/>\n   </g>\n   <g id=\"patch_105\">\n    <path d=\"M 132.727 269.768436 \nL 150.583 269.768436 \nL 150.583 269.309698 \nL 132.727 269.309698 \nz\n\" clip-path=\"url(#p45a725a746)\" style=\"fill: #d53e4f\"/>\n   </g>\n   <g id=\"patch_106\">\n    <path d=\"M 168.439 213.19024 \nL 186.295 213.19024 \nL 186.295 213.118045 \nL 168.439 213.118045 \nz\n\" clip-path=\"url(#p45a725a746)\" style=\"fill: #d53e4f\"/>\n   </g>\n   <g id=\"patch_107\">\n    <path d=\"M 204.151 269.639087 \nL 222.007 269.639087 \nL 222.007 267.8282 \nL 204.151 267.8282 \nz\n\" clip-path=\"url(#p45a725a746)\" style=\"fill: #d53e4f\"/>\n   </g>\n   <g id=\"patch_108\">\n    <path d=\"M 239.863 269.219455 \nL 257.719 269.219455 \nL 257.719 266.507636 \nL 239.863 266.507636 \nz\n\" clip-path=\"url(#p45a725a746)\" style=\"fill: #d53e4f\"/>\n   </g>\n   <g id=\"patch_109\">\n    <path d=\"M 275.575 272.450174 \nL 293.431 272.450174 \nL 293.431 266.238409 \nL 275.575 266.238409 \nz\n\" clip-path=\"url(#p45a725a746)\" style=\"fill: #d53e4f\"/>\n   </g>\n   <g id=\"patch_110\">\n    <path d=\"M 311.287 263.657444 \nL 329.143 263.657444 \nL 329.143 263.628867 \nL 311.287 263.628867 \nz\n\" clip-path=\"url(#p45a725a746)\" style=\"fill: #d53e4f\"/>\n   </g>\n   <g id=\"patch_111\">\n    <path d=\"M 346.999 260.268798 \nL 364.855 260.268798 \nL 364.855 256.662064 \nL 346.999 256.662064 \nz\n\" clip-path=\"url(#p45a725a746)\" style=\"fill: #d53e4f\"/>\n   </g>\n   <g id=\"patch_112\">\n    <path d=\"M 382.711 269.503722 \nL 400.567 269.503722 \nL 400.567 267.93198 \nL 382.711 267.93198 \nz\n\" clip-path=\"url(#p45a725a746)\" style=\"fill: #d53e4f\"/>\n   </g>\n   <g id=\"patch_113\">\n    <path d=\"M 61.303 215.116939 \nL 79.159 215.116939 \nL 79.159 214.998119 \nL 61.303 214.998119 \nz\n\" clip-path=\"url(#p45a725a746)\" style=\"fill: #cd3c4c\"/>\n   </g>\n   <g id=\"patch_114\">\n    <path d=\"M 97.015 271.558267 \nL 114.871 271.558267 \nL 114.871 270.290345 \nL 97.015 270.290345 \nz\n\" clip-path=\"url(#p45a725a746)\" style=\"fill: #cd3c4c\"/>\n   </g>\n   <g id=\"patch_115\">\n    <path d=\"M 132.727 269.309698 \nL 150.583 269.309698 \nL 150.583 268.983317 \nL 132.727 268.983317 \nz\n\" clip-path=\"url(#p45a725a746)\" style=\"fill: #cd3c4c\"/>\n   </g>\n   <g id=\"patch_116\">\n    <path d=\"M 168.439 213.118045 \nL 186.295 213.118045 \nL 186.295 213.103004 \nL 168.439 213.103004 \nz\n\" clip-path=\"url(#p45a725a746)\" style=\"fill: #cd3c4c\"/>\n   </g>\n   <g id=\"patch_117\">\n    <path d=\"M 204.151 267.8282 \nL 222.007 267.8282 \nL 222.007 267.682306 \nL 204.151 267.682306 \nz\n\" clip-path=\"url(#p45a725a746)\" style=\"fill: #cd3c4c\"/>\n   </g>\n   <g id=\"patch_118\">\n    <path d=\"M 239.863 266.507636 \nL 257.719 266.507636 \nL 257.719 264.663659 \nL 239.863 264.663659 \nz\n\" clip-path=\"url(#p45a725a746)\" style=\"fill: #cd3c4c\"/>\n   </g>\n   <g id=\"patch_119\">\n    <path d=\"M 275.575 266.238409 \nL 293.431 266.238409 \nL 293.431 265.74959 \nL 275.575 265.74959 \nz\n\" clip-path=\"url(#p45a725a746)\" style=\"fill: #cd3c4c\"/>\n   </g>\n   <g id=\"patch_120\">\n    <path d=\"M 311.287 263.628867 \nL 329.143 263.628867 \nL 329.143 263.302486 \nL 311.287 263.302486 \nz\n\" clip-path=\"url(#p45a725a746)\" style=\"fill: #cd3c4c\"/>\n   </g>\n   <g id=\"patch_121\">\n    <path d=\"M 346.999 256.662064 \nL 364.855 256.662064 \nL 364.855 249.851684 \nL 346.999 249.851684 \nz\n\" clip-path=\"url(#p45a725a746)\" style=\"fill: #cd3c4c\"/>\n   </g>\n   <g id=\"patch_122\">\n    <path d=\"M 382.711 267.93198 \nL 400.567 267.93198 \nL 400.567 267.811655 \nL 382.711 267.811655 \nz\n\" clip-path=\"url(#p45a725a746)\" style=\"fill: #cd3c4c\"/>\n   </g>\n   <g id=\"patch_123\">\n    <path d=\"M 61.303 214.998119 \nL 79.159 214.998119 \nL 79.159 214.983078 \nL 61.303 214.983078 \nz\n\" clip-path=\"url(#p45a725a746)\" style=\"fill: #c63a49\"/>\n   </g>\n   <g id=\"patch_124\">\n    <path d=\"M 97.015 270.290345 \nL 114.871 270.290345 \nL 114.871 270.270792 \nL 97.015 270.270792 \nz\n\" clip-path=\"url(#p45a725a746)\" style=\"fill: #c63a49\"/>\n   </g>\n   <g id=\"patch_125\">\n    <path d=\"M 132.727 268.983317 \nL 150.583 268.983317 \nL 150.583 268.869009 \nL 132.727 268.869009 \nz\n\" clip-path=\"url(#p45a725a746)\" style=\"fill: #c63a49\"/>\n   </g>\n   <g id=\"patch_126\">\n    <path d=\"M 168.439 213.103004 \nL 186.295 213.103004 \nL 186.295 213.077435 \nL 168.439 213.077435 \nz\n\" clip-path=\"url(#p45a725a746)\" style=\"fill: #c63a49\"/>\n   </g>\n   <g id=\"patch_127\">\n    <path d=\"M 204.151 267.682306 \nL 222.007 267.682306 \nL 222.007 267.613119 \nL 204.151 267.613119 \nz\n\" clip-path=\"url(#p45a725a746)\" style=\"fill: #c63a49\"/>\n   </g>\n   <g id=\"patch_128\">\n    <path d=\"M 239.863 264.663659 \nL 257.719 264.663659 \nL 257.719 262.154888 \nL 239.863 262.154888 \nz\n\" clip-path=\"url(#p45a725a746)\" style=\"fill: #c63a49\"/>\n   </g>\n   <g id=\"patch_129\">\n    <path d=\"M 275.575 265.74959 \nL 293.431 265.74959 \nL 293.431 262.712894 \nL 275.575 262.712894 \nz\n\" clip-path=\"url(#p45a725a746)\" style=\"fill: #c63a49\"/>\n   </g>\n   <g id=\"patch_130\">\n    <path d=\"M 311.287 263.302486 \nL 329.143 263.302486 \nL 329.143 262.979113 \nL 311.287 262.979113 \nz\n\" clip-path=\"url(#p45a725a746)\" style=\"fill: #c63a49\"/>\n   </g>\n   <g id=\"patch_131\">\n    <path d=\"M 346.999 249.851684 \nL 364.855 249.851684 \nL 364.855 249.131239 \nL 346.999 249.131239 \nz\n\" clip-path=\"url(#p45a725a746)\" style=\"fill: #c63a49\"/>\n   </g>\n   <g id=\"patch_132\">\n    <path d=\"M 382.711 267.811655 \nL 400.567 267.811655 \nL 400.567 267.638689 \nL 382.711 267.638689 \nz\n\" clip-path=\"url(#p45a725a746)\" style=\"fill: #c63a49\"/>\n   </g>\n   <g id=\"patch_133\">\n    <path d=\"M 61.303 214.983078 \nL 79.159 214.983078 \nL 79.159 214.97255 \nL 61.303 214.97255 \nz\n\" clip-path=\"url(#p45a725a746)\" style=\"fill: #be3746\"/>\n   </g>\n   <g id=\"patch_134\">\n    <path d=\"M 97.015 270.270792 \nL 114.871 270.270792 \nL 114.871 269.995549 \nL 97.015 269.995549 \nz\n\" clip-path=\"url(#p45a725a746)\" style=\"fill: #be3746\"/>\n   </g>\n   <g id=\"patch_135\">\n    <path d=\"M 132.727 268.869009 \nL 150.583 268.869009 \nL 150.583 268.849456 \nL 132.727 268.849456 \nz\n\" clip-path=\"url(#p45a725a746)\" style=\"fill: #be3746\"/>\n   </g>\n   <g id=\"patch_136\">\n    <path d=\"M 168.439 213.077435 \nL 186.295 213.077435 \nL 186.295 213.075931 \nL 168.439 213.075931 \nz\n\" clip-path=\"url(#p45a725a746)\" style=\"fill: #be3746\"/>\n   </g>\n   <g id=\"patch_137\">\n    <path d=\"M 204.151 267.613119 \nL 222.007 267.613119 \nL 222.007 267.384502 \nL 204.151 267.384502 \nz\n\" clip-path=\"url(#p45a725a746)\" style=\"fill: #be3746\"/>\n   </g>\n   <g id=\"patch_138\">\n    <path d=\"M 239.863 262.154888 \nL 257.719 262.154888 \nL 257.719 262.007491 \nL 239.863 262.007491 \nz\n\" clip-path=\"url(#p45a725a746)\" style=\"fill: #be3746\"/>\n   </g>\n   <g id=\"patch_139\">\n    <path d=\"M 275.575 262.712894 \nL 293.431 262.712894 \nL 293.431 260.968186 \nL 275.575 260.968186 \nz\n\" clip-path=\"url(#p45a725a746)\" style=\"fill: #be3746\"/>\n   </g>\n   <g id=\"patch_140\">\n    <path d=\"M 311.287 262.979113 \nL 329.143 262.979113 \nL 329.143 262.96708 \nL 311.287 262.96708 \nz\n\" clip-path=\"url(#p45a725a746)\" style=\"fill: #be3746\"/>\n   </g>\n   <g id=\"patch_141\">\n    <path d=\"M 346.999 249.131239 \nL 364.855 249.131239 \nL 364.855 239.685747 \nL 346.999 239.685747 \nz\n\" clip-path=\"url(#p45a725a746)\" style=\"fill: #be3746\"/>\n   </g>\n   <g id=\"patch_142\">\n    <path d=\"M 382.711 267.638689 \nL 400.567 267.638689 \nL 400.567 267.411576 \nL 382.711 267.411576 \nz\n\" clip-path=\"url(#p45a725a746)\" style=\"fill: #be3746\"/>\n   </g>\n   <g id=\"patch_143\">\n    <path d=\"M 61.303 214.97255 \nL 79.159 214.97255 \nL 79.159 214.963525 \nL 61.303 214.963525 \nz\n\" clip-path=\"url(#p45a725a746)\" style=\"fill: #b63544\"/>\n   </g>\n   <g id=\"patch_144\">\n    <path d=\"M 97.015 269.995549 \nL 114.871 269.995549 \nL 114.871 269.953436 \nL 97.015 269.953436 \nz\n\" clip-path=\"url(#p45a725a746)\" style=\"fill: #b63544\"/>\n   </g>\n   <g id=\"patch_145\">\n    <path d=\"M 132.727 268.849456 \nL 150.583 268.849456 \nL 150.583 268.831407 \nL 132.727 268.831407 \nz\n\" clip-path=\"url(#p45a725a746)\" style=\"fill: #b63544\"/>\n   </g>\n   <g id=\"patch_146\">\n    <path d=\"M 168.439 213.075931 \nL 186.295 213.075931 \nL 186.295 213.036826 \nL 168.439 213.036826 \nz\n\" clip-path=\"url(#p45a725a746)\" style=\"fill: #b63544\"/>\n   </g>\n   <g id=\"patch_147\">\n    <path d=\"M 204.151 267.384502 \nL 222.007 267.384502 \nL 222.007 266.967878 \nL 204.151 266.967878 \nz\n\" clip-path=\"url(#p45a725a746)\" style=\"fill: #b63544\"/>\n   </g>\n   <g id=\"patch_148\">\n    <path d=\"M 239.863 262.007491 \nL 257.719 262.007491 \nL 257.719 261.28855 \nL 239.863 261.28855 \nz\n\" clip-path=\"url(#p45a725a746)\" style=\"fill: #b63544\"/>\n   </g>\n   <g id=\"patch_149\">\n    <path d=\"M 275.575 260.968186 \nL 293.431 260.968186 \nL 293.431 259.403964 \nL 275.575 259.403964 \nz\n\" clip-path=\"url(#p45a725a746)\" style=\"fill: #b63544\"/>\n   </g>\n   <g id=\"patch_150\">\n    <path d=\"M 311.287 262.96708 \nL 329.143 262.96708 \nL 329.143 262.953544 \nL 311.287 262.953544 \nz\n\" clip-path=\"url(#p45a725a746)\" style=\"fill: #b63544\"/>\n   </g>\n   <g id=\"patch_151\">\n    <path d=\"M 346.999 239.685747 \nL 364.855 239.685747 \nL 364.855 239.142782 \nL 346.999 239.142782 \nz\n\" clip-path=\"url(#p45a725a746)\" style=\"fill: #b63544\"/>\n   </g>\n   <g id=\"patch_152\">\n    <path d=\"M 382.711 267.411576 \nL 400.567 267.411576 \nL 400.567 266.892675 \nL 382.711 266.892675 \nz\n\" clip-path=\"url(#p45a725a746)\" style=\"fill: #b63544\"/>\n   </g>\n   <g id=\"patch_153\">\n    <path d=\"M 61.303 214.963525 \nL 79.159 214.963525 \nL 79.159 214.856737 \nL 61.303 214.856737 \nz\n\" clip-path=\"url(#p45a725a746)\" style=\"fill: #af3341\"/>\n   </g>\n   <g id=\"patch_154\">\n    <path d=\"M 97.015 269.953436 \nL 114.871 269.953436 \nL 114.871 269.733843 \nL 97.015 269.733843 \nz\n\" clip-path=\"url(#p45a725a746)\" style=\"fill: #af3341\"/>\n   </g>\n   <g id=\"patch_155\">\n    <path d=\"M 132.727 268.831407 \nL 150.583 268.831407 \nL 150.583 268.745676 \nL 132.727 268.745676 \nz\n\" clip-path=\"url(#p45a725a746)\" style=\"fill: #af3341\"/>\n   </g>\n   <g id=\"patch_156\">\n    <path d=\"M 168.439 213.036826 \nL 186.295 213.036826 \nL 186.295 213.023289 \nL 168.439 213.023289 \nz\n\" clip-path=\"url(#p45a725a746)\" style=\"fill: #af3341\"/>\n   </g>\n   <g id=\"patch_157\">\n    <path d=\"M 204.151 266.967878 \nL 222.007 266.967878 \nL 222.007 264.520774 \nL 204.151 264.520774 \nz\n\" clip-path=\"url(#p45a725a746)\" style=\"fill: #af3341\"/>\n   </g>\n   <g id=\"patch_158\">\n    <path d=\"M 239.863 261.28855 \nL 257.719 261.28855 \nL 257.719 257.874336 \nL 239.863 257.874336 \nz\n\" clip-path=\"url(#p45a725a746)\" style=\"fill: #af3341\"/>\n   </g>\n   <g id=\"patch_159\">\n    <path d=\"M 275.575 259.403964 \nL 293.431 259.403964 \nL 293.431 254.921868 \nL 275.575 254.921868 \nz\n\" clip-path=\"url(#p45a725a746)\" style=\"fill: #af3341\"/>\n   </g>\n   <g id=\"patch_160\">\n    <path d=\"M 311.287 262.953544 \nL 329.143 262.953544 \nL 329.143 262.943016 \nL 311.287 262.943016 \nz\n\" clip-path=\"url(#p45a725a746)\" style=\"fill: #af3341\"/>\n   </g>\n   <g id=\"patch_161\">\n    <path d=\"M 346.999 239.142782 \nL 364.855 239.142782 \nL 364.855 239.106685 \nL 346.999 239.106685 \nz\n\" clip-path=\"url(#p45a725a746)\" style=\"fill: #af3341\"/>\n   </g>\n   <g id=\"patch_162\">\n    <path d=\"M 382.711 266.892675 \nL 400.567 266.892675 \nL 400.567 266.513652 \nL 382.711 266.513652 \nz\n\" clip-path=\"url(#p45a725a746)\" style=\"fill: #af3341\"/>\n   </g>\n   <g id=\"patch_163\">\n    <path d=\"M 61.303 214.856737 \nL 79.159 214.856737 \nL 79.159 213.075931 \nL 61.303 213.075931 \nz\n\" clip-path=\"url(#p45a725a746)\" style=\"fill: #a7313e\"/>\n   </g>\n   <g id=\"patch_164\">\n    <path d=\"M 97.015 269.733843 \nL 114.871 269.733843 \nL 114.871 269.702258 \nL 97.015 269.702258 \nz\n\" clip-path=\"url(#p45a725a746)\" style=\"fill: #a7313e\"/>\n   </g>\n   <g id=\"patch_165\">\n    <path d=\"M 132.727 268.745676 \nL 150.583 268.745676 \nL 150.583 268.736652 \nL 132.727 268.736652 \nz\n\" clip-path=\"url(#p45a725a746)\" style=\"fill: #a7313e\"/>\n   </g>\n   <g id=\"patch_166\">\n    <path d=\"M 168.439 213.023289 \nL 186.295 213.023289 \nL 186.295 213.020281 \nL 168.439 213.020281 \nz\n\" clip-path=\"url(#p45a725a746)\" style=\"fill: #a7313e\"/>\n   </g>\n   <g id=\"patch_167\">\n    <path d=\"M 204.151 264.520774 \nL 222.007 264.520774 \nL 222.007 264.517766 \nL 204.151 264.517766 \nz\n\" clip-path=\"url(#p45a725a746)\" style=\"fill: #a7313e\"/>\n   </g>\n   <g id=\"patch_168\">\n    <path d=\"M 239.863 257.874336 \nL 257.719 257.874336 \nL 257.719 256.496618 \nL 239.863 256.496618 \nz\n\" clip-path=\"url(#p45a725a746)\" style=\"fill: #a7313e\"/>\n   </g>\n   <g id=\"patch_169\">\n    <path d=\"M 275.575 254.921868 \nL 293.431 254.921868 \nL 293.431 236.513686 \nL 275.575 236.513686 \nz\n\" clip-path=\"url(#p45a725a746)\" style=\"fill: #a7313e\"/>\n   </g>\n   <g id=\"patch_170\">\n    <path d=\"M 311.287 273.312 \nL 329.143 273.312 \nL 329.143 273.312 \nL 311.287 273.312 \nz\n\" clip-path=\"url(#p45a725a746)\" style=\"fill: #a7313e\"/>\n   </g>\n   <g id=\"patch_171\">\n    <path d=\"M 346.999 239.106685 \nL 364.855 239.106685 \nL 364.855 239.073595 \nL 346.999 239.073595 \nz\n\" clip-path=\"url(#p45a725a746)\" style=\"fill: #a7313e\"/>\n   </g>\n   <g id=\"patch_172\">\n    <path d=\"M 382.711 266.513652 \nL 400.567 266.513652 \nL 400.567 266.340685 \nL 382.711 266.340685 \nz\n\" clip-path=\"url(#p45a725a746)\" style=\"fill: #a7313e\"/>\n   </g>\n   <g id=\"patch_173\">\n    <path d=\"M 61.303 213.075931 \nL 79.159 213.075931 \nL 79.159 213.062395 \nL 61.303 213.062395 \nz\n\" clip-path=\"url(#p45a725a746)\" style=\"fill: #9f2e3b\"/>\n   </g>\n   <g id=\"patch_174\">\n    <path d=\"M 97.015 269.702258 \nL 114.871 269.702258 \nL 114.871 269.669168 \nL 97.015 269.669168 \nz\n\" clip-path=\"url(#p45a725a746)\" style=\"fill: #9f2e3b\"/>\n   </g>\n   <g id=\"patch_175\">\n    <path d=\"M 132.727 268.736652 \nL 150.583 268.736652 \nL 150.583 268.73214 \nL 132.727 268.73214 \nz\n\" clip-path=\"url(#p45a725a746)\" style=\"fill: #9f2e3b\"/>\n   </g>\n   <g id=\"patch_176\">\n    <path d=\"M 168.439 213.020281 \nL 186.295 213.020281 \nL 186.295 212.985688 \nL 168.439 212.985688 \nz\n\" clip-path=\"url(#p45a725a746)\" style=\"fill: #9f2e3b\"/>\n   </g>\n   <g id=\"patch_177\">\n    <path d=\"M 204.151 264.517766 \nL 222.007 264.517766 \nL 222.007 264.02293 \nL 204.151 264.02293 \nz\n\" clip-path=\"url(#p45a725a746)\" style=\"fill: #9f2e3b\"/>\n   </g>\n   <g id=\"patch_178\">\n    <path d=\"M 239.863 256.496618 \nL 257.719 256.496618 \nL 257.719 256.39735 \nL 239.863 256.39735 \nz\n\" clip-path=\"url(#p45a725a746)\" style=\"fill: #9f2e3b\"/>\n   </g>\n   <g id=\"patch_179\">\n    <path d=\"M 275.575 236.513686 \nL 293.431 236.513686 \nL 293.431 232.574555 \nL 275.575 232.574555 \nz\n\" clip-path=\"url(#p45a725a746)\" style=\"fill: #9f2e3b\"/>\n   </g>\n   <g id=\"patch_180\">\n    <path d=\"M 311.287 262.943016 \nL 329.143 262.943016 \nL 329.143 262.938503 \nL 311.287 262.938503 \nz\n\" clip-path=\"url(#p45a725a746)\" style=\"fill: #9f2e3b\"/>\n   </g>\n   <g id=\"patch_181\">\n    <path d=\"M 346.999 239.073595 \nL 364.855 239.073595 \nL 364.855 239.010425 \nL 346.999 239.010425 \nz\n\" clip-path=\"url(#p45a725a746)\" style=\"fill: #9f2e3b\"/>\n   </g>\n   <g id=\"patch_182\">\n    <path d=\"M 382.711 266.340685 \nL 400.567 266.340685 \nL 400.567 265.39012 \nL 382.711 265.39012 \nz\n\" clip-path=\"url(#p45a725a746)\" style=\"fill: #9f2e3b\"/>\n   </g>\n   <g id=\"patch_183\">\n    <path d=\"M 61.303 213.062395 \nL 79.159 213.062395 \nL 79.159 213.054874 \nL 61.303 213.054874 \nz\n\" clip-path=\"url(#p45a725a746)\" style=\"fill: #982c38\"/>\n   </g>\n   <g id=\"patch_184\">\n    <path d=\"M 97.015 269.669168 \nL 114.871 269.669168 \nL 114.871 269.664656 \nL 97.015 269.664656 \nz\n\" clip-path=\"url(#p45a725a746)\" style=\"fill: #982c38\"/>\n   </g>\n   <g id=\"patch_185\">\n    <path d=\"M 132.727 268.73214 \nL 150.583 268.73214 \nL 150.583 268.709579 \nL 132.727 268.709579 \nz\n\" clip-path=\"url(#p45a725a746)\" style=\"fill: #982c38\"/>\n   </g>\n   <g id=\"patch_186\">\n    <path d=\"M 168.439 212.985688 \nL 186.295 212.985688 \nL 186.295 212.978167 \nL 168.439 212.978167 \nz\n\" clip-path=\"url(#p45a725a746)\" style=\"fill: #982c38\"/>\n   </g>\n   <g id=\"patch_187\">\n    <path d=\"M 204.151 264.02293 \nL 222.007 264.02293 \nL 222.007 262.434643 \nL 204.151 262.434643 \nz\n\" clip-path=\"url(#p45a725a746)\" style=\"fill: #982c38\"/>\n   </g>\n   <g id=\"patch_188\">\n    <path d=\"M 239.863 256.39735 \nL 257.719 256.39735 \nL 257.719 256.099546 \nL 239.863 256.099546 \nz\n\" clip-path=\"url(#p45a725a746)\" style=\"fill: #982c38\"/>\n   </g>\n   <g id=\"patch_189\">\n    <path d=\"M 275.575 232.574555 \nL 293.431 232.574555 \nL 293.431 229.56042 \nL 275.575 229.56042 \nz\n\" clip-path=\"url(#p45a725a746)\" style=\"fill: #982c38\"/>\n   </g>\n   <g id=\"patch_190\">\n    <path d=\"M 311.287 262.938503 \nL 329.143 262.938503 \nL 329.143 262.936999 \nL 311.287 262.936999 \nz\n\" clip-path=\"url(#p45a725a746)\" style=\"fill: #982c38\"/>\n   </g>\n   <g id=\"patch_191\">\n    <path d=\"M 346.999 239.010425 \nL 364.855 239.010425 \nL 364.855 237.868844 \nL 346.999 237.868844 \nz\n\" clip-path=\"url(#p45a725a746)\" style=\"fill: #982c38\"/>\n   </g>\n   <g id=\"patch_192\">\n    <path d=\"M 382.711 265.39012 \nL 400.567 265.39012 \nL 400.567 265.29386 \nL 382.711 265.29386 \nz\n\" clip-path=\"url(#p45a725a746)\" style=\"fill: #982c38\"/>\n   </g>\n   <g id=\"patch_193\">\n    <path d=\"M 61.303 213.054874 \nL 79.159 213.054874 \nL 79.159 213.051866 \nL 61.303 213.051866 \nz\n\" clip-path=\"url(#p45a725a746)\" style=\"fill: #902a35\"/>\n   </g>\n   <g id=\"patch_194\">\n    <path d=\"M 97.015 269.664656 \nL 114.871 269.664656 \nL 114.871 269.660144 \nL 97.015 269.660144 \nz\n\" clip-path=\"url(#p45a725a746)\" style=\"fill: #902a35\"/>\n   </g>\n   <g id=\"patch_195\">\n    <path d=\"M 132.727 268.709579 \nL 150.583 268.709579 \nL 150.583 268.708075 \nL 132.727 268.708075 \nz\n\" clip-path=\"url(#p45a725a746)\" style=\"fill: #902a35\"/>\n   </g>\n   <g id=\"patch_196\">\n    <path d=\"M 168.439 212.978167 \nL 186.295 212.978167 \nL 186.295 212.973655 \nL 168.439 212.973655 \nz\n\" clip-path=\"url(#p45a725a746)\" style=\"fill: #902a35\"/>\n   </g>\n   <g id=\"patch_197\">\n    <path d=\"M 204.151 262.434643 \nL 222.007 262.434643 \nL 222.007 262.261677 \nL 204.151 262.261677 \nz\n\" clip-path=\"url(#p45a725a746)\" style=\"fill: #902a35\"/>\n   </g>\n   <g id=\"patch_198\">\n    <path d=\"M 239.863 256.099546 \nL 257.719 256.099546 \nL 257.719 253.073379 \nL 239.863 253.073379 \nz\n\" clip-path=\"url(#p45a725a746)\" style=\"fill: #902a35\"/>\n   </g>\n   <g id=\"patch_199\">\n    <path d=\"M 275.575 229.56042 \nL 293.431 229.56042 \nL 293.431 229.521315 \nL 275.575 229.521315 \nz\n\" clip-path=\"url(#p45a725a746)\" style=\"fill: #902a35\"/>\n   </g>\n   <g id=\"patch_200\">\n    <path d=\"M 311.287 262.936999 \nL 329.143 262.936999 \nL 329.143 262.933991 \nL 311.287 262.933991 \nz\n\" clip-path=\"url(#p45a725a746)\" style=\"fill: #902a35\"/>\n   </g>\n   <g id=\"patch_201\">\n    <path d=\"M 346.999 237.868844 \nL 364.855 237.868844 \nL 364.855 237.864332 \nL 346.999 237.864332 \nz\n\" clip-path=\"url(#p45a725a746)\" style=\"fill: #902a35\"/>\n   </g>\n   <g id=\"patch_202\">\n    <path d=\"M 382.711 265.29386 \nL 400.567 265.29386 \nL 400.567 265.069755 \nL 382.711 265.069755 \nz\n\" clip-path=\"url(#p45a725a746)\" style=\"fill: #902a35\"/>\n   </g>\n   <g id=\"patch_203\">\n    <path d=\"M 61.303 213.051866 \nL 79.159 213.051866 \nL 79.159 212.484836 \nL 61.303 212.484836 \nz\n\" clip-path=\"url(#p45a725a746)\" style=\"fill: #f46d43\"/>\n   </g>\n   <g id=\"patch_204\">\n    <path d=\"M 97.015 269.660144 \nL 114.871 269.660144 \nL 114.871 269.633071 \nL 97.015 269.633071 \nz\n\" clip-path=\"url(#p45a725a746)\" style=\"fill: #f46d43\"/>\n   </g>\n   <g id=\"patch_205\">\n    <path d=\"M 132.727 268.708075 \nL 150.583 268.708075 \nL 150.583 267.58003 \nL 132.727 267.58003 \nz\n\" clip-path=\"url(#p45a725a746)\" style=\"fill: #f46d43\"/>\n   </g>\n   <g id=\"patch_206\">\n    <path d=\"M 168.439 212.973655 \nL 186.295 212.973655 \nL 186.295 201.479634 \nL 168.439 201.479634 \nz\n\" clip-path=\"url(#p45a725a746)\" style=\"fill: #f46d43\"/>\n   </g>\n   <g id=\"patch_207\">\n    <path d=\"M 204.151 262.261677 \nL 222.007 262.261677 \nL 222.007 261.801435 \nL 204.151 261.801435 \nz\n\" clip-path=\"url(#p45a725a746)\" style=\"fill: #f46d43\"/>\n   </g>\n   <g id=\"patch_208\">\n    <path d=\"M 239.863 253.073379 \nL 257.719 253.073379 \nL 257.719 252.121309 \nL 239.863 252.121309 \nz\n\" clip-path=\"url(#p45a725a746)\" style=\"fill: #f46d43\"/>\n   </g>\n   <g id=\"patch_209\">\n    <path d=\"M 275.575 229.521315 \nL 293.431 229.521315 \nL 293.431 219.680255 \nL 275.575 219.680255 \nz\n\" clip-path=\"url(#p45a725a746)\" style=\"fill: #f46d43\"/>\n   </g>\n   <g id=\"patch_210\">\n    <path d=\"M 311.287 262.933991 \nL 329.143 262.933991 \nL 329.143 260.213148 \nL 311.287 260.213148 \nz\n\" clip-path=\"url(#p45a725a746)\" style=\"fill: #f46d43\"/>\n   </g>\n   <g id=\"patch_211\">\n    <path d=\"M 346.999 237.864332 \nL 364.855 237.864332 \nL 364.855 234.507271 \nL 346.999 234.507271 \nz\n\" clip-path=\"url(#p45a725a746)\" style=\"fill: #f46d43\"/>\n   </g>\n   <g id=\"patch_212\">\n    <path d=\"M 382.711 265.069755 \nL 400.567 265.069755 \nL 400.567 264.43805 \nL 382.711 264.43805 \nz\n\" clip-path=\"url(#p45a725a746)\" style=\"fill: #f46d43\"/>\n   </g>\n   <g id=\"patch_213\">\n    <path d=\"M 61.303 212.484836 \nL 79.159 212.484836 \nL 79.159 212.319389 \nL 61.303 212.319389 \nz\n\" clip-path=\"url(#p45a725a746)\" style=\"fill: #ec6a41\"/>\n   </g>\n   <g id=\"patch_214\">\n    <path d=\"M 97.015 269.633071 \nL 114.871 269.633071 \nL 114.871 267.93198 \nL 97.015 267.93198 \nz\n\" clip-path=\"url(#p45a725a746)\" style=\"fill: #ec6a41\"/>\n   </g>\n   <g id=\"patch_215\">\n    <path d=\"M 132.727 267.58003 \nL 150.583 267.58003 \nL 150.583 266.659546 \nL 132.727 266.659546 \nz\n\" clip-path=\"url(#p45a725a746)\" style=\"fill: #ec6a41\"/>\n   </g>\n   <g id=\"patch_216\">\n    <path d=\"M 168.439 201.479634 \nL 186.295 201.479634 \nL 186.295 199.913909 \nL 168.439 199.913909 \nz\n\" clip-path=\"url(#p45a725a746)\" style=\"fill: #ec6a41\"/>\n   </g>\n   <g id=\"patch_217\">\n    <path d=\"M 204.151 261.801435 \nL 222.007 261.801435 \nL 222.007 261.697654 \nL 204.151 261.697654 \nz\n\" clip-path=\"url(#p45a725a746)\" style=\"fill: #ec6a41\"/>\n   </g>\n   <g id=\"patch_218\">\n    <path d=\"M 239.863 252.121309 \nL 257.719 252.121309 \nL 257.719 252.007001 \nL 239.863 252.007001 \nz\n\" clip-path=\"url(#p45a725a746)\" style=\"fill: #ec6a41\"/>\n   </g>\n   <g id=\"patch_219\">\n    <path d=\"M 275.575 219.680255 \nL 293.431 219.680255 \nL 293.431 201.669146 \nL 275.575 201.669146 \nz\n\" clip-path=\"url(#p45a725a746)\" style=\"fill: #ec6a41\"/>\n   </g>\n   <g id=\"patch_220\">\n    <path d=\"M 311.287 260.213148 \nL 329.143 260.213148 \nL 329.143 260.035669 \nL 311.287 260.035669 \nz\n\" clip-path=\"url(#p45a725a746)\" style=\"fill: #ec6a41\"/>\n   </g>\n   <g id=\"patch_221\">\n    <path d=\"M 346.999 234.507271 \nL 364.855 234.507271 \nL 364.855 230.908058 \nL 346.999 230.908058 \nz\n\" clip-path=\"url(#p45a725a746)\" style=\"fill: #ec6a41\"/>\n   </g>\n   <g id=\"patch_222\">\n    <path d=\"M 382.711 264.43805 \nL 400.567 264.43805 \nL 400.567 264.426018 \nL 382.711 264.426018 \nz\n\" clip-path=\"url(#p45a725a746)\" style=\"fill: #ec6a41\"/>\n   </g>\n   <g id=\"patch_223\">\n    <path d=\"M 61.303 212.319389 \nL 79.159 212.319389 \nL 79.159 212.2863 \nL 61.303 212.2863 \nz\n\" clip-path=\"url(#p45a725a746)\" style=\"fill: #e5663f\"/>\n   </g>\n   <g id=\"patch_224\">\n    <path d=\"M 97.015 267.93198 \nL 114.871 267.93198 \nL 114.871 267.843241 \nL 97.015 267.843241 \nz\n\" clip-path=\"url(#p45a725a746)\" style=\"fill: #e5663f\"/>\n   </g>\n   <g id=\"patch_225\">\n    <path d=\"M 132.727 266.659546 \nL 150.583 266.659546 \nL 150.583 265.600688 \nL 132.727 265.600688 \nz\n\" clip-path=\"url(#p45a725a746)\" style=\"fill: #e5663f\"/>\n   </g>\n   <g id=\"patch_226\">\n    <path d=\"M 168.439 199.913909 \nL 186.295 199.913909 \nL 186.295 198.402329 \nL 168.439 198.402329 \nz\n\" clip-path=\"url(#p45a725a746)\" style=\"fill: #e5663f\"/>\n   </g>\n   <g id=\"patch_227\">\n    <path d=\"M 204.151 261.697654 \nL 222.007 261.697654 \nL 222.007 261.62546 \nL 204.151 261.62546 \nz\n\" clip-path=\"url(#p45a725a746)\" style=\"fill: #e5663f\"/>\n   </g>\n   <g id=\"patch_228\">\n    <path d=\"M 239.863 252.007001 \nL 257.719 252.007001 \nL 257.719 251.646026 \nL 239.863 251.646026 \nz\n\" clip-path=\"url(#p45a725a746)\" style=\"fill: #e5663f\"/>\n   </g>\n   <g id=\"patch_229\">\n    <path d=\"M 275.575 201.669146 \nL 293.431 201.669146 \nL 293.431 201.123172 \nL 275.575 201.123172 \nz\n\" clip-path=\"url(#p45a725a746)\" style=\"fill: #e5663f\"/>\n   </g>\n   <g id=\"patch_230\">\n    <path d=\"M 311.287 260.035669 \nL 329.143 260.035669 \nL 329.143 259.955954 \nL 311.287 259.955954 \nz\n\" clip-path=\"url(#p45a725a746)\" style=\"fill: #e5663f\"/>\n   </g>\n   <g id=\"patch_231\">\n    <path d=\"M 346.999 230.908058 \nL 364.855 230.908058 \nL 364.855 227.853313 \nL 346.999 227.853313 \nz\n\" clip-path=\"url(#p45a725a746)\" style=\"fill: #e5663f\"/>\n   </g>\n   <g id=\"patch_232\">\n    <path d=\"M 382.711 264.426018 \nL 400.567 264.426018 \nL 400.567 264.413985 \nL 382.711 264.413985 \nz\n\" clip-path=\"url(#p45a725a746)\" style=\"fill: #e5663f\"/>\n   </g>\n   <g id=\"patch_233\">\n    <path d=\"M 61.303 212.2863 \nL 79.159 212.2863 \nL 79.159 212.235162 \nL 61.303 212.235162 \nz\n\" clip-path=\"url(#p45a725a746)\" style=\"fill: #dd633d\"/>\n   </g>\n   <g id=\"patch_234\">\n    <path d=\"M 97.015 267.843241 \nL 114.871 267.843241 \nL 114.871 267.569502 \nL 97.015 267.569502 \nz\n\" clip-path=\"url(#p45a725a746)\" style=\"fill: #dd633d\"/>\n   </g>\n   <g id=\"patch_235\">\n    <path d=\"M 132.727 265.600688 \nL 150.583 265.600688 \nL 150.583 265.117885 \nL 132.727 265.117885 \nz\n\" clip-path=\"url(#p45a725a746)\" style=\"fill: #dd633d\"/>\n   </g>\n   <g id=\"patch_236\">\n    <path d=\"M 168.439 198.402329 \nL 186.295 198.402329 \nL 186.295 194.230069 \nL 168.439 194.230069 \nz\n\" clip-path=\"url(#p45a725a746)\" style=\"fill: #dd633d\"/>\n   </g>\n   <g id=\"patch_237\">\n    <path d=\"M 204.151 261.62546 \nL 222.007 261.62546 \nL 222.007 261.484078 \nL 204.151 261.484078 \nz\n\" clip-path=\"url(#p45a725a746)\" style=\"fill: #dd633d\"/>\n   </g>\n   <g id=\"patch_238\">\n    <path d=\"M 239.863 251.646026 \nL 257.719 251.646026 \nL 257.719 249.24254 \nL 239.863 249.24254 \nz\n\" clip-path=\"url(#p45a725a746)\" style=\"fill: #dd633d\"/>\n   </g>\n   <g id=\"patch_239\">\n    <path d=\"M 275.575 201.123172 \nL 293.431 201.123172 \nL 293.431 200.217729 \nL 275.575 200.217729 \nz\n\" clip-path=\"url(#p45a725a746)\" style=\"fill: #dd633d\"/>\n   </g>\n   <g id=\"patch_240\">\n    <path d=\"M 311.287 259.955954 \nL 329.143 259.955954 \nL 329.143 259.894287 \nL 311.287 259.894287 \nz\n\" clip-path=\"url(#p45a725a746)\" style=\"fill: #dd633d\"/>\n   </g>\n   <g id=\"patch_241\">\n    <path d=\"M 346.999 227.853313 \nL 364.855 227.853313 \nL 364.855 222.79817 \nL 346.999 222.79817 \nz\n\" clip-path=\"url(#p45a725a746)\" style=\"fill: #dd633d\"/>\n   </g>\n   <g id=\"patch_242\">\n    <path d=\"M 382.711 264.413985 \nL 400.567 264.413985 \nL 400.567 264.254555 \nL 382.711 264.254555 \nz\n\" clip-path=\"url(#p45a725a746)\" style=\"fill: #dd633d\"/>\n   </g>\n   <g id=\"patch_243\">\n    <path d=\"M 61.303 273.312 \nL 79.159 273.312 \nL 79.159 273.312 \nL 61.303 273.312 \nz\n\" clip-path=\"url(#p45a725a746)\" style=\"fill: #d55f3b\"/>\n   </g>\n   <g id=\"patch_244\">\n    <path d=\"M 97.015 267.569502 \nL 114.871 267.569502 \nL 114.871 267.542429 \nL 97.015 267.542429 \nz\n\" clip-path=\"url(#p45a725a746)\" style=\"fill: #d55f3b\"/>\n   </g>\n   <g id=\"patch_245\">\n    <path d=\"M 132.727 265.117885 \nL 150.583 265.117885 \nL 150.583 264.577928 \nL 132.727 264.577928 \nz\n\" clip-path=\"url(#p45a725a746)\" style=\"fill: #d55f3b\"/>\n   </g>\n   <g id=\"patch_246\">\n    <path d=\"M 168.439 194.230069 \nL 186.295 194.230069 \nL 186.295 191.155772 \nL 168.439 191.155772 \nz\n\" clip-path=\"url(#p45a725a746)\" style=\"fill: #d55f3b\"/>\n   </g>\n   <g id=\"patch_247\">\n    <path d=\"M 204.151 261.484078 \nL 222.007 261.484078 \nL 222.007 261.479566 \nL 204.151 261.479566 \nz\n\" clip-path=\"url(#p45a725a746)\" style=\"fill: #d55f3b\"/>\n   </g>\n   <g id=\"patch_248\">\n    <path d=\"M 239.863 249.24254 \nL 257.719 249.24254 \nL 257.719 249.239532 \nL 239.863 249.239532 \nz\n\" clip-path=\"url(#p45a725a746)\" style=\"fill: #d55f3b\"/>\n   </g>\n   <g id=\"patch_249\">\n    <path d=\"M 275.575 200.217729 \nL 293.431 200.217729 \nL 293.431 198.533182 \nL 275.575 198.533182 \nz\n\" clip-path=\"url(#p45a725a746)\" style=\"fill: #d55f3b\"/>\n   </g>\n   <g id=\"patch_250\">\n    <path d=\"M 311.287 259.894287 \nL 329.143 259.894287 \nL 329.143 259.617541 \nL 311.287 259.617541 \nz\n\" clip-path=\"url(#p45a725a746)\" style=\"fill: #d55f3b\"/>\n   </g>\n   <g id=\"patch_251\">\n    <path d=\"M 346.999 222.79817 \nL 364.855 222.79817 \nL 364.855 222.65378 \nL 346.999 222.65378 \nz\n\" clip-path=\"url(#p45a725a746)\" style=\"fill: #d55f3b\"/>\n   </g>\n   <g id=\"patch_252\">\n    <path d=\"M 382.711 264.254555 \nL 400.567 264.254555 \nL 400.567 264.251547 \nL 382.711 264.251547 \nz\n\" clip-path=\"url(#p45a725a746)\" style=\"fill: #d55f3b\"/>\n   </g>\n   <g id=\"patch_253\">\n    <path d=\"M 61.303 212.235162 \nL 79.159 212.235162 \nL 79.159 209.748952 \nL 61.303 209.748952 \nz\n\" clip-path=\"url(#p45a725a746)\" style=\"fill: #ce5c38\"/>\n   </g>\n   <g id=\"patch_254\">\n    <path d=\"M 97.015 267.542429 \nL 114.871 267.542429 \nL 114.871 267.540925 \nL 97.015 267.540925 \nz\n\" clip-path=\"url(#p45a725a746)\" style=\"fill: #ce5c38\"/>\n   </g>\n   <g id=\"patch_255\">\n    <path d=\"M 132.727 264.577928 \nL 150.583 264.577928 \nL 150.583 264.11167 \nL 132.727 264.11167 \nz\n\" clip-path=\"url(#p45a725a746)\" style=\"fill: #ce5c38\"/>\n   </g>\n   <g id=\"patch_256\">\n    <path d=\"M 168.439 191.155772 \nL 186.295 191.155772 \nL 186.295 189.608095 \nL 168.439 189.608095 \nz\n\" clip-path=\"url(#p45a725a746)\" style=\"fill: #ce5c38\"/>\n   </g>\n   <g id=\"patch_257\">\n    <path d=\"M 204.151 261.479566 \nL 222.007 261.479566 \nL 222.007 261.123104 \nL 204.151 261.123104 \nz\n\" clip-path=\"url(#p45a725a746)\" style=\"fill: #ce5c38\"/>\n   </g>\n   <g id=\"patch_258\">\n    <path d=\"M 239.863 249.239532 \nL 257.719 249.239532 \nL 257.719 249.216971 \nL 239.863 249.216971 \nz\n\" clip-path=\"url(#p45a725a746)\" style=\"fill: #ce5c38\"/>\n   </g>\n   <g id=\"patch_259\">\n    <path d=\"M 275.575 198.533182 \nL 293.431 198.533182 \nL 293.431 198.277492 \nL 275.575 198.277492 \nz\n\" clip-path=\"url(#p45a725a746)\" style=\"fill: #ce5c38\"/>\n   </g>\n   <g id=\"patch_260\">\n    <path d=\"M 311.287 259.617541 \nL 329.143 259.617541 \nL 329.143 259.316729 \nL 311.287 259.316729 \nz\n\" clip-path=\"url(#p45a725a746)\" style=\"fill: #ce5c38\"/>\n   </g>\n   <g id=\"patch_261\">\n    <path d=\"M 346.999 222.65378 \nL 364.855 222.65378 \nL 364.855 222.644756 \nL 346.999 222.644756 \nz\n\" clip-path=\"url(#p45a725a746)\" style=\"fill: #ce5c38\"/>\n   </g>\n   <g id=\"patch_262\">\n    <path d=\"M 382.711 264.251547 \nL 400.567 264.251547 \nL 400.567 264.21545 \nL 382.711 264.21545 \nz\n\" clip-path=\"url(#p45a725a746)\" style=\"fill: #ce5c38\"/>\n   </g>\n   <g id=\"patch_263\">\n    <path d=\"M 61.303 209.748952 \nL 79.159 209.748952 \nL 79.159 209.598546 \nL 61.303 209.598546 \nz\n\" clip-path=\"url(#p45a725a746)\" style=\"fill: #c65836\"/>\n   </g>\n   <g id=\"patch_264\">\n    <path d=\"M 97.015 267.540925 \nL 114.871 267.540925 \nL 114.871 267.161902 \nL 97.015 267.161902 \nz\n\" clip-path=\"url(#p45a725a746)\" style=\"fill: #c65836\"/>\n   </g>\n   <g id=\"patch_265\">\n    <path d=\"M 132.727 264.11167 \nL 150.583 264.11167 \nL 150.583 263.225779 \nL 132.727 263.225779 \nz\n\" clip-path=\"url(#p45a725a746)\" style=\"fill: #c65836\"/>\n   </g>\n   <g id=\"patch_266\">\n    <path d=\"M 168.439 189.608095 \nL 186.295 189.608095 \nL 186.295 189.370453 \nL 168.439 189.370453 \nz\n\" clip-path=\"url(#p45a725a746)\" style=\"fill: #c65836\"/>\n   </g>\n   <g id=\"patch_267\">\n    <path d=\"M 204.151 261.123104 \nL 222.007 261.123104 \nL 222.007 261.114079 \nL 204.151 261.114079 \nz\n\" clip-path=\"url(#p45a725a746)\" style=\"fill: #c65836\"/>\n   </g>\n   <g id=\"patch_268\">\n    <path d=\"M 239.863 249.216971 \nL 257.719 249.216971 \nL 257.719 248.889086 \nL 239.863 248.889086 \nz\n\" clip-path=\"url(#p45a725a746)\" style=\"fill: #c65836\"/>\n   </g>\n   <g id=\"patch_269\">\n    <path d=\"M 275.575 273.312 \nL 293.431 273.312 \nL 293.431 273.312 \nL 275.575 273.312 \nz\n\" clip-path=\"url(#p45a725a746)\" style=\"fill: #c65836\"/>\n   </g>\n   <g id=\"patch_270\">\n    <path d=\"M 311.287 259.316729 \nL 329.143 259.316729 \nL 329.143 258.960267 \nL 311.287 258.960267 \nz\n\" clip-path=\"url(#p45a725a746)\" style=\"fill: #c65836\"/>\n   </g>\n   <g id=\"patch_271\">\n    <path d=\"M 346.999 222.644756 \nL 364.855 222.644756 \nL 364.855 222.610163 \nL 346.999 222.610163 \nz\n\" clip-path=\"url(#p45a725a746)\" style=\"fill: #c65836\"/>\n   </g>\n   <g id=\"patch_272\">\n    <path d=\"M 382.711 264.21545 \nL 400.567 264.21545 \nL 400.567 264.200409 \nL 382.711 264.200409 \nz\n\" clip-path=\"url(#p45a725a746)\" style=\"fill: #c65836\"/>\n   </g>\n   <g id=\"patch_273\">\n    <path d=\"M 61.303 209.598546 \nL 79.159 209.598546 \nL 79.159 208.926232 \nL 61.303 208.926232 \nz\n\" clip-path=\"url(#p45a725a746)\" style=\"fill: #be5534\"/>\n   </g>\n   <g id=\"patch_274\">\n    <path d=\"M 97.015 267.161902 \nL 114.871 267.161902 \nL 114.871 267.152877 \nL 97.015 267.152877 \nz\n\" clip-path=\"url(#p45a725a746)\" style=\"fill: #be5534\"/>\n   </g>\n   <g id=\"patch_275\">\n    <path d=\"M 132.727 263.225779 \nL 150.583 263.225779 \nL 150.583 262.520375 \nL 132.727 262.520375 \nz\n\" clip-path=\"url(#p45a725a746)\" style=\"fill: #be5534\"/>\n   </g>\n   <g id=\"patch_276\">\n    <path d=\"M 168.439 189.370453 \nL 186.295 189.370453 \nL 186.295 181.803531 \nL 168.439 181.803531 \nz\n\" clip-path=\"url(#p45a725a746)\" style=\"fill: #be5534\"/>\n   </g>\n   <g id=\"patch_277\">\n    <path d=\"M 204.151 261.114079 \nL 222.007 261.114079 \nL 222.007 260.57713 \nL 204.151 260.57713 \nz\n\" clip-path=\"url(#p45a725a746)\" style=\"fill: #be5534\"/>\n   </g>\n   <g id=\"patch_278\">\n    <path d=\"M 239.863 248.889086 \nL 257.719 248.889086 \nL 257.719 248.881566 \nL 239.863 248.881566 \nz\n\" clip-path=\"url(#p45a725a746)\" style=\"fill: #be5534\"/>\n   </g>\n   <g id=\"patch_279\">\n    <path d=\"M 275.575 198.277492 \nL 293.431 198.277492 \nL 293.431 197.910502 \nL 275.575 197.910502 \nz\n\" clip-path=\"url(#p45a725a746)\" style=\"fill: #be5534\"/>\n   </g>\n   <g id=\"patch_280\">\n    <path d=\"M 311.287 258.960267 \nL 329.143 258.960267 \nL 329.143 258.864007 \nL 311.287 258.864007 \nz\n\" clip-path=\"url(#p45a725a746)\" style=\"fill: #be5534\"/>\n   </g>\n   <g id=\"patch_281\">\n    <path d=\"M 346.999 222.610163 \nL 364.855 222.610163 \nL 364.855 222.562033 \nL 346.999 222.562033 \nz\n\" clip-path=\"url(#p45a725a746)\" style=\"fill: #be5534\"/>\n   </g>\n   <g id=\"patch_282\">\n    <path d=\"M 382.711 264.200409 \nL 400.567 264.200409 \nL 400.567 264.161304 \nL 382.711 264.161304 \nz\n\" clip-path=\"url(#p45a725a746)\" style=\"fill: #be5534\"/>\n   </g>\n   <g id=\"patch_283\">\n    <path d=\"M 61.303 208.926232 \nL 79.159 208.926232 \nL 79.159 208.478022 \nL 61.303 208.478022 \nz\n\" clip-path=\"url(#p45a725a746)\" style=\"fill: #b75232\"/>\n   </g>\n   <g id=\"patch_284\">\n    <path d=\"M 97.015 267.152877 \nL 114.871 267.152877 \nL 114.871 265.250242 \nL 97.015 265.250242 \nz\n\" clip-path=\"url(#p45a725a746)\" style=\"fill: #b75232\"/>\n   </g>\n   <g id=\"patch_285\">\n    <path d=\"M 132.727 262.520375 \nL 150.583 262.520375 \nL 150.583 262.413587 \nL 132.727 262.413587 \nz\n\" clip-path=\"url(#p45a725a746)\" style=\"fill: #b75232\"/>\n   </g>\n   <g id=\"patch_286\">\n    <path d=\"M 168.439 181.803531 \nL 186.295 181.803531 \nL 186.295 180.61382 \nL 168.439 180.61382 \nz\n\" clip-path=\"url(#p45a725a746)\" style=\"fill: #b75232\"/>\n   </g>\n   <g id=\"patch_287\">\n    <path d=\"M 204.151 260.57713 \nL 222.007 260.57713 \nL 222.007 259.75441 \nL 204.151 259.75441 \nz\n\" clip-path=\"url(#p45a725a746)\" style=\"fill: #b75232\"/>\n   </g>\n   <g id=\"patch_288\">\n    <path d=\"M 239.863 248.881566 \nL 257.719 248.881566 \nL 257.719 248.871037 \nL 239.863 248.871037 \nz\n\" clip-path=\"url(#p45a725a746)\" style=\"fill: #b75232\"/>\n   </g>\n   <g id=\"patch_289\">\n    <path d=\"M 275.575 197.910502 \nL 293.431 197.910502 \nL 293.431 196.051484 \nL 275.575 196.051484 \nz\n\" clip-path=\"url(#p45a725a746)\" style=\"fill: #b75232\"/>\n   </g>\n   <g id=\"patch_290\">\n    <path d=\"M 311.287 258.864007 \nL 329.143 258.864007 \nL 329.143 258.460919 \nL 311.287 258.460919 \nz\n\" clip-path=\"url(#p45a725a746)\" style=\"fill: #b75232\"/>\n   </g>\n   <g id=\"patch_291\">\n    <path d=\"M 346.999 222.562033 \nL 364.855 222.562033 \nL 364.855 221.883702 \nL 346.999 221.883702 \nz\n\" clip-path=\"url(#p45a725a746)\" style=\"fill: #b75232\"/>\n   </g>\n   <g id=\"patch_292\">\n    <path d=\"M 382.711 264.161304 \nL 400.567 264.161304 \nL 400.567 264.025938 \nL 382.711 264.025938 \nz\n\" clip-path=\"url(#p45a725a746)\" style=\"fill: #b75232\"/>\n   </g>\n   <g id=\"patch_293\">\n    <path d=\"M 61.303 208.478022 \nL 79.159 208.478022 \nL 79.159 208.44042 \nL 61.303 208.44042 \nz\n\" clip-path=\"url(#p45a725a746)\" style=\"fill: #af4e30\"/>\n   </g>\n   <g id=\"patch_294\">\n    <path d=\"M 97.015 265.250242 \nL 114.871 265.250242 \nL 114.871 265.23069 \nL 97.015 265.23069 \nz\n\" clip-path=\"url(#p45a725a746)\" style=\"fill: #af4e30\"/>\n   </g>\n   <g id=\"patch_295\">\n    <path d=\"M 132.727 262.413587 \nL 150.583 262.413587 \nL 150.583 262.084198 \nL 132.727 262.084198 \nz\n\" clip-path=\"url(#p45a725a746)\" style=\"fill: #af4e30\"/>\n   </g>\n   <g id=\"patch_296\">\n    <path d=\"M 168.439 180.61382 \nL 186.295 180.61382 \nL 186.295 180.491991 \nL 168.439 180.491991 \nz\n\" clip-path=\"url(#p45a725a746)\" style=\"fill: #af4e30\"/>\n   </g>\n   <g id=\"patch_297\">\n    <path d=\"M 204.151 259.75441 \nL 222.007 259.75441 \nL 222.007 259.670183 \nL 204.151 259.670183 \nz\n\" clip-path=\"url(#p45a725a746)\" style=\"fill: #af4e30\"/>\n   </g>\n   <g id=\"patch_298\">\n    <path d=\"M 239.863 248.871037 \nL 257.719 248.871037 \nL 257.719 248.768761 \nL 239.863 248.768761 \nz\n\" clip-path=\"url(#p45a725a746)\" style=\"fill: #af4e30\"/>\n   </g>\n   <g id=\"patch_299\">\n    <path d=\"M 275.575 196.051484 \nL 293.431 196.051484 \nL 293.431 191.972476 \nL 275.575 191.972476 \nz\n\" clip-path=\"url(#p45a725a746)\" style=\"fill: #af4e30\"/>\n   </g>\n   <g id=\"patch_300\">\n    <path d=\"M 311.287 258.460919 \nL 329.143 258.460919 \nL 329.143 258.259375 \nL 311.287 258.259375 \nz\n\" clip-path=\"url(#p45a725a746)\" style=\"fill: #af4e30\"/>\n   </g>\n   <g id=\"patch_301\">\n    <path d=\"M 346.999 221.883702 \nL 364.855 221.883702 \nL 364.855 221.676142 \nL 346.999 221.676142 \nz\n\" clip-path=\"url(#p45a725a746)\" style=\"fill: #af4e30\"/>\n   </g>\n   <g id=\"patch_302\">\n    <path d=\"M 382.711 264.025938 \nL 400.567 264.025938 \nL 400.567 263.388217 \nL 382.711 263.388217 \nz\n\" clip-path=\"url(#p45a725a746)\" style=\"fill: #af4e30\"/>\n   </g>\n   <g id=\"patch_303\">\n    <path d=\"M 61.303 208.44042 \nL 79.159 208.44042 \nL 79.159 208.402819 \nL 61.303 208.402819 \nz\n\" clip-path=\"url(#p45a725a746)\" style=\"fill: #fdae61\"/>\n   </g>\n   <g id=\"patch_304\">\n    <path d=\"M 97.015 265.23069 \nL 114.871 265.23069 \nL 114.871 265.138942 \nL 97.015 265.138942 \nz\n\" clip-path=\"url(#p45a725a746)\" style=\"fill: #fdae61\"/>\n   </g>\n   <g id=\"patch_305\">\n    <path d=\"M 132.727 262.084198 \nL 150.583 262.084198 \nL 150.583 259.485183 \nL 132.727 259.485183 \nz\n\" clip-path=\"url(#p45a725a746)\" style=\"fill: #fdae61\"/>\n   </g>\n   <g id=\"patch_306\">\n    <path d=\"M 168.439 180.491991 \nL 186.295 180.491991 \nL 186.295 170.503534 \nL 168.439 170.503534 \nz\n\" clip-path=\"url(#p45a725a746)\" style=\"fill: #fdae61\"/>\n   </g>\n   <g id=\"patch_307\">\n    <path d=\"M 204.151 259.670183 \nL 222.007 259.670183 \nL 222.007 258.910633 \nL 204.151 258.910633 \nz\n\" clip-path=\"url(#p45a725a746)\" style=\"fill: #fdae61\"/>\n   </g>\n   <g id=\"patch_308\">\n    <path d=\"M 239.863 248.768761 \nL 257.719 248.768761 \nL 257.719 241.057449 \nL 239.863 241.057449 \nz\n\" clip-path=\"url(#p45a725a746)\" style=\"fill: #fdae61\"/>\n   </g>\n   <g id=\"patch_309\">\n    <path d=\"M 275.575 191.972476 \nL 293.431 191.972476 \nL 293.431 191.018902 \nL 275.575 191.018902 \nz\n\" clip-path=\"url(#p45a725a746)\" style=\"fill: #fdae61\"/>\n   </g>\n   <g id=\"patch_310\">\n    <path d=\"M 311.287 258.259375 \nL 329.143 258.259375 \nL 329.143 257.826206 \nL 311.287 257.826206 \nz\n\" clip-path=\"url(#p45a725a746)\" style=\"fill: #fdae61\"/>\n   </g>\n   <g id=\"patch_311\">\n    <path d=\"M 346.999 221.676142 \nL 364.855 221.676142 \nL 364.855 219.391476 \nL 346.999 219.391476 \nz\n\" clip-path=\"url(#p45a725a746)\" style=\"fill: #fdae61\"/>\n   </g>\n   <g id=\"patch_312\">\n    <path d=\"M 382.711 263.388217 \nL 400.567 263.388217 \nL 400.567 261.750297 \nL 382.711 261.750297 \nz\n\" clip-path=\"url(#p45a725a746)\" style=\"fill: #fdae61\"/>\n   </g>\n   <g id=\"patch_313\">\n    <path d=\"M 61.303 208.402819 \nL 79.159 208.402819 \nL 79.159 208.350177 \nL 61.303 208.350177 \nz\n\" clip-path=\"url(#p45a725a746)\" style=\"fill: #f5a95e\"/>\n   </g>\n   <g id=\"patch_314\">\n    <path d=\"M 97.015 265.138942 \nL 114.871 265.138942 \nL 114.871 265.09382 \nL 97.015 265.09382 \nz\n\" clip-path=\"url(#p45a725a746)\" style=\"fill: #f5a95e\"/>\n   </g>\n   <g id=\"patch_315\">\n    <path d=\"M 132.727 259.485183 \nL 150.583 259.485183 \nL 150.583 258.675999 \nL 132.727 258.675999 \nz\n\" clip-path=\"url(#p45a725a746)\" style=\"fill: #f5a95e\"/>\n   </g>\n   <g id=\"patch_316\">\n    <path d=\"M 168.439 170.503534 \nL 186.295 170.503534 \nL 186.295 165.028758 \nL 168.439 165.028758 \nz\n\" clip-path=\"url(#p45a725a746)\" style=\"fill: #f5a95e\"/>\n   </g>\n   <g id=\"patch_317\">\n    <path d=\"M 204.151 258.910633 \nL 222.007 258.910633 \nL 222.007 258.797828 \nL 204.151 258.797828 \nz\n\" clip-path=\"url(#p45a725a746)\" style=\"fill: #f5a95e\"/>\n   </g>\n   <g id=\"patch_318\">\n    <path d=\"M 239.863 241.057449 \nL 257.719 241.057449 \nL 257.719 240.207656 \nL 239.863 240.207656 \nz\n\" clip-path=\"url(#p45a725a746)\" style=\"fill: #f5a95e\"/>\n   </g>\n   <g id=\"patch_319\">\n    <path d=\"M 275.575 191.018902 \nL 293.431 191.018902 \nL 293.431 190.327035 \nL 275.575 190.327035 \nz\n\" clip-path=\"url(#p45a725a746)\" style=\"fill: #f5a95e\"/>\n   </g>\n   <g id=\"patch_320\">\n    <path d=\"M 311.287 257.826206 \nL 329.143 257.826206 \nL 329.143 257.766044 \nL 311.287 257.766044 \nz\n\" clip-path=\"url(#p45a725a746)\" style=\"fill: #f5a95e\"/>\n   </g>\n   <g id=\"patch_321\">\n    <path d=\"M 346.999 219.391476 \nL 364.855 219.391476 \nL 364.855 218.099489 \nL 346.999 218.099489 \nz\n\" clip-path=\"url(#p45a725a746)\" style=\"fill: #f5a95e\"/>\n   </g>\n   <g id=\"patch_322\">\n    <path d=\"M 382.711 261.750297 \nL 400.567 261.750297 \nL 400.567 261.619443 \nL 382.711 261.619443 \nz\n\" clip-path=\"url(#p45a725a746)\" style=\"fill: #f5a95e\"/>\n   </g>\n   <g id=\"patch_323\">\n    <path d=\"M 61.303 208.350177 \nL 79.159 208.350177 \nL 79.159 208.339648 \nL 61.303 208.339648 \nz\n\" clip-path=\"url(#p45a725a746)\" style=\"fill: #eea35b\"/>\n   </g>\n   <g id=\"patch_324\">\n    <path d=\"M 97.015 265.09382 \nL 114.871 265.09382 \nL 114.871 265.084796 \nL 97.015 265.084796 \nz\n\" clip-path=\"url(#p45a725a746)\" style=\"fill: #eea35b\"/>\n   </g>\n   <g id=\"patch_325\">\n    <path d=\"M 132.727 258.675999 \nL 150.583 258.675999 \nL 150.583 257.976612 \nL 132.727 257.976612 \nz\n\" clip-path=\"url(#p45a725a746)\" style=\"fill: #eea35b\"/>\n   </g>\n   <g id=\"patch_326\">\n    <path d=\"M 168.439 165.028758 \nL 186.295 165.028758 \nL 186.295 153.776891 \nL 168.439 153.776891 \nz\n\" clip-path=\"url(#p45a725a746)\" style=\"fill: #eea35b\"/>\n   </g>\n   <g id=\"patch_327\">\n    <path d=\"M 204.151 258.797828 \nL 222.007 258.797828 \nL 222.007 258.710593 \nL 204.151 258.710593 \nz\n\" clip-path=\"url(#p45a725a746)\" style=\"fill: #eea35b\"/>\n   </g>\n   <g id=\"patch_328\">\n    <path d=\"M 239.863 240.207656 \nL 257.719 240.207656 \nL 257.719 239.673715 \nL 239.863 239.673715 \nz\n\" clip-path=\"url(#p45a725a746)\" style=\"fill: #eea35b\"/>\n   </g>\n   <g id=\"patch_329\">\n    <path d=\"M 275.575 190.327035 \nL 293.431 190.327035 \nL 293.431 190.018703 \nL 275.575 190.018703 \nz\n\" clip-path=\"url(#p45a725a746)\" style=\"fill: #eea35b\"/>\n   </g>\n   <g id=\"patch_330\">\n    <path d=\"M 311.287 257.766044 \nL 329.143 257.766044 \nL 329.143 257.728442 \nL 311.287 257.728442 \nz\n\" clip-path=\"url(#p45a725a746)\" style=\"fill: #eea35b\"/>\n   </g>\n   <g id=\"patch_331\">\n    <path d=\"M 346.999 218.099489 \nL 364.855 218.099489 \nL 364.855 217.568556 \nL 346.999 217.568556 \nz\n\" clip-path=\"url(#p45a725a746)\" style=\"fill: #eea35b\"/>\n   </g>\n   <g id=\"patch_332\">\n    <path d=\"M 382.711 261.619443 \nL 400.567 261.619443 \nL 400.567 261.243429 \nL 382.711 261.243429 \nz\n\" clip-path=\"url(#p45a725a746)\" style=\"fill: #eea35b\"/>\n   </g>\n   <g id=\"patch_333\">\n    <path d=\"M 61.303 208.339648 \nL 79.159 208.339648 \nL 79.159 208.332128 \nL 61.303 208.332128 \nz\n\" clip-path=\"url(#p45a725a746)\" style=\"fill: #e69e58\"/>\n   </g>\n   <g id=\"patch_334\">\n    <path d=\"M 97.015 265.084796 \nL 114.871 265.084796 \nL 114.871 264.403457 \nL 97.015 264.403457 \nz\n\" clip-path=\"url(#p45a725a746)\" style=\"fill: #e69e58\"/>\n   </g>\n   <g id=\"patch_335\">\n    <path d=\"M 132.727 257.976612 \nL 150.583 257.976612 \nL 150.583 257.738971 \nL 132.727 257.738971 \nz\n\" clip-path=\"url(#p45a725a746)\" style=\"fill: #e69e58\"/>\n   </g>\n   <g id=\"patch_336\">\n    <path d=\"M 168.439 153.776891 \nL 186.295 153.776891 \nL 186.295 146.416025 \nL 168.439 146.416025 \nz\n\" clip-path=\"url(#p45a725a746)\" style=\"fill: #e69e58\"/>\n   </g>\n   <g id=\"patch_337\">\n    <path d=\"M 204.151 258.710593 \nL 222.007 258.710593 \nL 222.007 258.516569 \nL 204.151 258.516569 \nz\n\" clip-path=\"url(#p45a725a746)\" style=\"fill: #e69e58\"/>\n   </g>\n   <g id=\"patch_338\">\n    <path d=\"M 239.863 239.673715 \nL 257.719 239.673715 \nL 257.719 239.615057 \nL 239.863 239.615057 \nz\n\" clip-path=\"url(#p45a725a746)\" style=\"fill: #e69e58\"/>\n   </g>\n   <g id=\"patch_339\">\n    <path d=\"M 275.575 190.018703 \nL 293.431 190.018703 \nL 293.431 189.776549 \nL 275.575 189.776549 \nz\n\" clip-path=\"url(#p45a725a746)\" style=\"fill: #e69e58\"/>\n   </g>\n   <g id=\"patch_340\">\n    <path d=\"M 311.287 257.728442 \nL 329.143 257.728442 \nL 329.143 257.623158 \nL 311.287 257.623158 \nz\n\" clip-path=\"url(#p45a725a746)\" style=\"fill: #e69e58\"/>\n   </g>\n   <g id=\"patch_341\">\n    <path d=\"M 346.999 217.568556 \nL 364.855 217.568556 \nL 364.855 216.527747 \nL 346.999 216.527747 \nz\n\" clip-path=\"url(#p45a725a746)\" style=\"fill: #e69e58\"/>\n   </g>\n   <g id=\"patch_342\">\n    <path d=\"M 382.711 261.243429 \nL 400.567 261.243429 \nL 400.567 260.909527 \nL 382.711 260.909527 \nz\n\" clip-path=\"url(#p45a725a746)\" style=\"fill: #e69e58\"/>\n   </g>\n   <g id=\"patch_343\">\n    <path d=\"M 61.303 208.332128 \nL 79.159 208.332128 \nL 79.159 208.323104 \nL 61.303 208.323104 \nz\n\" clip-path=\"url(#p45a725a746)\" style=\"fill: #de9955\"/>\n   </g>\n   <g id=\"patch_344\">\n    <path d=\"M 97.015 264.403457 \nL 114.871 264.403457 \nL 114.871 264.397441 \nL 97.015 264.397441 \nz\n\" clip-path=\"url(#p45a725a746)\" style=\"fill: #de9955\"/>\n   </g>\n   <g id=\"patch_345\">\n    <path d=\"M 132.727 257.738971 \nL 150.583 257.738971 \nL 150.583 257.307306 \nL 132.727 257.307306 \nz\n\" clip-path=\"url(#p45a725a746)\" style=\"fill: #de9955\"/>\n   </g>\n   <g id=\"patch_346\">\n    <path d=\"M 168.439 146.416025 \nL 186.295 146.416025 \nL 186.295 146.220497 \nL 168.439 146.220497 \nz\n\" clip-path=\"url(#p45a725a746)\" style=\"fill: #de9955\"/>\n   </g>\n   <g id=\"patch_347\">\n    <path d=\"M 204.151 258.516569 \nL 222.007 258.516569 \nL 222.007 258.510553 \nL 204.151 258.510553 \nz\n\" clip-path=\"url(#p45a725a746)\" style=\"fill: #de9955\"/>\n   </g>\n   <g id=\"patch_348\">\n    <path d=\"M 239.863 239.615057 \nL 257.719 239.615057 \nL 257.719 239.464651 \nL 239.863 239.464651 \nz\n\" clip-path=\"url(#p45a725a746)\" style=\"fill: #de9955\"/>\n   </g>\n   <g id=\"patch_349\">\n    <path d=\"M 275.575 189.776549 \nL 293.431 189.776549 \nL 293.431 189.272689 \nL 275.575 189.272689 \nz\n\" clip-path=\"url(#p45a725a746)\" style=\"fill: #de9955\"/>\n   </g>\n   <g id=\"patch_350\">\n    <path d=\"M 311.287 257.623158 \nL 329.143 257.623158 \nL 329.143 257.614134 \nL 311.287 257.614134 \nz\n\" clip-path=\"url(#p45a725a746)\" style=\"fill: #de9955\"/>\n   </g>\n   <g id=\"patch_351\">\n    <path d=\"M 346.999 216.527747 \nL 364.855 216.527747 \nL 364.855 216.484129 \nL 346.999 216.484129 \nz\n\" clip-path=\"url(#p45a725a746)\" style=\"fill: #de9955\"/>\n   </g>\n   <g id=\"patch_352\">\n    <path d=\"M 382.711 260.909527 \nL 400.567 260.909527 \nL 400.567 260.868918 \nL 382.711 260.868918 \nz\n\" clip-path=\"url(#p45a725a746)\" style=\"fill: #de9955\"/>\n   </g>\n   <g id=\"patch_353\">\n    <path d=\"M 61.303 208.323104 \nL 79.159 208.323104 \nL 79.159 208.320096 \nL 61.303 208.320096 \nz\n\" clip-path=\"url(#p45a725a746)\" style=\"fill: #d79452\"/>\n   </g>\n   <g id=\"patch_354\">\n    <path d=\"M 97.015 264.397441 \nL 114.871 264.397441 \nL 114.871 264.355327 \nL 97.015 264.355327 \nz\n\" clip-path=\"url(#p45a725a746)\" style=\"fill: #d79452\"/>\n   </g>\n   <g id=\"patch_355\">\n    <path d=\"M 132.727 257.307306 \nL 150.583 257.307306 \nL 150.583 257.155396 \nL 132.727 257.155396 \nz\n\" clip-path=\"url(#p45a725a746)\" style=\"fill: #d79452\"/>\n   </g>\n   <g id=\"patch_356\">\n    <path d=\"M 168.439 146.220497 \nL 186.295 146.220497 \nL 186.295 144.841275 \nL 168.439 144.841275 \nz\n\" clip-path=\"url(#p45a725a746)\" style=\"fill: #d79452\"/>\n   </g>\n   <g id=\"patch_357\">\n    <path d=\"M 204.151 258.510553 \nL 222.007 258.510553 \nL 222.007 258.104457 \nL 204.151 258.104457 \nz\n\" clip-path=\"url(#p45a725a746)\" style=\"fill: #d79452\"/>\n   </g>\n   <g id=\"patch_358\">\n    <path d=\"M 239.863 239.464651 \nL 257.719 239.464651 \nL 257.719 238.53815 \nL 239.863 238.53815 \nz\n\" clip-path=\"url(#p45a725a746)\" style=\"fill: #d79452\"/>\n   </g>\n   <g id=\"patch_359\">\n    <path d=\"M 275.575 189.272689 \nL 293.431 189.272689 \nL 293.431 188.555253 \nL 275.575 188.555253 \nz\n\" clip-path=\"url(#p45a725a746)\" style=\"fill: #d79452\"/>\n   </g>\n   <g id=\"patch_360\">\n    <path d=\"M 311.287 257.614134 \nL 329.143 257.614134 \nL 329.143 257.597589 \nL 311.287 257.597589 \nz\n\" clip-path=\"url(#p45a725a746)\" style=\"fill: #d79452\"/>\n   </g>\n   <g id=\"patch_361\">\n    <path d=\"M 346.999 216.484129 \nL 364.855 216.484129 \nL 364.855 216.473601 \nL 346.999 216.473601 \nz\n\" clip-path=\"url(#p45a725a746)\" style=\"fill: #d79452\"/>\n   </g>\n   <g id=\"patch_362\">\n    <path d=\"M 382.711 260.868918 \nL 400.567 260.868918 \nL 400.567 260.661358 \nL 382.711 260.661358 \nz\n\" clip-path=\"url(#p45a725a746)\" style=\"fill: #d79452\"/>\n   </g>\n   <g id=\"patch_363\">\n    <path d=\"M 61.303 208.320096 \nL 79.159 208.320096 \nL 79.159 208.315584 \nL 61.303 208.315584 \nz\n\" clip-path=\"url(#p45a725a746)\" style=\"fill: #cf8e4f\"/>\n   </g>\n   <g id=\"patch_364\">\n    <path d=\"M 97.015 264.355327 \nL 114.871 264.355327 \nL 114.871 264.27862 \nL 97.015 264.27862 \nz\n\" clip-path=\"url(#p45a725a746)\" style=\"fill: #cf8e4f\"/>\n   </g>\n   <g id=\"patch_365\">\n    <path d=\"M 132.727 257.155396 \nL 150.583 257.155396 \nL 150.583 256.968892 \nL 132.727 256.968892 \nz\n\" clip-path=\"url(#p45a725a746)\" style=\"fill: #cf8e4f\"/>\n   </g>\n   <g id=\"patch_366\">\n    <path d=\"M 168.439 144.841275 \nL 186.295 144.841275 \nL 186.295 142.998802 \nL 168.439 142.998802 \nz\n\" clip-path=\"url(#p45a725a746)\" style=\"fill: #cf8e4f\"/>\n   </g>\n   <g id=\"patch_367\">\n    <path d=\"M 204.151 258.104457 \nL 222.007 258.104457 \nL 222.007 258.102953 \nL 204.151 258.102953 \nz\n\" clip-path=\"url(#p45a725a746)\" style=\"fill: #cf8e4f\"/>\n   </g>\n   <g id=\"patch_368\">\n    <path d=\"M 239.863 238.53815 \nL 257.719 238.53815 \nL 257.719 238.076404 \nL 239.863 238.076404 \nz\n\" clip-path=\"url(#p45a725a746)\" style=\"fill: #cf8e4f\"/>\n   </g>\n   <g id=\"patch_369\">\n    <path d=\"M 275.575 188.555253 \nL 293.431 188.555253 \nL 293.431 187.36855 \nL 275.575 187.36855 \nz\n\" clip-path=\"url(#p45a725a746)\" style=\"fill: #cf8e4f\"/>\n   </g>\n   <g id=\"patch_370\">\n    <path d=\"M 311.287 257.597589 \nL 329.143 257.597589 \nL 329.143 257.549459 \nL 311.287 257.549459 \nz\n\" clip-path=\"url(#p45a725a746)\" style=\"fill: #cf8e4f\"/>\n   </g>\n   <g id=\"patch_371\">\n    <path d=\"M 346.999 216.473601 \nL 364.855 216.473601 \nL 364.855 216.44352 \nL 346.999 216.44352 \nz\n\" clip-path=\"url(#p45a725a746)\" style=\"fill: #cf8e4f\"/>\n   </g>\n   <g id=\"patch_372\">\n    <path d=\"M 382.711 260.661358 \nL 400.567 260.661358 \nL 400.567 260.014612 \nL 382.711 260.014612 \nz\n\" clip-path=\"url(#p45a725a746)\" style=\"fill: #cf8e4f\"/>\n   </g>\n   <g id=\"patch_373\">\n    <path d=\"M 61.303 208.315584 \nL 79.159 208.315584 \nL 79.159 208.312575 \nL 61.303 208.312575 \nz\n\" clip-path=\"url(#p45a725a746)\" style=\"fill: #c7894c\"/>\n   </g>\n   <g id=\"patch_374\">\n    <path d=\"M 97.015 264.27862 \nL 114.871 264.27862 \nL 114.871 264.2711 \nL 97.015 264.2711 \nz\n\" clip-path=\"url(#p45a725a746)\" style=\"fill: #c7894c\"/>\n   </g>\n   <g id=\"patch_375\">\n    <path d=\"M 132.727 256.968892 \nL 150.583 256.968892 \nL 150.583 256.958364 \nL 132.727 256.958364 \nz\n\" clip-path=\"url(#p45a725a746)\" style=\"fill: #c7894c\"/>\n   </g>\n   <g id=\"patch_376\">\n    <path d=\"M 168.439 142.998802 \nL 186.295 142.998802 \nL 186.295 141.72336 \nL 168.439 141.72336 \nz\n\" clip-path=\"url(#p45a725a746)\" style=\"fill: #c7894c\"/>\n   </g>\n   <g id=\"patch_377\">\n    <path d=\"M 204.151 258.102953 \nL 222.007 258.102953 \nL 222.007 257.769052 \nL 204.151 257.769052 \nz\n\" clip-path=\"url(#p45a725a746)\" style=\"fill: #c7894c\"/>\n   </g>\n   <g id=\"patch_378\">\n    <path d=\"M 239.863 238.076404 \nL 257.719 238.076404 \nL 257.719 236.871652 \nL 239.863 236.871652 \nz\n\" clip-path=\"url(#p45a725a746)\" style=\"fill: #c7894c\"/>\n   </g>\n   <g id=\"patch_379\">\n    <path d=\"M 275.575 187.36855 \nL 293.431 187.36855 \nL 293.431 187.311396 \nL 275.575 187.311396 \nz\n\" clip-path=\"url(#p45a725a746)\" style=\"fill: #c7894c\"/>\n   </g>\n   <g id=\"patch_380\">\n    <path d=\"M 311.287 257.549459 \nL 329.143 257.549459 \nL 329.143 257.368972 \nL 311.287 257.368972 \nz\n\" clip-path=\"url(#p45a725a746)\" style=\"fill: #c7894c\"/>\n   </g>\n   <g id=\"patch_381\">\n    <path d=\"M 346.999 216.44352 \nL 364.855 216.44352 \nL 364.855 216.432991 \nL 346.999 216.432991 \nz\n\" clip-path=\"url(#p45a725a746)\" style=\"fill: #c7894c\"/>\n   </g>\n   <g id=\"patch_382\">\n    <path d=\"M 382.711 260.014612 \nL 400.567 260.014612 \nL 400.567 258.770755 \nL 382.711 258.770755 \nz\n\" clip-path=\"url(#p45a725a746)\" style=\"fill: #c7894c\"/>\n   </g>\n   <g id=\"patch_383\">\n    <path d=\"M 61.303 273.312 \nL 79.159 273.312 \nL 79.159 273.312 \nL 61.303 273.312 \nz\n\" clip-path=\"url(#p45a725a746)\" style=\"fill: #c0844a\"/>\n   </g>\n   <g id=\"patch_384\">\n    <path d=\"M 97.015 264.2711 \nL 114.871 264.2711 \nL 114.871 264.253051 \nL 97.015 264.253051 \nz\n\" clip-path=\"url(#p45a725a746)\" style=\"fill: #c0844a\"/>\n   </g>\n   <g id=\"patch_385\">\n    <path d=\"M 132.727 256.958364 \nL 150.583 256.958364 \nL 150.583 256.886169 \nL 132.727 256.886169 \nz\n\" clip-path=\"url(#p45a725a746)\" style=\"fill: #c0844a\"/>\n   </g>\n   <g id=\"patch_386\">\n    <path d=\"M 168.439 141.72336 \nL 186.295 141.72336 \nL 186.295 126.204477 \nL 168.439 126.204477 \nz\n\" clip-path=\"url(#p45a725a746)\" style=\"fill: #c0844a\"/>\n   </g>\n   <g id=\"patch_387\">\n    <path d=\"M 204.151 257.769052 \nL 222.007 257.769052 \nL 222.007 257.578036 \nL 204.151 257.578036 \nz\n\" clip-path=\"url(#p45a725a746)\" style=\"fill: #c0844a\"/>\n   </g>\n   <g id=\"patch_388\">\n    <path d=\"M 239.863 236.871652 \nL 257.719 236.871652 \nL 257.719 236.187306 \nL 239.863 236.187306 \nz\n\" clip-path=\"url(#p45a725a746)\" style=\"fill: #c0844a\"/>\n   </g>\n   <g id=\"patch_389\">\n    <path d=\"M 275.575 187.311396 \nL 293.431 187.311396 \nL 293.431 187.24973 \nL 275.575 187.24973 \nz\n\" clip-path=\"url(#p45a725a746)\" style=\"fill: #c0844a\"/>\n   </g>\n   <g id=\"patch_390\">\n    <path d=\"M 311.287 257.368972 \nL 329.143 257.368972 \nL 329.143 257.10877 \nL 311.287 257.10877 \nz\n\" clip-path=\"url(#p45a725a746)\" style=\"fill: #c0844a\"/>\n   </g>\n   <g id=\"patch_391\">\n    <path d=\"M 346.999 216.432991 \nL 364.855 216.432991 \nL 364.855 215.822343 \nL 346.999 215.822343 \nz\n\" clip-path=\"url(#p45a725a746)\" style=\"fill: #c0844a\"/>\n   </g>\n   <g id=\"patch_392\">\n    <path d=\"M 382.711 258.770755 \nL 400.567 258.770755 \nL 400.567 257.760027 \nL 382.711 257.760027 \nz\n\" clip-path=\"url(#p45a725a746)\" style=\"fill: #c0844a\"/>\n   </g>\n   <g id=\"patch_393\">\n    <path d=\"M 61.303 208.312575 \nL 79.159 208.312575 \nL 79.159 208.308063 \nL 61.303 208.308063 \nz\n\" clip-path=\"url(#p45a725a746)\" style=\"fill: #b87f47\"/>\n   </g>\n   <g id=\"patch_394\">\n    <path d=\"M 97.015 264.253051 \nL 114.871 264.253051 \nL 114.871 264.244027 \nL 97.015 264.244027 \nz\n\" clip-path=\"url(#p45a725a746)\" style=\"fill: #b87f47\"/>\n   </g>\n   <g id=\"patch_395\">\n    <path d=\"M 132.727 256.886169 \nL 150.583 256.886169 \nL 150.583 256.785397 \nL 132.727 256.785397 \nz\n\" clip-path=\"url(#p45a725a746)\" style=\"fill: #b87f47\"/>\n   </g>\n   <g id=\"patch_396\">\n    <path d=\"M 168.439 126.204477 \nL 186.295 126.204477 \nL 186.295 124.083753 \nL 168.439 124.083753 \nz\n\" clip-path=\"url(#p45a725a746)\" style=\"fill: #b87f47\"/>\n   </g>\n   <g id=\"patch_397\">\n    <path d=\"M 204.151 257.578036 \nL 222.007 257.578036 \nL 222.007 257.280232 \nL 204.151 257.280232 \nz\n\" clip-path=\"url(#p45a725a746)\" style=\"fill: #b87f47\"/>\n   </g>\n   <g id=\"patch_398\">\n    <path d=\"M 239.863 236.187306 \nL 257.719 236.187306 \nL 257.719 233.171667 \nL 239.863 233.171667 \nz\n\" clip-path=\"url(#p45a725a746)\" style=\"fill: #b87f47\"/>\n   </g>\n   <g id=\"patch_399\">\n    <path d=\"M 275.575 187.24973 \nL 293.431 187.24973 \nL 293.431 186.762414 \nL 275.575 186.762414 \nz\n\" clip-path=\"url(#p45a725a746)\" style=\"fill: #b87f47\"/>\n   </g>\n   <g id=\"patch_400\">\n    <path d=\"M 311.287 257.10877 \nL 329.143 257.10877 \nL 329.143 257.02003 \nL 311.287 257.02003 \nz\n\" clip-path=\"url(#p45a725a746)\" style=\"fill: #b87f47\"/>\n   </g>\n   <g id=\"patch_401\">\n    <path d=\"M 346.999 215.822343 \nL 364.855 215.822343 \nL 364.855 215.156045 \nL 346.999 215.156045 \nz\n\" clip-path=\"url(#p45a725a746)\" style=\"fill: #b87f47\"/>\n   </g>\n   <g id=\"patch_402\">\n    <path d=\"M 382.711 257.760027 \nL 400.567 257.760027 \nL 400.567 257.137347 \nL 382.711 257.137347 \nz\n\" clip-path=\"url(#p45a725a746)\" style=\"fill: #b87f47\"/>\n   </g>\n   <g id=\"patch_403\">\n    <path d=\"M 61.303 208.308063 \nL 79.159 208.308063 \nL 79.159 208.306559 \nL 61.303 208.306559 \nz\n\" clip-path=\"url(#p45a725a746)\" style=\"fill: #fee08b\"/>\n   </g>\n   <g id=\"patch_404\">\n    <path d=\"M 97.015 264.244027 \nL 114.871 264.244027 \nL 114.871 264.195897 \nL 97.015 264.195897 \nz\n\" clip-path=\"url(#p45a725a746)\" style=\"fill: #fee08b\"/>\n   </g>\n   <g id=\"patch_405\">\n    <path d=\"M 132.727 256.785397 \nL 150.583 256.785397 \nL 150.583 256.7493 \nL 132.727 256.7493 \nz\n\" clip-path=\"url(#p45a725a746)\" style=\"fill: #fee08b\"/>\n   </g>\n   <g id=\"patch_406\">\n    <path d=\"M 168.439 124.083753 \nL 186.295 124.083753 \nL 186.295 119.920517 \nL 168.439 119.920517 \nz\n\" clip-path=\"url(#p45a725a746)\" style=\"fill: #fee08b\"/>\n   </g>\n   <g id=\"patch_407\">\n    <path d=\"M 204.151 257.280232 \nL 222.007 257.280232 \nL 222.007 256.770356 \nL 204.151 256.770356 \nz\n\" clip-path=\"url(#p45a725a746)\" style=\"fill: #fee08b\"/>\n   </g>\n   <g id=\"patch_408\">\n    <path d=\"M 239.863 233.171667 \nL 257.719 233.171667 \nL 257.719 231.646551 \nL 239.863 231.646551 \nz\n\" clip-path=\"url(#p45a725a746)\" style=\"fill: #fee08b\"/>\n   </g>\n   <g id=\"patch_409\">\n    <path d=\"M 275.575 186.762414 \nL 293.431 186.762414 \nL 293.431 186.625545 \nL 275.575 186.625545 \nz\n\" clip-path=\"url(#p45a725a746)\" style=\"fill: #fee08b\"/>\n   </g>\n   <g id=\"patch_410\">\n    <path d=\"M 311.287 257.02003 \nL 329.143 257.02003 \nL 329.143 256.989949 \nL 311.287 256.989949 \nz\n\" clip-path=\"url(#p45a725a746)\" style=\"fill: #fee08b\"/>\n   </g>\n   <g id=\"patch_411\">\n    <path d=\"M 346.999 215.156045 \nL 364.855 215.156045 \nL 364.855 213.748246 \nL 346.999 213.748246 \nz\n\" clip-path=\"url(#p45a725a746)\" style=\"fill: #fee08b\"/>\n   </g>\n   <g id=\"patch_412\">\n    <path d=\"M 382.711 257.137347 \nL 400.567 257.137347 \nL 400.567 251.137654 \nL 382.711 251.137654 \nz\n\" clip-path=\"url(#p45a725a746)\" style=\"fill: #fee08b\"/>\n   </g>\n   <g id=\"patch_413\">\n    <path d=\"M 61.303 273.312 \nL 79.159 273.312 \nL 79.159 273.312 \nL 61.303 273.312 \nz\n\" clip-path=\"url(#p45a725a746)\" style=\"fill: #f6d987\"/>\n   </g>\n   <g id=\"patch_414\">\n    <path d=\"M 97.015 264.195897 \nL 114.871 264.195897 \nL 114.871 263.995857 \nL 97.015 263.995857 \nz\n\" clip-path=\"url(#p45a725a746)\" style=\"fill: #f6d987\"/>\n   </g>\n   <g id=\"patch_415\">\n    <path d=\"M 132.727 256.7493 \nL 150.583 256.7493 \nL 150.583 256.046904 \nL 132.727 256.046904 \nz\n\" clip-path=\"url(#p45a725a746)\" style=\"fill: #f6d987\"/>\n   </g>\n   <g id=\"patch_416\">\n    <path d=\"M 168.439 119.920517 \nL 186.295 119.920517 \nL 186.295 115.612892 \nL 168.439 115.612892 \nz\n\" clip-path=\"url(#p45a725a746)\" style=\"fill: #f6d987\"/>\n   </g>\n   <g id=\"patch_417\">\n    <path d=\"M 204.151 256.770356 \nL 222.007 256.770356 \nL 222.007 256.737267 \nL 204.151 256.737267 \nz\n\" clip-path=\"url(#p45a725a746)\" style=\"fill: #f6d987\"/>\n   </g>\n   <g id=\"patch_418\">\n    <path d=\"M 239.863 231.646551 \nL 257.719 231.646551 \nL 257.719 227.9225 \nL 239.863 227.9225 \nz\n\" clip-path=\"url(#p45a725a746)\" style=\"fill: #f6d987\"/>\n   </g>\n   <g id=\"patch_419\">\n    <path d=\"M 275.575 186.625545 \nL 293.431 186.625545 \nL 293.431 185.372664 \nL 275.575 185.372664 \nz\n\" clip-path=\"url(#p45a725a746)\" style=\"fill: #f6d987\"/>\n   </g>\n   <g id=\"patch_420\">\n    <path d=\"M 311.287 256.989949 \nL 329.143 256.989949 \nL 329.143 255.258777 \nL 311.287 255.258777 \nz\n\" clip-path=\"url(#p45a725a746)\" style=\"fill: #f6d987\"/>\n   </g>\n   <g id=\"patch_421\">\n    <path d=\"M 346.999 213.748246 \nL 364.855 213.748246 \nL 364.855 213.030809 \nL 346.999 213.030809 \nz\n\" clip-path=\"url(#p45a725a746)\" style=\"fill: #f6d987\"/>\n   </g>\n   <g id=\"patch_422\">\n    <path d=\"M 382.711 251.137654 \nL 400.567 251.137654 \nL 400.567 249.653148 \nL 382.711 249.653148 \nz\n\" clip-path=\"url(#p45a725a746)\" style=\"fill: #f6d987\"/>\n   </g>\n   <g id=\"patch_423\">\n    <path d=\"M 61.303 273.312 \nL 79.159 273.312 \nL 79.159 273.312 \nL 61.303 273.312 \nz\n\" clip-path=\"url(#p45a725a746)\" style=\"fill: #efd383\"/>\n   </g>\n   <g id=\"patch_424\">\n    <path d=\"M 97.015 263.995857 \nL 114.871 263.995857 \nL 114.871 263.705574 \nL 97.015 263.705574 \nz\n\" clip-path=\"url(#p45a725a746)\" style=\"fill: #efd383\"/>\n   </g>\n   <g id=\"patch_425\">\n    <path d=\"M 132.727 256.046904 \nL 150.583 256.046904 \nL 150.583 255.913043 \nL 132.727 255.913043 \nz\n\" clip-path=\"url(#p45a725a746)\" style=\"fill: #efd383\"/>\n   </g>\n   <g id=\"patch_426\">\n    <path d=\"M 168.439 115.612892 \nL 186.295 115.612892 \nL 186.295 111.189453 \nL 168.439 111.189453 \nz\n\" clip-path=\"url(#p45a725a746)\" style=\"fill: #efd383\"/>\n   </g>\n   <g id=\"patch_427\">\n    <path d=\"M 204.151 256.737267 \nL 222.007 256.737267 \nL 222.007 256.717714 \nL 204.151 256.717714 \nz\n\" clip-path=\"url(#p45a725a746)\" style=\"fill: #efd383\"/>\n   </g>\n   <g id=\"patch_428\">\n    <path d=\"M 239.863 227.9225 \nL 257.719 227.9225 \nL 257.719 227.749533 \nL 239.863 227.749533 \nz\n\" clip-path=\"url(#p45a725a746)\" style=\"fill: #efd383\"/>\n   </g>\n   <g id=\"patch_429\">\n    <path d=\"M 275.575 185.372664 \nL 293.431 185.372664 \nL 293.431 185.357623 \nL 275.575 185.357623 \nz\n\" clip-path=\"url(#p45a725a746)\" style=\"fill: #efd383\"/>\n   </g>\n   <g id=\"patch_430\">\n    <path d=\"M 311.287 255.258777 \nL 329.143 255.258777 \nL 329.143 255.24524 \nL 311.287 255.24524 \nz\n\" clip-path=\"url(#p45a725a746)\" style=\"fill: #efd383\"/>\n   </g>\n   <g id=\"patch_431\">\n    <path d=\"M 346.999 213.030809 \nL 364.855 213.030809 \nL 364.855 212.766095 \nL 346.999 212.766095 \nz\n\" clip-path=\"url(#p45a725a746)\" style=\"fill: #efd383\"/>\n   </g>\n   <g id=\"patch_432\">\n    <path d=\"M 382.711 249.653148 \nL 400.567 249.653148 \nL 400.567 248.719127 \nL 382.711 248.719127 \nz\n\" clip-path=\"url(#p45a725a746)\" style=\"fill: #efd383\"/>\n   </g>\n   <g id=\"patch_433\">\n    <path d=\"M 61.303 273.312 \nL 79.159 273.312 \nL 79.159 273.312 \nL 61.303 273.312 \nz\n\" clip-path=\"url(#p45a725a746)\" style=\"fill: #e7cc7e\"/>\n   </g>\n   <g id=\"patch_434\">\n    <path d=\"M 97.015 263.705574 \nL 114.871 263.705574 \nL 114.871 263.696549 \nL 97.015 263.696549 \nz\n\" clip-path=\"url(#p45a725a746)\" style=\"fill: #e7cc7e\"/>\n   </g>\n   <g id=\"patch_435\">\n    <path d=\"M 132.727 255.913043 \nL 150.583 255.913043 \nL 150.583 255.907026 \nL 132.727 255.907026 \nz\n\" clip-path=\"url(#p45a725a746)\" style=\"fill: #e7cc7e\"/>\n   </g>\n   <g id=\"patch_436\">\n    <path d=\"M 168.439 111.189453 \nL 186.295 111.189453 \nL 186.295 108.578406 \nL 168.439 108.578406 \nz\n\" clip-path=\"url(#p45a725a746)\" style=\"fill: #e7cc7e\"/>\n   </g>\n   <g id=\"patch_437\">\n    <path d=\"M 204.151 256.717714 \nL 222.007 256.717714 \nL 222.007 256.672593 \nL 204.151 256.672593 \nz\n\" clip-path=\"url(#p45a725a746)\" style=\"fill: #e7cc7e\"/>\n   </g>\n   <g id=\"patch_438\">\n    <path d=\"M 239.863 227.749533 \nL 257.719 227.749533 \nL 257.719 226.483115 \nL 239.863 226.483115 \nz\n\" clip-path=\"url(#p45a725a746)\" style=\"fill: #e7cc7e\"/>\n   </g>\n   <g id=\"patch_439\">\n    <path d=\"M 275.575 185.357623 \nL 293.431 185.357623 \nL 293.431 185.279412 \nL 275.575 185.279412 \nz\n\" clip-path=\"url(#p45a725a746)\" style=\"fill: #e7cc7e\"/>\n   </g>\n   <g id=\"patch_440\">\n    <path d=\"M 311.287 255.24524 \nL 329.143 255.24524 \nL 329.143 255.135444 \nL 311.287 255.135444 \nz\n\" clip-path=\"url(#p45a725a746)\" style=\"fill: #e7cc7e\"/>\n   </g>\n   <g id=\"patch_441\">\n    <path d=\"M 346.999 212.766095 \nL 364.855 212.766095 \nL 364.855 210.825858 \nL 346.999 210.825858 \nz\n\" clip-path=\"url(#p45a725a746)\" style=\"fill: #e7cc7e\"/>\n   </g>\n   <g id=\"patch_442\">\n    <path d=\"M 382.711 248.719127 \nL 400.567 248.719127 \nL 400.567 246.162226 \nL 382.711 246.162226 \nz\n\" clip-path=\"url(#p45a725a746)\" style=\"fill: #e7cc7e\"/>\n   </g>\n   <g id=\"patch_443\">\n    <path d=\"M 61.303 273.312 \nL 79.159 273.312 \nL 79.159 273.312 \nL 61.303 273.312 \nz\n\" clip-path=\"url(#p45a725a746)\" style=\"fill: #dfc57a\"/>\n   </g>\n   <g id=\"patch_444\">\n    <path d=\"M 97.015 263.696549 \nL 114.871 263.696549 \nL 114.871 263.47094 \nL 97.015 263.47094 \nz\n\" clip-path=\"url(#p45a725a746)\" style=\"fill: #dfc57a\"/>\n   </g>\n   <g id=\"patch_445\">\n    <path d=\"M 132.727 255.907026 \nL 150.583 255.907026 \nL 150.583 255.90101 \nL 132.727 255.90101 \nz\n\" clip-path=\"url(#p45a725a746)\" style=\"fill: #dfc57a\"/>\n   </g>\n   <g id=\"patch_446\">\n    <path d=\"M 168.439 108.578406 \nL 186.295 108.578406 \nL 186.295 105.597361 \nL 168.439 105.597361 \nz\n\" clip-path=\"url(#p45a725a746)\" style=\"fill: #dfc57a\"/>\n   </g>\n   <g id=\"patch_447\">\n    <path d=\"M 204.151 256.672593 \nL 222.007 256.672593 \nL 222.007 256.666576 \nL 204.151 256.666576 \nz\n\" clip-path=\"url(#p45a725a746)\" style=\"fill: #dfc57a\"/>\n   </g>\n   <g id=\"patch_448\">\n    <path d=\"M 239.863 226.483115 \nL 257.719 226.483115 \nL 257.719 226.398888 \nL 239.863 226.398888 \nz\n\" clip-path=\"url(#p45a725a746)\" style=\"fill: #dfc57a\"/>\n   </g>\n   <g id=\"patch_449\">\n    <path d=\"M 275.575 185.279412 \nL 293.431 185.279412 \nL 293.431 185.2749 \nL 275.575 185.2749 \nz\n\" clip-path=\"url(#p45a725a746)\" style=\"fill: #dfc57a\"/>\n   </g>\n   <g id=\"patch_450\">\n    <path d=\"M 311.287 255.135444 \nL 329.143 255.135444 \nL 329.143 255.132436 \nL 311.287 255.132436 \nz\n\" clip-path=\"url(#p45a725a746)\" style=\"fill: #dfc57a\"/>\n   </g>\n   <g id=\"patch_451\">\n    <path d=\"M 346.999 210.825858 \nL 364.855 210.825858 \nL 364.855 210.685981 \nL 346.999 210.685981 \nz\n\" clip-path=\"url(#p45a725a746)\" style=\"fill: #dfc57a\"/>\n   </g>\n   <g id=\"patch_452\">\n    <path d=\"M 382.711 246.162226 \nL 400.567 246.162226 \nL 400.567 244.922882 \nL 382.711 244.922882 \nz\n\" clip-path=\"url(#p45a725a746)\" style=\"fill: #dfc57a\"/>\n   </g>\n   <g id=\"patch_453\">\n    <path d=\"M 61.303 273.312 \nL 79.159 273.312 \nL 79.159 273.312 \nL 61.303 273.312 \nz\n\" clip-path=\"url(#p45a725a746)\" style=\"fill: #d8be76\"/>\n   </g>\n   <g id=\"patch_454\">\n    <path d=\"M 97.015 263.47094 \nL 114.871 263.47094 \nL 114.871 263.466428 \nL 97.015 263.466428 \nz\n\" clip-path=\"url(#p45a725a746)\" style=\"fill: #d8be76\"/>\n   </g>\n   <g id=\"patch_455\">\n    <path d=\"M 132.727 255.90101 \nL 150.583 255.90101 \nL 150.583 255.88597 \nL 132.727 255.88597 \nz\n\" clip-path=\"url(#p45a725a746)\" style=\"fill: #d8be76\"/>\n   </g>\n   <g id=\"patch_456\">\n    <path d=\"M 168.439 105.597361 \nL 186.295 105.597361 \nL 186.295 102.998347 \nL 168.439 102.998347 \nz\n\" clip-path=\"url(#p45a725a746)\" style=\"fill: #d8be76\"/>\n   </g>\n   <g id=\"patch_457\">\n    <path d=\"M 204.151 256.666576 \nL 222.007 256.666576 \nL 222.007 256.534219 \nL 204.151 256.534219 \nz\n\" clip-path=\"url(#p45a725a746)\" style=\"fill: #d8be76\"/>\n   </g>\n   <g id=\"patch_458\">\n    <path d=\"M 239.863 226.398888 \nL 257.719 226.398888 \nL 257.719 226.373319 \nL 239.863 226.373319 \nz\n\" clip-path=\"url(#p45a725a746)\" style=\"fill: #d8be76\"/>\n   </g>\n   <g id=\"patch_459\">\n    <path d=\"M 275.575 185.2749 \nL 293.431 185.2749 \nL 293.431 185.270388 \nL 275.575 185.270388 \nz\n\" clip-path=\"url(#p45a725a746)\" style=\"fill: #d8be76\"/>\n   </g>\n   <g id=\"patch_460\">\n    <path d=\"M 311.287 255.132436 \nL 329.143 255.132436 \nL 329.143 254.145773 \nL 311.287 254.145773 \nz\n\" clip-path=\"url(#p45a725a746)\" style=\"fill: #d8be76\"/>\n   </g>\n   <g id=\"patch_461\">\n    <path d=\"M 346.999 210.685981 \nL 364.855 210.685981 \nL 364.855 210.682973 \nL 346.999 210.682973 \nz\n\" clip-path=\"url(#p45a725a746)\" style=\"fill: #d8be76\"/>\n   </g>\n   <g id=\"patch_462\">\n    <path d=\"M 382.711 244.922882 \nL 400.567 244.922882 \nL 400.567 244.279144 \nL 382.711 244.279144 \nz\n\" clip-path=\"url(#p45a725a746)\" style=\"fill: #d8be76\"/>\n   </g>\n   <g id=\"patch_463\">\n    <path d=\"M 61.303 273.312 \nL 79.159 273.312 \nL 79.159 273.312 \nL 61.303 273.312 \nz\n\" clip-path=\"url(#p45a725a746)\" style=\"fill: #d0b872\"/>\n   </g>\n   <g id=\"patch_464\">\n    <path d=\"M 97.015 263.466428 \nL 114.871 263.466428 \nL 114.871 263.191185 \nL 97.015 263.191185 \nz\n\" clip-path=\"url(#p45a725a746)\" style=\"fill: #d0b872\"/>\n   </g>\n   <g id=\"patch_465\">\n    <path d=\"M 132.727 255.88597 \nL 150.583 255.88597 \nL 150.583 255.803246 \nL 132.727 255.803246 \nz\n\" clip-path=\"url(#p45a725a746)\" style=\"fill: #d0b872\"/>\n   </g>\n   <g id=\"patch_466\">\n    <path d=\"M 168.439 102.998347 \nL 186.295 102.998347 \nL 186.295 97.418287 \nL 168.439 97.418287 \nz\n\" clip-path=\"url(#p45a725a746)\" style=\"fill: #d0b872\"/>\n   </g>\n   <g id=\"patch_467\">\n    <path d=\"M 204.151 256.534219 \nL 222.007 256.534219 \nL 222.007 256.532715 \nL 204.151 256.532715 \nz\n\" clip-path=\"url(#p45a725a746)\" style=\"fill: #d0b872\"/>\n   </g>\n   <g id=\"patch_468\">\n    <path d=\"M 239.863 226.373319 \nL 257.719 226.373319 \nL 257.719 225.216697 \nL 239.863 225.216697 \nz\n\" clip-path=\"url(#p45a725a746)\" style=\"fill: #d0b872\"/>\n   </g>\n   <g id=\"patch_469\">\n    <path d=\"M 275.575 185.270388 \nL 293.431 185.270388 \nL 293.431 185.079372 \nL 275.575 185.079372 \nz\n\" clip-path=\"url(#p45a725a746)\" style=\"fill: #d0b872\"/>\n   </g>\n   <g id=\"patch_470\">\n    <path d=\"M 311.287 254.145773 \nL 329.143 254.145773 \nL 329.143 253.748701 \nL 311.287 253.748701 \nz\n\" clip-path=\"url(#p45a725a746)\" style=\"fill: #d0b872\"/>\n   </g>\n   <g id=\"patch_471\">\n    <path d=\"M 346.999 210.682973 \nL 364.855 210.682973 \nL 364.855 210.643867 \nL 346.999 210.643867 \nz\n\" clip-path=\"url(#p45a725a746)\" style=\"fill: #d0b872\"/>\n   </g>\n   <g id=\"patch_472\">\n    <path d=\"M 382.711 244.279144 \nL 400.567 244.279144 \nL 400.567 242.878865 \nL 382.711 242.878865 \nz\n\" clip-path=\"url(#p45a725a746)\" style=\"fill: #d0b872\"/>\n   </g>\n   <g id=\"patch_473\">\n    <path d=\"M 61.303 273.312 \nL 79.159 273.312 \nL 79.159 273.312 \nL 61.303 273.312 \nz\n\" clip-path=\"url(#p45a725a746)\" style=\"fill: #c8b16e\"/>\n   </g>\n   <g id=\"patch_474\">\n    <path d=\"M 97.015 263.191185 \nL 114.871 263.191185 \nL 114.871 263.1596 \nL 97.015 263.1596 \nz\n\" clip-path=\"url(#p45a725a746)\" style=\"fill: #c8b16e\"/>\n   </g>\n   <g id=\"patch_475\">\n    <path d=\"M 132.727 255.803246 \nL 150.583 255.803246 \nL 150.583 255.794222 \nL 132.727 255.794222 \nz\n\" clip-path=\"url(#p45a725a746)\" style=\"fill: #c8b16e\"/>\n   </g>\n   <g id=\"patch_476\">\n    <path d=\"M 168.439 97.418287 \nL 186.295 97.418287 \nL 186.295 95.213336 \nL 168.439 95.213336 \nz\n\" clip-path=\"url(#p45a725a746)\" style=\"fill: #c8b16e\"/>\n   </g>\n   <g id=\"patch_477\">\n    <path d=\"M 204.151 256.532715 \nL 222.007 256.532715 \nL 222.007 256.436455 \nL 204.151 256.436455 \nz\n\" clip-path=\"url(#p45a725a746)\" style=\"fill: #c8b16e\"/>\n   </g>\n   <g id=\"patch_478\">\n    <path d=\"M 239.863 225.216697 \nL 257.719 225.216697 \nL 257.719 221.605451 \nL 239.863 221.605451 \nz\n\" clip-path=\"url(#p45a725a746)\" style=\"fill: #c8b16e\"/>\n   </g>\n   <g id=\"patch_479\">\n    <path d=\"M 275.575 185.079372 \nL 293.431 185.079372 \nL 293.431 184.853763 \nL 275.575 184.853763 \nz\n\" clip-path=\"url(#p45a725a746)\" style=\"fill: #c8b16e\"/>\n   </g>\n   <g id=\"patch_480\">\n    <path d=\"M 311.287 253.748701 \nL 329.143 253.748701 \nL 329.143 253.649433 \nL 311.287 253.649433 \nz\n\" clip-path=\"url(#p45a725a746)\" style=\"fill: #c8b16e\"/>\n   </g>\n   <g id=\"patch_481\">\n    <path d=\"M 346.999 210.643867 \nL 364.855 210.643867 \nL 364.855 210.639355 \nL 346.999 210.639355 \nz\n\" clip-path=\"url(#p45a725a746)\" style=\"fill: #c8b16e\"/>\n   </g>\n   <g id=\"patch_482\">\n    <path d=\"M 382.711 242.878865 \nL 400.567 242.878865 \nL 400.567 241.271026 \nL 382.711 241.271026 \nz\n\" clip-path=\"url(#p45a725a746)\" style=\"fill: #c8b16e\"/>\n   </g>\n   <g id=\"patch_483\">\n    <path d=\"M 61.303 273.312 \nL 79.159 273.312 \nL 79.159 273.312 \nL 61.303 273.312 \nz\n\" clip-path=\"url(#p45a725a746)\" style=\"fill: #c1aa6a\"/>\n   </g>\n   <g id=\"patch_484\">\n    <path d=\"M 97.015 263.1596 \nL 114.871 263.1596 \nL 114.871 263.137039 \nL 97.015 263.137039 \nz\n\" clip-path=\"url(#p45a725a746)\" style=\"fill: #c1aa6a\"/>\n   </g>\n   <g id=\"patch_485\">\n    <path d=\"M 132.727 255.794222 \nL 150.583 255.794222 \nL 150.583 254.87825 \nL 132.727 254.87825 \nz\n\" clip-path=\"url(#p45a725a746)\" style=\"fill: #c1aa6a\"/>\n   </g>\n   <g id=\"patch_486\">\n    <path d=\"M 168.439 95.213336 \nL 186.295 95.213336 \nL 186.295 95.011792 \nL 168.439 95.011792 \nz\n\" clip-path=\"url(#p45a725a746)\" style=\"fill: #c1aa6a\"/>\n   </g>\n   <g id=\"patch_487\">\n    <path d=\"M 204.151 256.436455 \nL 222.007 256.436455 \nL 222.007 256.326659 \nL 204.151 256.326659 \nz\n\" clip-path=\"url(#p45a725a746)\" style=\"fill: #c1aa6a\"/>\n   </g>\n   <g id=\"patch_488\">\n    <path d=\"M 239.863 221.605451 \nL 257.719 221.605451 \nL 257.719 221.097079 \nL 239.863 221.097079 \nz\n\" clip-path=\"url(#p45a725a746)\" style=\"fill: #c1aa6a\"/>\n   </g>\n   <g id=\"patch_489\">\n    <path d=\"M 275.575 184.853763 \nL 293.431 184.853763 \nL 293.431 184.835715 \nL 275.575 184.835715 \nz\n\" clip-path=\"url(#p45a725a746)\" style=\"fill: #c1aa6a\"/>\n   </g>\n   <g id=\"patch_490\">\n    <path d=\"M 311.287 253.649433 \nL 329.143 253.649433 \nL 329.143 253.590775 \nL 311.287 253.590775 \nz\n\" clip-path=\"url(#p45a725a746)\" style=\"fill: #c1aa6a\"/>\n   </g>\n   <g id=\"patch_491\">\n    <path d=\"M 346.999 210.639355 \nL 364.855 210.639355 \nL 364.855 210.194154 \nL 346.999 210.194154 \nz\n\" clip-path=\"url(#p45a725a746)\" style=\"fill: #c1aa6a\"/>\n   </g>\n   <g id=\"patch_492\">\n    <path d=\"M 382.711 241.271026 \nL 400.567 241.271026 \nL 400.567 241.1131 \nL 382.711 241.1131 \nz\n\" clip-path=\"url(#p45a725a746)\" style=\"fill: #c1aa6a\"/>\n   </g>\n   <g id=\"patch_493\">\n    <path d=\"M 61.303 273.312 \nL 79.159 273.312 \nL 79.159 273.312 \nL 61.303 273.312 \nz\n\" clip-path=\"url(#p45a725a746)\" style=\"fill: #b9a365\"/>\n   </g>\n   <g id=\"patch_494\">\n    <path d=\"M 97.015 263.137039 \nL 114.871 263.137039 \nL 114.871 262.700862 \nL 97.015 262.700862 \nz\n\" clip-path=\"url(#p45a725a746)\" style=\"fill: #b9a365\"/>\n   </g>\n   <g id=\"patch_495\">\n    <path d=\"M 132.727 254.87825 \nL 150.583 254.87825 \nL 150.583 254.869225 \nL 132.727 254.869225 \nz\n\" clip-path=\"url(#p45a725a746)\" style=\"fill: #b9a365\"/>\n   </g>\n   <g id=\"patch_496\">\n    <path d=\"M 168.439 95.011792 \nL 186.295 95.011792 \nL 186.295 93.915333 \nL 168.439 93.915333 \nz\n\" clip-path=\"url(#p45a725a746)\" style=\"fill: #b9a365\"/>\n   </g>\n   <g id=\"patch_497\">\n    <path d=\"M 204.151 256.326659 \nL 222.007 256.326659 \nL 222.007 256.295074 \nL 204.151 256.295074 \nz\n\" clip-path=\"url(#p45a725a746)\" style=\"fill: #b9a365\"/>\n   </g>\n   <g id=\"patch_498\">\n    <path d=\"M 239.863 221.097079 \nL 257.719 221.097079 \nL 257.719 220.894031 \nL 239.863 220.894031 \nz\n\" clip-path=\"url(#p45a725a746)\" style=\"fill: #b9a365\"/>\n   </g>\n   <g id=\"patch_499\">\n    <path d=\"M 275.575 184.835715 \nL 293.431 184.835715 \nL 293.431 184.452179 \nL 275.575 184.452179 \nz\n\" clip-path=\"url(#p45a725a746)\" style=\"fill: #b9a365\"/>\n   </g>\n   <g id=\"patch_500\">\n    <path d=\"M 311.287 253.590775 \nL 329.143 253.590775 \nL 329.143 253.545653 \nL 311.287 253.545653 \nz\n\" clip-path=\"url(#p45a725a746)\" style=\"fill: #b9a365\"/>\n   </g>\n   <g id=\"patch_501\">\n    <path d=\"M 346.999 210.194154 \nL 364.855 210.194154 \nL 364.855 210.061796 \nL 346.999 210.061796 \nz\n\" clip-path=\"url(#p45a725a746)\" style=\"fill: #b9a365\"/>\n   </g>\n   <g id=\"patch_502\">\n    <path d=\"M 382.711 241.1131 \nL 400.567 241.1131 \nL 400.567 239.96851 \nL 382.711 239.96851 \nz\n\" clip-path=\"url(#p45a725a746)\" style=\"fill: #b9a365\"/>\n   </g>\n   <g id=\"patch_503\">\n    <path d=\"M 61.303 208.306559 \nL 79.159 208.306559 \nL 79.159 208.115544 \nL 61.303 208.115544 \nz\n\" clip-path=\"url(#p45a725a746)\" style=\"fill: #e6f598\"/>\n   </g>\n   <g id=\"patch_504\">\n    <path d=\"M 97.015 262.700862 \nL 114.871 262.700862 \nL 114.871 260.449285 \nL 97.015 260.449285 \nz\n\" clip-path=\"url(#p45a725a746)\" style=\"fill: #e6f598\"/>\n   </g>\n   <g id=\"patch_505\">\n    <path d=\"M 132.727 254.869225 \nL 150.583 254.869225 \nL 150.583 254.851177 \nL 132.727 254.851177 \nz\n\" clip-path=\"url(#p45a725a746)\" style=\"fill: #e6f598\"/>\n   </g>\n   <g id=\"patch_506\">\n    <path d=\"M 168.439 93.915333 \nL 186.295 93.915333 \nL 186.295 93.709277 \nL 168.439 93.709277 \nz\n\" clip-path=\"url(#p45a725a746)\" style=\"fill: #e6f598\"/>\n   </g>\n   <g id=\"patch_507\">\n    <path d=\"M 204.151 256.295074 \nL 222.007 256.295074 \nL 222.007 256.26048 \nL 204.151 256.26048 \nz\n\" clip-path=\"url(#p45a725a746)\" style=\"fill: #e6f598\"/>\n   </g>\n   <g id=\"patch_508\">\n    <path d=\"M 239.863 220.894031 \nL 257.719 220.894031 \nL 257.719 220.148018 \nL 239.863 220.148018 \nz\n\" clip-path=\"url(#p45a725a746)\" style=\"fill: #e6f598\"/>\n   </g>\n   <g id=\"patch_509\">\n    <path d=\"M 275.575 184.452179 \nL 293.431 184.452179 \nL 293.431 182.256253 \nL 275.575 182.256253 \nz\n\" clip-path=\"url(#p45a725a746)\" style=\"fill: #e6f598\"/>\n   </g>\n   <g id=\"patch_510\">\n    <path d=\"M 311.287 253.545653 \nL 329.143 253.545653 \nL 329.143 253.464434 \nL 311.287 253.464434 \nz\n\" clip-path=\"url(#p45a725a746)\" style=\"fill: #e6f598\"/>\n   </g>\n   <g id=\"patch_511\">\n    <path d=\"M 346.999 210.061796 \nL 364.855 210.061796 \nL 364.855 209.875293 \nL 346.999 209.875293 \nz\n\" clip-path=\"url(#p45a725a746)\" style=\"fill: #e6f598\"/>\n   </g>\n   <g id=\"patch_512\">\n    <path d=\"M 382.711 239.96851 \nL 400.567 239.96851 \nL 400.567 239.627089 \nL 382.711 239.627089 \nz\n\" clip-path=\"url(#p45a725a746)\" style=\"fill: #e6f598\"/>\n   </g>\n   <g id=\"patch_513\">\n    <path d=\"M 61.303 208.115544 \nL 79.159 208.115544 \nL 79.159 207.6177 \nL 61.303 207.6177 \nz\n\" clip-path=\"url(#p45a725a746)\" style=\"fill: #dfed93\"/>\n   </g>\n   <g id=\"patch_514\">\n    <path d=\"M 97.015 260.449285 \nL 114.871 260.449285 \nL 114.871 260.444773 \nL 97.015 260.444773 \nz\n\" clip-path=\"url(#p45a725a746)\" style=\"fill: #dfed93\"/>\n   </g>\n   <g id=\"patch_515\">\n    <path d=\"M 132.727 254.851177 \nL 150.583 254.851177 \nL 150.583 254.679714 \nL 132.727 254.679714 \nz\n\" clip-path=\"url(#p45a725a746)\" style=\"fill: #dfed93\"/>\n   </g>\n   <g id=\"patch_516\">\n    <path d=\"M 168.439 93.709277 \nL 186.295 93.709277 \nL 186.295 93.211433 \nL 168.439 93.211433 \nz\n\" clip-path=\"url(#p45a725a746)\" style=\"fill: #dfed93\"/>\n   </g>\n   <g id=\"patch_517\">\n    <path d=\"M 204.151 256.26048 \nL 222.007 256.26048 \nL 222.007 256.248448 \nL 204.151 256.248448 \nz\n\" clip-path=\"url(#p45a725a746)\" style=\"fill: #dfed93\"/>\n   </g>\n   <g id=\"patch_518\">\n    <path d=\"M 239.863 220.148018 \nL 257.719 220.148018 \nL 257.719 216.392382 \nL 239.863 216.392382 \nz\n\" clip-path=\"url(#p45a725a746)\" style=\"fill: #dfed93\"/>\n   </g>\n   <g id=\"patch_519\">\n    <path d=\"M 275.575 182.256253 \nL 293.431 182.256253 \nL 293.431 181.952433 \nL 275.575 181.952433 \nz\n\" clip-path=\"url(#p45a725a746)\" style=\"fill: #dfed93\"/>\n   </g>\n   <g id=\"patch_520\">\n    <path d=\"M 311.287 253.464434 \nL 329.143 253.464434 \nL 329.143 253.253866 \nL 311.287 253.253866 \nz\n\" clip-path=\"url(#p45a725a746)\" style=\"fill: #dfed93\"/>\n   </g>\n   <g id=\"patch_521\">\n    <path d=\"M 346.999 209.875293 \nL 364.855 209.875293 \nL 364.855 209.360905 \nL 346.999 209.360905 \nz\n\" clip-path=\"url(#p45a725a746)\" style=\"fill: #dfed93\"/>\n   </g>\n   <g id=\"patch_522\">\n    <path d=\"M 382.711 239.627089 \nL 400.567 239.627089 \nL 400.567 237.83425 \nL 382.711 237.83425 \nz\n\" clip-path=\"url(#p45a725a746)\" style=\"fill: #dfed93\"/>\n   </g>\n   <g id=\"patch_523\">\n    <path d=\"M 61.303 207.6177 \nL 79.159 207.6177 \nL 79.159 207.534977 \nL 61.303 207.534977 \nz\n\" clip-path=\"url(#p45a725a746)\" style=\"fill: #d8e68f\"/>\n   </g>\n   <g id=\"patch_524\">\n    <path d=\"M 97.015 260.444773 \nL 114.871 260.444773 \nL 114.871 259.435549 \nL 97.015 259.435549 \nz\n\" clip-path=\"url(#p45a725a746)\" style=\"fill: #d8e68f\"/>\n   </g>\n   <g id=\"patch_525\">\n    <path d=\"M 132.727 254.679714 \nL 150.583 254.679714 \nL 150.583 254.455609 \nL 132.727 254.455609 \nz\n\" clip-path=\"url(#p45a725a746)\" style=\"fill: #d8e68f\"/>\n   </g>\n   <g id=\"patch_526\">\n    <path d=\"M 168.439 93.211433 \nL 186.295 93.211433 \nL 186.295 91.71339 \nL 168.439 91.71339 \nz\n\" clip-path=\"url(#p45a725a746)\" style=\"fill: #d8e68f\"/>\n   </g>\n   <g id=\"patch_527\">\n    <path d=\"M 204.151 256.248448 \nL 222.007 256.248448 \nL 222.007 256.243936 \nL 204.151 256.243936 \nz\n\" clip-path=\"url(#p45a725a746)\" style=\"fill: #d8e68f\"/>\n   </g>\n   <g id=\"patch_528\">\n    <path d=\"M 239.863 216.392382 \nL 257.719 216.392382 \nL 257.719 216.153236 \nL 239.863 216.153236 \nz\n\" clip-path=\"url(#p45a725a746)\" style=\"fill: #d8e68f\"/>\n   </g>\n   <g id=\"patch_529\">\n    <path d=\"M 275.575 181.952433 \nL 293.431 181.952433 \nL 293.431 181.874222 \nL 275.575 181.874222 \nz\n\" clip-path=\"url(#p45a725a746)\" style=\"fill: #d8e68f\"/>\n   </g>\n   <g id=\"patch_530\">\n    <path d=\"M 311.287 253.253866 \nL 329.143 253.253866 \nL 329.143 253.240329 \nL 311.287 253.240329 \nz\n\" clip-path=\"url(#p45a725a746)\" style=\"fill: #d8e68f\"/>\n   </g>\n   <g id=\"patch_531\">\n    <path d=\"M 346.999 209.360905 \nL 364.855 209.360905 \nL 364.855 209.278181 \nL 346.999 209.278181 \nz\n\" clip-path=\"url(#p45a725a746)\" style=\"fill: #d8e68f\"/>\n   </g>\n   <g id=\"patch_532\">\n    <path d=\"M 382.711 237.83425 \nL 400.567 237.83425 \nL 400.567 237.331895 \nL 382.711 237.331895 \nz\n\" clip-path=\"url(#p45a725a746)\" style=\"fill: #d8e68f\"/>\n   </g>\n   <g id=\"patch_533\">\n    <path d=\"M 61.303 207.534977 \nL 79.159 207.534977 \nL 79.159 207.498879 \nL 61.303 207.498879 \nz\n\" clip-path=\"url(#p45a725a746)\" style=\"fill: #d0de8a\"/>\n   </g>\n   <g id=\"patch_534\">\n    <path d=\"M 97.015 259.435549 \nL 114.871 259.435549 \nL 114.871 257.266696 \nL 97.015 257.266696 \nz\n\" clip-path=\"url(#p45a725a746)\" style=\"fill: #d0de8a\"/>\n   </g>\n   <g id=\"patch_535\">\n    <path d=\"M 132.727 254.455609 \nL 150.583 254.455609 \nL 150.583 254.198415 \nL 132.727 254.198415 \nz\n\" clip-path=\"url(#p45a725a746)\" style=\"fill: #d0de8a\"/>\n   </g>\n   <g id=\"patch_536\">\n    <path d=\"M 168.439 91.71339 \nL 186.295 91.71339 \nL 186.295 90.756808 \nL 168.439 90.756808 \nz\n\" clip-path=\"url(#p45a725a746)\" style=\"fill: #d0de8a\"/>\n   </g>\n   <g id=\"patch_537\">\n    <path d=\"M 204.151 256.243936 \nL 222.007 256.243936 \nL 222.007 256.224383 \nL 204.151 256.224383 \nz\n\" clip-path=\"url(#p45a725a746)\" style=\"fill: #d0de8a\"/>\n   </g>\n   <g id=\"patch_538\">\n    <path d=\"M 239.863 216.153236 \nL 257.719 216.153236 \nL 257.719 215.760677 \nL 239.863 215.760677 \nz\n\" clip-path=\"url(#p45a725a746)\" style=\"fill: #d0de8a\"/>\n   </g>\n   <g id=\"patch_539\">\n    <path d=\"M 275.575 181.874222 \nL 293.431 181.874222 \nL 293.431 181.860685 \nL 275.575 181.860685 \nz\n\" clip-path=\"url(#p45a725a746)\" style=\"fill: #d0de8a\"/>\n   </g>\n   <g id=\"patch_540\">\n    <path d=\"M 311.287 273.312 \nL 329.143 273.312 \nL 329.143 273.312 \nL 311.287 273.312 \nz\n\" clip-path=\"url(#p45a725a746)\" style=\"fill: #d0de8a\"/>\n   </g>\n   <g id=\"patch_541\">\n    <path d=\"M 346.999 209.278181 \nL 364.855 209.278181 \nL 364.855 208.793874 \nL 346.999 208.793874 \nz\n\" clip-path=\"url(#p45a725a746)\" style=\"fill: #d0de8a\"/>\n   </g>\n   <g id=\"patch_542\">\n    <path d=\"M 382.711 237.331895 \nL 400.567 237.331895 \nL 400.567 237.17096 \nL 382.711 237.17096 \nz\n\" clip-path=\"url(#p45a725a746)\" style=\"fill: #d0de8a\"/>\n   </g>\n   <g id=\"patch_543\">\n    <path d=\"M 61.303 207.498879 \nL 79.159 207.498879 \nL 79.159 207.461278 \nL 61.303 207.461278 \nz\n\" clip-path=\"url(#p45a725a746)\" style=\"fill: #c9d685\"/>\n   </g>\n   <g id=\"patch_544\">\n    <path d=\"M 97.015 257.266696 \nL 114.871 257.266696 \nL 114.871 257.032063 \nL 97.015 257.032063 \nz\n\" clip-path=\"url(#p45a725a746)\" style=\"fill: #c9d685\"/>\n   </g>\n   <g id=\"patch_545\">\n    <path d=\"M 132.727 254.198415 \nL 150.583 254.198415 \nL 150.583 254.150285 \nL 132.727 254.150285 \nz\n\" clip-path=\"url(#p45a725a746)\" style=\"fill: #c9d685\"/>\n   </g>\n   <g id=\"patch_546\">\n    <path d=\"M 168.439 90.756808 \nL 186.295 90.756808 \nL 186.295 90.317623 \nL 168.439 90.317623 \nz\n\" clip-path=\"url(#p45a725a746)\" style=\"fill: #c9d685\"/>\n   </g>\n   <g id=\"patch_547\">\n    <path d=\"M 204.151 256.224383 \nL 222.007 256.224383 \nL 222.007 256.222879 \nL 204.151 256.222879 \nz\n\" clip-path=\"url(#p45a725a746)\" style=\"fill: #c9d685\"/>\n   </g>\n   <g id=\"patch_548\">\n    <path d=\"M 239.863 215.760677 \nL 257.719 215.760677 \nL 257.719 215.712547 \nL 239.863 215.712547 \nz\n\" clip-path=\"url(#p45a725a746)\" style=\"fill: #c9d685\"/>\n   </g>\n   <g id=\"patch_549\">\n    <path d=\"M 275.575 273.312 \nL 293.431 273.312 \nL 293.431 273.312 \nL 275.575 273.312 \nz\n\" clip-path=\"url(#p45a725a746)\" style=\"fill: #c9d685\"/>\n   </g>\n   <g id=\"patch_550\">\n    <path d=\"M 311.287 253.240329 \nL 329.143 253.240329 \nL 329.143 253.237321 \nL 311.287 253.237321 \nz\n\" clip-path=\"url(#p45a725a746)\" style=\"fill: #c9d685\"/>\n   </g>\n   <g id=\"patch_551\">\n    <path d=\"M 346.999 208.793874 \nL 364.855 208.793874 \nL 364.855 208.787858 \nL 346.999 208.787858 \nz\n\" clip-path=\"url(#p45a725a746)\" style=\"fill: #c9d685\"/>\n   </g>\n   <g id=\"patch_552\">\n    <path d=\"M 382.711 237.17096 \nL 400.567 237.17096 \nL 400.567 236.328687 \nL 382.711 236.328687 \nz\n\" clip-path=\"url(#p45a725a746)\" style=\"fill: #c9d685\"/>\n   </g>\n   <g id=\"patch_553\">\n    <path d=\"M 61.303 207.461278 \nL 79.159 207.461278 \nL 79.159 207.455262 \nL 61.303 207.455262 \nz\n\" clip-path=\"url(#p45a725a746)\" style=\"fill: #c2cf80\"/>\n   </g>\n   <g id=\"patch_554\">\n    <path d=\"M 97.015 257.032063 \nL 114.871 257.032063 \nL 114.871 254.5263 \nL 97.015 254.5263 \nz\n\" clip-path=\"url(#p45a725a746)\" style=\"fill: #c2cf80\"/>\n   </g>\n   <g id=\"patch_555\">\n    <path d=\"M 132.727 254.150285 \nL 150.583 254.150285 \nL 150.583 254.051017 \nL 132.727 254.051017 \nz\n\" clip-path=\"url(#p45a725a746)\" style=\"fill: #c2cf80\"/>\n   </g>\n   <g id=\"patch_556\">\n    <path d=\"M 168.439 90.317623 \nL 186.295 90.317623 \nL 186.295 84.721019 \nL 168.439 84.721019 \nz\n\" clip-path=\"url(#p45a725a746)\" style=\"fill: #c2cf80\"/>\n   </g>\n   <g id=\"patch_557\">\n    <path d=\"M 204.151 256.222879 \nL 222.007 256.222879 \nL 222.007 256.186781 \nL 204.151 256.186781 \nz\n\" clip-path=\"url(#p45a725a746)\" style=\"fill: #c2cf80\"/>\n   </g>\n   <g id=\"patch_558\">\n    <path d=\"M 239.863 215.712547 \nL 257.719 215.712547 \nL 257.719 215.674945 \nL 239.863 215.674945 \nz\n\" clip-path=\"url(#p45a725a746)\" style=\"fill: #c2cf80\"/>\n   </g>\n   <g id=\"patch_559\">\n    <path d=\"M 275.575 181.860685 \nL 293.431 181.860685 \nL 293.431 181.826092 \nL 275.575 181.826092 \nz\n\" clip-path=\"url(#p45a725a746)\" style=\"fill: #c2cf80\"/>\n   </g>\n   <g id=\"patch_560\">\n    <path d=\"M 311.287 253.237321 \nL 329.143 253.237321 \nL 329.143 253.219272 \nL 311.287 253.219272 \nz\n\" clip-path=\"url(#p45a725a746)\" style=\"fill: #c2cf80\"/>\n   </g>\n   <g id=\"patch_561\">\n    <path d=\"M 346.999 208.787858 \nL 364.855 208.787858 \nL 364.855 208.786354 \nL 346.999 208.786354 \nz\n\" clip-path=\"url(#p45a725a746)\" style=\"fill: #c2cf80\"/>\n   </g>\n   <g id=\"patch_562\">\n    <path d=\"M 382.711 236.328687 \nL 400.567 236.328687 \nL 400.567 236.091046 \nL 382.711 236.091046 \nz\n\" clip-path=\"url(#p45a725a746)\" style=\"fill: #c2cf80\"/>\n   </g>\n   <g id=\"patch_563\">\n    <path d=\"M 61.303 207.455262 \nL 79.159 207.455262 \nL 79.159 207.426685 \nL 61.303 207.426685 \nz\n\" clip-path=\"url(#p45a725a746)\" style=\"fill: #bbc77c\"/>\n   </g>\n   <g id=\"patch_564\">\n    <path d=\"M 97.015 254.5263 \nL 114.871 254.5263 \nL 114.871 254.47065 \nL 97.015 254.47065 \nz\n\" clip-path=\"url(#p45a725a746)\" style=\"fill: #bbc77c\"/>\n   </g>\n   <g id=\"patch_565\">\n    <path d=\"M 132.727 254.051017 \nL 150.583 254.051017 \nL 150.583 254.043497 \nL 132.727 254.043497 \nz\n\" clip-path=\"url(#p45a725a746)\" style=\"fill: #bbc77c\"/>\n   </g>\n   <g id=\"patch_566\">\n    <path d=\"M 168.439 84.721019 \nL 186.295 84.721019 \nL 186.295 84.630775 \nL 168.439 84.630775 \nz\n\" clip-path=\"url(#p45a725a746)\" style=\"fill: #bbc77c\"/>\n   </g>\n   <g id=\"patch_567\">\n    <path d=\"M 204.151 256.186781 \nL 222.007 256.186781 \nL 222.007 256.182269 \nL 204.151 256.182269 \nz\n\" clip-path=\"url(#p45a725a746)\" style=\"fill: #bbc77c\"/>\n   </g>\n   <g id=\"patch_568\">\n    <path d=\"M 239.863 215.674945 \nL 257.719 215.674945 \nL 257.719 215.656897 \nL 239.863 215.656897 \nz\n\" clip-path=\"url(#p45a725a746)\" style=\"fill: #bbc77c\"/>\n   </g>\n   <g id=\"patch_569\">\n    <path d=\"M 275.575 181.826092 \nL 293.431 181.826092 \nL 293.431 181.817068 \nL 275.575 181.817068 \nz\n\" clip-path=\"url(#p45a725a746)\" style=\"fill: #bbc77c\"/>\n   </g>\n   <g id=\"patch_570\">\n    <path d=\"M 311.287 273.312 \nL 329.143 273.312 \nL 329.143 273.312 \nL 311.287 273.312 \nz\n\" clip-path=\"url(#p45a725a746)\" style=\"fill: #bbc77c\"/>\n   </g>\n   <g id=\"patch_571\">\n    <path d=\"M 346.999 208.786354 \nL 364.855 208.786354 \nL 364.855 208.775826 \nL 346.999 208.775826 \nz\n\" clip-path=\"url(#p45a725a746)\" style=\"fill: #bbc77c\"/>\n   </g>\n   <g id=\"patch_572\">\n    <path d=\"M 382.711 236.091046 \nL 400.567 236.091046 \nL 400.567 233.95829 \nL 382.711 233.95829 \nz\n\" clip-path=\"url(#p45a725a746)\" style=\"fill: #bbc77c\"/>\n   </g>\n   <g id=\"patch_573\">\n    <path d=\"M 61.303 207.426685 \nL 79.159 207.426685 \nL 79.159 207.408636 \nL 61.303 207.408636 \nz\n\" clip-path=\"url(#p45a725a746)\" style=\"fill: #b4bf77\"/>\n   </g>\n   <g id=\"patch_574\">\n    <path d=\"M 97.015 254.47065 \nL 114.871 254.47065 \nL 114.871 254.43756 \nL 97.015 254.43756 \nz\n\" clip-path=\"url(#p45a725a746)\" style=\"fill: #b4bf77\"/>\n   </g>\n   <g id=\"patch_575\">\n    <path d=\"M 132.727 254.043497 \nL 150.583 254.043497 \nL 150.583 254.034473 \nL 132.727 254.034473 \nz\n\" clip-path=\"url(#p45a725a746)\" style=\"fill: #b4bf77\"/>\n   </g>\n   <g id=\"patch_576\">\n    <path d=\"M 168.439 84.630775 \nL 186.295 84.630775 \nL 186.295 84.600694 \nL 168.439 84.600694 \nz\n\" clip-path=\"url(#p45a725a746)\" style=\"fill: #b4bf77\"/>\n   </g>\n   <g id=\"patch_577\">\n    <path d=\"M 204.151 256.182269 \nL 222.007 256.182269 \nL 222.007 256.126619 \nL 204.151 256.126619 \nz\n\" clip-path=\"url(#p45a725a746)\" style=\"fill: #b4bf77\"/>\n   </g>\n   <g id=\"patch_578\">\n    <path d=\"M 239.863 215.656897 \nL 257.719 215.656897 \nL 257.719 215.52454 \nL 239.863 215.52454 \nz\n\" clip-path=\"url(#p45a725a746)\" style=\"fill: #b4bf77\"/>\n   </g>\n   <g id=\"patch_579\">\n    <path d=\"M 275.575 181.817068 \nL 293.431 181.817068 \nL 293.431 180.619836 \nL 275.575 180.619836 \nz\n\" clip-path=\"url(#p45a725a746)\" style=\"fill: #b4bf77\"/>\n   </g>\n   <g id=\"patch_580\">\n    <path d=\"M 311.287 253.219272 \nL 329.143 253.219272 \nL 329.143 253.186183 \nL 311.287 253.186183 \nz\n\" clip-path=\"url(#p45a725a746)\" style=\"fill: #b4bf77\"/>\n   </g>\n   <g id=\"patch_581\">\n    <path d=\"M 346.999 208.775826 \nL 364.855 208.775826 \nL 364.855 208.774322 \nL 346.999 208.774322 \nz\n\" clip-path=\"url(#p45a725a746)\" style=\"fill: #b4bf77\"/>\n   </g>\n   <g id=\"patch_582\">\n    <path d=\"M 382.711 233.95829 \nL 400.567 233.95829 \nL 400.567 233.905648 \nL 382.711 233.905648 \nz\n\" clip-path=\"url(#p45a725a746)\" style=\"fill: #b4bf77\"/>\n   </g>\n   <g id=\"patch_583\">\n    <path d=\"M 61.303 207.408636 \nL 79.159 207.408636 \nL 79.159 207.405628 \nL 61.303 207.405628 \nz\n\" clip-path=\"url(#p45a725a746)\" style=\"fill: #adb872\"/>\n   </g>\n   <g id=\"patch_584\">\n    <path d=\"M 97.015 254.43756 \nL 114.871 254.43756 \nL 114.871 253.098948 \nL 97.015 253.098948 \nz\n\" clip-path=\"url(#p45a725a746)\" style=\"fill: #adb872\"/>\n   </g>\n   <g id=\"patch_585\">\n    <path d=\"M 132.727 254.034473 \nL 150.583 254.034473 \nL 150.583 254.025448 \nL 132.727 254.025448 \nz\n\" clip-path=\"url(#p45a725a746)\" style=\"fill: #adb872\"/>\n   </g>\n   <g id=\"patch_586\">\n    <path d=\"M 168.439 84.600694 \nL 186.295 84.600694 \nL 186.295 83.532812 \nL 168.439 83.532812 \nz\n\" clip-path=\"url(#p45a725a746)\" style=\"fill: #adb872\"/>\n   </g>\n   <g id=\"patch_587\">\n    <path d=\"M 204.151 256.126619 \nL 222.007 256.126619 \nL 222.007 256.086009 \nL 204.151 256.086009 \nz\n\" clip-path=\"url(#p45a725a746)\" style=\"fill: #adb872\"/>\n   </g>\n   <g id=\"patch_588\">\n    <path d=\"M 239.863 215.52454 \nL 257.719 215.52454 \nL 257.719 215.515515 \nL 239.863 215.515515 \nz\n\" clip-path=\"url(#p45a725a746)\" style=\"fill: #adb872\"/>\n   </g>\n   <g id=\"patch_589\">\n    <path d=\"M 275.575 180.619836 \nL 293.431 180.619836 \nL 293.431 158.346223 \nL 275.575 158.346223 \nz\n\" clip-path=\"url(#p45a725a746)\" style=\"fill: #adb872\"/>\n   </g>\n   <g id=\"patch_590\">\n    <path d=\"M 311.287 253.186183 \nL 329.143 253.186183 \nL 329.143 253.115492 \nL 311.287 253.115492 \nz\n\" clip-path=\"url(#p45a725a746)\" style=\"fill: #adb872\"/>\n   </g>\n   <g id=\"patch_591\">\n    <path d=\"M 346.999 208.774322 \nL 364.855 208.774322 \nL 364.855 208.690094 \nL 346.999 208.690094 \nz\n\" clip-path=\"url(#p45a725a746)\" style=\"fill: #adb872\"/>\n   </g>\n   <g id=\"patch_592\">\n    <path d=\"M 382.711 233.905648 \nL 400.567 233.905648 \nL 400.567 233.544673 \nL 382.711 233.544673 \nz\n\" clip-path=\"url(#p45a725a746)\" style=\"fill: #adb872\"/>\n   </g>\n   <g id=\"patch_593\">\n    <path d=\"M 61.303 207.405628 \nL 79.159 207.405628 \nL 79.159 207.387579 \nL 61.303 207.387579 \nz\n\" clip-path=\"url(#p45a725a746)\" style=\"fill: #a5b06d\"/>\n   </g>\n   <g id=\"patch_594\">\n    <path d=\"M 97.015 253.098948 \nL 114.871 253.098948 \nL 114.871 253.089923 \nL 97.015 253.089923 \nz\n\" clip-path=\"url(#p45a725a746)\" style=\"fill: #a5b06d\"/>\n   </g>\n   <g id=\"patch_595\">\n    <path d=\"M 132.727 254.025448 \nL 150.583 254.025448 \nL 150.583 253.930692 \nL 132.727 253.930692 \nz\n\" clip-path=\"url(#p45a725a746)\" style=\"fill: #a5b06d\"/>\n   </g>\n   <g id=\"patch_596\">\n    <path d=\"M 168.439 83.532812 \nL 186.295 83.532812 \nL 186.295 82.756717 \nL 168.439 82.756717 \nz\n\" clip-path=\"url(#p45a725a746)\" style=\"fill: #a5b06d\"/>\n   </g>\n   <g id=\"patch_597\">\n    <path d=\"M 204.151 256.086009 \nL 222.007 256.086009 \nL 222.007 256.043896 \nL 204.151 256.043896 \nz\n\" clip-path=\"url(#p45a725a746)\" style=\"fill: #a5b06d\"/>\n   </g>\n   <g id=\"patch_598\">\n    <path d=\"M 239.863 215.515515 \nL 257.719 215.515515 \nL 257.719 215.446328 \nL 239.863 215.446328 \nz\n\" clip-path=\"url(#p45a725a746)\" style=\"fill: #a5b06d\"/>\n   </g>\n   <g id=\"patch_599\">\n    <path d=\"M 275.575 158.346223 \nL 293.431 158.346223 \nL 293.431 157.613746 \nL 275.575 157.613746 \nz\n\" clip-path=\"url(#p45a725a746)\" style=\"fill: #a5b06d\"/>\n   </g>\n   <g id=\"patch_600\">\n    <path d=\"M 311.287 253.115492 \nL 329.143 253.115492 \nL 329.143 251.38432 \nL 311.287 251.38432 \nz\n\" clip-path=\"url(#p45a725a746)\" style=\"fill: #a5b06d\"/>\n   </g>\n   <g id=\"patch_601\">\n    <path d=\"M 346.999 208.690094 \nL 364.855 208.690094 \nL 364.855 208.667533 \nL 346.999 208.667533 \nz\n\" clip-path=\"url(#p45a725a746)\" style=\"fill: #a5b06d\"/>\n   </g>\n   <g id=\"patch_602\">\n    <path d=\"M 382.711 233.544673 \nL 400.567 233.544673 \nL 400.567 232.141386 \nL 382.711 232.141386 \nz\n\" clip-path=\"url(#p45a725a746)\" style=\"fill: #a5b06d\"/>\n   </g>\n   <g id=\"patch_603\">\n    <path d=\"M 61.303 207.387579 \nL 79.159 207.387579 \nL 79.159 207.304856 \nL 61.303 207.304856 \nz\n\" clip-path=\"url(#p45a725a746)\" style=\"fill: #abdda4\"/>\n   </g>\n   <g id=\"patch_604\">\n    <path d=\"M 97.015 253.089923 \nL 114.871 253.089923 \nL 114.871 252.586064 \nL 97.015 252.586064 \nz\n\" clip-path=\"url(#p45a725a746)\" style=\"fill: #abdda4\"/>\n   </g>\n   <g id=\"patch_605\">\n    <path d=\"M 132.727 253.930692 \nL 150.583 253.930692 \nL 150.583 253.91114 \nL 132.727 253.91114 \nz\n\" clip-path=\"url(#p45a725a746)\" style=\"fill: #abdda4\"/>\n   </g>\n   <g id=\"patch_606\">\n    <path d=\"M 168.439 82.756717 \nL 186.295 82.756717 \nL 186.295 82.699563 \nL 168.439 82.699563 \nz\n\" clip-path=\"url(#p45a725a746)\" style=\"fill: #abdda4\"/>\n   </g>\n   <g id=\"patch_607\">\n    <path d=\"M 204.151 256.043896 \nL 222.007 256.043896 \nL 222.007 255.890482 \nL 204.151 255.890482 \nz\n\" clip-path=\"url(#p45a725a746)\" style=\"fill: #abdda4\"/>\n   </g>\n   <g id=\"patch_608\">\n    <path d=\"M 239.863 215.446328 \nL 257.719 215.446328 \nL 257.719 215.223728 \nL 239.863 215.223728 \nz\n\" clip-path=\"url(#p45a725a746)\" style=\"fill: #abdda4\"/>\n   </g>\n   <g id=\"patch_609\">\n    <path d=\"M 275.575 157.613746 \nL 293.431 157.613746 \nL 293.431 155.147089 \nL 275.575 155.147089 \nz\n\" clip-path=\"url(#p45a725a746)\" style=\"fill: #abdda4\"/>\n   </g>\n   <g id=\"patch_610\">\n    <path d=\"M 311.287 251.38432 \nL 329.143 251.38432 \nL 329.143 251.227898 \nL 311.287 251.227898 \nz\n\" clip-path=\"url(#p45a725a746)\" style=\"fill: #abdda4\"/>\n   </g>\n   <g id=\"patch_611\">\n    <path d=\"M 346.999 208.667533 \nL 364.855 208.667533 \nL 364.855 207.351482 \nL 346.999 207.351482 \nz\n\" clip-path=\"url(#p45a725a746)\" style=\"fill: #abdda4\"/>\n   </g>\n   <g id=\"patch_612\">\n    <path d=\"M 382.711 232.141386 \nL 400.567 232.141386 \nL 400.567 231.836062 \nL 382.711 231.836062 \nz\n\" clip-path=\"url(#p45a725a746)\" style=\"fill: #abdda4\"/>\n   </g>\n   <g id=\"patch_613\">\n    <path d=\"M 61.303 207.304856 \nL 79.159 207.304856 \nL 79.159 207.295831 \nL 61.303 207.295831 \nz\n\" clip-path=\"url(#p45a725a746)\" style=\"fill: #a5d59e\"/>\n   </g>\n   <g id=\"patch_614\">\n    <path d=\"M 97.015 252.586064 \nL 114.871 252.586064 \nL 114.871 252.569519 \nL 97.015 252.569519 \nz\n\" clip-path=\"url(#p45a725a746)\" style=\"fill: #a5d59e\"/>\n   </g>\n   <g id=\"patch_615\">\n    <path d=\"M 132.727 253.91114 \nL 150.583 253.91114 \nL 150.583 251.641514 \nL 132.727 251.641514 \nz\n\" clip-path=\"url(#p45a725a746)\" style=\"fill: #a5d59e\"/>\n   </g>\n   <g id=\"patch_616\">\n    <path d=\"M 168.439 82.699563 \nL 186.295 82.699563 \nL 186.295 80.565303 \nL 168.439 80.565303 \nz\n\" clip-path=\"url(#p45a725a746)\" style=\"fill: #a5d59e\"/>\n   </g>\n   <g id=\"patch_617\">\n    <path d=\"M 204.151 255.890482 \nL 222.007 255.890482 \nL 222.007 255.869425 \nL 204.151 255.869425 \nz\n\" clip-path=\"url(#p45a725a746)\" style=\"fill: #a5d59e\"/>\n   </g>\n   <g id=\"patch_618\">\n    <path d=\"M 239.863 215.223728 \nL 257.719 215.223728 \nL 257.719 215.18011 \nL 239.863 215.18011 \nz\n\" clip-path=\"url(#p45a725a746)\" style=\"fill: #a5d59e\"/>\n   </g>\n   <g id=\"patch_619\">\n    <path d=\"M 275.575 155.147089 \nL 293.431 155.147089 \nL 293.431 154.97713 \nL 275.575 154.97713 \nz\n\" clip-path=\"url(#p45a725a746)\" style=\"fill: #a5d59e\"/>\n   </g>\n   <g id=\"patch_620\">\n    <path d=\"M 311.287 251.227898 \nL 329.143 251.227898 \nL 329.143 251.214361 \nL 311.287 251.214361 \nz\n\" clip-path=\"url(#p45a725a746)\" style=\"fill: #a5d59e\"/>\n   </g>\n   <g id=\"patch_621\">\n    <path d=\"M 346.999 207.351482 \nL 364.855 207.351482 \nL 364.855 205.454863 \nL 346.999 205.454863 \nz\n\" clip-path=\"url(#p45a725a746)\" style=\"fill: #a5d59e\"/>\n   </g>\n   <g id=\"patch_622\">\n    <path d=\"M 382.711 231.836062 \nL 400.567 231.836062 \nL 400.567 231.73529 \nL 382.711 231.73529 \nz\n\" clip-path=\"url(#p45a725a746)\" style=\"fill: #a5d59e\"/>\n   </g>\n   <g id=\"patch_623\">\n    <path d=\"M 61.303 207.295831 \nL 79.159 207.295831 \nL 79.159 207.282295 \nL 61.303 207.282295 \nz\n\" clip-path=\"url(#p45a725a746)\" style=\"fill: #9fce99\"/>\n   </g>\n   <g id=\"patch_624\">\n    <path d=\"M 97.015 252.569519 \nL 114.871 252.569519 \nL 114.871 252.568015 \nL 97.015 252.568015 \nz\n\" clip-path=\"url(#p45a725a746)\" style=\"fill: #9fce99\"/>\n   </g>\n   <g id=\"patch_625\">\n    <path d=\"M 132.727 251.641514 \nL 150.583 251.641514 \nL 150.583 250.991761 \nL 132.727 250.991761 \nz\n\" clip-path=\"url(#p45a725a746)\" style=\"fill: #9fce99\"/>\n   </g>\n   <g id=\"patch_626\">\n    <path d=\"M 168.439 80.565303 \nL 186.295 80.565303 \nL 186.295 68.305716 \nL 168.439 68.305716 \nz\n\" clip-path=\"url(#p45a725a746)\" style=\"fill: #9fce99\"/>\n   </g>\n   <g id=\"patch_627\">\n    <path d=\"M 204.151 255.869425 \nL 222.007 255.869425 \nL 222.007 255.860401 \nL 204.151 255.860401 \nz\n\" clip-path=\"url(#p45a725a746)\" style=\"fill: #9fce99\"/>\n   </g>\n   <g id=\"patch_628\">\n    <path d=\"M 239.863 215.18011 \nL 257.719 215.18011 \nL 257.719 215.165069 \nL 239.863 215.165069 \nz\n\" clip-path=\"url(#p45a725a746)\" style=\"fill: #9fce99\"/>\n   </g>\n   <g id=\"patch_629\">\n    <path d=\"M 275.575 154.97713 \nL 293.431 154.97713 \nL 293.431 154.563514 \nL 275.575 154.563514 \nz\n\" clip-path=\"url(#p45a725a746)\" style=\"fill: #9fce99\"/>\n   </g>\n   <g id=\"patch_630\">\n    <path d=\"M 311.287 251.214361 \nL 329.143 251.214361 \nL 329.143 251.212857 \nL 311.287 251.212857 \nz\n\" clip-path=\"url(#p45a725a746)\" style=\"fill: #9fce99\"/>\n   </g>\n   <g id=\"patch_631\">\n    <path d=\"M 346.999 205.454863 \nL 364.855 205.454863 \nL 364.855 204.994621 \nL 346.999 204.994621 \nz\n\" clip-path=\"url(#p45a725a746)\" style=\"fill: #9fce99\"/>\n   </g>\n   <g id=\"patch_632\">\n    <path d=\"M 382.711 231.73529 \nL 400.567 231.73529 \nL 400.567 231.494641 \nL 382.711 231.494641 \nz\n\" clip-path=\"url(#p45a725a746)\" style=\"fill: #9fce99\"/>\n   </g>\n   <g id=\"patch_633\">\n    <path d=\"M 61.303 207.282295 \nL 79.159 207.282295 \nL 79.159 207.231157 \nL 61.303 207.231157 \nz\n\" clip-path=\"url(#p45a725a746)\" style=\"fill: #99c693\"/>\n   </g>\n   <g id=\"patch_634\">\n    <path d=\"M 97.015 252.568015 \nL 114.871 252.568015 \nL 114.871 252.565007 \nL 97.015 252.565007 \nz\n\" clip-path=\"url(#p45a725a746)\" style=\"fill: #99c693\"/>\n   </g>\n   <g id=\"patch_635\">\n    <path d=\"M 132.727 250.991761 \nL 150.583 250.991761 \nL 150.583 250.844363 \nL 132.727 250.844363 \nz\n\" clip-path=\"url(#p45a725a746)\" style=\"fill: #99c693\"/>\n   </g>\n   <g id=\"patch_636\">\n    <path d=\"M 168.439 68.305716 \nL 186.295 68.305716 \nL 186.295 58.186405 \nL 168.439 58.186405 \nz\n\" clip-path=\"url(#p45a725a746)\" style=\"fill: #99c693\"/>\n   </g>\n   <g id=\"patch_637\">\n    <path d=\"M 204.151 255.860401 \nL 222.007 255.860401 \nL 222.007 255.816783 \nL 204.151 255.816783 \nz\n\" clip-path=\"url(#p45a725a746)\" style=\"fill: #99c693\"/>\n   </g>\n   <g id=\"patch_638\">\n    <path d=\"M 239.863 215.165069 \nL 257.719 215.165069 \nL 257.719 215.151533 \nL 239.863 215.151533 \nz\n\" clip-path=\"url(#p45a725a746)\" style=\"fill: #99c693\"/>\n   </g>\n   <g id=\"patch_639\">\n    <path d=\"M 275.575 154.563514 \nL 293.431 154.563514 \nL 293.431 154.422132 \nL 275.575 154.422132 \nz\n\" clip-path=\"url(#p45a725a746)\" style=\"fill: #99c693\"/>\n   </g>\n   <g id=\"patch_640\">\n    <path d=\"M 311.287 251.212857 \nL 329.143 251.212857 \nL 329.143 251.200825 \nL 311.287 251.200825 \nz\n\" clip-path=\"url(#p45a725a746)\" style=\"fill: #99c693\"/>\n   </g>\n   <g id=\"patch_641\">\n    <path d=\"M 346.999 204.994621 \nL 364.855 204.994621 \nL 364.855 201.968453 \nL 346.999 201.968453 \nz\n\" clip-path=\"url(#p45a725a746)\" style=\"fill: #99c693\"/>\n   </g>\n   <g id=\"patch_642\">\n    <path d=\"M 382.711 231.494641 \nL 400.567 231.494641 \nL 400.567 231.417934 \nL 382.711 231.417934 \nz\n\" clip-path=\"url(#p45a725a746)\" style=\"fill: #99c693\"/>\n   </g>\n   <g id=\"patch_643\">\n    <path d=\"M 61.303 207.231157 \nL 79.159 207.231157 \nL 79.159 207.216116 \nL 61.303 207.216116 \nz\n\" clip-path=\"url(#p45a725a746)\" style=\"fill: #93be8d\"/>\n   </g>\n   <g id=\"patch_644\">\n    <path d=\"M 97.015 252.565007 \nL 114.871 252.565007 \nL 114.871 252.554478 \nL 97.015 252.554478 \nz\n\" clip-path=\"url(#p45a725a746)\" style=\"fill: #93be8d\"/>\n   </g>\n   <g id=\"patch_645\">\n    <path d=\"M 132.727 250.844363 \nL 150.583 250.844363 \nL 150.583 250.484893 \nL 132.727 250.484893 \nz\n\" clip-path=\"url(#p45a725a746)\" style=\"fill: #93be8d\"/>\n   </g>\n   <g id=\"patch_646\">\n    <path d=\"M 168.439 58.186405 \nL 186.295 58.186405 \nL 186.295 53.880284 \nL 168.439 53.880284 \nz\n\" clip-path=\"url(#p45a725a746)\" style=\"fill: #93be8d\"/>\n   </g>\n   <g id=\"patch_647\">\n    <path d=\"M 204.151 255.816783 \nL 222.007 255.816783 \nL 222.007 255.813775 \nL 204.151 255.813775 \nz\n\" clip-path=\"url(#p45a725a746)\" style=\"fill: #93be8d\"/>\n   </g>\n   <g id=\"patch_648\">\n    <path d=\"M 239.863 215.151533 \nL 257.719 215.151533 \nL 257.719 215.137996 \nL 239.863 215.137996 \nz\n\" clip-path=\"url(#p45a725a746)\" style=\"fill: #93be8d\"/>\n   </g>\n   <g id=\"patch_649\">\n    <path d=\"M 275.575 154.422132 \nL 293.431 154.422132 \nL 293.431 153.485104 \nL 275.575 153.485104 \nz\n\" clip-path=\"url(#p45a725a746)\" style=\"fill: #93be8d\"/>\n   </g>\n   <g id=\"patch_650\">\n    <path d=\"M 311.287 251.200825 \nL 329.143 251.200825 \nL 329.143 251.199321 \nL 311.287 251.199321 \nz\n\" clip-path=\"url(#p45a725a746)\" style=\"fill: #93be8d\"/>\n   </g>\n   <g id=\"patch_651\">\n    <path d=\"M 346.999 201.968453 \nL 364.855 201.968453 \nL 364.855 201.869186 \nL 346.999 201.869186 \nz\n\" clip-path=\"url(#p45a725a746)\" style=\"fill: #93be8d\"/>\n   </g>\n   <g id=\"patch_652\">\n    <path d=\"M 382.711 231.417934 \nL 400.567 231.417934 \nL 400.567 231.338218 \nL 382.711 231.338218 \nz\n\" clip-path=\"url(#p45a725a746)\" style=\"fill: #93be8d\"/>\n   </g>\n   <g id=\"patch_653\">\n    <path d=\"M 61.303 207.216116 \nL 79.159 207.216116 \nL 79.159 207.213108 \nL 61.303 207.213108 \nz\n\" clip-path=\"url(#p45a725a746)\" style=\"fill: #8db788\"/>\n   </g>\n   <g id=\"patch_654\">\n    <path d=\"M 97.015 252.554478 \nL 114.871 252.554478 \nL 114.871 252.513869 \nL 97.015 252.513869 \nz\n\" clip-path=\"url(#p45a725a746)\" style=\"fill: #8db788\"/>\n   </g>\n   <g id=\"patch_655\">\n    <path d=\"M 132.727 250.484893 \nL 150.583 250.484893 \nL 150.583 250.442779 \nL 132.727 250.442779 \nz\n\" clip-path=\"url(#p45a725a746)\" style=\"fill: #8db788\"/>\n   </g>\n   <g id=\"patch_656\">\n    <path d=\"M 168.439 53.880284 \nL 186.295 53.880284 \nL 186.295 52.988377 \nL 168.439 52.988377 \nz\n\" clip-path=\"url(#p45a725a746)\" style=\"fill: #8db788\"/>\n   </g>\n   <g id=\"patch_657\">\n    <path d=\"M 204.151 255.813775 \nL 222.007 255.813775 \nL 222.007 255.648328 \nL 204.151 255.648328 \nz\n\" clip-path=\"url(#p45a725a746)\" style=\"fill: #8db788\"/>\n   </g>\n   <g id=\"patch_658\">\n    <path d=\"M 239.863 215.137996 \nL 257.719 215.137996 \nL 257.719 215.122956 \nL 239.863 215.122956 \nz\n\" clip-path=\"url(#p45a725a746)\" style=\"fill: #8db788\"/>\n   </g>\n   <g id=\"patch_659\">\n    <path d=\"M 275.575 153.485104 \nL 293.431 153.485104 \nL 293.431 153.09104 \nL 275.575 153.09104 \nz\n\" clip-path=\"url(#p45a725a746)\" style=\"fill: #8db788\"/>\n   </g>\n   <g id=\"patch_660\">\n    <path d=\"M 311.287 251.199321 \nL 329.143 251.199321 \nL 329.143 251.193305 \nL 311.287 251.193305 \nz\n\" clip-path=\"url(#p45a725a746)\" style=\"fill: #8db788\"/>\n   </g>\n   <g id=\"patch_661\">\n    <path d=\"M 346.999 201.869186 \nL 364.855 201.869186 \nL 364.855 201.867682 \nL 346.999 201.867682 \nz\n\" clip-path=\"url(#p45a725a746)\" style=\"fill: #8db788\"/>\n   </g>\n   <g id=\"patch_662\">\n    <path d=\"M 382.711 231.338218 \nL 400.567 231.338218 \nL 400.567 231.270536 \nL 382.711 231.270536 \nz\n\" clip-path=\"url(#p45a725a746)\" style=\"fill: #8db788\"/>\n   </g>\n   <g id=\"patch_663\">\n    <path d=\"M 61.303 273.312 \nL 79.159 273.312 \nL 79.159 273.312 \nL 61.303 273.312 \nz\n\" clip-path=\"url(#p45a725a746)\" style=\"fill: #87af82\"/>\n   </g>\n   <g id=\"patch_664\">\n    <path d=\"M 97.015 252.513869 \nL 114.871 252.513869 \nL 114.871 252.501836 \nL 97.015 252.501836 \nz\n\" clip-path=\"url(#p45a725a746)\" style=\"fill: #87af82\"/>\n   </g>\n   <g id=\"patch_665\">\n    <path d=\"M 132.727 250.442779 \nL 150.583 250.442779 \nL 150.583 249.981033 \nL 132.727 249.981033 \nz\n\" clip-path=\"url(#p45a725a746)\" style=\"fill: #87af82\"/>\n   </g>\n   <g id=\"patch_666\">\n    <path d=\"M 168.439 52.988377 \nL 186.295 52.988377 \nL 186.295 52.896629 \nL 168.439 52.896629 \nz\n\" clip-path=\"url(#p45a725a746)\" style=\"fill: #87af82\"/>\n   </g>\n   <g id=\"patch_667\">\n    <path d=\"M 204.151 273.312 \nL 222.007 273.312 \nL 222.007 273.312 \nL 204.151 273.312 \nz\n\" clip-path=\"url(#p45a725a746)\" style=\"fill: #87af82\"/>\n   </g>\n   <g id=\"patch_668\">\n    <path d=\"M 239.863 215.122956 \nL 257.719 215.122956 \nL 257.719 215.107915 \nL 239.863 215.107915 \nz\n\" clip-path=\"url(#p45a725a746)\" style=\"fill: #87af82\"/>\n   </g>\n   <g id=\"patch_669\">\n    <path d=\"M 275.575 153.09104 \nL 293.431 153.09104 \nL 293.431 152.83535 \nL 275.575 152.83535 \nz\n\" clip-path=\"url(#p45a725a746)\" style=\"fill: #87af82\"/>\n   </g>\n   <g id=\"patch_670\">\n    <path d=\"M 311.287 251.193305 \nL 329.143 251.193305 \nL 329.143 251.191801 \nL 311.287 251.191801 \nz\n\" clip-path=\"url(#p45a725a746)\" style=\"fill: #87af82\"/>\n   </g>\n   <g id=\"patch_671\">\n    <path d=\"M 346.999 201.867682 \nL 364.855 201.867682 \nL 364.855 201.848129 \nL 346.999 201.848129 \nz\n\" clip-path=\"url(#p45a725a746)\" style=\"fill: #87af82\"/>\n   </g>\n   <g id=\"patch_672\">\n    <path d=\"M 382.711 231.270536 \nL 400.567 231.270536 \nL 400.567 230.953179 \nL 382.711 230.953179 \nz\n\" clip-path=\"url(#p45a725a746)\" style=\"fill: #87af82\"/>\n   </g>\n   <g id=\"patch_673\">\n    <path d=\"M 61.303 207.213108 \nL 79.159 207.213108 \nL 79.159 207.2101 \nL 61.303 207.2101 \nz\n\" clip-path=\"url(#p45a725a746)\" style=\"fill: #82a77c\"/>\n   </g>\n   <g id=\"patch_674\">\n    <path d=\"M 97.015 252.501836 \nL 114.871 252.501836 \nL 114.871 252.498828 \nL 97.015 252.498828 \nz\n\" clip-path=\"url(#p45a725a746)\" style=\"fill: #82a77c\"/>\n   </g>\n   <g id=\"patch_675\">\n    <path d=\"M 132.727 249.981033 \nL 150.583 249.981033 \nL 150.583 249.895302 \nL 132.727 249.895302 \nz\n\" clip-path=\"url(#p45a725a746)\" style=\"fill: #82a77c\"/>\n   </g>\n   <g id=\"patch_676\">\n    <path d=\"M 168.439 52.896629 \nL 186.295 52.896629 \nL 186.295 52.884596 \nL 168.439 52.884596 \nz\n\" clip-path=\"url(#p45a725a746)\" style=\"fill: #82a77c\"/>\n   </g>\n   <g id=\"patch_677\">\n    <path d=\"M 204.151 255.648328 \nL 222.007 255.648328 \nL 222.007 255.505443 \nL 204.151 255.505443 \nz\n\" clip-path=\"url(#p45a725a746)\" style=\"fill: #82a77c\"/>\n   </g>\n   <g id=\"patch_678\">\n    <path d=\"M 239.863 215.107915 \nL 257.719 215.107915 \nL 257.719 215.010151 \nL 239.863 215.010151 \nz\n\" clip-path=\"url(#p45a725a746)\" style=\"fill: #82a77c\"/>\n   </g>\n   <g id=\"patch_679\">\n    <path d=\"M 275.575 152.83535 \nL 293.431 152.83535 \nL 293.431 152.68344 \nL 275.575 152.68344 \nz\n\" clip-path=\"url(#p45a725a746)\" style=\"fill: #82a77c\"/>\n   </g>\n   <g id=\"patch_680\">\n    <path d=\"M 311.287 251.191801 \nL 329.143 251.191801 \nL 329.143 251.190297 \nL 311.287 251.190297 \nz\n\" clip-path=\"url(#p45a725a746)\" style=\"fill: #82a77c\"/>\n   </g>\n   <g id=\"patch_681\">\n    <path d=\"M 346.999 201.848129 \nL 364.855 201.848129 \nL 364.855 201.839104 \nL 346.999 201.839104 \nz\n\" clip-path=\"url(#p45a725a746)\" style=\"fill: #82a77c\"/>\n   </g>\n   <g id=\"patch_682\">\n    <path d=\"M 382.711 230.953179 \nL 400.567 230.953179 \nL 400.567 230.449319 \nL 382.711 230.449319 \nz\n\" clip-path=\"url(#p45a725a746)\" style=\"fill: #82a77c\"/>\n   </g>\n   <g id=\"patch_683\">\n    <path d=\"M 61.303 207.2101 \nL 79.159 207.2101 \nL 79.159 207.199572 \nL 61.303 207.199572 \nz\n\" clip-path=\"url(#p45a725a746)\" style=\"fill: #7ca077\"/>\n   </g>\n   <g id=\"patch_684\">\n    <path d=\"M 97.015 252.498828 \nL 114.871 252.498828 \nL 114.871 252.462731 \nL 97.015 252.462731 \nz\n\" clip-path=\"url(#p45a725a746)\" style=\"fill: #7ca077\"/>\n   </g>\n   <g id=\"patch_685\">\n    <path d=\"M 132.727 249.895302 \nL 150.583 249.895302 \nL 150.583 249.797538 \nL 132.727 249.797538 \nz\n\" clip-path=\"url(#p45a725a746)\" style=\"fill: #7ca077\"/>\n   </g>\n   <g id=\"patch_686\">\n    <path d=\"M 168.439 52.884596 \nL 186.295 52.884596 \nL 186.295 51.852812 \nL 168.439 51.852812 \nz\n\" clip-path=\"url(#p45a725a746)\" style=\"fill: #7ca077\"/>\n   </g>\n   <g id=\"patch_687\">\n    <path d=\"M 204.151 255.505443 \nL 222.007 255.505443 \nL 222.007 255.380606 \nL 204.151 255.380606 \nz\n\" clip-path=\"url(#p45a725a746)\" style=\"fill: #7ca077\"/>\n   </g>\n   <g id=\"patch_688\">\n    <path d=\"M 239.863 215.010151 \nL 257.719 215.010151 \nL 257.719 214.999623 \nL 239.863 214.999623 \nz\n\" clip-path=\"url(#p45a725a746)\" style=\"fill: #7ca077\"/>\n   </g>\n   <g id=\"patch_689\">\n    <path d=\"M 275.575 152.68344 \nL 293.431 152.68344 \nL 293.431 151.77198 \nL 275.575 151.77198 \nz\n\" clip-path=\"url(#p45a725a746)\" style=\"fill: #7ca077\"/>\n   </g>\n   <g id=\"patch_690\">\n    <path d=\"M 311.287 251.190297 \nL 329.143 251.190297 \nL 329.143 251.188792 \nL 311.287 251.188792 \nz\n\" clip-path=\"url(#p45a725a746)\" style=\"fill: #7ca077\"/>\n   </g>\n   <g id=\"patch_691\">\n    <path d=\"M 346.999 201.839104 \nL 364.855 201.839104 \nL 364.855 201.368334 \nL 346.999 201.368334 \nz\n\" clip-path=\"url(#p45a725a746)\" style=\"fill: #7ca077\"/>\n   </g>\n   <g id=\"patch_692\">\n    <path d=\"M 382.711 230.449319 \nL 400.567 230.449319 \nL 400.567 230.053752 \nL 382.711 230.053752 \nz\n\" clip-path=\"url(#p45a725a746)\" style=\"fill: #7ca077\"/>\n   </g>\n   <g id=\"patch_693\">\n    <path d=\"M 61.303 207.199572 \nL 79.159 207.199572 \nL 79.159 206.749858 \nL 61.303 206.749858 \nz\n\" clip-path=\"url(#p45a725a746)\" style=\"fill: #769871\"/>\n   </g>\n   <g id=\"patch_694\">\n    <path d=\"M 97.015 252.462731 \nL 114.871 252.462731 \nL 114.871 252.44017 \nL 97.015 252.44017 \nz\n\" clip-path=\"url(#p45a725a746)\" style=\"fill: #769871\"/>\n   </g>\n   <g id=\"patch_695\">\n    <path d=\"M 132.727 249.797538 \nL 150.583 249.797538 \nL 150.583 249.690749 \nL 132.727 249.690749 \nz\n\" clip-path=\"url(#p45a725a746)\" style=\"fill: #769871\"/>\n   </g>\n   <g id=\"patch_696\">\n    <path d=\"M 168.439 51.852812 \nL 186.295 51.852812 \nL 186.295 51.773097 \nL 168.439 51.773097 \nz\n\" clip-path=\"url(#p45a725a746)\" style=\"fill: #769871\"/>\n   </g>\n   <g id=\"patch_697\">\n    <path d=\"M 204.151 255.380606 \nL 222.007 255.380606 \nL 222.007 255.297882 \nL 204.151 255.297882 \nz\n\" clip-path=\"url(#p45a725a746)\" style=\"fill: #769871\"/>\n   </g>\n   <g id=\"patch_698\">\n    <path d=\"M 239.863 214.999623 \nL 257.719 214.999623 \nL 257.719 214.870274 \nL 239.863 214.870274 \nz\n\" clip-path=\"url(#p45a725a746)\" style=\"fill: #769871\"/>\n   </g>\n   <g id=\"patch_699\">\n    <path d=\"M 275.575 151.77198 \nL 293.431 151.77198 \nL 293.431 151.325274 \nL 275.575 151.325274 \nz\n\" clip-path=\"url(#p45a725a746)\" style=\"fill: #769871\"/>\n   </g>\n   <g id=\"patch_700\">\n    <path d=\"M 311.287 251.188792 \nL 329.143 251.188792 \nL 329.143 251.012818 \nL 311.287 251.012818 \nz\n\" clip-path=\"url(#p45a725a746)\" style=\"fill: #769871\"/>\n   </g>\n   <g id=\"patch_701\">\n    <path d=\"M 346.999 201.368334 \nL 364.855 201.368334 \nL 364.855 201.072034 \nL 346.999 201.072034 \nz\n\" clip-path=\"url(#p45a725a746)\" style=\"fill: #769871\"/>\n   </g>\n   <g id=\"patch_702\">\n    <path d=\"M 382.711 230.053752 \nL 400.567 230.053752 \nL 400.567 230.032695 \nL 382.711 230.032695 \nz\n\" clip-path=\"url(#p45a725a746)\" style=\"fill: #769871\"/>\n   </g>\n   <g id=\"patch_703\">\n    <path d=\"M 61.303 206.749858 \nL 79.159 206.749858 \nL 79.159 203.970356 \nL 61.303 203.970356 \nz\n\" clip-path=\"url(#p45a725a746)\" style=\"fill: #66c2a5\"/>\n   </g>\n   <g id=\"patch_704\">\n    <path d=\"M 97.015 252.44017 \nL 114.871 252.44017 \nL 114.871 250.660868 \nL 97.015 250.660868 \nz\n\" clip-path=\"url(#p45a725a746)\" style=\"fill: #66c2a5\"/>\n   </g>\n   <g id=\"patch_705\">\n    <path d=\"M 132.727 249.690749 \nL 150.583 249.690749 \nL 150.583 248.296487 \nL 132.727 248.296487 \nz\n\" clip-path=\"url(#p45a725a746)\" style=\"fill: #66c2a5\"/>\n   </g>\n   <g id=\"patch_706\">\n    <path d=\"M 168.439 51.773097 \nL 186.295 51.773097 \nL 186.295 46.062184 \nL 168.439 46.062184 \nz\n\" clip-path=\"url(#p45a725a746)\" style=\"fill: #66c2a5\"/>\n   </g>\n   <g id=\"patch_707\">\n    <path d=\"M 204.151 255.297882 \nL 222.007 255.297882 \nL 222.007 255.227192 \nL 204.151 255.227192 \nz\n\" clip-path=\"url(#p45a725a746)\" style=\"fill: #66c2a5\"/>\n   </g>\n   <g id=\"patch_708\">\n    <path d=\"M 239.863 214.870274 \nL 257.719 214.870274 \nL 257.719 213.745237 \nL 239.863 213.745237 \nz\n\" clip-path=\"url(#p45a725a746)\" style=\"fill: #66c2a5\"/>\n   </g>\n   <g id=\"patch_709\">\n    <path d=\"M 275.575 151.325274 \nL 293.431 151.325274 \nL 293.431 150.540156 \nL 275.575 150.540156 \nz\n\" clip-path=\"url(#p45a725a746)\" style=\"fill: #66c2a5\"/>\n   </g>\n   <g id=\"patch_710\">\n    <path d=\"M 311.287 251.012818 \nL 329.143 251.012818 \nL 329.143 250.154 \nL 311.287 250.154 \nz\n\" clip-path=\"url(#p45a725a746)\" style=\"fill: #66c2a5\"/>\n   </g>\n   <g id=\"patch_711\">\n    <path d=\"M 346.999 201.072034 \nL 364.855 201.072034 \nL 364.855 200.838905 \nL 346.999 200.838905 \nz\n\" clip-path=\"url(#p45a725a746)\" style=\"fill: #66c2a5\"/>\n   </g>\n   <g id=\"patch_712\">\n    <path d=\"M 382.711 230.032695 \nL 400.567 230.032695 \nL 400.567 229.211479 \nL 382.711 229.211479 \nz\n\" clip-path=\"url(#p45a725a746)\" style=\"fill: #66c2a5\"/>\n   </g>\n   <g id=\"patch_713\">\n    <path d=\"M 61.303 203.970356 \nL 79.159 203.970356 \nL 79.159 198.931758 \nL 61.303 198.931758 \nz\n\" clip-path=\"url(#p45a725a746)\" style=\"fill: #62ba9e\"/>\n   </g>\n   <g id=\"patch_714\">\n    <path d=\"M 97.015 250.660868 \nL 114.871 250.660868 \nL 114.871 250.166032 \nL 97.015 250.166032 \nz\n\" clip-path=\"url(#p45a725a746)\" style=\"fill: #62ba9e\"/>\n   </g>\n   <g id=\"patch_715\">\n    <path d=\"M 132.727 248.296487 \nL 150.583 248.296487 \nL 150.583 247.606123 \nL 132.727 247.606123 \nz\n\" clip-path=\"url(#p45a725a746)\" style=\"fill: #62ba9e\"/>\n   </g>\n   <g id=\"patch_716\">\n    <path d=\"M 168.439 46.062184 \nL 186.295 46.062184 \nL 186.295 39.277372 \nL 168.439 39.277372 \nz\n\" clip-path=\"url(#p45a725a746)\" style=\"fill: #62ba9e\"/>\n   </g>\n   <g id=\"patch_717\">\n    <path d=\"M 204.151 255.227192 \nL 222.007 255.227192 \nL 222.007 255.188086 \nL 204.151 255.188086 \nz\n\" clip-path=\"url(#p45a725a746)\" style=\"fill: #62ba9e\"/>\n   </g>\n   <g id=\"patch_718\">\n    <path d=\"M 239.863 213.745237 \nL 257.719 213.745237 \nL 257.719 212.03813 \nL 239.863 212.03813 \nz\n\" clip-path=\"url(#p45a725a746)\" style=\"fill: #62ba9e\"/>\n   </g>\n   <g id=\"patch_719\">\n    <path d=\"M 275.575 150.540156 \nL 293.431 150.540156 \nL 293.431 150.150604 \nL 275.575 150.150604 \nz\n\" clip-path=\"url(#p45a725a746)\" style=\"fill: #62ba9e\"/>\n   </g>\n   <g id=\"patch_720\">\n    <path d=\"M 311.287 250.154 \nL 329.143 250.154 \nL 329.143 249.820099 \nL 311.287 249.820099 \nz\n\" clip-path=\"url(#p45a725a746)\" style=\"fill: #62ba9e\"/>\n   </g>\n   <g id=\"patch_721\">\n    <path d=\"M 346.999 200.838905 \nL 364.855 200.838905 \nL 364.855 200.259842 \nL 346.999 200.259842 \nz\n\" clip-path=\"url(#p45a725a746)\" style=\"fill: #62ba9e\"/>\n   </g>\n   <g id=\"patch_722\">\n    <path d=\"M 382.711 229.211479 \nL 400.567 229.211479 \nL 400.567 227.793151 \nL 382.711 227.793151 \nz\n\" clip-path=\"url(#p45a725a746)\" style=\"fill: #62ba9e\"/>\n   </g>\n   <g id=\"patch_723\">\n    <path d=\"M 61.303 198.931758 \nL 79.159 198.931758 \nL 79.159 198.874604 \nL 61.303 198.874604 \nz\n\" clip-path=\"url(#p45a725a746)\" style=\"fill: #5eb398\"/>\n   </g>\n   <g id=\"patch_724\">\n    <path d=\"M 97.015 250.166032 \nL 114.871 250.166032 \nL 114.871 249.531319 \nL 97.015 249.531319 \nz\n\" clip-path=\"url(#p45a725a746)\" style=\"fill: #5eb398\"/>\n   </g>\n   <g id=\"patch_725\">\n    <path d=\"M 132.727 247.606123 \nL 150.583 247.606123 \nL 150.583 247.416612 \nL 132.727 247.416612 \nz\n\" clip-path=\"url(#p45a725a746)\" style=\"fill: #5eb398\"/>\n   </g>\n   <g id=\"patch_726\">\n    <path d=\"M 168.439 39.277372 \nL 186.295 39.277372 \nL 186.295 37.474005 \nL 168.439 37.474005 \nz\n\" clip-path=\"url(#p45a725a746)\" style=\"fill: #5eb398\"/>\n   </g>\n   <g id=\"patch_727\">\n    <path d=\"M 204.151 255.188086 \nL 222.007 255.188086 \nL 222.007 255.183574 \nL 204.151 255.183574 \nz\n\" clip-path=\"url(#p45a725a746)\" style=\"fill: #5eb398\"/>\n   </g>\n   <g id=\"patch_728\">\n    <path d=\"M 239.863 212.03813 \nL 257.719 212.03813 \nL 257.719 209.353384 \nL 239.863 209.353384 \nz\n\" clip-path=\"url(#p45a725a746)\" style=\"fill: #5eb398\"/>\n   </g>\n   <g id=\"patch_729\">\n    <path d=\"M 275.575 150.150604 \nL 293.431 150.150604 \nL 293.431 150.096458 \nL 275.575 150.096458 \nz\n\" clip-path=\"url(#p45a725a746)\" style=\"fill: #5eb398\"/>\n   </g>\n   <g id=\"patch_730\">\n    <path d=\"M 311.287 249.820099 \nL 329.143 249.820099 \nL 329.143 249.80957 \nL 311.287 249.80957 \nz\n\" clip-path=\"url(#p45a725a746)\" style=\"fill: #5eb398\"/>\n   </g>\n   <g id=\"patch_731\">\n    <path d=\"M 346.999 200.259842 \nL 364.855 200.259842 \nL 364.855 200.077851 \nL 346.999 200.077851 \nz\n\" clip-path=\"url(#p45a725a746)\" style=\"fill: #5eb398\"/>\n   </g>\n   <g id=\"patch_732\">\n    <path d=\"M 382.711 227.793151 \nL 400.567 227.793151 \nL 400.567 225.031698 \nL 382.711 225.031698 \nz\n\" clip-path=\"url(#p45a725a746)\" style=\"fill: #5eb398\"/>\n   </g>\n   <g id=\"patch_733\">\n    <path d=\"M 61.303 198.874604 \nL 79.159 198.874604 \nL 79.159 198.803913 \nL 61.303 198.803913 \nz\n\" clip-path=\"url(#p45a725a746)\" style=\"fill: #5aab91\"/>\n   </g>\n   <g id=\"patch_734\">\n    <path d=\"M 97.015 249.531319 \nL 114.871 249.531319 \nL 114.871 249.51327 \nL 97.015 249.51327 \nz\n\" clip-path=\"url(#p45a725a746)\" style=\"fill: #5aab91\"/>\n   </g>\n   <g id=\"patch_735\">\n    <path d=\"M 132.727 247.416612 \nL 150.583 247.416612 \nL 150.583 247.261694 \nL 132.727 247.261694 \nz\n\" clip-path=\"url(#p45a725a746)\" style=\"fill: #5aab91\"/>\n   </g>\n   <g id=\"patch_736\">\n    <path d=\"M 168.439 37.474005 \nL 186.295 37.474005 \nL 186.295 37.051365 \nL 168.439 37.051365 \nz\n\" clip-path=\"url(#p45a725a746)\" style=\"fill: #5aab91\"/>\n   </g>\n   <g id=\"patch_737\">\n    <path d=\"M 204.151 255.183574 \nL 222.007 255.183574 \nL 222.007 255.159509 \nL 204.151 255.159509 \nz\n\" clip-path=\"url(#p45a725a746)\" style=\"fill: #5aab91\"/>\n   </g>\n   <g id=\"patch_738\">\n    <path d=\"M 239.863 209.353384 \nL 257.719 209.353384 \nL 257.719 208.993914 \nL 239.863 208.993914 \nz\n\" clip-path=\"url(#p45a725a746)\" style=\"fill: #5aab91\"/>\n   </g>\n   <g id=\"patch_739\">\n    <path d=\"M 275.575 150.096458 \nL 293.431 150.096458 \nL 293.431 150.075401 \nL 275.575 150.075401 \nz\n\" clip-path=\"url(#p45a725a746)\" style=\"fill: #5aab91\"/>\n   </g>\n   <g id=\"patch_740\">\n    <path d=\"M 311.287 249.80957 \nL 329.143 249.80957 \nL 329.143 249.806562 \nL 311.287 249.806562 \nz\n\" clip-path=\"url(#p45a725a746)\" style=\"fill: #5aab91\"/>\n   </g>\n   <g id=\"patch_741\">\n    <path d=\"M 346.999 200.077851 \nL 364.855 200.077851 \nL 364.855 199.710861 \nL 346.999 199.710861 \nz\n\" clip-path=\"url(#p45a725a746)\" style=\"fill: #5aab91\"/>\n   </g>\n   <g id=\"patch_742\">\n    <path d=\"M 382.711 225.031698 \nL 400.567 225.031698 \nL 400.567 214.082147 \nL 382.711 214.082147 \nz\n\" clip-path=\"url(#p45a725a746)\" style=\"fill: #5aab91\"/>\n   </g>\n   <g id=\"patch_743\">\n    <path d=\"M 61.303 198.803913 \nL 79.159 198.803913 \nL 79.159 198.793384 \nL 61.303 198.793384 \nz\n\" clip-path=\"url(#p45a725a746)\" style=\"fill: #56a38b\"/>\n   </g>\n   <g id=\"patch_744\">\n    <path d=\"M 97.015 249.51327 \nL 114.871 249.51327 \nL 114.871 247.604619 \nL 97.015 247.604619 \nz\n\" clip-path=\"url(#p45a725a746)\" style=\"fill: #56a38b\"/>\n   </g>\n   <g id=\"patch_745\">\n    <path d=\"M 132.727 247.261694 \nL 150.583 247.261694 \nL 150.583 246.723241 \nL 132.727 246.723241 \nz\n\" clip-path=\"url(#p45a725a746)\" style=\"fill: #56a38b\"/>\n   </g>\n   <g id=\"patch_746\">\n    <path d=\"M 168.439 37.051365 \nL 186.295 37.051365 \nL 186.295 36.693399 \nL 168.439 36.693399 \nz\n\" clip-path=\"url(#p45a725a746)\" style=\"fill: #56a38b\"/>\n   </g>\n   <g id=\"patch_747\">\n    <path d=\"M 204.151 273.312 \nL 222.007 273.312 \nL 222.007 273.312 \nL 204.151 273.312 \nz\n\" clip-path=\"url(#p45a725a746)\" style=\"fill: #56a38b\"/>\n   </g>\n   <g id=\"patch_748\">\n    <path d=\"M 239.863 208.993914 \nL 257.719 208.993914 \nL 257.719 207.437213 \nL 239.863 207.437213 \nz\n\" clip-path=\"url(#p45a725a746)\" style=\"fill: #56a38b\"/>\n   </g>\n   <g id=\"patch_749\">\n    <path d=\"M 275.575 150.075401 \nL 293.431 150.075401 \nL 293.431 150.0378 \nL 275.575 150.0378 \nz\n\" clip-path=\"url(#p45a725a746)\" style=\"fill: #56a38b\"/>\n   </g>\n   <g id=\"patch_750\">\n    <path d=\"M 311.287 249.806562 \nL 329.143 249.806562 \nL 329.143 249.803554 \nL 311.287 249.803554 \nz\n\" clip-path=\"url(#p45a725a746)\" style=\"fill: #56a38b\"/>\n   </g>\n   <g id=\"patch_751\">\n    <path d=\"M 346.999 199.710861 \nL 364.855 199.710861 \nL 364.855 199.552934 \nL 346.999 199.552934 \nz\n\" clip-path=\"url(#p45a725a746)\" style=\"fill: #56a38b\"/>\n   </g>\n   <g id=\"patch_752\">\n    <path d=\"M 382.711 214.082147 \nL 400.567 214.082147 \nL 400.567 212.880403 \nL 382.711 212.880403 \nz\n\" clip-path=\"url(#p45a725a746)\" style=\"fill: #56a38b\"/>\n   </g>\n   <g id=\"patch_753\">\n    <path d=\"M 61.303 198.793384 \nL 79.159 198.793384 \nL 79.159 198.788872 \nL 61.303 198.788872 \nz\n\" clip-path=\"url(#p45a725a746)\" style=\"fill: #529c84\"/>\n   </g>\n   <g id=\"patch_754\">\n    <path d=\"M 97.015 247.604619 \nL 114.871 247.604619 \nL 114.871 247.532424 \nL 97.015 247.532424 \nz\n\" clip-path=\"url(#p45a725a746)\" style=\"fill: #529c84\"/>\n   </g>\n   <g id=\"patch_755\">\n    <path d=\"M 132.727 246.723241 \nL 150.583 246.723241 \nL 150.583 246.575843 \nL 132.727 246.575843 \nz\n\" clip-path=\"url(#p45a725a746)\" style=\"fill: #529c84\"/>\n   </g>\n   <g id=\"patch_756\">\n    <path d=\"M 168.439 36.693399 \nL 186.295 36.693399 \nL 186.295 36.538481 \nL 168.439 36.538481 \nz\n\" clip-path=\"url(#p45a725a746)\" style=\"fill: #529c84\"/>\n   </g>\n   <g id=\"patch_757\">\n    <path d=\"M 204.151 255.159509 \nL 222.007 255.159509 \nL 222.007 255.108371 \nL 204.151 255.108371 \nz\n\" clip-path=\"url(#p45a725a746)\" style=\"fill: #529c84\"/>\n   </g>\n   <g id=\"patch_758\">\n    <path d=\"M 239.863 207.437213 \nL 257.719 207.437213 \nL 257.719 207.170994 \nL 239.863 207.170994 \nz\n\" clip-path=\"url(#p45a725a746)\" style=\"fill: #529c84\"/>\n   </g>\n   <g id=\"patch_759\">\n    <path d=\"M 275.575 150.0378 \nL 293.431 150.0378 \nL 293.431 150.027271 \nL 275.575 150.027271 \nz\n\" clip-path=\"url(#p45a725a746)\" style=\"fill: #529c84\"/>\n   </g>\n   <g id=\"patch_760\">\n    <path d=\"M 311.287 249.803554 \nL 329.143 249.803554 \nL 329.143 249.651644 \nL 311.287 249.651644 \nz\n\" clip-path=\"url(#p45a725a746)\" style=\"fill: #529c84\"/>\n   </g>\n   <g id=\"patch_761\">\n    <path d=\"M 346.999 199.552934 \nL 364.855 199.552934 \nL 364.855 199.428097 \nL 346.999 199.428097 \nz\n\" clip-path=\"url(#p45a725a746)\" style=\"fill: #529c84\"/>\n   </g>\n   <g id=\"patch_762\">\n    <path d=\"M 382.711 212.880403 \nL 400.567 212.880403 \nL 400.567 211.541791 \nL 382.711 211.541791 \nz\n\" clip-path=\"url(#p45a725a746)\" style=\"fill: #529c84\"/>\n   </g>\n   <g id=\"patch_763\">\n    <path d=\"M 61.303 198.788872 \nL 79.159 198.788872 \nL 79.159 198.773832 \nL 61.303 198.773832 \nz\n\" clip-path=\"url(#p45a725a746)\" style=\"fill: #4e947e\"/>\n   </g>\n   <g id=\"patch_764\">\n    <path d=\"M 97.015 247.532424 \nL 114.871 247.532424 \nL 114.871 247.395555 \nL 97.015 247.395555 \nz\n\" clip-path=\"url(#p45a725a746)\" style=\"fill: #4e947e\"/>\n   </g>\n   <g id=\"patch_765\">\n    <path d=\"M 132.727 246.575843 \nL 150.583 246.575843 \nL 150.583 246.497632 \nL 132.727 246.497632 \nz\n\" clip-path=\"url(#p45a725a746)\" style=\"fill: #4e947e\"/>\n   </g>\n   <g id=\"patch_766\">\n    <path d=\"M 168.439 36.538481 \nL 186.295 36.538481 \nL 186.295 36.502383 \nL 168.439 36.502383 \nz\n\" clip-path=\"url(#p45a725a746)\" style=\"fill: #4e947e\"/>\n   </g>\n   <g id=\"patch_767\">\n    <path d=\"M 204.151 255.108371 \nL 222.007 255.108371 \nL 222.007 255.105363 \nL 204.151 255.105363 \nz\n\" clip-path=\"url(#p45a725a746)\" style=\"fill: #4e947e\"/>\n   </g>\n   <g id=\"patch_768\">\n    <path d=\"M 239.863 207.170994 \nL 257.719 207.170994 \nL 257.719 206.25803 \nL 239.863 206.25803 \nz\n\" clip-path=\"url(#p45a725a746)\" style=\"fill: #4e947e\"/>\n   </g>\n   <g id=\"patch_769\">\n    <path d=\"M 275.575 150.027271 \nL 293.431 150.027271 \nL 293.431 149.932516 \nL 275.575 149.932516 \nz\n\" clip-path=\"url(#p45a725a746)\" style=\"fill: #4e947e\"/>\n   </g>\n   <g id=\"patch_770\">\n    <path d=\"M 311.287 249.651644 \nL 329.143 249.651644 \nL 329.143 249.567417 \nL 311.287 249.567417 \nz\n\" clip-path=\"url(#p45a725a746)\" style=\"fill: #4e947e\"/>\n   </g>\n   <g id=\"patch_771\">\n    <path d=\"M 346.999 199.428097 \nL 364.855 199.428097 \nL 364.855 199.381472 \nL 346.999 199.381472 \nz\n\" clip-path=\"url(#p45a725a746)\" style=\"fill: #4e947e\"/>\n   </g>\n   <g id=\"patch_772\">\n    <path d=\"M 382.711 211.541791 \nL 400.567 211.541791 \nL 400.567 209.924927 \nL 382.711 209.924927 \nz\n\" clip-path=\"url(#p45a725a746)\" style=\"fill: #4e947e\"/>\n   </g>\n   <g id=\"patch_773\">\n    <path d=\"M 61.303 198.773832 \nL 79.159 198.773832 \nL 79.159 198.764807 \nL 61.303 198.764807 \nz\n\" clip-path=\"url(#p45a725a746)\" style=\"fill: #4a8c77\"/>\n   </g>\n   <g id=\"patch_774\">\n    <path d=\"M 97.015 247.395555 \nL 114.871 247.395555 \nL 114.871 247.160922 \nL 97.015 247.160922 \nz\n\" clip-path=\"url(#p45a725a746)\" style=\"fill: #4a8c77\"/>\n   </g>\n   <g id=\"patch_775\">\n    <path d=\"M 132.727 246.497632 \nL 150.583 246.497632 \nL 150.583 245.953162 \nL 132.727 245.953162 \nz\n\" clip-path=\"url(#p45a725a746)\" style=\"fill: #4a8c77\"/>\n   </g>\n   <g id=\"patch_776\">\n    <path d=\"M 168.439 36.502383 \nL 186.295 36.502383 \nL 186.295 36.470798 \nL 168.439 36.470798 \nz\n\" clip-path=\"url(#p45a725a746)\" style=\"fill: #4a8c77\"/>\n   </g>\n   <g id=\"patch_777\">\n    <path d=\"M 204.151 255.105363 \nL 222.007 255.105363 \nL 222.007 255.076786 \nL 204.151 255.076786 \nz\n\" clip-path=\"url(#p45a725a746)\" style=\"fill: #4a8c77\"/>\n   </g>\n   <g id=\"patch_778\">\n    <path d=\"M 239.863 206.25803 \nL 257.719 206.25803 \nL 257.719 204.797589 \nL 239.863 204.797589 \nz\n\" clip-path=\"url(#p45a725a746)\" style=\"fill: #4a8c77\"/>\n   </g>\n   <g id=\"patch_779\">\n    <path d=\"M 275.575 149.932516 \nL 293.431 149.932516 \nL 293.431 149.67833 \nL 275.575 149.67833 \nz\n\" clip-path=\"url(#p45a725a746)\" style=\"fill: #4a8c77\"/>\n   </g>\n   <g id=\"patch_780\">\n    <path d=\"M 311.287 249.567417 \nL 329.143 249.567417 \nL 329.143 249.29067 \nL 311.287 249.29067 \nz\n\" clip-path=\"url(#p45a725a746)\" style=\"fill: #4a8c77\"/>\n   </g>\n   <g id=\"patch_781\">\n    <path d=\"M 346.999 199.381472 \nL 364.855 199.381472 \nL 364.855 199.366431 \nL 346.999 199.366431 \nz\n\" clip-path=\"url(#p45a725a746)\" style=\"fill: #4a8c77\"/>\n   </g>\n   <g id=\"patch_782\">\n    <path d=\"M 382.711 209.924927 \nL 400.567 209.924927 \nL 400.567 208.956313 \nL 382.711 208.956313 \nz\n\" clip-path=\"url(#p45a725a746)\" style=\"fill: #4a8c77\"/>\n   </g>\n   <g id=\"patch_783\">\n    <path d=\"M 61.303 198.764807 \nL 79.159 198.764807 \nL 79.159 198.763303 \nL 61.303 198.763303 \nz\n\" clip-path=\"url(#p45a725a746)\" style=\"fill: #468571\"/>\n   </g>\n   <g id=\"patch_784\">\n    <path d=\"M 97.015 247.160922 \nL 114.871 247.160922 \nL 114.871 247.111288 \nL 97.015 247.111288 \nz\n\" clip-path=\"url(#p45a725a746)\" style=\"fill: #468571\"/>\n   </g>\n   <g id=\"patch_785\">\n    <path d=\"M 132.727 245.953162 \nL 150.583 245.953162 \nL 150.583 245.906536 \nL 132.727 245.906536 \nz\n\" clip-path=\"url(#p45a725a746)\" style=\"fill: #468571\"/>\n   </g>\n   <g id=\"patch_786\">\n    <path d=\"M 168.439 36.470798 \nL 186.295 36.470798 \nL 186.295 31.707442 \nL 168.439 31.707442 \nz\n\" clip-path=\"url(#p45a725a746)\" style=\"fill: #468571\"/>\n   </g>\n   <g id=\"patch_787\">\n    <path d=\"M 204.151 255.076786 \nL 222.007 255.076786 \nL 222.007 255.024144 \nL 204.151 255.024144 \nz\n\" clip-path=\"url(#p45a725a746)\" style=\"fill: #468571\"/>\n   </g>\n   <g id=\"patch_788\">\n    <path d=\"M 239.863 204.797589 \nL 257.719 204.797589 \nL 257.719 204.522346 \nL 239.863 204.522346 \nz\n\" clip-path=\"url(#p45a725a746)\" style=\"fill: #468571\"/>\n   </g>\n   <g id=\"patch_789\">\n    <path d=\"M 275.575 149.67833 \nL 293.431 149.67833 \nL 293.431 149.618167 \nL 275.575 149.618167 \nz\n\" clip-path=\"url(#p45a725a746)\" style=\"fill: #468571\"/>\n   </g>\n   <g id=\"patch_790\">\n    <path d=\"M 311.287 249.29067 \nL 329.143 249.29067 \nL 329.143 248.487502 \nL 311.287 248.487502 \nz\n\" clip-path=\"url(#p45a725a746)\" style=\"fill: #468571\"/>\n   </g>\n   <g id=\"patch_791\">\n    <path d=\"M 346.999 199.366431 \nL 364.855 199.366431 \nL 364.855 199.223545 \nL 346.999 199.223545 \nz\n\" clip-path=\"url(#p45a725a746)\" style=\"fill: #468571\"/>\n   </g>\n   <g id=\"patch_792\">\n    <path d=\"M 382.711 208.956313 \nL 400.567 208.956313 \nL 400.567 207.981682 \nL 382.711 207.981682 \nz\n\" clip-path=\"url(#p45a725a746)\" style=\"fill: #468571\"/>\n   </g>\n   <g id=\"patch_793\">\n    <path d=\"M 61.303 198.763303 \nL 79.159 198.763303 \nL 79.159 198.594849 \nL 61.303 198.594849 \nz\n\" clip-path=\"url(#p45a725a746)\" style=\"fill: #427d6a\"/>\n   </g>\n   <g id=\"patch_794\">\n    <path d=\"M 97.015 247.111288 \nL 114.871 247.111288 \nL 114.871 246.124625 \nL 97.015 246.124625 \nz\n\" clip-path=\"url(#p45a725a746)\" style=\"fill: #427d6a\"/>\n   </g>\n   <g id=\"patch_795\">\n    <path d=\"M 132.727 245.906536 \nL 150.583 245.906536 \nL 150.583 245.894504 \nL 132.727 245.894504 \nz\n\" clip-path=\"url(#p45a725a746)\" style=\"fill: #427d6a\"/>\n   </g>\n   <g id=\"patch_796\">\n    <path d=\"M 168.439 31.707442 \nL 186.295 31.707442 \nL 186.295 30.410943 \nL 168.439 30.410943 \nz\n\" clip-path=\"url(#p45a725a746)\" style=\"fill: #427d6a\"/>\n   </g>\n   <g id=\"patch_797\">\n    <path d=\"M 204.151 255.024144 \nL 222.007 255.024144 \nL 222.007 255.006095 \nL 204.151 255.006095 \nz\n\" clip-path=\"url(#p45a725a746)\" style=\"fill: #427d6a\"/>\n   </g>\n   <g id=\"patch_798\">\n    <path d=\"M 239.863 204.522346 \nL 257.719 204.522346 \nL 257.719 203.877105 \nL 239.863 203.877105 \nz\n\" clip-path=\"url(#p45a725a746)\" style=\"fill: #427d6a\"/>\n   </g>\n   <g id=\"patch_799\">\n    <path d=\"M 275.575 273.312 \nL 293.431 273.312 \nL 293.431 273.312 \nL 275.575 273.312 \nz\n\" clip-path=\"url(#p45a725a746)\" style=\"fill: #427d6a\"/>\n   </g>\n   <g id=\"patch_800\">\n    <path d=\"M 311.287 248.487502 \nL 329.143 248.487502 \nL 329.143 247.718928 \nL 311.287 247.718928 \nz\n\" clip-path=\"url(#p45a725a746)\" style=\"fill: #427d6a\"/>\n   </g>\n   <g id=\"patch_801\">\n    <path d=\"M 346.999 199.223545 \nL 364.855 199.223545 \nL 364.855 199.216025 \nL 346.999 199.216025 \nz\n\" clip-path=\"url(#p45a725a746)\" style=\"fill: #427d6a\"/>\n   </g>\n   <g id=\"patch_802\">\n    <path d=\"M 382.711 207.981682 \nL 400.567 207.981682 \nL 400.567 206.703232 \nL 382.711 206.703232 \nz\n\" clip-path=\"url(#p45a725a746)\" style=\"fill: #427d6a\"/>\n   </g>\n   <g id=\"patch_803\">\n    <path d=\"M 61.303 198.594849 \nL 79.159 198.594849 \nL 79.159 198.578304 \nL 61.303 198.578304 \nz\n\" clip-path=\"url(#p45a725a746)\" style=\"fill: #3288bd\"/>\n   </g>\n   <g id=\"patch_804\">\n    <path d=\"M 97.015 246.124625 \nL 114.871 246.124625 \nL 114.871 245.808773 \nL 97.015 245.808773 \nz\n\" clip-path=\"url(#p45a725a746)\" style=\"fill: #3288bd\"/>\n   </g>\n   <g id=\"patch_805\">\n    <path d=\"M 132.727 245.894504 \nL 150.583 245.894504 \nL 150.583 245.617757 \nL 132.727 245.617757 \nz\n\" clip-path=\"url(#p45a725a746)\" style=\"fill: #3288bd\"/>\n   </g>\n   <g id=\"patch_806\">\n    <path d=\"M 168.439 30.410943 \nL 186.295 30.410943 \nL 186.295 30.015376 \nL 168.439 30.015376 \nz\n\" clip-path=\"url(#p45a725a746)\" style=\"fill: #3288bd\"/>\n   </g>\n   <g id=\"patch_807\">\n    <path d=\"M 204.151 255.006095 \nL 222.007 255.006095 \nL 222.007 254.775974 \nL 204.151 254.775974 \nz\n\" clip-path=\"url(#p45a725a746)\" style=\"fill: #3288bd\"/>\n   </g>\n   <g id=\"patch_808\">\n    <path d=\"M 239.863 203.877105 \nL 257.719 203.877105 \nL 257.719 203.461984 \nL 239.863 203.461984 \nz\n\" clip-path=\"url(#p45a725a746)\" style=\"fill: #3288bd\"/>\n   </g>\n   <g id=\"patch_809\">\n    <path d=\"M 275.575 149.618167 \nL 293.431 149.618167 \nL 293.431 149.609143 \nL 275.575 149.609143 \nz\n\" clip-path=\"url(#p45a725a746)\" style=\"fill: #3288bd\"/>\n   </g>\n   <g id=\"patch_810\">\n    <path d=\"M 311.287 247.718928 \nL 329.143 247.718928 \nL 329.143 244.719834 \nL 311.287 244.719834 \nz\n\" clip-path=\"url(#p45a725a746)\" style=\"fill: #3288bd\"/>\n   </g>\n   <g id=\"patch_811\">\n    <path d=\"M 346.999 199.216025 \nL 364.855 199.216025 \nL 364.855 198.647491 \nL 346.999 198.647491 \nz\n\" clip-path=\"url(#p45a725a746)\" style=\"fill: #3288bd\"/>\n   </g>\n   <g id=\"patch_812\">\n    <path d=\"M 382.711 206.703232 \nL 400.567 206.703232 \nL 400.567 206.065511 \nL 382.711 206.065511 \nz\n\" clip-path=\"url(#p45a725a746)\" style=\"fill: #3288bd\"/>\n   </g>\n   <g id=\"patch_813\">\n    <path d=\"M 61.303 198.578304 \nL 79.159 198.578304 \nL 79.159 198.354199 \nL 61.303 198.354199 \nz\n\" clip-path=\"url(#p45a725a746)\" style=\"fill: #3082b5\"/>\n   </g>\n   <g id=\"patch_814\">\n    <path d=\"M 97.015 245.808773 \nL 114.871 245.808773 \nL 114.871 244.751419 \nL 97.015 244.751419 \nz\n\" clip-path=\"url(#p45a725a746)\" style=\"fill: #3082b5\"/>\n   </g>\n   <g id=\"patch_815\">\n    <path d=\"M 132.727 245.617757 \nL 150.583 245.617757 \nL 150.583 245.354547 \nL 132.727 245.354547 \nz\n\" clip-path=\"url(#p45a725a746)\" style=\"fill: #3082b5\"/>\n   </g>\n   <g id=\"patch_816\">\n    <path d=\"M 168.439 30.015376 \nL 186.295 30.015376 \nL 186.295 29.066314 \nL 168.439 29.066314 \nz\n\" clip-path=\"url(#p45a725a746)\" style=\"fill: #3082b5\"/>\n   </g>\n   <g id=\"patch_817\">\n    <path d=\"M 204.151 254.775974 \nL 222.007 254.775974 \nL 222.007 254.709795 \nL 204.151 254.709795 \nz\n\" clip-path=\"url(#p45a725a746)\" style=\"fill: #3082b5\"/>\n   </g>\n   <g id=\"patch_818\">\n    <path d=\"M 239.863 203.461984 \nL 257.719 203.461984 \nL 257.719 202.79719 \nL 239.863 202.79719 \nz\n\" clip-path=\"url(#p45a725a746)\" style=\"fill: #3082b5\"/>\n   </g>\n   <g id=\"patch_819\">\n    <path d=\"M 275.575 149.609143 \nL 293.431 149.609143 \nL 293.431 148.911259 \nL 275.575 148.911259 \nz\n\" clip-path=\"url(#p45a725a746)\" style=\"fill: #3082b5\"/>\n   </g>\n   <g id=\"patch_820\">\n    <path d=\"M 311.287 244.719834 \nL 329.143 244.719834 \nL 329.143 241.94334 \nL 311.287 241.94334 \nz\n\" clip-path=\"url(#p45a725a746)\" style=\"fill: #3082b5\"/>\n   </g>\n   <g id=\"patch_821\">\n    <path d=\"M 346.999 198.647491 \nL 364.855 198.647491 \nL 364.855 198.373752 \nL 346.999 198.373752 \nz\n\" clip-path=\"url(#p45a725a746)\" style=\"fill: #3082b5\"/>\n   </g>\n   <g id=\"patch_822\">\n    <path d=\"M 382.711 206.065511 \nL 400.567 206.065511 \nL 400.567 205.820349 \nL 382.711 205.820349 \nz\n\" clip-path=\"url(#p45a725a746)\" style=\"fill: #3082b5\"/>\n   </g>\n   <g id=\"patch_823\">\n    <path d=\"M 61.303 198.354199 \nL 79.159 198.354199 \nL 79.159 198.292533 \nL 61.303 198.292533 \nz\n\" clip-path=\"url(#p45a725a746)\" style=\"fill: #2e7dae\"/>\n   </g>\n   <g id=\"patch_824\">\n    <path d=\"M 97.015 244.751419 \nL 114.871 244.751419 \nL 114.871 244.62207 \nL 97.015 244.62207 \nz\n\" clip-path=\"url(#p45a725a746)\" style=\"fill: #2e7dae\"/>\n   </g>\n   <g id=\"patch_825\">\n    <path d=\"M 132.727 245.354547 \nL 150.583 245.354547 \nL 150.583 244.095649 \nL 132.727 244.095649 \nz\n\" clip-path=\"url(#p45a725a746)\" style=\"fill: #2e7dae\"/>\n   </g>\n   <g id=\"patch_826\">\n    <path d=\"M 168.439 29.066314 \nL 186.295 29.066314 \nL 186.295 27.249411 \nL 168.439 27.249411 \nz\n\" clip-path=\"url(#p45a725a746)\" style=\"fill: #2e7dae\"/>\n   </g>\n   <g id=\"patch_827\">\n    <path d=\"M 204.151 254.709795 \nL 222.007 254.709795 \nL 222.007 254.688738 \nL 204.151 254.688738 \nz\n\" clip-path=\"url(#p45a725a746)\" style=\"fill: #2e7dae\"/>\n   </g>\n   <g id=\"patch_828\">\n    <path d=\"M 239.863 202.79719 \nL 257.719 202.79719 \nL 257.719 202.580606 \nL 239.863 202.580606 \nz\n\" clip-path=\"url(#p45a725a746)\" style=\"fill: #2e7dae\"/>\n   </g>\n   <g id=\"patch_829\">\n    <path d=\"M 275.575 148.911259 \nL 293.431 148.911259 \nL 293.431 148.903739 \nL 275.575 148.903739 \nz\n\" clip-path=\"url(#p45a725a746)\" style=\"fill: #2e7dae\"/>\n   </g>\n   <g id=\"patch_830\">\n    <path d=\"M 311.287 241.94334 \nL 329.143 241.94334 \nL 329.143 239.485707 \nL 311.287 239.485707 \nz\n\" clip-path=\"url(#p45a725a746)\" style=\"fill: #2e7dae\"/>\n   </g>\n   <g id=\"patch_831\">\n    <path d=\"M 346.999 198.373752 \nL 364.855 198.373752 \nL 364.855 197.711966 \nL 346.999 197.711966 \nz\n\" clip-path=\"url(#p45a725a746)\" style=\"fill: #2e7dae\"/>\n   </g>\n   <g id=\"patch_832\">\n    <path d=\"M 382.711 205.820349 \nL 400.567 205.820349 \nL 400.567 205.639862 \nL 382.711 205.639862 \nz\n\" clip-path=\"url(#p45a725a746)\" style=\"fill: #2e7dae\"/>\n   </g>\n   <g id=\"patch_833\">\n    <path d=\"M 61.303 198.292533 \nL 79.159 198.292533 \nL 79.159 198.289525 \nL 61.303 198.289525 \nz\n\" clip-path=\"url(#p45a725a746)\" style=\"fill: #2c77a6\"/>\n   </g>\n   <g id=\"patch_834\">\n    <path d=\"M 97.015 244.62207 \nL 114.871 244.62207 \nL 114.871 244.498737 \nL 97.015 244.498737 \nz\n\" clip-path=\"url(#p45a725a746)\" style=\"fill: #2c77a6\"/>\n   </g>\n   <g id=\"patch_835\">\n    <path d=\"M 132.727 244.095649 \nL 150.583 244.095649 \nL 150.583 243.91817 \nL 132.727 243.91817 \nz\n\" clip-path=\"url(#p45a725a746)\" style=\"fill: #2c77a6\"/>\n   </g>\n   <g id=\"patch_836\">\n    <path d=\"M 168.439 27.249411 \nL 186.295 27.249411 \nL 186.295 27.18624 \nL 168.439 27.18624 \nz\n\" clip-path=\"url(#p45a725a746)\" style=\"fill: #2c77a6\"/>\n   </g>\n   <g id=\"patch_837\">\n    <path d=\"M 204.151 254.688738 \nL 222.007 254.688738 \nL 222.007 254.67821 \nL 204.151 254.67821 \nz\n\" clip-path=\"url(#p45a725a746)\" style=\"fill: #2c77a6\"/>\n   </g>\n   <g id=\"patch_838\">\n    <path d=\"M 239.863 202.580606 \nL 257.719 202.580606 \nL 257.719 202.509915 \nL 239.863 202.509915 \nz\n\" clip-path=\"url(#p45a725a746)\" style=\"fill: #2c77a6\"/>\n   </g>\n   <g id=\"patch_839\">\n    <path d=\"M 275.575 148.903739 \nL 293.431 148.903739 \nL 293.431 148.845081 \nL 275.575 148.845081 \nz\n\" clip-path=\"url(#p45a725a746)\" style=\"fill: #2c77a6\"/>\n   </g>\n   <g id=\"patch_840\">\n    <path d=\"M 311.287 239.485707 \nL 329.143 239.485707 \nL 329.143 239.365383 \nL 311.287 239.365383 \nz\n\" clip-path=\"url(#p45a725a746)\" style=\"fill: #2c77a6\"/>\n   </g>\n   <g id=\"patch_841\">\n    <path d=\"M 346.999 197.711966 \nL 364.855 197.711966 \nL 364.855 197.220138 \nL 346.999 197.220138 \nz\n\" clip-path=\"url(#p45a725a746)\" style=\"fill: #2c77a6\"/>\n   </g>\n   <g id=\"patch_842\">\n    <path d=\"M 382.711 205.639862 \nL 400.567 205.639862 \nL 400.567 205.403725 \nL 382.711 205.403725 \nz\n\" clip-path=\"url(#p45a725a746)\" style=\"fill: #2c77a6\"/>\n   </g>\n   <g id=\"patch_843\">\n    <path d=\"M 61.303 198.289525 \nL 79.159 198.289525 \nL 79.159 198.286516 \nL 61.303 198.286516 \nz\n\" clip-path=\"url(#p45a725a746)\" style=\"fill: #2a729e\"/>\n   </g>\n   <g id=\"patch_844\">\n    <path d=\"M 97.015 244.498737 \nL 114.871 244.498737 \nL 114.871 244.091137 \nL 97.015 244.091137 \nz\n\" clip-path=\"url(#p45a725a746)\" style=\"fill: #2a729e\"/>\n   </g>\n   <g id=\"patch_845\">\n    <path d=\"M 132.727 243.91817 \nL 150.583 243.91817 \nL 150.583 243.585773 \nL 132.727 243.585773 \nz\n\" clip-path=\"url(#p45a725a746)\" style=\"fill: #2a729e\"/>\n   </g>\n   <g id=\"patch_846\">\n    <path d=\"M 168.439 27.18624 \nL 186.295 27.18624 \nL 186.295 25.665636 \nL 168.439 25.665636 \nz\n\" clip-path=\"url(#p45a725a746)\" style=\"fill: #2a729e\"/>\n   </g>\n   <g id=\"patch_847\">\n    <path d=\"M 204.151 254.67821 \nL 222.007 254.67821 \nL 222.007 254.675202 \nL 204.151 254.675202 \nz\n\" clip-path=\"url(#p45a725a746)\" style=\"fill: #2a729e\"/>\n   </g>\n   <g id=\"patch_848\">\n    <path d=\"M 239.863 202.509915 \nL 257.719 202.509915 \nL 257.719 202.422679 \nL 239.863 202.422679 \nz\n\" clip-path=\"url(#p45a725a746)\" style=\"fill: #2a729e\"/>\n   </g>\n   <g id=\"patch_849\">\n    <path d=\"M 275.575 148.845081 \nL 293.431 148.845081 \nL 293.431 148.798455 \nL 275.575 148.798455 \nz\n\" clip-path=\"url(#p45a725a746)\" style=\"fill: #2a729e\"/>\n   </g>\n   <g id=\"patch_850\">\n    <path d=\"M 311.287 239.365383 \nL 329.143 239.365383 \nL 329.143 238.912661 \nL 311.287 238.912661 \nz\n\" clip-path=\"url(#p45a725a746)\" style=\"fill: #2a729e\"/>\n   </g>\n   <g id=\"patch_851\">\n    <path d=\"M 346.999 197.220138 \nL 364.855 197.220138 \nL 364.855 197.087781 \nL 346.999 197.087781 \nz\n\" clip-path=\"url(#p45a725a746)\" style=\"fill: #2a729e\"/>\n   </g>\n   <g id=\"patch_852\">\n    <path d=\"M 382.711 205.403725 \nL 400.567 205.403725 \nL 400.567 205.337546 \nL 382.711 205.337546 \nz\n\" clip-path=\"url(#p45a725a746)\" style=\"fill: #2a729e\"/>\n   </g>\n   <g id=\"patch_853\">\n    <path d=\"M 61.303 273.312 \nL 79.159 273.312 \nL 79.159 273.312 \nL 61.303 273.312 \nz\n\" clip-path=\"url(#p45a725a746)\" style=\"fill: #286c97\"/>\n   </g>\n   <g id=\"patch_854\">\n    <path d=\"M 97.015 244.091137 \nL 114.871 244.091137 \nL 114.871 243.844471 \nL 97.015 243.844471 \nz\n\" clip-path=\"url(#p45a725a746)\" style=\"fill: #286c97\"/>\n   </g>\n   <g id=\"patch_855\">\n    <path d=\"M 132.727 243.585773 \nL 150.583 243.585773 \nL 150.583 243.385733 \nL 132.727 243.385733 \nz\n\" clip-path=\"url(#p45a725a746)\" style=\"fill: #286c97\"/>\n   </g>\n   <g id=\"patch_856\">\n    <path d=\"M 168.439 25.665636 \nL 186.295 25.665636 \nL 186.295 25.316694 \nL 168.439 25.316694 \nz\n\" clip-path=\"url(#p45a725a746)\" style=\"fill: #286c97\"/>\n   </g>\n   <g id=\"patch_857\">\n    <path d=\"M 204.151 254.675202 \nL 222.007 254.675202 \nL 222.007 254.621056 \nL 204.151 254.621056 \nz\n\" clip-path=\"url(#p45a725a746)\" style=\"fill: #286c97\"/>\n   </g>\n   <g id=\"patch_858\">\n    <path d=\"M 239.863 202.422679 \nL 257.719 202.422679 \nL 257.719 202.398614 \nL 239.863 202.398614 \nz\n\" clip-path=\"url(#p45a725a746)\" style=\"fill: #286c97\"/>\n   </g>\n   <g id=\"patch_859\">\n    <path d=\"M 275.575 148.798455 \nL 293.431 148.798455 \nL 293.431 148.784918 \nL 275.575 148.784918 \nz\n\" clip-path=\"url(#p45a725a746)\" style=\"fill: #286c97\"/>\n   </g>\n   <g id=\"patch_860\">\n    <path d=\"M 311.287 238.912661 \nL 329.143 238.912661 \nL 329.143 238.736686 \nL 311.287 238.736686 \nz\n\" clip-path=\"url(#p45a725a746)\" style=\"fill: #286c97\"/>\n   </g>\n   <g id=\"patch_861\">\n    <path d=\"M 346.999 197.087781 \nL 364.855 197.087781 \nL 364.855 196.965952 \nL 346.999 196.965952 \nz\n\" clip-path=\"url(#p45a725a746)\" style=\"fill: #286c97\"/>\n   </g>\n   <g id=\"patch_862\">\n    <path d=\"M 382.711 205.337546 \nL 400.567 205.337546 \nL 400.567 205.018686 \nL 382.711 205.018686 \nz\n\" clip-path=\"url(#p45a725a746)\" style=\"fill: #286c97\"/>\n   </g>\n   <g id=\"patch_863\">\n    <path d=\"M 61.303 198.286516 \nL 79.159 198.286516 \nL 79.159 198.278996 \nL 61.303 198.278996 \nz\n\" clip-path=\"url(#p45a725a746)\" style=\"fill: #26678f\"/>\n   </g>\n   <g id=\"patch_864\">\n    <path d=\"M 97.015 243.844471 \nL 114.871 243.844471 \nL 114.871 243.650448 \nL 97.015 243.650448 \nz\n\" clip-path=\"url(#p45a725a746)\" style=\"fill: #26678f\"/>\n   </g>\n   <g id=\"patch_865\">\n    <path d=\"M 132.727 243.385733 \nL 150.583 243.385733 \nL 150.583 243.202238 \nL 132.727 243.202238 \nz\n\" clip-path=\"url(#p45a725a746)\" style=\"fill: #26678f\"/>\n   </g>\n   <g id=\"patch_866\">\n    <path d=\"M 168.439 25.316694 \nL 186.295 25.316694 \nL 186.295 25.227955 \nL 168.439 25.227955 \nz\n\" clip-path=\"url(#p45a725a746)\" style=\"fill: #26678f\"/>\n   </g>\n   <g id=\"patch_867\">\n    <path d=\"M 204.151 273.312 \nL 222.007 273.312 \nL 222.007 273.312 \nL 204.151 273.312 \nz\n\" clip-path=\"url(#p45a725a746)\" style=\"fill: #26678f\"/>\n   </g>\n   <g id=\"patch_868\">\n    <path d=\"M 239.863 202.398614 \nL 257.719 202.398614 \nL 257.719 202.394102 \nL 239.863 202.394102 \nz\n\" clip-path=\"url(#p45a725a746)\" style=\"fill: #26678f\"/>\n   </g>\n   <g id=\"patch_869\">\n    <path d=\"M 275.575 148.784918 \nL 293.431 148.784918 \nL 293.431 148.413416 \nL 275.575 148.413416 \nz\n\" clip-path=\"url(#p45a725a746)\" style=\"fill: #26678f\"/>\n   </g>\n   <g id=\"patch_870\">\n    <path d=\"M 311.287 238.736686 \nL 329.143 238.736686 \nL 329.143 238.317053 \nL 311.287 238.317053 \nz\n\" clip-path=\"url(#p45a725a746)\" style=\"fill: #26678f\"/>\n   </g>\n   <g id=\"patch_871\">\n    <path d=\"M 346.999 196.965952 \nL 364.855 196.965952 \nL 364.855 196.947904 \nL 346.999 196.947904 \nz\n\" clip-path=\"url(#p45a725a746)\" style=\"fill: #26678f\"/>\n   </g>\n   <g id=\"patch_872\">\n    <path d=\"M 382.711 205.018686 \nL 400.567 205.018686 \nL 400.567 204.502793 \nL 382.711 204.502793 \nz\n\" clip-path=\"url(#p45a725a746)\" style=\"fill: #26678f\"/>\n   </g>\n   <g id=\"patch_873\">\n    <path d=\"M 61.303 198.278996 \nL 79.159 198.278996 \nL 79.159 198.275988 \nL 61.303 198.275988 \nz\n\" clip-path=\"url(#p45a725a746)\" style=\"fill: #246187\"/>\n   </g>\n   <g id=\"patch_874\">\n    <path d=\"M 97.015 243.650448 \nL 114.871 243.650448 \nL 114.871 243.593293 \nL 97.015 243.593293 \nz\n\" clip-path=\"url(#p45a725a746)\" style=\"fill: #246187\"/>\n   </g>\n   <g id=\"patch_875\">\n    <path d=\"M 132.727 243.202238 \nL 150.583 243.202238 \nL 150.583 243.086425 \nL 132.727 243.086425 \nz\n\" clip-path=\"url(#p45a725a746)\" style=\"fill: #246187\"/>\n   </g>\n   <g id=\"patch_876\">\n    <path d=\"M 168.439 25.227955 \nL 186.295 25.227955 \nL 186.295 24.645884 \nL 168.439 24.645884 \nz\n\" clip-path=\"url(#p45a725a746)\" style=\"fill: #246187\"/>\n   </g>\n   <g id=\"patch_877\">\n    <path d=\"M 204.151 254.621056 \nL 222.007 254.621056 \nL 222.007 254.562397 \nL 204.151 254.562397 \nz\n\" clip-path=\"url(#p45a725a746)\" style=\"fill: #246187\"/>\n   </g>\n   <g id=\"patch_878\">\n    <path d=\"M 239.863 202.394102 \nL 257.719 202.394102 \nL 257.719 202.374549 \nL 239.863 202.374549 \nz\n\" clip-path=\"url(#p45a725a746)\" style=\"fill: #246187\"/>\n   </g>\n   <g id=\"patch_879\">\n    <path d=\"M 275.575 148.413416 \nL 293.431 148.413416 \nL 293.431 148.381831 \nL 275.575 148.381831 \nz\n\" clip-path=\"url(#p45a725a746)\" style=\"fill: #246187\"/>\n   </g>\n   <g id=\"patch_880\">\n    <path d=\"M 311.287 238.317053 \nL 329.143 238.317053 \nL 329.143 238.092949 \nL 311.287 238.092949 \nz\n\" clip-path=\"url(#p45a725a746)\" style=\"fill: #246187\"/>\n   </g>\n   <g id=\"patch_881\">\n    <path d=\"M 346.999 196.947904 \nL 364.855 196.947904 \nL 364.855 196.926847 \nL 346.999 196.926847 \nz\n\" clip-path=\"url(#p45a725a746)\" style=\"fill: #246187\"/>\n   </g>\n   <g id=\"patch_882\">\n    <path d=\"M 382.711 204.502793 \nL 400.567 204.502793 \nL 400.567 204.433607 \nL 382.711 204.433607 \nz\n\" clip-path=\"url(#p45a725a746)\" style=\"fill: #246187\"/>\n   </g>\n   <g id=\"patch_883\">\n    <path d=\"M 61.303 273.312 \nL 79.159 273.312 \nL 79.159 273.312 \nL 61.303 273.312 \nz\n\" clip-path=\"url(#p45a725a746)\" style=\"fill: #225c80\"/>\n   </g>\n   <g id=\"patch_884\">\n    <path d=\"M 97.015 243.593293 \nL 114.871 243.593293 \nL 114.871 243.491017 \nL 97.015 243.491017 \nz\n\" clip-path=\"url(#p45a725a746)\" style=\"fill: #225c80\"/>\n   </g>\n   <g id=\"patch_885\">\n    <path d=\"M 132.727 243.086425 \nL 150.583 243.086425 \nL 150.583 243.078905 \nL 132.727 243.078905 \nz\n\" clip-path=\"url(#p45a725a746)\" style=\"fill: #225c80\"/>\n   </g>\n   <g id=\"patch_886\">\n    <path d=\"M 168.439 24.645884 \nL 186.295 24.645884 \nL 186.295 23.674262 \nL 168.439 23.674262 \nz\n\" clip-path=\"url(#p45a725a746)\" style=\"fill: #225c80\"/>\n   </g>\n   <g id=\"patch_887\">\n    <path d=\"M 204.151 254.562397 \nL 222.007 254.562397 \nL 222.007 254.524796 \nL 204.151 254.524796 \nz\n\" clip-path=\"url(#p45a725a746)\" style=\"fill: #225c80\"/>\n   </g>\n   <g id=\"patch_888\">\n    <path d=\"M 239.863 202.374549 \nL 257.719 202.374549 \nL 257.719 202.344468 \nL 239.863 202.344468 \nz\n\" clip-path=\"url(#p45a725a746)\" style=\"fill: #225c80\"/>\n   </g>\n   <g id=\"patch_889\">\n    <path d=\"M 275.575 148.381831 \nL 293.431 148.381831 \nL 293.431 148.290083 \nL 275.575 148.290083 \nz\n\" clip-path=\"url(#p45a725a746)\" style=\"fill: #225c80\"/>\n   </g>\n   <g id=\"patch_890\">\n    <path d=\"M 311.287 238.092949 \nL 329.143 238.092949 \nL 329.143 237.935022 \nL 311.287 237.935022 \nz\n\" clip-path=\"url(#p45a725a746)\" style=\"fill: #225c80\"/>\n   </g>\n   <g id=\"patch_891\">\n    <path d=\"M 346.999 196.926847 \nL 364.855 196.926847 \nL 364.855 196.829083 \nL 346.999 196.829083 \nz\n\" clip-path=\"url(#p45a725a746)\" style=\"fill: #225c80\"/>\n   </g>\n   <g id=\"patch_892\">\n    <path d=\"M 382.711 204.433607 \nL 400.567 204.433607 \nL 400.567 204.402021 \nL 382.711 204.402021 \nz\n\" clip-path=\"url(#p45a725a746)\" style=\"fill: #225c80\"/>\n   </g>\n   <g id=\"patch_893\">\n    <path d=\"M 61.303 198.275988 \nL 79.159 198.275988 \nL 79.159 198.253427 \nL 61.303 198.253427 \nz\n\" clip-path=\"url(#p45a725a746)\" style=\"fill: #205678\"/>\n   </g>\n   <g id=\"patch_894\">\n    <path d=\"M 97.015 243.491017 \nL 114.871 243.491017 \nL 114.871 243.133051 \nL 97.015 243.133051 \nz\n\" clip-path=\"url(#p45a725a746)\" style=\"fill: #205678\"/>\n   </g>\n   <g id=\"patch_895\">\n    <path d=\"M 132.727 243.078905 \nL 150.583 243.078905 \nL 150.583 242.444192 \nL 132.727 242.444192 \nz\n\" clip-path=\"url(#p45a725a746)\" style=\"fill: #205678\"/>\n   </g>\n   <g id=\"patch_896\">\n    <path d=\"M 168.439 23.674262 \nL 186.295 23.674262 \nL 186.295 23.605075 \nL 168.439 23.605075 \nz\n\" clip-path=\"url(#p45a725a746)\" style=\"fill: #205678\"/>\n   </g>\n   <g id=\"patch_897\">\n    <path d=\"M 204.151 254.524796 \nL 222.007 254.524796 \nL 222.007 254.494715 \nL 204.151 254.494715 \nz\n\" clip-path=\"url(#p45a725a746)\" style=\"fill: #205678\"/>\n   </g>\n   <g id=\"patch_898\">\n    <path d=\"M 239.863 202.344468 \nL 257.719 202.344468 \nL 257.719 202.23768 \nL 239.863 202.23768 \nz\n\" clip-path=\"url(#p45a725a746)\" style=\"fill: #205678\"/>\n   </g>\n   <g id=\"patch_899\">\n    <path d=\"M 275.575 273.312 \nL 293.431 273.312 \nL 293.431 273.312 \nL 275.575 273.312 \nz\n\" clip-path=\"url(#p45a725a746)\" style=\"fill: #205678\"/>\n   </g>\n   <g id=\"patch_900\">\n    <path d=\"M 311.287 237.935022 \nL 329.143 237.935022 \nL 329.143 237.901933 \nL 311.287 237.901933 \nz\n\" clip-path=\"url(#p45a725a746)\" style=\"fill: #205678\"/>\n   </g>\n   <g id=\"patch_901\">\n    <path d=\"M 346.999 196.829083 \nL 364.855 196.829083 \nL 364.855 196.741848 \nL 346.999 196.741848 \nz\n\" clip-path=\"url(#p45a725a746)\" style=\"fill: #205678\"/>\n   </g>\n   <g id=\"patch_902\">\n    <path d=\"M 382.711 204.402021 \nL 400.567 204.402021 \nL 400.567 204.340355 \nL 382.711 204.340355 \nz\n\" clip-path=\"url(#p45a725a746)\" style=\"fill: #205678\"/>\n   </g>\n   <g id=\"patch_903\">\n    <path d=\"M 61.303 198.253427 \nL 79.159 198.253427 \nL 79.159 198.236882 \nL 61.303 198.236882 \nz\n\" clip-path=\"url(#p45a725a746)\" style=\"fill: #5e4fa2\"/>\n   </g>\n   <g id=\"patch_904\">\n    <path d=\"M 97.015 243.133051 \nL 114.871 243.133051 \nL 114.871 242.362973 \nL 97.015 242.362973 \nz\n\" clip-path=\"url(#p45a725a746)\" style=\"fill: #5e4fa2\"/>\n   </g>\n   <g id=\"patch_905\">\n    <path d=\"M 132.727 242.444192 \nL 150.583 242.444192 \nL 150.583 242.319355 \nL 132.727 242.319355 \nz\n\" clip-path=\"url(#p45a725a746)\" style=\"fill: #5e4fa2\"/>\n   </g>\n   <g id=\"patch_906\">\n    <path d=\"M 168.439 23.605075 \nL 186.295 23.605075 \nL 186.295 23.493775 \nL 168.439 23.493775 \nz\n\" clip-path=\"url(#p45a725a746)\" style=\"fill: #5e4fa2\"/>\n   </g>\n   <g id=\"patch_907\">\n    <path d=\"M 204.151 254.494715 \nL 222.007 254.494715 \nL 222.007 254.455609 \nL 204.151 254.455609 \nz\n\" clip-path=\"url(#p45a725a746)\" style=\"fill: #5e4fa2\"/>\n   </g>\n   <g id=\"patch_908\">\n    <path d=\"M 239.863 202.23768 \nL 257.719 202.23768 \nL 257.719 201.929348 \nL 239.863 201.929348 \nz\n\" clip-path=\"url(#p45a725a746)\" style=\"fill: #5e4fa2\"/>\n   </g>\n   <g id=\"patch_909\">\n    <path d=\"M 275.575 148.290083 \nL 293.431 148.290083 \nL 293.431 147.880979 \nL 275.575 147.880979 \nz\n\" clip-path=\"url(#p45a725a746)\" style=\"fill: #5e4fa2\"/>\n   </g>\n   <g id=\"patch_910\">\n    <path d=\"M 311.287 237.901933 \nL 329.143 237.901933 \nL 329.143 237.647747 \nL 311.287 237.647747 \nz\n\" clip-path=\"url(#p45a725a746)\" style=\"fill: #5e4fa2\"/>\n   </g>\n   <g id=\"patch_911\">\n    <path d=\"M 346.999 196.741848 \nL 364.855 196.741848 \nL 364.855 196.710262 \nL 346.999 196.710262 \nz\n\" clip-path=\"url(#p45a725a746)\" style=\"fill: #5e4fa2\"/>\n   </g>\n   <g id=\"patch_912\">\n    <path d=\"M 382.711 204.340355 \nL 400.567 204.340355 \nL 400.567 204.328322 \nL 382.711 204.328322 \nz\n\" clip-path=\"url(#p45a725a746)\" style=\"fill: #5e4fa2\"/>\n   </g>\n   <g id=\"patch_913\">\n    <path d=\"M 61.303 198.236882 \nL 79.159 198.236882 \nL 79.159 198.074444 \nL 61.303 198.074444 \nz\n\" clip-path=\"url(#p45a725a746)\" style=\"fill: #5a4b9a\"/>\n   </g>\n   <g id=\"patch_914\">\n    <path d=\"M 97.015 242.362973 \nL 114.871 242.362973 \nL 114.871 241.632 \nL 97.015 241.632 \nz\n\" clip-path=\"url(#p45a725a746)\" style=\"fill: #5a4b9a\"/>\n   </g>\n   <g id=\"patch_915\">\n    <path d=\"M 132.727 242.319355 \nL 150.583 242.319355 \nL 150.583 241.705699 \nL 132.727 241.705699 \nz\n\" clip-path=\"url(#p45a725a746)\" style=\"fill: #5a4b9a\"/>\n   </g>\n   <g id=\"patch_916\">\n    <path d=\"M 168.439 23.493775 \nL 186.295 23.493775 \nL 186.295 23.066622 \nL 168.439 23.066622 \nz\n\" clip-path=\"url(#p45a725a746)\" style=\"fill: #5a4b9a\"/>\n   </g>\n   <g id=\"patch_917\">\n    <path d=\"M 204.151 254.455609 \nL 222.007 254.455609 \nL 222.007 253.715612 \nL 204.151 253.715612 \nz\n\" clip-path=\"url(#p45a725a746)\" style=\"fill: #5a4b9a\"/>\n   </g>\n   <g id=\"patch_918\">\n    <path d=\"M 239.863 201.929348 \nL 257.719 201.929348 \nL 257.719 201.141221 \nL 239.863 201.141221 \nz\n\" clip-path=\"url(#p45a725a746)\" style=\"fill: #5a4b9a\"/>\n   </g>\n   <g id=\"patch_919\">\n    <path d=\"M 275.575 147.880979 \nL 293.431 147.880979 \nL 293.431 147.777199 \nL 275.575 147.777199 \nz\n\" clip-path=\"url(#p45a725a746)\" style=\"fill: #5a4b9a\"/>\n   </g>\n   <g id=\"patch_920\">\n    <path d=\"M 311.287 237.647747 \nL 329.143 237.647747 \nL 329.143 228.268434 \nL 311.287 228.268434 \nz\n\" clip-path=\"url(#p45a725a746)\" style=\"fill: #5a4b9a\"/>\n   </g>\n   <g id=\"patch_921\">\n    <path d=\"M 346.999 196.710262 \nL 364.855 196.710262 \nL 364.855 194.266166 \nL 346.999 194.266166 \nz\n\" clip-path=\"url(#p45a725a746)\" style=\"fill: #5a4b9a\"/>\n   </g>\n   <g id=\"patch_922\">\n    <path d=\"M 382.711 204.328322 \nL 400.567 204.328322 \nL 400.567 204.314786 \nL 382.711 204.314786 \nz\n\" clip-path=\"url(#p45a725a746)\" style=\"fill: #5a4b9a\"/>\n   </g>\n   <g id=\"patch_923\">\n    <path d=\"M 61.303 198.074444 \nL 79.159 198.074444 \nL 79.159 198.071436 \nL 61.303 198.071436 \nz\n\" clip-path=\"url(#p45a725a746)\" style=\"fill: #554893\"/>\n   </g>\n   <g id=\"patch_924\">\n    <path d=\"M 97.015 241.632 \nL 114.871 241.632 \nL 114.871 240.797247 \nL 97.015 240.797247 \nz\n\" clip-path=\"url(#p45a725a746)\" style=\"fill: #554893\"/>\n   </g>\n   <g id=\"patch_925\">\n    <path d=\"M 132.727 241.705699 \nL 150.583 241.705699 \nL 150.583 241.32066 \nL 132.727 241.32066 \nz\n\" clip-path=\"url(#p45a725a746)\" style=\"fill: #554893\"/>\n   </g>\n   <g id=\"patch_926\">\n    <path d=\"M 168.439 23.066622 \nL 186.295 23.066622 \nL 186.295 22.860566 \nL 168.439 22.860566 \nz\n\" clip-path=\"url(#p45a725a746)\" style=\"fill: #554893\"/>\n   </g>\n   <g id=\"patch_927\">\n    <path d=\"M 204.151 253.715612 \nL 222.007 253.715612 \nL 222.007 252.995168 \nL 204.151 252.995168 \nz\n\" clip-path=\"url(#p45a725a746)\" style=\"fill: #554893\"/>\n   </g>\n   <g id=\"patch_928\">\n    <path d=\"M 239.863 201.141221 \nL 257.719 201.141221 \nL 257.719 201.067522 \nL 239.863 201.067522 \nz\n\" clip-path=\"url(#p45a725a746)\" style=\"fill: #554893\"/>\n   </g>\n   <g id=\"patch_929\">\n    <path d=\"M 275.575 147.777199 \nL 293.431 147.777199 \nL 293.431 147.735085 \nL 275.575 147.735085 \nz\n\" clip-path=\"url(#p45a725a746)\" style=\"fill: #554893\"/>\n   </g>\n   <g id=\"patch_930\">\n    <path d=\"M 311.287 228.268434 \nL 329.143 228.268434 \nL 329.143 225.331006 \nL 311.287 225.331006 \nz\n\" clip-path=\"url(#p45a725a746)\" style=\"fill: #554893\"/>\n   </g>\n   <g id=\"patch_931\">\n    <path d=\"M 346.999 194.266166 \nL 364.855 194.266166 \nL 364.855 193.315601 \nL 346.999 193.315601 \nz\n\" clip-path=\"url(#p45a725a746)\" style=\"fill: #554893\"/>\n   </g>\n   <g id=\"patch_932\">\n    <path d=\"M 382.711 204.314786 \nL 400.567 204.314786 \nL 400.567 204.311778 \nL 382.711 204.311778 \nz\n\" clip-path=\"url(#p45a725a746)\" style=\"fill: #554893\"/>\n   </g>\n   <g id=\"patch_933\">\n    <path d=\"M 61.303 198.071436 \nL 79.159 198.071436 \nL 79.159 198.068428 \nL 61.303 198.068428 \nz\n\" clip-path=\"url(#p45a725a746)\" style=\"fill: #51448b\"/>\n   </g>\n   <g id=\"patch_934\">\n    <path d=\"M 97.015 240.797247 \nL 114.871 240.797247 \nL 114.871 238.467459 \nL 97.015 238.467459 \nz\n\" clip-path=\"url(#p45a725a746)\" style=\"fill: #51448b\"/>\n   </g>\n   <g id=\"patch_935\">\n    <path d=\"M 132.727 241.32066 \nL 150.583 241.32066 \nL 150.583 241.28757 \nL 132.727 241.28757 \nz\n\" clip-path=\"url(#p45a725a746)\" style=\"fill: #51448b\"/>\n   </g>\n   <g id=\"patch_936\">\n    <path d=\"M 168.439 22.860566 \nL 186.295 22.860566 \nL 186.295 22.656014 \nL 168.439 22.656014 \nz\n\" clip-path=\"url(#p45a725a746)\" style=\"fill: #51448b\"/>\n   </g>\n   <g id=\"patch_937\">\n    <path d=\"M 204.151 252.995168 \nL 222.007 252.995168 \nL 222.007 252.834233 \nL 204.151 252.834233 \nz\n\" clip-path=\"url(#p45a725a746)\" style=\"fill: #51448b\"/>\n   </g>\n   <g id=\"patch_938\">\n    <path d=\"M 239.863 201.067522 \nL 257.719 201.067522 \nL 257.719 201.028416 \nL 239.863 201.028416 \nz\n\" clip-path=\"url(#p45a725a746)\" style=\"fill: #51448b\"/>\n   </g>\n   <g id=\"patch_939\">\n    <path d=\"M 275.575 147.735085 \nL 293.431 147.735085 \nL 293.431 147.560614 \nL 275.575 147.560614 \nz\n\" clip-path=\"url(#p45a725a746)\" style=\"fill: #51448b\"/>\n   </g>\n   <g id=\"patch_940\">\n    <path d=\"M 311.287 225.331006 \nL 329.143 225.331006 \nL 329.143 224.893325 \nL 311.287 224.893325 \nz\n\" clip-path=\"url(#p45a725a746)\" style=\"fill: #51448b\"/>\n   </g>\n   <g id=\"patch_941\">\n    <path d=\"M 346.999 193.315601 \nL 364.855 193.315601 \nL 364.855 193.271983 \nL 346.999 193.271983 \nz\n\" clip-path=\"url(#p45a725a746)\" style=\"fill: #51448b\"/>\n   </g>\n   <g id=\"patch_942\">\n    <path d=\"M 382.711 204.311778 \nL 400.567 204.311778 \nL 400.567 204.241087 \nL 382.711 204.241087 \nz\n\" clip-path=\"url(#p45a725a746)\" style=\"fill: #51448b\"/>\n   </g>\n   <g id=\"patch_943\">\n    <path d=\"M 61.303 198.068428 \nL 79.159 198.068428 \nL 79.159 198.057899 \nL 61.303 198.057899 \nz\n\" clip-path=\"url(#p45a725a746)\" style=\"fill: #4c4083\"/>\n   </g>\n   <g id=\"patch_944\">\n    <path d=\"M 97.015 238.467459 \nL 114.871 238.467459 \nL 114.871 237.016042 \nL 97.015 237.016042 \nz\n\" clip-path=\"url(#p45a725a746)\" style=\"fill: #4c4083\"/>\n   </g>\n   <g id=\"patch_945\">\n    <path d=\"M 132.727 241.28757 \nL 150.583 241.28757 \nL 150.583 239.347334 \nL 132.727 239.347334 \nz\n\" clip-path=\"url(#p45a725a746)\" style=\"fill: #4c4083\"/>\n   </g>\n   <g id=\"patch_946\">\n    <path d=\"M 168.439 22.656014 \nL 186.295 22.656014 \nL 186.295 21.741546 \nL 168.439 21.741546 \nz\n\" clip-path=\"url(#p45a725a746)\" style=\"fill: #4c4083\"/>\n   </g>\n   <g id=\"patch_947\">\n    <path d=\"M 204.151 252.834233 \nL 222.007 252.834233 \nL 222.007 252.649234 \nL 204.151 252.649234 \nz\n\" clip-path=\"url(#p45a725a746)\" style=\"fill: #4c4083\"/>\n   </g>\n   <g id=\"patch_948\">\n    <path d=\"M 239.863 201.028416 \nL 257.719 201.028416 \nL 257.719 200.942685 \nL 239.863 200.942685 \nz\n\" clip-path=\"url(#p45a725a746)\" style=\"fill: #4c4083\"/>\n   </g>\n   <g id=\"patch_949\">\n    <path d=\"M 275.575 147.560614 \nL 293.431 147.560614 \nL 293.431 147.530533 \nL 275.575 147.530533 \nz\n\" clip-path=\"url(#p45a725a746)\" style=\"fill: #4c4083\"/>\n   </g>\n   <g id=\"patch_950\">\n    <path d=\"M 311.287 224.893325 \nL 329.143 224.893325 \nL 329.143 223.724671 \nL 311.287 223.724671 \nz\n\" clip-path=\"url(#p45a725a746)\" style=\"fill: #4c4083\"/>\n   </g>\n   <g id=\"patch_951\">\n    <path d=\"M 346.999 193.271983 \nL 364.855 193.271983 \nL 364.855 193.055398 \nL 346.999 193.055398 \nz\n\" clip-path=\"url(#p45a725a746)\" style=\"fill: #4c4083\"/>\n   </g>\n   <g id=\"patch_952\">\n    <path d=\"M 382.711 204.241087 \nL 400.567 204.241087 \nL 400.567 204.030519 \nL 382.711 204.030519 \nz\n\" clip-path=\"url(#p45a725a746)\" style=\"fill: #4c4083\"/>\n   </g>\n   <g id=\"patch_953\">\n    <path d=\"M 61.303 273.312 \nL 79.159 273.312 \nL 79.159 273.312 \nL 61.303 273.312 \nz\n\" clip-path=\"url(#p45a725a746)\" style=\"fill: #483c7c\"/>\n   </g>\n   <g id=\"patch_954\">\n    <path d=\"M 97.015 237.016042 \nL 114.871 237.016042 \nL 114.871 236.858116 \nL 97.015 236.858116 \nz\n\" clip-path=\"url(#p45a725a746)\" style=\"fill: #483c7c\"/>\n   </g>\n   <g id=\"patch_955\">\n    <path d=\"M 132.727 239.347334 \nL 150.583 239.347334 \nL 150.583 239.299204 \nL 132.727 239.299204 \nz\n\" clip-path=\"url(#p45a725a746)\" style=\"fill: #483c7c\"/>\n   </g>\n   <g id=\"patch_956\">\n    <path d=\"M 168.439 21.741546 \nL 186.295 21.741546 \nL 186.295 21.636262 \nL 168.439 21.636262 \nz\n\" clip-path=\"url(#p45a725a746)\" style=\"fill: #483c7c\"/>\n   </g>\n   <g id=\"patch_957\">\n    <path d=\"M 204.151 252.649234 \nL 222.007 252.649234 \nL 222.007 251.849074 \nL 204.151 251.849074 \nz\n\" clip-path=\"url(#p45a725a746)\" style=\"fill: #483c7c\"/>\n   </g>\n   <g id=\"patch_958\">\n    <path d=\"M 239.863 200.942685 \nL 257.719 200.942685 \nL 257.719 200.166591 \nL 239.863 200.166591 \nz\n\" clip-path=\"url(#p45a725a746)\" style=\"fill: #483c7c\"/>\n   </g>\n   <g id=\"patch_959\">\n    <path d=\"M 275.575 147.530533 \nL 293.431 147.530533 \nL 293.431 147.509476 \nL 275.575 147.509476 \nz\n\" clip-path=\"url(#p45a725a746)\" style=\"fill: #483c7c\"/>\n   </g>\n   <g id=\"patch_960\">\n    <path d=\"M 311.287 223.724671 \nL 329.143 223.724671 \nL 329.143 223.675037 \nL 311.287 223.675037 \nz\n\" clip-path=\"url(#p45a725a746)\" style=\"fill: #483c7c\"/>\n   </g>\n   <g id=\"patch_961\">\n    <path d=\"M 346.999 193.055398 \nL 364.855 193.055398 \nL 364.855 191.067032 \nL 346.999 191.067032 \nz\n\" clip-path=\"url(#p45a725a746)\" style=\"fill: #483c7c\"/>\n   </g>\n   <g id=\"patch_962\">\n    <path d=\"M 382.711 204.030519 \nL 400.567 204.030519 \nL 400.567 203.932755 \nL 382.711 203.932755 \nz\n\" clip-path=\"url(#p45a725a746)\" style=\"fill: #483c7c\"/>\n   </g>\n   <g id=\"patch_963\">\n    <path d=\"M 61.303 198.057899 \nL 79.159 198.057899 \nL 79.159 198.045867 \nL 61.303 198.045867 \nz\n\" clip-path=\"url(#p45a725a746)\" style=\"fill: #433974\"/>\n   </g>\n   <g id=\"patch_964\">\n    <path d=\"M 97.015 236.858116 \nL 114.871 236.858116 \nL 114.871 236.758848 \nL 97.015 236.758848 \nz\n\" clip-path=\"url(#p45a725a746)\" style=\"fill: #433974\"/>\n   </g>\n   <g id=\"patch_965\">\n    <path d=\"M 132.727 239.299204 \nL 150.583 239.299204 \nL 150.583 236.939335 \nL 132.727 236.939335 \nz\n\" clip-path=\"url(#p45a725a746)\" style=\"fill: #433974\"/>\n   </g>\n   <g id=\"patch_966\">\n    <path d=\"M 168.439 21.636262 \nL 186.295 21.636262 \nL 186.295 21.622725 \nL 168.439 21.622725 \nz\n\" clip-path=\"url(#p45a725a746)\" style=\"fill: #433974\"/>\n   </g>\n   <g id=\"patch_967\">\n    <path d=\"M 204.151 251.849074 \nL 222.007 251.849074 \nL 222.007 251.661067 \nL 204.151 251.661067 \nz\n\" clip-path=\"url(#p45a725a746)\" style=\"fill: #433974\"/>\n   </g>\n   <g id=\"patch_968\">\n    <path d=\"M 239.863 200.166591 \nL 257.719 200.166591 \nL 257.719 200.116957 \nL 239.863 200.116957 \nz\n\" clip-path=\"url(#p45a725a746)\" style=\"fill: #433974\"/>\n   </g>\n   <g id=\"patch_969\">\n    <path d=\"M 275.575 147.509476 \nL 293.431 147.509476 \nL 293.431 147.405696 \nL 275.575 147.405696 \nz\n\" clip-path=\"url(#p45a725a746)\" style=\"fill: #433974\"/>\n   </g>\n   <g id=\"patch_970\">\n    <path d=\"M 311.287 223.675037 \nL 329.143 223.675037 \nL 329.143 220.906064 \nL 311.287 220.906064 \nz\n\" clip-path=\"url(#p45a725a746)\" style=\"fill: #433974\"/>\n   </g>\n   <g id=\"patch_971\">\n    <path d=\"M 346.999 191.067032 \nL 364.855 191.067032 \nL 364.855 191.012886 \nL 346.999 191.012886 \nz\n\" clip-path=\"url(#p45a725a746)\" style=\"fill: #433974\"/>\n   </g>\n   <g id=\"patch_972\">\n    <path d=\"M 382.711 203.932755 \nL 400.567 203.932755 \nL 400.567 203.707146 \nL 382.711 203.707146 \nz\n\" clip-path=\"url(#p45a725a746)\" style=\"fill: #433974\"/>\n   </g>\n   <g id=\"patch_973\">\n    <path d=\"M 61.303 198.045867 \nL 79.159 198.045867 \nL 79.159 198.042859 \nL 61.303 198.042859 \nz\n\" clip-path=\"url(#p45a725a746)\" style=\"fill: #3f356c\"/>\n   </g>\n   <g id=\"patch_974\">\n    <path d=\"M 97.015 236.758848 \nL 114.871 236.758848 \nL 114.871 236.716734 \nL 97.015 236.716734 \nz\n\" clip-path=\"url(#p45a725a746)\" style=\"fill: #3f356c\"/>\n   </g>\n   <g id=\"patch_975\">\n    <path d=\"M 132.727 236.939335 \nL 150.583 236.939335 \nL 150.583 234.796051 \nL 132.727 234.796051 \nz\n\" clip-path=\"url(#p45a725a746)\" style=\"fill: #3f356c\"/>\n   </g>\n   <g id=\"patch_976\">\n    <path d=\"M 168.439 21.622725 \nL 186.295 21.622725 \nL 186.295 21.619717 \nL 168.439 21.619717 \nz\n\" clip-path=\"url(#p45a725a746)\" style=\"fill: #3f356c\"/>\n   </g>\n   <g id=\"patch_977\">\n    <path d=\"M 204.151 251.661067 \nL 222.007 251.661067 \nL 222.007 251.337694 \nL 204.151 251.337694 \nz\n\" clip-path=\"url(#p45a725a746)\" style=\"fill: #3f356c\"/>\n   </g>\n   <g id=\"patch_978\">\n    <path d=\"M 239.863 200.116957 \nL 257.719 200.116957 \nL 257.719 199.586024 \nL 239.863 199.586024 \nz\n\" clip-path=\"url(#p45a725a746)\" style=\"fill: #3f356c\"/>\n   </g>\n   <g id=\"patch_979\">\n    <path d=\"M 275.575 147.405696 \nL 293.431 147.405696 \nL 293.431 147.216185 \nL 275.575 147.216185 \nz\n\" clip-path=\"url(#p45a725a746)\" style=\"fill: #3f356c\"/>\n   </g>\n   <g id=\"patch_980\">\n    <path d=\"M 311.287 220.906064 \nL 329.143 220.906064 \nL 329.143 220.757162 \nL 311.287 220.757162 \nz\n\" clip-path=\"url(#p45a725a746)\" style=\"fill: #3f356c\"/>\n   </g>\n   <g id=\"patch_981\">\n    <path d=\"M 346.999 191.012886 \nL 364.855 191.012886 \nL 364.855 190.927155 \nL 346.999 190.927155 \nz\n\" clip-path=\"url(#p45a725a746)\" style=\"fill: #3f356c\"/>\n   </g>\n   <g id=\"patch_982\">\n    <path d=\"M 382.711 203.707146 \nL 400.567 203.707146 \nL 400.567 203.696618 \nL 382.711 203.696618 \nz\n\" clip-path=\"url(#p45a725a746)\" style=\"fill: #3f356c\"/>\n   </g>\n   <g id=\"patch_983\">\n    <path d=\"M 61.303 198.042859 \nL 79.159 198.042859 \nL 79.159 198.026314 \nL 61.303 198.026314 \nz\n\" clip-path=\"url(#p45a725a746)\" style=\"fill: #3a3165\"/>\n   </g>\n   <g id=\"patch_984\">\n    <path d=\"M 97.015 236.716734 \nL 114.871 236.716734 \nL 114.871 236.462548 \nL 97.015 236.462548 \nz\n\" clip-path=\"url(#p45a725a746)\" style=\"fill: #3a3165\"/>\n   </g>\n   <g id=\"patch_985\">\n    <path d=\"M 132.727 234.796051 \nL 150.583 234.796051 \nL 150.583 234.794547 \nL 132.727 234.794547 \nz\n\" clip-path=\"url(#p45a725a746)\" style=\"fill: #3a3165\"/>\n   </g>\n   <g id=\"patch_986\">\n    <path d=\"M 168.439 21.619717 \nL 186.295 21.619717 \nL 186.295 19.876512 \nL 168.439 19.876512 \nz\n\" clip-path=\"url(#p45a725a746)\" style=\"fill: #3a3165\"/>\n   </g>\n   <g id=\"patch_987\">\n    <path d=\"M 204.151 251.337694 \nL 222.007 251.337694 \nL 222.007 251.244443 \nL 204.151 251.244443 \nz\n\" clip-path=\"url(#p45a725a746)\" style=\"fill: #3a3165\"/>\n   </g>\n   <g id=\"patch_988\">\n    <path d=\"M 239.863 199.586024 \nL 257.719 199.586024 \nL 257.719 198.802409 \nL 239.863 198.802409 \nz\n\" clip-path=\"url(#p45a725a746)\" style=\"fill: #3a3165\"/>\n   </g>\n   <g id=\"patch_989\">\n    <path d=\"M 275.575 147.216185 \nL 293.431 147.216185 \nL 293.431 147.201144 \nL 275.575 147.201144 \nz\n\" clip-path=\"url(#p45a725a746)\" style=\"fill: #3a3165\"/>\n   </g>\n   <g id=\"patch_990\">\n    <path d=\"M 311.287 220.757162 \nL 329.143 220.757162 \nL 329.143 220.696999 \nL 311.287 220.696999 \nz\n\" clip-path=\"url(#p45a725a746)\" style=\"fill: #3a3165\"/>\n   </g>\n   <g id=\"patch_991\">\n    <path d=\"M 346.999 190.927155 \nL 364.855 190.927155 \nL 364.855 190.916626 \nL 346.999 190.916626 \nz\n\" clip-path=\"url(#p45a725a746)\" style=\"fill: #3a3165\"/>\n   </g>\n   <g id=\"patch_992\">\n    <path d=\"M 382.711 203.696618 \nL 400.567 203.696618 \nL 400.567 203.675561 \nL 382.711 203.675561 \nz\n\" clip-path=\"url(#p45a725a746)\" style=\"fill: #3a3165\"/>\n   </g>\n   <g id=\"patch_993\">\n    <path d=\"M 61.303 198.026314 \nL 79.159 198.026314 \nL 79.159 198.02481 \nL 61.303 198.02481 \nz\n\" clip-path=\"url(#p45a725a746)\" style=\"fill: #362d5d\"/>\n   </g>\n   <g id=\"patch_994\">\n    <path d=\"M 97.015 236.462548 \nL 114.871 236.462548 \nL 114.871 236.009827 \nL 97.015 236.009827 \nz\n\" clip-path=\"url(#p45a725a746)\" style=\"fill: #362d5d\"/>\n   </g>\n   <g id=\"patch_995\">\n    <path d=\"M 132.727 234.794547 \nL 150.583 234.794547 \nL 150.583 233.686055 \nL 132.727 233.686055 \nz\n\" clip-path=\"url(#p45a725a746)\" style=\"fill: #362d5d\"/>\n   </g>\n   <g id=\"patch_996\">\n    <path d=\"M 168.439 19.876512 \nL 186.295 19.876512 \nL 186.295 19.872 \nL 168.439 19.872 \nz\n\" clip-path=\"url(#p45a725a746)\" style=\"fill: #362d5d\"/>\n   </g>\n   <g id=\"patch_997\">\n    <path d=\"M 204.151 251.244443 \nL 222.007 251.244443 \nL 222.007 250.854891 \nL 204.151 250.854891 \nz\n\" clip-path=\"url(#p45a725a746)\" style=\"fill: #362d5d\"/>\n   </g>\n   <g id=\"patch_998\">\n    <path d=\"M 239.863 198.802409 \nL 257.719 198.802409 \nL 257.719 197.659324 \nL 239.863 197.659324 \nz\n\" clip-path=\"url(#p45a725a746)\" style=\"fill: #362d5d\"/>\n   </g>\n   <g id=\"patch_999\">\n    <path d=\"M 275.575 273.312 \nL 293.431 273.312 \nL 293.431 273.312 \nL 275.575 273.312 \nz\n\" clip-path=\"url(#p45a725a746)\" style=\"fill: #362d5d\"/>\n   </g>\n   <g id=\"patch_1000\">\n    <path d=\"M 311.287 220.696999 \nL 329.143 220.696999 \nL 329.143 220.51952 \nL 311.287 220.51952 \nz\n\" clip-path=\"url(#p45a725a746)\" style=\"fill: #362d5d\"/>\n   </g>\n   <g id=\"patch_1001\">\n    <path d=\"M 346.999 190.916626 \nL 364.855 190.916626 \nL 364.855 190.802318 \nL 346.999 190.802318 \nz\n\" clip-path=\"url(#p45a725a746)\" style=\"fill: #362d5d\"/>\n   </g>\n   <g id=\"patch_1002\">\n    <path d=\"M 382.711 203.675561 \nL 400.567 203.675561 \nL 400.567 203.672553 \nL 382.711 203.672553 \nz\n\" clip-path=\"url(#p45a725a746)\" style=\"fill: #362d5d\"/>\n   </g>\n   <g id=\"matplotlib.axis_1\">\n    <g id=\"xtick_1\">\n     <g id=\"line2d_1\">\n      <defs>\n       <path id=\"maba1d07a27\" d=\"M 0 0 \nL 0 3.5 \n\" style=\"stroke: #000000; stroke-width: 0.8\"/>\n      </defs>\n      <g>\n       <use xlink:href=\"#maba1d07a27\" x=\"70.231\" y=\"273.312\" style=\"stroke: #000000; stroke-width: 0.8\"/>\n      </g>\n     </g>\n     <g id=\"text_1\">\n      <!-- 0 -->\n      <g transform=\"translate(72.990375 286.6745) rotate(-90) scale(0.1 -0.1)\">\n       <defs>\n        <path id=\"DejaVuSans-30\" d=\"M 2034 4250 \nQ 1547 4250 1301 3770 \nQ 1056 3291 1056 2328 \nQ 1056 1369 1301 889 \nQ 1547 409 2034 409 \nQ 2525 409 2770 889 \nQ 3016 1369 3016 2328 \nQ 3016 3291 2770 3770 \nQ 2525 4250 2034 4250 \nz\nM 2034 4750 \nQ 2819 4750 3233 4129 \nQ 3647 3509 3647 2328 \nQ 3647 1150 3233 529 \nQ 2819 -91 2034 -91 \nQ 1250 -91 836 529 \nQ 422 1150 422 2328 \nQ 422 3509 836 4129 \nQ 1250 4750 2034 4750 \nz\n\" transform=\"scale(0.015625)\"/>\n       </defs>\n       <use xlink:href=\"#DejaVuSans-30\"/>\n      </g>\n     </g>\n    </g>\n    <g id=\"xtick_2\">\n     <g id=\"line2d_2\">\n      <g>\n       <use xlink:href=\"#maba1d07a27\" x=\"105.943\" y=\"273.312\" style=\"stroke: #000000; stroke-width: 0.8\"/>\n      </g>\n     </g>\n     <g id=\"text_2\">\n      <!-- 1 -->\n      <g transform=\"translate(108.702375 286.6745) rotate(-90) scale(0.1 -0.1)\">\n       <defs>\n        <path id=\"DejaVuSans-31\" d=\"M 794 531 \nL 1825 531 \nL 1825 4091 \nL 703 3866 \nL 703 4441 \nL 1819 4666 \nL 2450 4666 \nL 2450 531 \nL 3481 531 \nL 3481 0 \nL 794 0 \nL 794 531 \nz\n\" transform=\"scale(0.015625)\"/>\n       </defs>\n       <use xlink:href=\"#DejaVuSans-31\"/>\n      </g>\n     </g>\n    </g>\n    <g id=\"xtick_3\">\n     <g id=\"line2d_3\">\n      <g>\n       <use xlink:href=\"#maba1d07a27\" x=\"141.655\" y=\"273.312\" style=\"stroke: #000000; stroke-width: 0.8\"/>\n      </g>\n     </g>\n     <g id=\"text_3\">\n      <!-- 2 -->\n      <g transform=\"translate(144.414375 286.6745) rotate(-90) scale(0.1 -0.1)\">\n       <defs>\n        <path id=\"DejaVuSans-32\" d=\"M 1228 531 \nL 3431 531 \nL 3431 0 \nL 469 0 \nL 469 531 \nQ 828 903 1448 1529 \nQ 2069 2156 2228 2338 \nQ 2531 2678 2651 2914 \nQ 2772 3150 2772 3378 \nQ 2772 3750 2511 3984 \nQ 2250 4219 1831 4219 \nQ 1534 4219 1204 4116 \nQ 875 4013 500 3803 \nL 500 4441 \nQ 881 4594 1212 4672 \nQ 1544 4750 1819 4750 \nQ 2544 4750 2975 4387 \nQ 3406 4025 3406 3419 \nQ 3406 3131 3298 2873 \nQ 3191 2616 2906 2266 \nQ 2828 2175 2409 1742 \nQ 1991 1309 1228 531 \nz\n\" transform=\"scale(0.015625)\"/>\n       </defs>\n       <use xlink:href=\"#DejaVuSans-32\"/>\n      </g>\n     </g>\n    </g>\n    <g id=\"xtick_4\">\n     <g id=\"line2d_4\">\n      <g>\n       <use xlink:href=\"#maba1d07a27\" x=\"177.367\" y=\"273.312\" style=\"stroke: #000000; stroke-width: 0.8\"/>\n      </g>\n     </g>\n     <g id=\"text_4\">\n      <!-- 3 -->\n      <g transform=\"translate(180.126375 286.6745) rotate(-90) scale(0.1 -0.1)\">\n       <defs>\n        <path id=\"DejaVuSans-33\" d=\"M 2597 2516 \nQ 3050 2419 3304 2112 \nQ 3559 1806 3559 1356 \nQ 3559 666 3084 287 \nQ 2609 -91 1734 -91 \nQ 1441 -91 1130 -33 \nQ 819 25 488 141 \nL 488 750 \nQ 750 597 1062 519 \nQ 1375 441 1716 441 \nQ 2309 441 2620 675 \nQ 2931 909 2931 1356 \nQ 2931 1769 2642 2001 \nQ 2353 2234 1838 2234 \nL 1294 2234 \nL 1294 2753 \nL 1863 2753 \nQ 2328 2753 2575 2939 \nQ 2822 3125 2822 3475 \nQ 2822 3834 2567 4026 \nQ 2313 4219 1838 4219 \nQ 1578 4219 1281 4162 \nQ 984 4106 628 3988 \nL 628 4550 \nQ 988 4650 1302 4700 \nQ 1616 4750 1894 4750 \nQ 2613 4750 3031 4423 \nQ 3450 4097 3450 3541 \nQ 3450 3153 3228 2886 \nQ 3006 2619 2597 2516 \nz\n\" transform=\"scale(0.015625)\"/>\n       </defs>\n       <use xlink:href=\"#DejaVuSans-33\"/>\n      </g>\n     </g>\n    </g>\n    <g id=\"xtick_5\">\n     <g id=\"line2d_5\">\n      <g>\n       <use xlink:href=\"#maba1d07a27\" x=\"213.079\" y=\"273.312\" style=\"stroke: #000000; stroke-width: 0.8\"/>\n      </g>\n     </g>\n     <g id=\"text_5\">\n      <!-- 4 -->\n      <g transform=\"translate(215.838375 286.6745) rotate(-90) scale(0.1 -0.1)\">\n       <defs>\n        <path id=\"DejaVuSans-34\" d=\"M 2419 4116 \nL 825 1625 \nL 2419 1625 \nL 2419 4116 \nz\nM 2253 4666 \nL 3047 4666 \nL 3047 1625 \nL 3713 1625 \nL 3713 1100 \nL 3047 1100 \nL 3047 0 \nL 2419 0 \nL 2419 1100 \nL 313 1100 \nL 313 1709 \nL 2253 4666 \nz\n\" transform=\"scale(0.015625)\"/>\n       </defs>\n       <use xlink:href=\"#DejaVuSans-34\"/>\n      </g>\n     </g>\n    </g>\n    <g id=\"xtick_6\">\n     <g id=\"line2d_6\">\n      <g>\n       <use xlink:href=\"#maba1d07a27\" x=\"248.791\" y=\"273.312\" style=\"stroke: #000000; stroke-width: 0.8\"/>\n      </g>\n     </g>\n     <g id=\"text_6\">\n      <!-- 5 -->\n      <g transform=\"translate(251.550375 286.6745) rotate(-90) scale(0.1 -0.1)\">\n       <defs>\n        <path id=\"DejaVuSans-35\" d=\"M 691 4666 \nL 3169 4666 \nL 3169 4134 \nL 1269 4134 \nL 1269 2991 \nQ 1406 3038 1543 3061 \nQ 1681 3084 1819 3084 \nQ 2600 3084 3056 2656 \nQ 3513 2228 3513 1497 \nQ 3513 744 3044 326 \nQ 2575 -91 1722 -91 \nQ 1428 -91 1123 -41 \nQ 819 9 494 109 \nL 494 744 \nQ 775 591 1075 516 \nQ 1375 441 1709 441 \nQ 2250 441 2565 725 \nQ 2881 1009 2881 1497 \nQ 2881 1984 2565 2268 \nQ 2250 2553 1709 2553 \nQ 1456 2553 1204 2497 \nQ 953 2441 691 2322 \nL 691 4666 \nz\n\" transform=\"scale(0.015625)\"/>\n       </defs>\n       <use xlink:href=\"#DejaVuSans-35\"/>\n      </g>\n     </g>\n    </g>\n    <g id=\"xtick_7\">\n     <g id=\"line2d_7\">\n      <g>\n       <use xlink:href=\"#maba1d07a27\" x=\"284.503\" y=\"273.312\" style=\"stroke: #000000; stroke-width: 0.8\"/>\n      </g>\n     </g>\n     <g id=\"text_7\">\n      <!-- 6 -->\n      <g transform=\"translate(287.262375 286.6745) rotate(-90) scale(0.1 -0.1)\">\n       <defs>\n        <path id=\"DejaVuSans-36\" d=\"M 2113 2584 \nQ 1688 2584 1439 2293 \nQ 1191 2003 1191 1497 \nQ 1191 994 1439 701 \nQ 1688 409 2113 409 \nQ 2538 409 2786 701 \nQ 3034 994 3034 1497 \nQ 3034 2003 2786 2293 \nQ 2538 2584 2113 2584 \nz\nM 3366 4563 \nL 3366 3988 \nQ 3128 4100 2886 4159 \nQ 2644 4219 2406 4219 \nQ 1781 4219 1451 3797 \nQ 1122 3375 1075 2522 \nQ 1259 2794 1537 2939 \nQ 1816 3084 2150 3084 \nQ 2853 3084 3261 2657 \nQ 3669 2231 3669 1497 \nQ 3669 778 3244 343 \nQ 2819 -91 2113 -91 \nQ 1303 -91 875 529 \nQ 447 1150 447 2328 \nQ 447 3434 972 4092 \nQ 1497 4750 2381 4750 \nQ 2619 4750 2861 4703 \nQ 3103 4656 3366 4563 \nz\n\" transform=\"scale(0.015625)\"/>\n       </defs>\n       <use xlink:href=\"#DejaVuSans-36\"/>\n      </g>\n     </g>\n    </g>\n    <g id=\"xtick_8\">\n     <g id=\"line2d_8\">\n      <g>\n       <use xlink:href=\"#maba1d07a27\" x=\"320.215\" y=\"273.312\" style=\"stroke: #000000; stroke-width: 0.8\"/>\n      </g>\n     </g>\n     <g id=\"text_8\">\n      <!-- 7 -->\n      <g transform=\"translate(322.974375 286.6745) rotate(-90) scale(0.1 -0.1)\">\n       <defs>\n        <path id=\"DejaVuSans-37\" d=\"M 525 4666 \nL 3525 4666 \nL 3525 4397 \nL 1831 0 \nL 1172 0 \nL 2766 4134 \nL 525 4134 \nL 525 4666 \nz\n\" transform=\"scale(0.015625)\"/>\n       </defs>\n       <use xlink:href=\"#DejaVuSans-37\"/>\n      </g>\n     </g>\n    </g>\n    <g id=\"xtick_9\">\n     <g id=\"line2d_9\">\n      <g>\n       <use xlink:href=\"#maba1d07a27\" x=\"355.927\" y=\"273.312\" style=\"stroke: #000000; stroke-width: 0.8\"/>\n      </g>\n     </g>\n     <g id=\"text_9\">\n      <!-- 8 -->\n      <g transform=\"translate(358.686375 286.6745) rotate(-90) scale(0.1 -0.1)\">\n       <defs>\n        <path id=\"DejaVuSans-38\" d=\"M 2034 2216 \nQ 1584 2216 1326 1975 \nQ 1069 1734 1069 1313 \nQ 1069 891 1326 650 \nQ 1584 409 2034 409 \nQ 2484 409 2743 651 \nQ 3003 894 3003 1313 \nQ 3003 1734 2745 1975 \nQ 2488 2216 2034 2216 \nz\nM 1403 2484 \nQ 997 2584 770 2862 \nQ 544 3141 544 3541 \nQ 544 4100 942 4425 \nQ 1341 4750 2034 4750 \nQ 2731 4750 3128 4425 \nQ 3525 4100 3525 3541 \nQ 3525 3141 3298 2862 \nQ 3072 2584 2669 2484 \nQ 3125 2378 3379 2068 \nQ 3634 1759 3634 1313 \nQ 3634 634 3220 271 \nQ 2806 -91 2034 -91 \nQ 1263 -91 848 271 \nQ 434 634 434 1313 \nQ 434 1759 690 2068 \nQ 947 2378 1403 2484 \nz\nM 1172 3481 \nQ 1172 3119 1398 2916 \nQ 1625 2713 2034 2713 \nQ 2441 2713 2670 2916 \nQ 2900 3119 2900 3481 \nQ 2900 3844 2670 4047 \nQ 2441 4250 2034 4250 \nQ 1625 4250 1398 4047 \nQ 1172 3844 1172 3481 \nz\n\" transform=\"scale(0.015625)\"/>\n       </defs>\n       <use xlink:href=\"#DejaVuSans-38\"/>\n      </g>\n     </g>\n    </g>\n    <g id=\"xtick_10\">\n     <g id=\"line2d_10\">\n      <g>\n       <use xlink:href=\"#maba1d07a27\" x=\"391.639\" y=\"273.312\" style=\"stroke: #000000; stroke-width: 0.8\"/>\n      </g>\n     </g>\n     <g id=\"text_10\">\n      <!-- 9 -->\n      <g transform=\"translate(394.398375 286.6745) rotate(-90) scale(0.1 -0.1)\">\n       <defs>\n        <path id=\"DejaVuSans-39\" d=\"M 703 97 \nL 703 672 \nQ 941 559 1184 500 \nQ 1428 441 1663 441 \nQ 2288 441 2617 861 \nQ 2947 1281 2994 2138 \nQ 2813 1869 2534 1725 \nQ 2256 1581 1919 1581 \nQ 1219 1581 811 2004 \nQ 403 2428 403 3163 \nQ 403 3881 828 4315 \nQ 1253 4750 1959 4750 \nQ 2769 4750 3195 4129 \nQ 3622 3509 3622 2328 \nQ 3622 1225 3098 567 \nQ 2575 -91 1691 -91 \nQ 1453 -91 1209 -44 \nQ 966 3 703 97 \nz\nM 1959 2075 \nQ 2384 2075 2632 2365 \nQ 2881 2656 2881 3163 \nQ 2881 3666 2632 3958 \nQ 2384 4250 1959 4250 \nQ 1534 4250 1286 3958 \nQ 1038 3666 1038 3163 \nQ 1038 2656 1286 2365 \nQ 1534 2075 1959 2075 \nz\n\" transform=\"scale(0.015625)\"/>\n       </defs>\n       <use xlink:href=\"#DejaVuSans-39\"/>\n      </g>\n     </g>\n    </g>\n    <g id=\"text_11\">\n     <!-- top -->\n     <g transform=\"translate(222.74125 298.272937) scale(0.1 -0.1)\">\n      <defs>\n       <path id=\"DejaVuSans-74\" d=\"M 1172 4494 \nL 1172 3500 \nL 2356 3500 \nL 2356 3053 \nL 1172 3053 \nL 1172 1153 \nQ 1172 725 1289 603 \nQ 1406 481 1766 481 \nL 2356 481 \nL 2356 0 \nL 1766 0 \nQ 1100 0 847 248 \nQ 594 497 594 1153 \nL 594 3053 \nL 172 3053 \nL 172 3500 \nL 594 3500 \nL 594 4494 \nL 1172 4494 \nz\n\" transform=\"scale(0.015625)\"/>\n       <path id=\"DejaVuSans-6f\" d=\"M 1959 3097 \nQ 1497 3097 1228 2736 \nQ 959 2375 959 1747 \nQ 959 1119 1226 758 \nQ 1494 397 1959 397 \nQ 2419 397 2687 759 \nQ 2956 1122 2956 1747 \nQ 2956 2369 2687 2733 \nQ 2419 3097 1959 3097 \nz\nM 1959 3584 \nQ 2709 3584 3137 3096 \nQ 3566 2609 3566 1747 \nQ 3566 888 3137 398 \nQ 2709 -91 1959 -91 \nQ 1206 -91 779 398 \nQ 353 888 353 1747 \nQ 353 2609 779 3096 \nQ 1206 3584 1959 3584 \nz\n\" transform=\"scale(0.015625)\"/>\n       <path id=\"DejaVuSans-70\" d=\"M 1159 525 \nL 1159 -1331 \nL 581 -1331 \nL 581 3500 \nL 1159 3500 \nL 1159 2969 \nQ 1341 3281 1617 3432 \nQ 1894 3584 2278 3584 \nQ 2916 3584 3314 3078 \nQ 3713 2572 3713 1747 \nQ 3713 922 3314 415 \nQ 2916 -91 2278 -91 \nQ 1894 -91 1617 61 \nQ 1341 213 1159 525 \nz\nM 3116 1747 \nQ 3116 2381 2855 2742 \nQ 2594 3103 2138 3103 \nQ 1681 3103 1420 2742 \nQ 1159 2381 1159 1747 \nQ 1159 1113 1420 752 \nQ 1681 391 2138 391 \nQ 2594 391 2855 752 \nQ 3116 1113 3116 1747 \nz\n\" transform=\"scale(0.015625)\"/>\n      </defs>\n      <use xlink:href=\"#DejaVuSans-74\"/>\n      <use xlink:href=\"#DejaVuSans-6f\" x=\"39.208984\"/>\n      <use xlink:href=\"#DejaVuSans-70\" x=\"100.390625\"/>\n     </g>\n    </g>\n   </g>\n   <g id=\"matplotlib.axis_2\">\n    <g id=\"ytick_1\">\n     <g id=\"line2d_11\">\n      <defs>\n       <path id=\"mfdd19b4637\" d=\"M 0 0 \nL -3.5 0 \n\" style=\"stroke: #000000; stroke-width: 0.8\"/>\n      </defs>\n      <g>\n       <use xlink:href=\"#mfdd19b4637\" x=\"52.375\" y=\"273.312\" style=\"stroke: #000000; stroke-width: 0.8\"/>\n      </g>\n     </g>\n     <g id=\"text_12\">\n      <!-- 0 -->\n      <g transform=\"translate(39.0125 277.111219) scale(0.1 -0.1)\">\n       <use xlink:href=\"#DejaVuSans-30\"/>\n      </g>\n     </g>\n    </g>\n    <g id=\"ytick_2\">\n     <g id=\"line2d_12\">\n      <g>\n       <use xlink:href=\"#mfdd19b4637\" x=\"52.375\" y=\"243.230815\" style=\"stroke: #000000; stroke-width: 0.8\"/>\n      </g>\n     </g>\n     <g id=\"text_13\">\n      <!-- 20000 -->\n      <g transform=\"translate(13.5625 247.030034) scale(0.1 -0.1)\">\n       <use xlink:href=\"#DejaVuSans-32\"/>\n       <use xlink:href=\"#DejaVuSans-30\" x=\"63.623047\"/>\n       <use xlink:href=\"#DejaVuSans-30\" x=\"127.246094\"/>\n       <use xlink:href=\"#DejaVuSans-30\" x=\"190.869141\"/>\n       <use xlink:href=\"#DejaVuSans-30\" x=\"254.492188\"/>\n      </g>\n     </g>\n    </g>\n    <g id=\"ytick_3\">\n     <g id=\"line2d_13\">\n      <g>\n       <use xlink:href=\"#mfdd19b4637\" x=\"52.375\" y=\"213.14963\" style=\"stroke: #000000; stroke-width: 0.8\"/>\n      </g>\n     </g>\n     <g id=\"text_14\">\n      <!-- 40000 -->\n      <g transform=\"translate(13.5625 216.948849) scale(0.1 -0.1)\">\n       <use xlink:href=\"#DejaVuSans-34\"/>\n       <use xlink:href=\"#DejaVuSans-30\" x=\"63.623047\"/>\n       <use xlink:href=\"#DejaVuSans-30\" x=\"127.246094\"/>\n       <use xlink:href=\"#DejaVuSans-30\" x=\"190.869141\"/>\n       <use xlink:href=\"#DejaVuSans-30\" x=\"254.492188\"/>\n      </g>\n     </g>\n    </g>\n    <g id=\"ytick_4\">\n     <g id=\"line2d_14\">\n      <g>\n       <use xlink:href=\"#mfdd19b4637\" x=\"52.375\" y=\"183.068445\" style=\"stroke: #000000; stroke-width: 0.8\"/>\n      </g>\n     </g>\n     <g id=\"text_15\">\n      <!-- 60000 -->\n      <g transform=\"translate(13.5625 186.867664) scale(0.1 -0.1)\">\n       <use xlink:href=\"#DejaVuSans-36\"/>\n       <use xlink:href=\"#DejaVuSans-30\" x=\"63.623047\"/>\n       <use xlink:href=\"#DejaVuSans-30\" x=\"127.246094\"/>\n       <use xlink:href=\"#DejaVuSans-30\" x=\"190.869141\"/>\n       <use xlink:href=\"#DejaVuSans-30\" x=\"254.492188\"/>\n      </g>\n     </g>\n    </g>\n    <g id=\"ytick_5\">\n     <g id=\"line2d_15\">\n      <g>\n       <use xlink:href=\"#mfdd19b4637\" x=\"52.375\" y=\"152.98726\" style=\"stroke: #000000; stroke-width: 0.8\"/>\n      </g>\n     </g>\n     <g id=\"text_16\">\n      <!-- 80000 -->\n      <g transform=\"translate(13.5625 156.786479) scale(0.1 -0.1)\">\n       <use xlink:href=\"#DejaVuSans-38\"/>\n       <use xlink:href=\"#DejaVuSans-30\" x=\"63.623047\"/>\n       <use xlink:href=\"#DejaVuSans-30\" x=\"127.246094\"/>\n       <use xlink:href=\"#DejaVuSans-30\" x=\"190.869141\"/>\n       <use xlink:href=\"#DejaVuSans-30\" x=\"254.492188\"/>\n      </g>\n     </g>\n    </g>\n    <g id=\"ytick_6\">\n     <g id=\"line2d_16\">\n      <g>\n       <use xlink:href=\"#mfdd19b4637\" x=\"52.375\" y=\"122.906075\" style=\"stroke: #000000; stroke-width: 0.8\"/>\n      </g>\n     </g>\n     <g id=\"text_17\">\n      <!-- 100000 -->\n      <g transform=\"translate(7.2 126.705294) scale(0.1 -0.1)\">\n       <use xlink:href=\"#DejaVuSans-31\"/>\n       <use xlink:href=\"#DejaVuSans-30\" x=\"63.623047\"/>\n       <use xlink:href=\"#DejaVuSans-30\" x=\"127.246094\"/>\n       <use xlink:href=\"#DejaVuSans-30\" x=\"190.869141\"/>\n       <use xlink:href=\"#DejaVuSans-30\" x=\"254.492188\"/>\n       <use xlink:href=\"#DejaVuSans-30\" x=\"318.115234\"/>\n      </g>\n     </g>\n    </g>\n    <g id=\"ytick_7\">\n     <g id=\"line2d_17\">\n      <g>\n       <use xlink:href=\"#mfdd19b4637\" x=\"52.375\" y=\"92.82489\" style=\"stroke: #000000; stroke-width: 0.8\"/>\n      </g>\n     </g>\n     <g id=\"text_18\">\n      <!-- 120000 -->\n      <g transform=\"translate(7.2 96.624109) scale(0.1 -0.1)\">\n       <use xlink:href=\"#DejaVuSans-31\"/>\n       <use xlink:href=\"#DejaVuSans-32\" x=\"63.623047\"/>\n       <use xlink:href=\"#DejaVuSans-30\" x=\"127.246094\"/>\n       <use xlink:href=\"#DejaVuSans-30\" x=\"190.869141\"/>\n       <use xlink:href=\"#DejaVuSans-30\" x=\"254.492188\"/>\n       <use xlink:href=\"#DejaVuSans-30\" x=\"318.115234\"/>\n      </g>\n     </g>\n    </g>\n    <g id=\"ytick_8\">\n     <g id=\"line2d_18\">\n      <g>\n       <use xlink:href=\"#mfdd19b4637\" x=\"52.375\" y=\"62.743705\" style=\"stroke: #000000; stroke-width: 0.8\"/>\n      </g>\n     </g>\n     <g id=\"text_19\">\n      <!-- 140000 -->\n      <g transform=\"translate(7.2 66.542924) scale(0.1 -0.1)\">\n       <use xlink:href=\"#DejaVuSans-31\"/>\n       <use xlink:href=\"#DejaVuSans-34\" x=\"63.623047\"/>\n       <use xlink:href=\"#DejaVuSans-30\" x=\"127.246094\"/>\n       <use xlink:href=\"#DejaVuSans-30\" x=\"190.869141\"/>\n       <use xlink:href=\"#DejaVuSans-30\" x=\"254.492188\"/>\n       <use xlink:href=\"#DejaVuSans-30\" x=\"318.115234\"/>\n      </g>\n     </g>\n    </g>\n    <g id=\"ytick_9\">\n     <g id=\"line2d_19\">\n      <g>\n       <use xlink:href=\"#mfdd19b4637\" x=\"52.375\" y=\"32.66252\" style=\"stroke: #000000; stroke-width: 0.8\"/>\n      </g>\n     </g>\n     <g id=\"text_20\">\n      <!-- 160000 -->\n      <g transform=\"translate(7.2 36.461739) scale(0.1 -0.1)\">\n       <use xlink:href=\"#DejaVuSans-31\"/>\n       <use xlink:href=\"#DejaVuSans-36\" x=\"63.623047\"/>\n       <use xlink:href=\"#DejaVuSans-30\" x=\"127.246094\"/>\n       <use xlink:href=\"#DejaVuSans-30\" x=\"190.869141\"/>\n       <use xlink:href=\"#DejaVuSans-30\" x=\"254.492188\"/>\n       <use xlink:href=\"#DejaVuSans-30\" x=\"318.115234\"/>\n      </g>\n     </g>\n    </g>\n   </g>\n   <g id=\"patch_1003\">\n    <path d=\"M 52.375 273.312 \nL 52.375 7.2 \n\" style=\"fill: none; stroke: #000000; stroke-width: 0.8; stroke-linejoin: miter; stroke-linecap: square\"/>\n   </g>\n   <g id=\"patch_1004\">\n    <path d=\"M 409.495 273.312 \nL 409.495 7.2 \n\" style=\"fill: none; stroke: #000000; stroke-width: 0.8; stroke-linejoin: miter; stroke-linecap: square\"/>\n   </g>\n   <g id=\"patch_1005\">\n    <path d=\"M 52.375 273.312 \nL 409.495 273.312 \n\" style=\"fill: none; stroke: #000000; stroke-width: 0.8; stroke-linejoin: miter; stroke-linecap: square\"/>\n   </g>\n   <g id=\"patch_1006\">\n    <path d=\"M 52.375 7.2 \nL 409.495 7.2 \n\" style=\"fill: none; stroke: #000000; stroke-width: 0.8; stroke-linejoin: miter; stroke-linecap: square\"/>\n   </g>\n  </g>\n </g>\n <defs>\n  <clipPath id=\"p45a725a746\">\n   <rect x=\"52.375\" y=\"7.2\" width=\"357.12\" height=\"266.112\"/>\n  </clipPath>\n </defs>\n</svg>\n",
      "text/plain": [
       "<Figure size 640x480 with 1 Axes>"
      ]
     },
     "metadata": {},
     "output_type": "display_data"
    }
   ],
   "source": [
    "items_per_dewey.plot.bar(stacked=True, color=colors, legend=False)"
   ]
  },
  {
   "cell_type": "code",
   "execution_count": null,
   "metadata": {},
   "outputs": [],
   "source": []
  }
 ],
 "metadata": {
  "kernelspec": {
   "display_name": "Python 3",
   "language": "python",
   "name": "python3"
  },
  "language_info": {
   "codemirror_mode": {
    "name": "ipython",
    "version": 3
   },
   "file_extension": ".py",
   "mimetype": "text/x-python",
   "name": "python",
   "nbconvert_exporter": "python",
   "pygments_lexer": "ipython3",
   "version": "3.10.8"
  },
  "orig_nbformat": 4,
  "vscode": {
   "interpreter": {
    "hash": "aee8b7b246df8f9039afb4144a1f6fd8d2ca17a180786b69acc140d282b71a49"
   }
  }
 },
 "nbformat": 4,
 "nbformat_minor": 2
}
