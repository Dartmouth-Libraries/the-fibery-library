{
 "cells": [
  {
   "cell_type": "markdown",
   "metadata": {},
   "source": [
    "# Data wrangling\n",
    "\n",
    "This notebook consolidates the separate data sources into a single CSV file.\n"
   ]
  },
  {
   "cell_type": "code",
   "execution_count": 1,
   "metadata": {},
   "outputs": [],
   "source": [
    "from pathlib import Path\n",
    "import pandas as pd\n",
    "\n",
    "\n",
    "import sys\n",
    "\n",
    "sys.path.append(\"../scripts\")\n",
    "\n",
    "from shared import IVY_COLORS, ingest_bd, ingest_ill"
   ]
  },
  {
   "cell_type": "code",
   "execution_count": 2,
   "metadata": {},
   "outputs": [],
   "source": [
    "all_data = []\n",
    "for file in sorted(Path(\"../data/\").glob(\"*.xlsx\")):\n",
    "    if file.name.startswith(\"borrow_direct\"):\n",
    "        bd = ingest_bd(file)\n",
    "        df = pd.DataFrame()\n",
    "        df[\n",
    "            [\n",
    "                \"Date\",\n",
    "                \"System\",\n",
    "                \"OriginLocation\",\n",
    "                \"DestinationLocation\",\n",
    "                \"Type\",\n",
    "                \"CallNumber\",\n",
    "            ]\n",
    "        ] = bd[\n",
    "            [\n",
    "                \"Date\",\n",
    "                \"System\",\n",
    "                \"Pick location\",\n",
    "                \"Pickup location\",\n",
    "                \"Type\",\n",
    "                \"Local Library Call Number\",\n",
    "            ]\n",
    "        ]\n",
    "        if \"borrowed\" in file.name:\n",
    "            df[\"To\"] = \"Dartmouth College\"\n",
    "            df[\"From\"] = bd[\"Partner\"]\n",
    "        else:\n",
    "            df[\"From\"] = \"Dartmouth College\"\n",
    "            df[\"To\"] = bd[\"Partner\"]\n",
    "        all_data.append(df)\n",
    "\n",
    "    if file.name.startswith(\"ill\"):\n",
    "        ill = ingest_ill(file)\n",
    "        df = pd.DataFrame()\n",
    "        df[[\"Date\", \"System\", \"Type\", \"CallNumber\"]] = ill[\n",
    "            [\"Date\", \"System\", \"Type\", \"Call Number\"]\n",
    "        ]\n",
    "        if \"borrowed\" in file.name:\n",
    "            df[[\"From\", \"OriginLocation\", \"DestinationLocation\"]] = ill[\n",
    "                [\"Partner\", \"Library Name\", \"Location\"]\n",
    "            ]\n",
    "            df[\"To\"] = \"Dartmouth College\"\n",
    "        else:\n",
    "            df[[\"To\", \"OriginLocation\", \"DestinationLocation\"]] = ill[\n",
    "                [\"Partner\", \"Location\", \"Library Name\"]\n",
    "            ]\n",
    "            df[\"From\"] = \"Dartmouth College\"\n",
    "        all_data.append(df)\n",
    "\n",
    "all_data = pd.concat(all_data)"
   ]
  },
  {
   "cell_type": "code",
   "execution_count": 3,
   "metadata": {},
   "outputs": [],
   "source": [
    "# Columns: Date, System, From, To, OriginLocation, DestinationLocation, Type\n",
    "all_data = all_data[\n",
    "    [\n",
    "        \"Date\",\n",
    "        \"System\",\n",
    "        \"From\",\n",
    "        \"To\",\n",
    "        \"OriginLocation\",\n",
    "        \"DestinationLocation\",\n",
    "        \"Type\",\n",
    "        \"CallNumber\",\n",
    "    ]\n",
    "]"
   ]
  },
  {
   "cell_type": "code",
   "execution_count": 5,
   "metadata": {},
   "outputs": [],
   "source": [
    "all_data.to_csv(\"../data/derived/all_records.csv\", index=None)"
   ]
  }
 ],
 "metadata": {
  "kernelspec": {
   "display_name": ".venv",
   "language": "python",
   "name": "python3"
  },
  "language_info": {
   "codemirror_mode": {
    "name": "ipython",
    "version": 3
   },
   "file_extension": ".py",
   "mimetype": "text/x-python",
   "name": "python",
   "nbconvert_exporter": "python",
   "pygments_lexer": "ipython3",
   "version": "3.12.3"
  }
 },
 "nbformat": 4,
 "nbformat_minor": 2
}
