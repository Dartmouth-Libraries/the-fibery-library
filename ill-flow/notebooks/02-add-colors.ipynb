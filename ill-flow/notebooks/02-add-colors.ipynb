{
 "cells": [
  {
   "cell_type": "code",
   "execution_count": 13,
   "metadata": {},
   "outputs": [],
   "source": [
    "import pandas as pd\n",
    "from pathlib import Path"
   ]
  },
  {
   "cell_type": "code",
   "execution_count": 14,
   "metadata": {},
   "outputs": [],
   "source": [
    "color_map = pd.read_csv(\"../data/color_map.csv\")\n",
    "color_map = color_map.melt(id_vars=\"entity\", var_name=\"level\", value_name=\"Color\")"
   ]
  },
  {
   "cell_type": "code",
   "execution_count": 15,
   "metadata": {},
   "outputs": [],
   "source": [
    "rank_to_level = {\n",
    "    1: \"highest\",\n",
    "    2: \"high_medium\",\n",
    "    3: \"low_medium\",\n",
    "    4: \"lowest\",\n",
    "}"
   ]
  },
  {
   "cell_type": "code",
   "execution_count": 16,
   "metadata": {},
   "outputs": [],
   "source": [
    "def get_category_mapping(categories):\n",
    "    \"\"\"Returns a dictionary mapping category names to the generic names in the color map.\"\"\"\n",
    "    generic_names = [\"Cat1\", \"Cat2\", \"Cat3\", \"Cat4\"]\n",
    "    return {\n",
    "        specific: generic\n",
    "        for specific, generic in zip(sorted(categories.unique()), generic_names)\n",
    "    }"
   ]
  },
  {
   "cell_type": "code",
   "execution_count": 17,
   "metadata": {},
   "outputs": [],
   "source": [
    "all_df = []\n",
    "for file in Path(\"out\").glob(\"*.csv\"):\n",
    "    df = pd.read_csv(file).drop(columns=[\"Number of i-cords\", \"Color\"], errors=\"ignore\")\n",
    "    df[\"level\"] = df[\"Rank\"].map(rank_to_level)\n",
    "    df[\"Number of i-cords\"] = df[\"Quartile\"]\n",
    "    if file.name.startswith(\"borrowed\"):\n",
    "        left_key = \"From\"\n",
    "    else:\n",
    "        df[\"Generic category\"] = df[\"From\"].map(get_category_mapping(df[\"From\"]))\n",
    "        left_key = \"Generic category\"\n",
    "    df = df.merge(\n",
    "        right=color_map,\n",
    "        left_on=[left_key, \"level\"],\n",
    "        right_on=[\"entity\", \"level\"],\n",
    "    ).drop(columns=[\"entity\", \"level\"])\n",
    "    df[\"Color\"] = df[\"Color\"].str.lower()\n",
    "    df.to_csv(file, index=None)\n",
    "    all_df.append(df)"
   ]
  },
  {
   "cell_type": "code",
   "execution_count": 18,
   "metadata": {},
   "outputs": [],
   "source": [
    "combined = pd.concat(all_df)\n",
    "combined.to_csv(\"out/combined.csv\", index=None)"
   ]
  }
 ],
 "metadata": {
  "kernelspec": {
   "display_name": ".venv",
   "language": "python",
   "name": "python3"
  },
  "language_info": {
   "codemirror_mode": {
    "name": "ipython",
    "version": 3
   },
   "file_extension": ".py",
   "mimetype": "text/x-python",
   "name": "python",
   "nbconvert_exporter": "python",
   "pygments_lexer": "ipython3",
   "version": "3.12.6"
  }
 },
 "nbformat": 4,
 "nbformat_minor": 2
}
