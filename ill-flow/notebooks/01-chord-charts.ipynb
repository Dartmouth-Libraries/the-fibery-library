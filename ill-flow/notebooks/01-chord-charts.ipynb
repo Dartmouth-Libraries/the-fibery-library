{
 "cells": [
  {
   "cell_type": "code",
   "execution_count": null,
   "metadata": {},
   "outputs": [],
   "source": [
    "import pandas as pd\n",
    "from pycirclize import Circos\n",
    "from pycirclize.parser import Matrix\n",
    "\n",
    "from pathlib import Path\n",
    "\n",
    "import sys\n",
    "\n",
    "sys.path.append(\"../scripts\")\n",
    "\n",
    "from shared import IVY_COLORS"
   ]
  },
  {
   "cell_type": "code",
   "execution_count": null,
   "metadata": {},
   "outputs": [],
   "source": [
    "df = pd.read_csv(\"../data/derived/all_records.csv\")\n",
    "df.head()"
   ]
  },
  {
   "cell_type": "code",
   "execution_count": null,
   "metadata": {},
   "outputs": [],
   "source": [
    "link_cmap = []\n",
    "for partner, color in IVY_COLORS.items():\n",
    "    link_cmap.append((\"Dartmouth College\", partner, color))"
   ]
  },
  {
   "cell_type": "code",
   "execution_count": null,
   "metadata": {},
   "outputs": [],
   "source": [
    "sort_order = [\n",
    "    \"Dartmouth College\",\n",
    "    \"Brown University\",\n",
    "    \"Columbia University Libraries\",\n",
    "    \"Cornell University\",\n",
    "    \"Duke University\",\n",
    "    \"Harvard University\",\n",
    "    \"Johns Hopkins University\",\n",
    "    \"Massachusetts Institute of Technology\",\n",
    "    \"Princeton University\",\n",
    "    \"Stanford University\",\n",
    "    \"University of Pennsylvania\",\n",
    "    \"University of Chicago\",\n",
    "    \"Yale University\",\n",
    "]"
   ]
  },
  {
   "cell_type": "code",
   "execution_count": null,
   "metadata": {},
   "outputs": [],
   "source": [
    "def make_chord(df: pd.DataFrame):\n",
    "    matrix = Matrix.parse_fromto_table(df)\n",
    "    circos = Circos.initialize_from_matrix(\n",
    "        matrix,\n",
    "        start=-265,\n",
    "        end=95,\n",
    "        space=5,\n",
    "        r_lim=(93, 100),\n",
    "        cmap=IVY_COLORS,\n",
    "        link_cmap=link_cmap,\n",
    "        order=sort_order,\n",
    "        label_kws=dict(\n",
    "            size=8, color=\"black\", adjust_rotation=True, orientation=\"vertical\"\n",
    "        ),\n",
    "        link_kws=dict(ec=\"black\", lw=0.5, direction=1),\n",
    "    )\n",
    "    fig = circos.plotfig()\n",
    "    return fig"
   ]
  },
  {
   "cell_type": "code",
   "execution_count": null,
   "metadata": {},
   "outputs": [],
   "source": [
    "lent = (\n",
    "    df[(df.From == \"Dartmouth College\")].groupby(\"To\").size().rename(\"N\").reset_index()\n",
    ")\n",
    "lent[\"From\"] = \"Dartmouth College\"\n",
    "lent = lent[[\"From\", \"To\", \"N\"]]\n",
    "lent"
   ]
  },
  {
   "cell_type": "code",
   "execution_count": null,
   "metadata": {},
   "outputs": [],
   "source": [
    "fig = make_chord(lent)\n",
    "fig.savefig(\"../out/chord-lending.png\", dpi=300)"
   ]
  },
  {
   "cell_type": "code",
   "execution_count": null,
   "metadata": {},
   "outputs": [],
   "source": [
    "borrowed = (\n",
    "    df[(df.To == \"Dartmouth College\")].groupby(\"From\").size().rename(\"N\").reset_index()\n",
    ")\n",
    "borrowed[\"To\"] = \"Dartmouth College\"\n",
    "borrowed = borrowed[[\"From\", \"To\", \"N\"]].sort_values(by=\"From\")"
   ]
  },
  {
   "cell_type": "code",
   "execution_count": null,
   "metadata": {},
   "outputs": [],
   "source": [
    "fig = make_chord(borrowed)\n",
    "fig.savefig(\"../out/chord-borrowing.png\", dpi=300)"
   ]
  }
 ],
 "metadata": {
  "kernelspec": {
   "display_name": ".venv",
   "language": "python",
   "name": "python3"
  },
  "language_info": {
   "codemirror_mode": {
    "name": "ipython",
    "version": 3
   },
   "file_extension": ".py",
   "mimetype": "text/x-python",
   "name": "python",
   "nbconvert_exporter": "python",
   "pygments_lexer": "ipython3",
   "version": "3.12.3"
  }
 },
 "nbformat": 4,
 "nbformat_minor": 2
}
